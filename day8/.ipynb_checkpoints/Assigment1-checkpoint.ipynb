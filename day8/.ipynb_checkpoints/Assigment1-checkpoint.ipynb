{
 "cells": [
  {
   "cell_type": "markdown",
   "metadata": {},
   "source": [
    "Load AirPassengers.csv data in to dataframe\n",
    "print first 10 rows \n",
    "find out discrptive stat of data \n",
    "get info of data\n",
    "get data type of data\n",
    "Read data as Time Series object - pass special parameter to read_csv -- parse_dates and date_parser\n",
    "\n",
    "print the index of dataframe\n",
    "\n",
    "get the data by using \n",
    "\n",
    "1  Specific the index as a string constant\n",
    "\n",
    "2 Import the datetime library and use 'datetime' function:\n",
    "\n",
    "\n",
    "\n",
    "get all the data upto May 1949 in follwoing two ways \n",
    "\n",
    "1 Specify the entire range:\n",
    "\n",
    "2 Use ':' with only  one of the indices is at ends:\n",
    "\n",
    "\n",
    "get all the values of the year 1949.\n",
    "\n",
    "\n",
    "creating moving average of 12 windows  and add in to new coloum\n",
    "\n",
    "drop the NaN values created due to first 11 windows in moving average\n",
    "\n",
    "buid exponentially weighted moving average of 12 windows and assign to new coloum\n",
    "\n",
    "take the difference of the observation at a particular instant with that at the previous instant(use shift to take diff)\n",
    "\n",
    "\n",
    "\n",
    "\n",
    "\n",
    "\n",
    "\n",
    "\n",
    "\n",
    "\n",
    "\n",
    "\n",
    "\n"
   ]
  }
 ],
 "metadata": {
  "kernelspec": {
   "display_name": "Python [conda env:py36]",
   "language": "python",
   "name": "conda-env-py36-py"
  },
  "language_info": {
   "codemirror_mode": {
    "name": "ipython",
    "version": 3
   },
   "file_extension": ".py",
   "mimetype": "text/x-python",
   "name": "python",
   "nbconvert_exporter": "python",
   "pygments_lexer": "ipython3",
   "version": "3.6.6"
  },
  "toc": {
   "base_numbering": 1,
   "nav_menu": {},
   "number_sections": true,
   "sideBar": true,
   "skip_h1_title": false,
   "title_cell": "Table of Contents",
   "title_sidebar": "Contents",
   "toc_cell": false,
   "toc_position": {},
   "toc_section_display": true,
   "toc_window_display": false
  }
 },
 "nbformat": 4,
 "nbformat_minor": 2
}
