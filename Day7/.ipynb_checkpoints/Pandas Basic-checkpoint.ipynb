{
 "cells": [
  {
   "cell_type": "markdown",
   "metadata": {},
   "source": [
    "## Pandas\n",
    "pandas consists of the following things\n",
    "• A set of labeled array data structures, the primary of which are Series and DataFrame\n",
    "\n",
    "• Index objects enabling both simple axis indexing and multi-level / hierarchical axis indexing\n",
    "\n",
    "• An integrated group by engine for aggregating and transforming data sets\n",
    "\n",
    "•Daterangegeneration(date_range)andcustomdateoffsetsenablingtheimplementationofcustomizedfrequen- cies\n",
    "\n",
    "• Input/Output tools: loading tabular data from flat files (CSV, delimited, Excel 2003), and saving and loading pandas objects from the fast and efficient PyTables/HDF5 format.\n",
    "\n",
    "• Memory-efficient “sparse” versions of the standard data structures for storing data that is mostly missing or mostly constant (some fixed value)\n",
    "\n",
    "• Moving window statistics (rolling mean, rolling standard deviation, etc.)\n",
    "\n",
    "• Static and moving window linear and panel regression\n",
    "\n",
    "\n",
    "Data structures \n",
    "\n",
    "Series - 1 Dimension - 1D labeled homogeneously-typed array\n",
    "\n",
    "DataFrame -- General 2D labeled, size-mutable tabular structure with potentially heterogeneously-typed columns\n",
    "\n",
    "Panel  --General 3D labeled, also size-mutable array\n",
    "\n",
    "\n",
    "The best way to think about the pandas data structures is as flexible containers for lower dimensional data. For example, DataFrame is a container for Series, and Panel is a container for DataFrame objects. We would like to be able to insert and remove objects from these containers in a dictionary-like fashion.\n",
    "\n",
    "\n",
    "When using ndarrays to store 2- and 3-dimensional data, a burden is placed on the user to consider the orientation of the data set when writing functions; axes are considered more or less equivalent . In pandas, the axes are intended to lend more semantic meaning to the data; i.e., for a particular data set there is likely to be a “right” way to orient the data. The goal, then, is to reduce the amount of mental effort required to code up data transformations in downstream functions.\n",
    "\n",
    "For example, with tabular data (DataFrame) it is more semantically helpful to think of the index (the rows) and the columns rather than axis 0 and axis 1. And iterating through the columns of the DataFrame thus results in more readable code:\n",
    "\n",
    "￼for col in df.columns:\n",
    "\n",
    "    series = df[col]\n",
    "    \n",
    "    do something with series￼for col in df.columns:\n",
    "\n"
   ]
  },
  {
   "cell_type": "code",
   "execution_count": null,
   "metadata": {
    "collapsed": true
   },
   "outputs": [],
   "source": [
    "import pandas as pd \n",
    "import numpy as np\n",
    "import matplotlib .pyplot as plt"
   ]
  },
  {
   "cell_type": "markdown",
   "metadata": {},
   "source": [
    "### Object Creation\n",
    "\n",
    "Creating a Series by passing a list of values, letting pandas create a default integer index:\n",
    "\n",
    "Creating a DataFrame by passing a numpy array, with a datetime index and labeled columns:"
   ]
  },
  {
   "cell_type": "code",
   "execution_count": 26,
   "metadata": {},
   "outputs": [
    {
     "data": {
      "text/plain": [
       "0    1.0\n",
       "1    3.0\n",
       "2    5.0\n",
       "3    NaN\n",
       "4    6.0\n",
       "5    8.0\n",
       "dtype: float64"
      ]
     },
     "execution_count": 26,
     "metadata": {},
     "output_type": "execute_result"
    }
   ],
   "source": [
    "s = pd.Series([1,3,5,np.nan,6,8])\n",
    "s"
   ]
  },
  {
   "cell_type": "code",
   "execution_count": 28,
   "metadata": {},
   "outputs": [
    {
     "data": {
      "text/plain": [
       "DatetimeIndex(['2013-01-01', '2013-01-02', '2013-01-03', '2013-01-04',\n",
       "               '2013-01-05', '2013-01-06'],\n",
       "              dtype='datetime64[ns]', freq='D')"
      ]
     },
     "execution_count": 28,
     "metadata": {},
     "output_type": "execute_result"
    }
   ],
   "source": [
    "dates = pd.date_range('20130101', periods=6)\n",
    "dates"
   ]
  },
  {
   "cell_type": "code",
   "execution_count": 29,
   "metadata": {},
   "outputs": [
    {
     "data": {
      "text/html": [
       "<div>\n",
       "<style scoped>\n",
       "    .dataframe tbody tr th:only-of-type {\n",
       "        vertical-align: middle;\n",
       "    }\n",
       "\n",
       "    .dataframe tbody tr th {\n",
       "        vertical-align: top;\n",
       "    }\n",
       "\n",
       "    .dataframe thead th {\n",
       "        text-align: right;\n",
       "    }\n",
       "</style>\n",
       "<table border=\"1\" class=\"dataframe\">\n",
       "  <thead>\n",
       "    <tr style=\"text-align: right;\">\n",
       "      <th></th>\n",
       "      <th>A</th>\n",
       "      <th>B</th>\n",
       "      <th>C</th>\n",
       "      <th>D</th>\n",
       "    </tr>\n",
       "  </thead>\n",
       "  <tbody>\n",
       "    <tr>\n",
       "      <th>2013-01-01</th>\n",
       "      <td>-0.892160</td>\n",
       "      <td>0.154374</td>\n",
       "      <td>2.121266</td>\n",
       "      <td>-0.246541</td>\n",
       "    </tr>\n",
       "    <tr>\n",
       "      <th>2013-01-02</th>\n",
       "      <td>1.320968</td>\n",
       "      <td>-0.194768</td>\n",
       "      <td>-0.749169</td>\n",
       "      <td>-1.490745</td>\n",
       "    </tr>\n",
       "    <tr>\n",
       "      <th>2013-01-03</th>\n",
       "      <td>0.368814</td>\n",
       "      <td>-1.181423</td>\n",
       "      <td>0.344051</td>\n",
       "      <td>-0.772633</td>\n",
       "    </tr>\n",
       "    <tr>\n",
       "      <th>2013-01-04</th>\n",
       "      <td>0.284433</td>\n",
       "      <td>-0.731625</td>\n",
       "      <td>0.470674</td>\n",
       "      <td>-1.167195</td>\n",
       "    </tr>\n",
       "    <tr>\n",
       "      <th>2013-01-05</th>\n",
       "      <td>-1.146946</td>\n",
       "      <td>-0.358999</td>\n",
       "      <td>0.862938</td>\n",
       "      <td>1.067858</td>\n",
       "    </tr>\n",
       "    <tr>\n",
       "      <th>2013-01-06</th>\n",
       "      <td>0.396533</td>\n",
       "      <td>-0.523720</td>\n",
       "      <td>0.382615</td>\n",
       "      <td>0.562757</td>\n",
       "    </tr>\n",
       "  </tbody>\n",
       "</table>\n",
       "</div>"
      ],
      "text/plain": [
       "                   A         B         C         D\n",
       "2013-01-01 -0.892160  0.154374  2.121266 -0.246541\n",
       "2013-01-02  1.320968 -0.194768 -0.749169 -1.490745\n",
       "2013-01-03  0.368814 -1.181423  0.344051 -0.772633\n",
       "2013-01-04  0.284433 -0.731625  0.470674 -1.167195\n",
       "2013-01-05 -1.146946 -0.358999  0.862938  1.067858\n",
       "2013-01-06  0.396533 -0.523720  0.382615  0.562757"
      ]
     },
     "execution_count": 29,
     "metadata": {},
     "output_type": "execute_result"
    }
   ],
   "source": [
    "df = pd.DataFrame(np.random.randn(6,4), index=dates, columns=list('ABCD'))\n",
    "df"
   ]
  },
  {
   "cell_type": "code",
   "execution_count": 31,
   "metadata": {},
   "outputs": [
    {
     "data": {
      "text/html": [
       "<div>\n",
       "<style scoped>\n",
       "    .dataframe tbody tr th:only-of-type {\n",
       "        vertical-align: middle;\n",
       "    }\n",
       "\n",
       "    .dataframe tbody tr th {\n",
       "        vertical-align: top;\n",
       "    }\n",
       "\n",
       "    .dataframe thead th {\n",
       "        text-align: right;\n",
       "    }\n",
       "</style>\n",
       "<table border=\"1\" class=\"dataframe\">\n",
       "  <thead>\n",
       "    <tr style=\"text-align: right;\">\n",
       "      <th></th>\n",
       "      <th>A</th>\n",
       "      <th>B</th>\n",
       "      <th>C</th>\n",
       "      <th>D</th>\n",
       "      <th>E</th>\n",
       "      <th>F</th>\n",
       "    </tr>\n",
       "  </thead>\n",
       "  <tbody>\n",
       "    <tr>\n",
       "      <th>0</th>\n",
       "      <td>1.0</td>\n",
       "      <td>2013-01-02</td>\n",
       "      <td>1.0</td>\n",
       "      <td>3</td>\n",
       "      <td>test</td>\n",
       "      <td>foo</td>\n",
       "    </tr>\n",
       "    <tr>\n",
       "      <th>1</th>\n",
       "      <td>1.0</td>\n",
       "      <td>2013-01-02</td>\n",
       "      <td>1.0</td>\n",
       "      <td>3</td>\n",
       "      <td>train</td>\n",
       "      <td>foo</td>\n",
       "    </tr>\n",
       "    <tr>\n",
       "      <th>2</th>\n",
       "      <td>1.0</td>\n",
       "      <td>2013-01-02</td>\n",
       "      <td>1.0</td>\n",
       "      <td>3</td>\n",
       "      <td>test</td>\n",
       "      <td>foo</td>\n",
       "    </tr>\n",
       "    <tr>\n",
       "      <th>3</th>\n",
       "      <td>1.0</td>\n",
       "      <td>2013-01-02</td>\n",
       "      <td>1.0</td>\n",
       "      <td>3</td>\n",
       "      <td>train</td>\n",
       "      <td>foo</td>\n",
       "    </tr>\n",
       "  </tbody>\n",
       "</table>\n",
       "</div>"
      ],
      "text/plain": [
       "     A          B    C  D      E    F\n",
       "0  1.0 2013-01-02  1.0  3   test  foo\n",
       "1  1.0 2013-01-02  1.0  3  train  foo\n",
       "2  1.0 2013-01-02  1.0  3   test  foo\n",
       "3  1.0 2013-01-02  1.0  3  train  foo"
      ]
     },
     "execution_count": 31,
     "metadata": {},
     "output_type": "execute_result"
    }
   ],
   "source": [
    "## Creating a DataFrame by passing a dict of objects that can be converted to series-like.\n",
    "\n",
    "df2 = pd.DataFrame({ 'A' : 1.,'B' : pd.Timestamp('20130102'),\n",
    "                    'C' : pd.Series(1,index=list(range(4)),dtype='float32'),\n",
    "                    'D' : np.array([3] * 4,dtype='int32'),\n",
    "                    'E' : pd.Categorical([\"test\",\"train\",\"test\",\"train\"]), 'F' : 'foo' })\n",
    "df2"
   ]
  },
  {
   "cell_type": "code",
   "execution_count": 32,
   "metadata": {},
   "outputs": [
    {
     "data": {
      "text/plain": [
       "A           float64\n",
       "B    datetime64[ns]\n",
       "C           float32\n",
       "D             int32\n",
       "E          category\n",
       "F            object\n",
       "dtype: object"
      ]
     },
     "execution_count": 32,
     "metadata": {},
     "output_type": "execute_result"
    }
   ],
   "source": [
    "df2.dtypes"
   ]
  },
  {
   "cell_type": "markdown",
   "metadata": {},
   "source": [
    "### Viewing Data"
   ]
  },
  {
   "cell_type": "code",
   "execution_count": 33,
   "metadata": {},
   "outputs": [
    {
     "data": {
      "text/html": [
       "<div>\n",
       "<style scoped>\n",
       "    .dataframe tbody tr th:only-of-type {\n",
       "        vertical-align: middle;\n",
       "    }\n",
       "\n",
       "    .dataframe tbody tr th {\n",
       "        vertical-align: top;\n",
       "    }\n",
       "\n",
       "    .dataframe thead th {\n",
       "        text-align: right;\n",
       "    }\n",
       "</style>\n",
       "<table border=\"1\" class=\"dataframe\">\n",
       "  <thead>\n",
       "    <tr style=\"text-align: right;\">\n",
       "      <th></th>\n",
       "      <th>A</th>\n",
       "      <th>B</th>\n",
       "      <th>C</th>\n",
       "      <th>D</th>\n",
       "    </tr>\n",
       "  </thead>\n",
       "  <tbody>\n",
       "    <tr>\n",
       "      <th>2013-01-01</th>\n",
       "      <td>-0.892160</td>\n",
       "      <td>0.154374</td>\n",
       "      <td>2.121266</td>\n",
       "      <td>-0.246541</td>\n",
       "    </tr>\n",
       "    <tr>\n",
       "      <th>2013-01-02</th>\n",
       "      <td>1.320968</td>\n",
       "      <td>-0.194768</td>\n",
       "      <td>-0.749169</td>\n",
       "      <td>-1.490745</td>\n",
       "    </tr>\n",
       "    <tr>\n",
       "      <th>2013-01-03</th>\n",
       "      <td>0.368814</td>\n",
       "      <td>-1.181423</td>\n",
       "      <td>0.344051</td>\n",
       "      <td>-0.772633</td>\n",
       "    </tr>\n",
       "    <tr>\n",
       "      <th>2013-01-04</th>\n",
       "      <td>0.284433</td>\n",
       "      <td>-0.731625</td>\n",
       "      <td>0.470674</td>\n",
       "      <td>-1.167195</td>\n",
       "    </tr>\n",
       "    <tr>\n",
       "      <th>2013-01-05</th>\n",
       "      <td>-1.146946</td>\n",
       "      <td>-0.358999</td>\n",
       "      <td>0.862938</td>\n",
       "      <td>1.067858</td>\n",
       "    </tr>\n",
       "  </tbody>\n",
       "</table>\n",
       "</div>"
      ],
      "text/plain": [
       "                   A         B         C         D\n",
       "2013-01-01 -0.892160  0.154374  2.121266 -0.246541\n",
       "2013-01-02  1.320968 -0.194768 -0.749169 -1.490745\n",
       "2013-01-03  0.368814 -1.181423  0.344051 -0.772633\n",
       "2013-01-04  0.284433 -0.731625  0.470674 -1.167195\n",
       "2013-01-05 -1.146946 -0.358999  0.862938  1.067858"
      ]
     },
     "execution_count": 33,
     "metadata": {},
     "output_type": "execute_result"
    }
   ],
   "source": [
    "df.head()"
   ]
  },
  {
   "cell_type": "code",
   "execution_count": 34,
   "metadata": {},
   "outputs": [
    {
     "data": {
      "text/html": [
       "<div>\n",
       "<style scoped>\n",
       "    .dataframe tbody tr th:only-of-type {\n",
       "        vertical-align: middle;\n",
       "    }\n",
       "\n",
       "    .dataframe tbody tr th {\n",
       "        vertical-align: top;\n",
       "    }\n",
       "\n",
       "    .dataframe thead th {\n",
       "        text-align: right;\n",
       "    }\n",
       "</style>\n",
       "<table border=\"1\" class=\"dataframe\">\n",
       "  <thead>\n",
       "    <tr style=\"text-align: right;\">\n",
       "      <th></th>\n",
       "      <th>A</th>\n",
       "      <th>B</th>\n",
       "      <th>C</th>\n",
       "      <th>D</th>\n",
       "    </tr>\n",
       "  </thead>\n",
       "  <tbody>\n",
       "    <tr>\n",
       "      <th>2013-01-04</th>\n",
       "      <td>0.284433</td>\n",
       "      <td>-0.731625</td>\n",
       "      <td>0.470674</td>\n",
       "      <td>-1.167195</td>\n",
       "    </tr>\n",
       "    <tr>\n",
       "      <th>2013-01-05</th>\n",
       "      <td>-1.146946</td>\n",
       "      <td>-0.358999</td>\n",
       "      <td>0.862938</td>\n",
       "      <td>1.067858</td>\n",
       "    </tr>\n",
       "    <tr>\n",
       "      <th>2013-01-06</th>\n",
       "      <td>0.396533</td>\n",
       "      <td>-0.523720</td>\n",
       "      <td>0.382615</td>\n",
       "      <td>0.562757</td>\n",
       "    </tr>\n",
       "  </tbody>\n",
       "</table>\n",
       "</div>"
      ],
      "text/plain": [
       "                   A         B         C         D\n",
       "2013-01-04  0.284433 -0.731625  0.470674 -1.167195\n",
       "2013-01-05 -1.146946 -0.358999  0.862938  1.067858\n",
       "2013-01-06  0.396533 -0.523720  0.382615  0.562757"
      ]
     },
     "execution_count": 34,
     "metadata": {},
     "output_type": "execute_result"
    }
   ],
   "source": [
    "df.tail(3)"
   ]
  },
  {
   "cell_type": "code",
   "execution_count": 35,
   "metadata": {},
   "outputs": [
    {
     "data": {
      "text/plain": [
       "DatetimeIndex(['2013-01-01', '2013-01-02', '2013-01-03', '2013-01-04',\n",
       "               '2013-01-05', '2013-01-06'],\n",
       "              dtype='datetime64[ns]', freq='D')"
      ]
     },
     "execution_count": 35,
     "metadata": {},
     "output_type": "execute_result"
    }
   ],
   "source": [
    "df.index"
   ]
  },
  {
   "cell_type": "code",
   "execution_count": 36,
   "metadata": {},
   "outputs": [
    {
     "data": {
      "text/plain": [
       "Index(['A', 'B', 'C', 'D'], dtype='object')"
      ]
     },
     "execution_count": 36,
     "metadata": {},
     "output_type": "execute_result"
    }
   ],
   "source": [
    "df.columns"
   ]
  },
  {
   "cell_type": "code",
   "execution_count": 37,
   "metadata": {},
   "outputs": [
    {
     "data": {
      "text/plain": [
       "array([[-0.89216   ,  0.15437446,  2.1212661 , -0.24654066],\n",
       "       [ 1.32096766, -0.19476784, -0.74916941, -1.49074521],\n",
       "       [ 0.36881362, -1.18142336,  0.34405092, -0.77263313],\n",
       "       [ 0.28443339, -0.73162517,  0.47067385, -1.16719507],\n",
       "       [-1.14694607, -0.35899936,  0.86293825,  1.06785817],\n",
       "       [ 0.39653312, -0.52371969,  0.38261526,  0.5627568 ]])"
      ]
     },
     "execution_count": 37,
     "metadata": {},
     "output_type": "execute_result"
    }
   ],
   "source": [
    "df.values"
   ]
  },
  {
   "cell_type": "code",
   "execution_count": 38,
   "metadata": {},
   "outputs": [
    {
     "data": {
      "text/html": [
       "<div>\n",
       "<style scoped>\n",
       "    .dataframe tbody tr th:only-of-type {\n",
       "        vertical-align: middle;\n",
       "    }\n",
       "\n",
       "    .dataframe tbody tr th {\n",
       "        vertical-align: top;\n",
       "    }\n",
       "\n",
       "    .dataframe thead th {\n",
       "        text-align: right;\n",
       "    }\n",
       "</style>\n",
       "<table border=\"1\" class=\"dataframe\">\n",
       "  <thead>\n",
       "    <tr style=\"text-align: right;\">\n",
       "      <th></th>\n",
       "      <th>A</th>\n",
       "      <th>B</th>\n",
       "      <th>C</th>\n",
       "      <th>D</th>\n",
       "    </tr>\n",
       "  </thead>\n",
       "  <tbody>\n",
       "    <tr>\n",
       "      <th>count</th>\n",
       "      <td>6.000000</td>\n",
       "      <td>6.000000</td>\n",
       "      <td>6.000000</td>\n",
       "      <td>6.000000</td>\n",
       "    </tr>\n",
       "    <tr>\n",
       "      <th>mean</th>\n",
       "      <td>0.055274</td>\n",
       "      <td>-0.472693</td>\n",
       "      <td>0.572062</td>\n",
       "      <td>-0.341083</td>\n",
       "    </tr>\n",
       "    <tr>\n",
       "      <th>std</th>\n",
       "      <td>0.917848</td>\n",
       "      <td>0.459419</td>\n",
       "      <td>0.930425</td>\n",
       "      <td>1.000140</td>\n",
       "    </tr>\n",
       "    <tr>\n",
       "      <th>min</th>\n",
       "      <td>-1.146946</td>\n",
       "      <td>-1.181423</td>\n",
       "      <td>-0.749169</td>\n",
       "      <td>-1.490745</td>\n",
       "    </tr>\n",
       "    <tr>\n",
       "      <th>25%</th>\n",
       "      <td>-0.598012</td>\n",
       "      <td>-0.679649</td>\n",
       "      <td>0.353692</td>\n",
       "      <td>-1.068555</td>\n",
       "    </tr>\n",
       "    <tr>\n",
       "      <th>50%</th>\n",
       "      <td>0.326624</td>\n",
       "      <td>-0.441360</td>\n",
       "      <td>0.426645</td>\n",
       "      <td>-0.509587</td>\n",
       "    </tr>\n",
       "    <tr>\n",
       "      <th>75%</th>\n",
       "      <td>0.389603</td>\n",
       "      <td>-0.235826</td>\n",
       "      <td>0.764872</td>\n",
       "      <td>0.360432</td>\n",
       "    </tr>\n",
       "    <tr>\n",
       "      <th>max</th>\n",
       "      <td>1.320968</td>\n",
       "      <td>0.154374</td>\n",
       "      <td>2.121266</td>\n",
       "      <td>1.067858</td>\n",
       "    </tr>\n",
       "  </tbody>\n",
       "</table>\n",
       "</div>"
      ],
      "text/plain": [
       "              A         B         C         D\n",
       "count  6.000000  6.000000  6.000000  6.000000\n",
       "mean   0.055274 -0.472693  0.572062 -0.341083\n",
       "std    0.917848  0.459419  0.930425  1.000140\n",
       "min   -1.146946 -1.181423 -0.749169 -1.490745\n",
       "25%   -0.598012 -0.679649  0.353692 -1.068555\n",
       "50%    0.326624 -0.441360  0.426645 -0.509587\n",
       "75%    0.389603 -0.235826  0.764872  0.360432\n",
       "max    1.320968  0.154374  2.121266  1.067858"
      ]
     },
     "execution_count": 38,
     "metadata": {},
     "output_type": "execute_result"
    }
   ],
   "source": [
    "df.describe()"
   ]
  },
  {
   "cell_type": "code",
   "execution_count": 39,
   "metadata": {},
   "outputs": [
    {
     "data": {
      "text/html": [
       "<div>\n",
       "<style scoped>\n",
       "    .dataframe tbody tr th:only-of-type {\n",
       "        vertical-align: middle;\n",
       "    }\n",
       "\n",
       "    .dataframe tbody tr th {\n",
       "        vertical-align: top;\n",
       "    }\n",
       "\n",
       "    .dataframe thead th {\n",
       "        text-align: right;\n",
       "    }\n",
       "</style>\n",
       "<table border=\"1\" class=\"dataframe\">\n",
       "  <thead>\n",
       "    <tr style=\"text-align: right;\">\n",
       "      <th></th>\n",
       "      <th>2013-01-01 00:00:00</th>\n",
       "      <th>2013-01-02 00:00:00</th>\n",
       "      <th>2013-01-03 00:00:00</th>\n",
       "      <th>2013-01-04 00:00:00</th>\n",
       "      <th>2013-01-05 00:00:00</th>\n",
       "      <th>2013-01-06 00:00:00</th>\n",
       "    </tr>\n",
       "  </thead>\n",
       "  <tbody>\n",
       "    <tr>\n",
       "      <th>A</th>\n",
       "      <td>-0.892160</td>\n",
       "      <td>1.320968</td>\n",
       "      <td>0.368814</td>\n",
       "      <td>0.284433</td>\n",
       "      <td>-1.146946</td>\n",
       "      <td>0.396533</td>\n",
       "    </tr>\n",
       "    <tr>\n",
       "      <th>B</th>\n",
       "      <td>0.154374</td>\n",
       "      <td>-0.194768</td>\n",
       "      <td>-1.181423</td>\n",
       "      <td>-0.731625</td>\n",
       "      <td>-0.358999</td>\n",
       "      <td>-0.523720</td>\n",
       "    </tr>\n",
       "    <tr>\n",
       "      <th>C</th>\n",
       "      <td>2.121266</td>\n",
       "      <td>-0.749169</td>\n",
       "      <td>0.344051</td>\n",
       "      <td>0.470674</td>\n",
       "      <td>0.862938</td>\n",
       "      <td>0.382615</td>\n",
       "    </tr>\n",
       "    <tr>\n",
       "      <th>D</th>\n",
       "      <td>-0.246541</td>\n",
       "      <td>-1.490745</td>\n",
       "      <td>-0.772633</td>\n",
       "      <td>-1.167195</td>\n",
       "      <td>1.067858</td>\n",
       "      <td>0.562757</td>\n",
       "    </tr>\n",
       "  </tbody>\n",
       "</table>\n",
       "</div>"
      ],
      "text/plain": [
       "   2013-01-01  2013-01-02  2013-01-03  2013-01-04  2013-01-05  2013-01-06\n",
       "A   -0.892160    1.320968    0.368814    0.284433   -1.146946    0.396533\n",
       "B    0.154374   -0.194768   -1.181423   -0.731625   -0.358999   -0.523720\n",
       "C    2.121266   -0.749169    0.344051    0.470674    0.862938    0.382615\n",
       "D   -0.246541   -1.490745   -0.772633   -1.167195    1.067858    0.562757"
      ]
     },
     "execution_count": 39,
     "metadata": {},
     "output_type": "execute_result"
    }
   ],
   "source": [
    "df.T"
   ]
  },
  {
   "cell_type": "code",
   "execution_count": 42,
   "metadata": {},
   "outputs": [
    {
     "data": {
      "text/html": [
       "<div>\n",
       "<style scoped>\n",
       "    .dataframe tbody tr th:only-of-type {\n",
       "        vertical-align: middle;\n",
       "    }\n",
       "\n",
       "    .dataframe tbody tr th {\n",
       "        vertical-align: top;\n",
       "    }\n",
       "\n",
       "    .dataframe thead th {\n",
       "        text-align: right;\n",
       "    }\n",
       "</style>\n",
       "<table border=\"1\" class=\"dataframe\">\n",
       "  <thead>\n",
       "    <tr style=\"text-align: right;\">\n",
       "      <th></th>\n",
       "      <th>D</th>\n",
       "      <th>C</th>\n",
       "      <th>B</th>\n",
       "      <th>A</th>\n",
       "    </tr>\n",
       "  </thead>\n",
       "  <tbody>\n",
       "    <tr>\n",
       "      <th>2013-01-01</th>\n",
       "      <td>-0.246541</td>\n",
       "      <td>2.121266</td>\n",
       "      <td>0.154374</td>\n",
       "      <td>-0.892160</td>\n",
       "    </tr>\n",
       "    <tr>\n",
       "      <th>2013-01-02</th>\n",
       "      <td>-1.490745</td>\n",
       "      <td>-0.749169</td>\n",
       "      <td>-0.194768</td>\n",
       "      <td>1.320968</td>\n",
       "    </tr>\n",
       "    <tr>\n",
       "      <th>2013-01-03</th>\n",
       "      <td>-0.772633</td>\n",
       "      <td>0.344051</td>\n",
       "      <td>-1.181423</td>\n",
       "      <td>0.368814</td>\n",
       "    </tr>\n",
       "    <tr>\n",
       "      <th>2013-01-04</th>\n",
       "      <td>-1.167195</td>\n",
       "      <td>0.470674</td>\n",
       "      <td>-0.731625</td>\n",
       "      <td>0.284433</td>\n",
       "    </tr>\n",
       "    <tr>\n",
       "      <th>2013-01-05</th>\n",
       "      <td>1.067858</td>\n",
       "      <td>0.862938</td>\n",
       "      <td>-0.358999</td>\n",
       "      <td>-1.146946</td>\n",
       "    </tr>\n",
       "    <tr>\n",
       "      <th>2013-01-06</th>\n",
       "      <td>0.562757</td>\n",
       "      <td>0.382615</td>\n",
       "      <td>-0.523720</td>\n",
       "      <td>0.396533</td>\n",
       "    </tr>\n",
       "  </tbody>\n",
       "</table>\n",
       "</div>"
      ],
      "text/plain": [
       "                   D         C         B         A\n",
       "2013-01-01 -0.246541  2.121266  0.154374 -0.892160\n",
       "2013-01-02 -1.490745 -0.749169 -0.194768  1.320968\n",
       "2013-01-03 -0.772633  0.344051 -1.181423  0.368814\n",
       "2013-01-04 -1.167195  0.470674 -0.731625  0.284433\n",
       "2013-01-05  1.067858  0.862938 -0.358999 -1.146946\n",
       "2013-01-06  0.562757  0.382615 -0.523720  0.396533"
      ]
     },
     "execution_count": 42,
     "metadata": {},
     "output_type": "execute_result"
    }
   ],
   "source": [
    "# Sorting by an axis\n",
    "\n",
    "df.sort_index(axis =1 , ascending = False)\n",
    "\n"
   ]
  },
  {
   "cell_type": "code",
   "execution_count": 46,
   "metadata": {},
   "outputs": [
    {
     "data": {
      "text/html": [
       "<div>\n",
       "<style scoped>\n",
       "    .dataframe tbody tr th:only-of-type {\n",
       "        vertical-align: middle;\n",
       "    }\n",
       "\n",
       "    .dataframe tbody tr th {\n",
       "        vertical-align: top;\n",
       "    }\n",
       "\n",
       "    .dataframe thead th {\n",
       "        text-align: right;\n",
       "    }\n",
       "</style>\n",
       "<table border=\"1\" class=\"dataframe\">\n",
       "  <thead>\n",
       "    <tr style=\"text-align: right;\">\n",
       "      <th></th>\n",
       "      <th>A</th>\n",
       "      <th>B</th>\n",
       "      <th>C</th>\n",
       "      <th>D</th>\n",
       "    </tr>\n",
       "  </thead>\n",
       "  <tbody>\n",
       "    <tr>\n",
       "      <th>2013-01-03</th>\n",
       "      <td>0.368814</td>\n",
       "      <td>-1.181423</td>\n",
       "      <td>0.344051</td>\n",
       "      <td>-0.772633</td>\n",
       "    </tr>\n",
       "    <tr>\n",
       "      <th>2013-01-04</th>\n",
       "      <td>0.284433</td>\n",
       "      <td>-0.731625</td>\n",
       "      <td>0.470674</td>\n",
       "      <td>-1.167195</td>\n",
       "    </tr>\n",
       "    <tr>\n",
       "      <th>2013-01-06</th>\n",
       "      <td>0.396533</td>\n",
       "      <td>-0.523720</td>\n",
       "      <td>0.382615</td>\n",
       "      <td>0.562757</td>\n",
       "    </tr>\n",
       "    <tr>\n",
       "      <th>2013-01-05</th>\n",
       "      <td>-1.146946</td>\n",
       "      <td>-0.358999</td>\n",
       "      <td>0.862938</td>\n",
       "      <td>1.067858</td>\n",
       "    </tr>\n",
       "    <tr>\n",
       "      <th>2013-01-02</th>\n",
       "      <td>1.320968</td>\n",
       "      <td>-0.194768</td>\n",
       "      <td>-0.749169</td>\n",
       "      <td>-1.490745</td>\n",
       "    </tr>\n",
       "    <tr>\n",
       "      <th>2013-01-01</th>\n",
       "      <td>-0.892160</td>\n",
       "      <td>0.154374</td>\n",
       "      <td>2.121266</td>\n",
       "      <td>-0.246541</td>\n",
       "    </tr>\n",
       "  </tbody>\n",
       "</table>\n",
       "</div>"
      ],
      "text/plain": [
       "                   A         B         C         D\n",
       "2013-01-03  0.368814 -1.181423  0.344051 -0.772633\n",
       "2013-01-04  0.284433 -0.731625  0.470674 -1.167195\n",
       "2013-01-06  0.396533 -0.523720  0.382615  0.562757\n",
       "2013-01-05 -1.146946 -0.358999  0.862938  1.067858\n",
       "2013-01-02  1.320968 -0.194768 -0.749169 -1.490745\n",
       "2013-01-01 -0.892160  0.154374  2.121266 -0.246541"
      ]
     },
     "execution_count": 46,
     "metadata": {},
     "output_type": "execute_result"
    }
   ],
   "source": [
    "# sorting by values \n",
    "\n",
    "df.sort_values(by ='B', ascending = True)"
   ]
  },
  {
   "cell_type": "markdown",
   "metadata": {},
   "source": [
    "### Selection \n",
    "\n",
    "#### Getting \n",
    "\n",
    "Selecting a single column, which yields a Series, equivalent to df.A"
   ]
  },
  {
   "cell_type": "code",
   "execution_count": 47,
   "metadata": {},
   "outputs": [
    {
     "data": {
      "text/plain": [
       "2013-01-01   -0.892160\n",
       "2013-01-02    1.320968\n",
       "2013-01-03    0.368814\n",
       "2013-01-04    0.284433\n",
       "2013-01-05   -1.146946\n",
       "2013-01-06    0.396533\n",
       "Freq: D, Name: A, dtype: float64"
      ]
     },
     "execution_count": 47,
     "metadata": {},
     "output_type": "execute_result"
    }
   ],
   "source": [
    "df['A']"
   ]
  },
  {
   "cell_type": "code",
   "execution_count": 48,
   "metadata": {},
   "outputs": [
    {
     "data": {
      "text/html": [
       "<div>\n",
       "<style scoped>\n",
       "    .dataframe tbody tr th:only-of-type {\n",
       "        vertical-align: middle;\n",
       "    }\n",
       "\n",
       "    .dataframe tbody tr th {\n",
       "        vertical-align: top;\n",
       "    }\n",
       "\n",
       "    .dataframe thead th {\n",
       "        text-align: right;\n",
       "    }\n",
       "</style>\n",
       "<table border=\"1\" class=\"dataframe\">\n",
       "  <thead>\n",
       "    <tr style=\"text-align: right;\">\n",
       "      <th></th>\n",
       "      <th>A</th>\n",
       "      <th>B</th>\n",
       "      <th>C</th>\n",
       "      <th>D</th>\n",
       "    </tr>\n",
       "  </thead>\n",
       "  <tbody>\n",
       "    <tr>\n",
       "      <th>2013-01-01</th>\n",
       "      <td>-0.892160</td>\n",
       "      <td>0.154374</td>\n",
       "      <td>2.121266</td>\n",
       "      <td>-0.246541</td>\n",
       "    </tr>\n",
       "    <tr>\n",
       "      <th>2013-01-02</th>\n",
       "      <td>1.320968</td>\n",
       "      <td>-0.194768</td>\n",
       "      <td>-0.749169</td>\n",
       "      <td>-1.490745</td>\n",
       "    </tr>\n",
       "    <tr>\n",
       "      <th>2013-01-03</th>\n",
       "      <td>0.368814</td>\n",
       "      <td>-1.181423</td>\n",
       "      <td>0.344051</td>\n",
       "      <td>-0.772633</td>\n",
       "    </tr>\n",
       "  </tbody>\n",
       "</table>\n",
       "</div>"
      ],
      "text/plain": [
       "                   A         B         C         D\n",
       "2013-01-01 -0.892160  0.154374  2.121266 -0.246541\n",
       "2013-01-02  1.320968 -0.194768 -0.749169 -1.490745\n",
       "2013-01-03  0.368814 -1.181423  0.344051 -0.772633"
      ]
     },
     "execution_count": 48,
     "metadata": {},
     "output_type": "execute_result"
    }
   ],
   "source": [
    "df[0:3]"
   ]
  },
  {
   "cell_type": "code",
   "execution_count": 49,
   "metadata": {},
   "outputs": [
    {
     "data": {
      "text/html": [
       "<div>\n",
       "<style scoped>\n",
       "    .dataframe tbody tr th:only-of-type {\n",
       "        vertical-align: middle;\n",
       "    }\n",
       "\n",
       "    .dataframe tbody tr th {\n",
       "        vertical-align: top;\n",
       "    }\n",
       "\n",
       "    .dataframe thead th {\n",
       "        text-align: right;\n",
       "    }\n",
       "</style>\n",
       "<table border=\"1\" class=\"dataframe\">\n",
       "  <thead>\n",
       "    <tr style=\"text-align: right;\">\n",
       "      <th></th>\n",
       "      <th>A</th>\n",
       "      <th>B</th>\n",
       "      <th>C</th>\n",
       "      <th>D</th>\n",
       "    </tr>\n",
       "  </thead>\n",
       "  <tbody>\n",
       "    <tr>\n",
       "      <th>2013-01-02</th>\n",
       "      <td>1.320968</td>\n",
       "      <td>-0.194768</td>\n",
       "      <td>-0.749169</td>\n",
       "      <td>-1.490745</td>\n",
       "    </tr>\n",
       "    <tr>\n",
       "      <th>2013-01-03</th>\n",
       "      <td>0.368814</td>\n",
       "      <td>-1.181423</td>\n",
       "      <td>0.344051</td>\n",
       "      <td>-0.772633</td>\n",
       "    </tr>\n",
       "    <tr>\n",
       "      <th>2013-01-04</th>\n",
       "      <td>0.284433</td>\n",
       "      <td>-0.731625</td>\n",
       "      <td>0.470674</td>\n",
       "      <td>-1.167195</td>\n",
       "    </tr>\n",
       "  </tbody>\n",
       "</table>\n",
       "</div>"
      ],
      "text/plain": [
       "                   A         B         C         D\n",
       "2013-01-02  1.320968 -0.194768 -0.749169 -1.490745\n",
       "2013-01-03  0.368814 -1.181423  0.344051 -0.772633\n",
       "2013-01-04  0.284433 -0.731625  0.470674 -1.167195"
      ]
     },
     "execution_count": 49,
     "metadata": {},
     "output_type": "execute_result"
    }
   ],
   "source": [
    "df['20130102':'20130104']"
   ]
  },
  {
   "cell_type": "markdown",
   "metadata": {},
   "source": [
    "####  Selection by Label"
   ]
  },
  {
   "cell_type": "code",
   "execution_count": 50,
   "metadata": {},
   "outputs": [
    {
     "data": {
      "text/plain": [
       "A   -0.892160\n",
       "B    0.154374\n",
       "C    2.121266\n",
       "D   -0.246541\n",
       "Name: 2013-01-01 00:00:00, dtype: float64"
      ]
     },
     "execution_count": 50,
     "metadata": {},
     "output_type": "execute_result"
    }
   ],
   "source": [
    "df.loc[dates[0]]"
   ]
  },
  {
   "cell_type": "code",
   "execution_count": 57,
   "metadata": {},
   "outputs": [
    {
     "data": {
      "text/plain": [
       "A    1.320968\n",
       "B   -0.194768\n",
       "C   -0.749169\n",
       "D   -1.490745\n",
       "Name: 2013-01-02 00:00:00, dtype: float64"
      ]
     },
     "execution_count": 57,
     "metadata": {},
     "output_type": "execute_result"
    }
   ],
   "source": [
    "df.loc[dates[1]]"
   ]
  },
  {
   "cell_type": "code",
   "execution_count": 63,
   "metadata": {},
   "outputs": [
    {
     "data": {
      "text/html": [
       "<div>\n",
       "<style scoped>\n",
       "    .dataframe tbody tr th:only-of-type {\n",
       "        vertical-align: middle;\n",
       "    }\n",
       "\n",
       "    .dataframe tbody tr th {\n",
       "        vertical-align: top;\n",
       "    }\n",
       "\n",
       "    .dataframe thead th {\n",
       "        text-align: right;\n",
       "    }\n",
       "</style>\n",
       "<table border=\"1\" class=\"dataframe\">\n",
       "  <thead>\n",
       "    <tr style=\"text-align: right;\">\n",
       "      <th></th>\n",
       "      <th>A</th>\n",
       "      <th>B</th>\n",
       "    </tr>\n",
       "  </thead>\n",
       "  <tbody>\n",
       "    <tr>\n",
       "      <th>2013-01-01</th>\n",
       "      <td>-0.892160</td>\n",
       "      <td>0.154374</td>\n",
       "    </tr>\n",
       "    <tr>\n",
       "      <th>2013-01-02</th>\n",
       "      <td>1.320968</td>\n",
       "      <td>-0.194768</td>\n",
       "    </tr>\n",
       "    <tr>\n",
       "      <th>2013-01-03</th>\n",
       "      <td>0.368814</td>\n",
       "      <td>-1.181423</td>\n",
       "    </tr>\n",
       "    <tr>\n",
       "      <th>2013-01-04</th>\n",
       "      <td>0.284433</td>\n",
       "      <td>-0.731625</td>\n",
       "    </tr>\n",
       "    <tr>\n",
       "      <th>2013-01-05</th>\n",
       "      <td>-1.146946</td>\n",
       "      <td>-0.358999</td>\n",
       "    </tr>\n",
       "    <tr>\n",
       "      <th>2013-01-06</th>\n",
       "      <td>0.396533</td>\n",
       "      <td>-0.523720</td>\n",
       "    </tr>\n",
       "  </tbody>\n",
       "</table>\n",
       "</div>"
      ],
      "text/plain": [
       "                   A         B\n",
       "2013-01-01 -0.892160  0.154374\n",
       "2013-01-02  1.320968 -0.194768\n",
       "2013-01-03  0.368814 -1.181423\n",
       "2013-01-04  0.284433 -0.731625\n",
       "2013-01-05 -1.146946 -0.358999\n",
       "2013-01-06  0.396533 -0.523720"
      ]
     },
     "execution_count": 63,
     "metadata": {},
     "output_type": "execute_result"
    }
   ],
   "source": [
    "## Selecting on a multi-axis by label\n",
    "\n",
    "df.loc[:,['A','B']]"
   ]
  },
  {
   "cell_type": "code",
   "execution_count": 64,
   "metadata": {},
   "outputs": [
    {
     "data": {
      "text/html": [
       "<div>\n",
       "<style scoped>\n",
       "    .dataframe tbody tr th:only-of-type {\n",
       "        vertical-align: middle;\n",
       "    }\n",
       "\n",
       "    .dataframe tbody tr th {\n",
       "        vertical-align: top;\n",
       "    }\n",
       "\n",
       "    .dataframe thead th {\n",
       "        text-align: right;\n",
       "    }\n",
       "</style>\n",
       "<table border=\"1\" class=\"dataframe\">\n",
       "  <thead>\n",
       "    <tr style=\"text-align: right;\">\n",
       "      <th></th>\n",
       "      <th>A</th>\n",
       "      <th>B</th>\n",
       "    </tr>\n",
       "  </thead>\n",
       "  <tbody>\n",
       "    <tr>\n",
       "      <th>2013-01-01</th>\n",
       "      <td>-0.892160</td>\n",
       "      <td>0.154374</td>\n",
       "    </tr>\n",
       "    <tr>\n",
       "      <th>2013-01-02</th>\n",
       "      <td>1.320968</td>\n",
       "      <td>-0.194768</td>\n",
       "    </tr>\n",
       "    <tr>\n",
       "      <th>2013-01-03</th>\n",
       "      <td>0.368814</td>\n",
       "      <td>-1.181423</td>\n",
       "    </tr>\n",
       "    <tr>\n",
       "      <th>2013-01-04</th>\n",
       "      <td>0.284433</td>\n",
       "      <td>-0.731625</td>\n",
       "    </tr>\n",
       "  </tbody>\n",
       "</table>\n",
       "</div>"
      ],
      "text/plain": [
       "                   A         B\n",
       "2013-01-01 -0.892160  0.154374\n",
       "2013-01-02  1.320968 -0.194768\n",
       "2013-01-03  0.368814 -1.181423\n",
       "2013-01-04  0.284433 -0.731625"
      ]
     },
     "execution_count": 64,
     "metadata": {},
     "output_type": "execute_result"
    }
   ],
   "source": [
    "#label slicing, both endpoints are included\n",
    "\n",
    "df.loc['20130101': '20130104',['A','B']]"
   ]
  },
  {
   "cell_type": "code",
   "execution_count": 68,
   "metadata": {},
   "outputs": [
    {
     "name": "stdout",
     "output_type": "stream",
     "text": [
      "<class 'pandas.core.frame.DataFrame'>\n",
      "A    1.320968\n",
      "B   -0.194768\n",
      "Name: 2013-01-02 00:00:00, dtype: float64\n",
      "<class 'pandas.core.series.Series'>\n"
     ]
    }
   ],
   "source": [
    "print(type(df.loc['20130101': '20130104',['A','B']]))\n",
    "# Reduction in the dimensions of the returned object\n",
    "\n",
    "df.loc['20130102',['A','B']]\n",
    "\n",
    "print(df.loc['20130102',['A','B']])\n",
    "\n",
    "print(type(df.loc['20130102',['A','B']]))\n",
    "\n"
   ]
  },
  {
   "cell_type": "code",
   "execution_count": 69,
   "metadata": {},
   "outputs": [
    {
     "data": {
      "text/plain": [
       "-0.8921599988037986"
      ]
     },
     "execution_count": 69,
     "metadata": {},
     "output_type": "execute_result"
    }
   ],
   "source": [
    "# For getting a scalar value\n",
    "df.loc[dates[0],'A']"
   ]
  },
  {
   "cell_type": "code",
   "execution_count": 70,
   "metadata": {},
   "outputs": [
    {
     "data": {
      "text/plain": [
       "-0.8921599988037986"
      ]
     },
     "execution_count": 70,
     "metadata": {},
     "output_type": "execute_result"
    }
   ],
   "source": [
    "# For getting fast access to a scalar (equiv to the prior method)\n",
    "\n",
    "df.at[dates[0],'A']"
   ]
  },
  {
   "cell_type": "markdown",
   "metadata": {},
   "source": [
    "#### Selection by Position"
   ]
  },
  {
   "cell_type": "code",
   "execution_count": 72,
   "metadata": {},
   "outputs": [
    {
     "data": {
      "text/plain": [
       "A    0.284433\n",
       "B   -0.731625\n",
       "C    0.470674\n",
       "D   -1.167195\n",
       "Name: 2013-01-04 00:00:00, dtype: float64"
      ]
     },
     "execution_count": 72,
     "metadata": {},
     "output_type": "execute_result"
    }
   ],
   "source": [
    "df.iloc[3]"
   ]
  },
  {
   "cell_type": "code",
   "execution_count": 73,
   "metadata": {},
   "outputs": [
    {
     "data": {
      "text/html": [
       "<div>\n",
       "<style scoped>\n",
       "    .dataframe tbody tr th:only-of-type {\n",
       "        vertical-align: middle;\n",
       "    }\n",
       "\n",
       "    .dataframe tbody tr th {\n",
       "        vertical-align: top;\n",
       "    }\n",
       "\n",
       "    .dataframe thead th {\n",
       "        text-align: right;\n",
       "    }\n",
       "</style>\n",
       "<table border=\"1\" class=\"dataframe\">\n",
       "  <thead>\n",
       "    <tr style=\"text-align: right;\">\n",
       "      <th></th>\n",
       "      <th>A</th>\n",
       "      <th>B</th>\n",
       "    </tr>\n",
       "  </thead>\n",
       "  <tbody>\n",
       "    <tr>\n",
       "      <th>2013-01-04</th>\n",
       "      <td>0.284433</td>\n",
       "      <td>-0.731625</td>\n",
       "    </tr>\n",
       "    <tr>\n",
       "      <th>2013-01-05</th>\n",
       "      <td>-1.146946</td>\n",
       "      <td>-0.358999</td>\n",
       "    </tr>\n",
       "  </tbody>\n",
       "</table>\n",
       "</div>"
      ],
      "text/plain": [
       "                   A         B\n",
       "2013-01-04  0.284433 -0.731625\n",
       "2013-01-05 -1.146946 -0.358999"
      ]
     },
     "execution_count": 73,
     "metadata": {},
     "output_type": "execute_result"
    }
   ],
   "source": [
    "# By integer slices, acting similar to numpy/python\n",
    "\n",
    "df.iloc[3:5,0:2]\n"
   ]
  },
  {
   "cell_type": "code",
   "execution_count": 74,
   "metadata": {},
   "outputs": [
    {
     "data": {
      "text/html": [
       "<div>\n",
       "<style scoped>\n",
       "    .dataframe tbody tr th:only-of-type {\n",
       "        vertical-align: middle;\n",
       "    }\n",
       "\n",
       "    .dataframe tbody tr th {\n",
       "        vertical-align: top;\n",
       "    }\n",
       "\n",
       "    .dataframe thead th {\n",
       "        text-align: right;\n",
       "    }\n",
       "</style>\n",
       "<table border=\"1\" class=\"dataframe\">\n",
       "  <thead>\n",
       "    <tr style=\"text-align: right;\">\n",
       "      <th></th>\n",
       "      <th>A</th>\n",
       "      <th>B</th>\n",
       "      <th>C</th>\n",
       "      <th>D</th>\n",
       "    </tr>\n",
       "  </thead>\n",
       "  <tbody>\n",
       "    <tr>\n",
       "      <th>2013-01-04</th>\n",
       "      <td>0.284433</td>\n",
       "      <td>-0.731625</td>\n",
       "      <td>0.470674</td>\n",
       "      <td>-1.167195</td>\n",
       "    </tr>\n",
       "    <tr>\n",
       "      <th>2013-01-05</th>\n",
       "      <td>-1.146946</td>\n",
       "      <td>-0.358999</td>\n",
       "      <td>0.862938</td>\n",
       "      <td>1.067858</td>\n",
       "    </tr>\n",
       "  </tbody>\n",
       "</table>\n",
       "</div>"
      ],
      "text/plain": [
       "                   A         B         C         D\n",
       "2013-01-04  0.284433 -0.731625  0.470674 -1.167195\n",
       "2013-01-05 -1.146946 -0.358999  0.862938  1.067858"
      ]
     },
     "execution_count": 74,
     "metadata": {},
     "output_type": "execute_result"
    }
   ],
   "source": [
    "df.iloc[3:5]"
   ]
  },
  {
   "cell_type": "code",
   "execution_count": 76,
   "metadata": {},
   "outputs": [
    {
     "data": {
      "text/html": [
       "<div>\n",
       "<style scoped>\n",
       "    .dataframe tbody tr th:only-of-type {\n",
       "        vertical-align: middle;\n",
       "    }\n",
       "\n",
       "    .dataframe tbody tr th {\n",
       "        vertical-align: top;\n",
       "    }\n",
       "\n",
       "    .dataframe thead th {\n",
       "        text-align: right;\n",
       "    }\n",
       "</style>\n",
       "<table border=\"1\" class=\"dataframe\">\n",
       "  <thead>\n",
       "    <tr style=\"text-align: right;\">\n",
       "      <th></th>\n",
       "      <th>C</th>\n",
       "      <th>D</th>\n",
       "    </tr>\n",
       "  </thead>\n",
       "  <tbody>\n",
       "    <tr>\n",
       "      <th>2013-01-01</th>\n",
       "      <td>2.121266</td>\n",
       "      <td>-0.246541</td>\n",
       "    </tr>\n",
       "    <tr>\n",
       "      <th>2013-01-02</th>\n",
       "      <td>-0.749169</td>\n",
       "      <td>-1.490745</td>\n",
       "    </tr>\n",
       "    <tr>\n",
       "      <th>2013-01-03</th>\n",
       "      <td>0.344051</td>\n",
       "      <td>-0.772633</td>\n",
       "    </tr>\n",
       "    <tr>\n",
       "      <th>2013-01-04</th>\n",
       "      <td>0.470674</td>\n",
       "      <td>-1.167195</td>\n",
       "    </tr>\n",
       "    <tr>\n",
       "      <th>2013-01-05</th>\n",
       "      <td>0.862938</td>\n",
       "      <td>1.067858</td>\n",
       "    </tr>\n",
       "    <tr>\n",
       "      <th>2013-01-06</th>\n",
       "      <td>0.382615</td>\n",
       "      <td>0.562757</td>\n",
       "    </tr>\n",
       "  </tbody>\n",
       "</table>\n",
       "</div>"
      ],
      "text/plain": [
       "                   C         D\n",
       "2013-01-01  2.121266 -0.246541\n",
       "2013-01-02 -0.749169 -1.490745\n",
       "2013-01-03  0.344051 -0.772633\n",
       "2013-01-04  0.470674 -1.167195\n",
       "2013-01-05  0.862938  1.067858\n",
       "2013-01-06  0.382615  0.562757"
      ]
     },
     "execution_count": 76,
     "metadata": {},
     "output_type": "execute_result"
    }
   ],
   "source": [
    "df.iloc[:,2:5]\n"
   ]
  },
  {
   "cell_type": "code",
   "execution_count": 77,
   "metadata": {},
   "outputs": [
    {
     "data": {
      "text/html": [
       "<div>\n",
       "<style scoped>\n",
       "    .dataframe tbody tr th:only-of-type {\n",
       "        vertical-align: middle;\n",
       "    }\n",
       "\n",
       "    .dataframe tbody tr th {\n",
       "        vertical-align: top;\n",
       "    }\n",
       "\n",
       "    .dataframe thead th {\n",
       "        text-align: right;\n",
       "    }\n",
       "</style>\n",
       "<table border=\"1\" class=\"dataframe\">\n",
       "  <thead>\n",
       "    <tr style=\"text-align: right;\">\n",
       "      <th></th>\n",
       "      <th>C</th>\n",
       "      <th>D</th>\n",
       "    </tr>\n",
       "  </thead>\n",
       "  <tbody>\n",
       "    <tr>\n",
       "      <th>2013-01-01</th>\n",
       "      <td>2.121266</td>\n",
       "      <td>-0.246541</td>\n",
       "    </tr>\n",
       "    <tr>\n",
       "      <th>2013-01-02</th>\n",
       "      <td>-0.749169</td>\n",
       "      <td>-1.490745</td>\n",
       "    </tr>\n",
       "    <tr>\n",
       "      <th>2013-01-03</th>\n",
       "      <td>0.344051</td>\n",
       "      <td>-0.772633</td>\n",
       "    </tr>\n",
       "    <tr>\n",
       "      <th>2013-01-04</th>\n",
       "      <td>0.470674</td>\n",
       "      <td>-1.167195</td>\n",
       "    </tr>\n",
       "    <tr>\n",
       "      <th>2013-01-05</th>\n",
       "      <td>0.862938</td>\n",
       "      <td>1.067858</td>\n",
       "    </tr>\n",
       "    <tr>\n",
       "      <th>2013-01-06</th>\n",
       "      <td>0.382615</td>\n",
       "      <td>0.562757</td>\n",
       "    </tr>\n",
       "  </tbody>\n",
       "</table>\n",
       "</div>"
      ],
      "text/plain": [
       "                   C         D\n",
       "2013-01-01  2.121266 -0.246541\n",
       "2013-01-02 -0.749169 -1.490745\n",
       "2013-01-03  0.344051 -0.772633\n",
       "2013-01-04  0.470674 -1.167195\n",
       "2013-01-05  0.862938  1.067858\n",
       "2013-01-06  0.382615  0.562757"
      ]
     },
     "execution_count": 77,
     "metadata": {},
     "output_type": "execute_result"
    }
   ],
   "source": [
    "df.iloc[:,2:6]"
   ]
  },
  {
   "cell_type": "code",
   "execution_count": 78,
   "metadata": {},
   "outputs": [
    {
     "data": {
      "text/html": [
       "<div>\n",
       "<style scoped>\n",
       "    .dataframe tbody tr th:only-of-type {\n",
       "        vertical-align: middle;\n",
       "    }\n",
       "\n",
       "    .dataframe tbody tr th {\n",
       "        vertical-align: top;\n",
       "    }\n",
       "\n",
       "    .dataframe thead th {\n",
       "        text-align: right;\n",
       "    }\n",
       "</style>\n",
       "<table border=\"1\" class=\"dataframe\">\n",
       "  <thead>\n",
       "    <tr style=\"text-align: right;\">\n",
       "      <th></th>\n",
       "      <th>A</th>\n",
       "      <th>B</th>\n",
       "      <th>C</th>\n",
       "      <th>D</th>\n",
       "    </tr>\n",
       "  </thead>\n",
       "  <tbody>\n",
       "    <tr>\n",
       "      <th>2013-01-02</th>\n",
       "      <td>1.320968</td>\n",
       "      <td>-0.194768</td>\n",
       "      <td>-0.749169</td>\n",
       "      <td>-1.490745</td>\n",
       "    </tr>\n",
       "    <tr>\n",
       "      <th>2013-01-03</th>\n",
       "      <td>0.368814</td>\n",
       "      <td>-1.181423</td>\n",
       "      <td>0.344051</td>\n",
       "      <td>-0.772633</td>\n",
       "    </tr>\n",
       "    <tr>\n",
       "      <th>2013-01-04</th>\n",
       "      <td>0.284433</td>\n",
       "      <td>-0.731625</td>\n",
       "      <td>0.470674</td>\n",
       "      <td>-1.167195</td>\n",
       "    </tr>\n",
       "    <tr>\n",
       "      <th>2013-01-05</th>\n",
       "      <td>-1.146946</td>\n",
       "      <td>-0.358999</td>\n",
       "      <td>0.862938</td>\n",
       "      <td>1.067858</td>\n",
       "    </tr>\n",
       "    <tr>\n",
       "      <th>2013-01-06</th>\n",
       "      <td>0.396533</td>\n",
       "      <td>-0.523720</td>\n",
       "      <td>0.382615</td>\n",
       "      <td>0.562757</td>\n",
       "    </tr>\n",
       "  </tbody>\n",
       "</table>\n",
       "</div>"
      ],
      "text/plain": [
       "                   A         B         C         D\n",
       "2013-01-02  1.320968 -0.194768 -0.749169 -1.490745\n",
       "2013-01-03  0.368814 -1.181423  0.344051 -0.772633\n",
       "2013-01-04  0.284433 -0.731625  0.470674 -1.167195\n",
       "2013-01-05 -1.146946 -0.358999  0.862938  1.067858\n",
       "2013-01-06  0.396533 -0.523720  0.382615  0.562757"
      ]
     },
     "execution_count": 78,
     "metadata": {},
     "output_type": "execute_result"
    }
   ],
   "source": [
    "df.iloc[1:9,:]"
   ]
  },
  {
   "cell_type": "code",
   "execution_count": 79,
   "metadata": {},
   "outputs": [
    {
     "data": {
      "text/html": [
       "<div>\n",
       "<style scoped>\n",
       "    .dataframe tbody tr th:only-of-type {\n",
       "        vertical-align: middle;\n",
       "    }\n",
       "\n",
       "    .dataframe tbody tr th {\n",
       "        vertical-align: top;\n",
       "    }\n",
       "\n",
       "    .dataframe thead th {\n",
       "        text-align: right;\n",
       "    }\n",
       "</style>\n",
       "<table border=\"1\" class=\"dataframe\">\n",
       "  <thead>\n",
       "    <tr style=\"text-align: right;\">\n",
       "      <th></th>\n",
       "      <th>A</th>\n",
       "      <th>C</th>\n",
       "    </tr>\n",
       "  </thead>\n",
       "  <tbody>\n",
       "    <tr>\n",
       "      <th>2013-01-02</th>\n",
       "      <td>1.320968</td>\n",
       "      <td>-0.749169</td>\n",
       "    </tr>\n",
       "    <tr>\n",
       "      <th>2013-01-03</th>\n",
       "      <td>0.368814</td>\n",
       "      <td>0.344051</td>\n",
       "    </tr>\n",
       "    <tr>\n",
       "      <th>2013-01-05</th>\n",
       "      <td>-1.146946</td>\n",
       "      <td>0.862938</td>\n",
       "    </tr>\n",
       "  </tbody>\n",
       "</table>\n",
       "</div>"
      ],
      "text/plain": [
       "                   A         C\n",
       "2013-01-02  1.320968 -0.749169\n",
       "2013-01-03  0.368814  0.344051\n",
       "2013-01-05 -1.146946  0.862938"
      ]
     },
     "execution_count": 79,
     "metadata": {},
     "output_type": "execute_result"
    }
   ],
   "source": [
    "## By lists of integer position locations, similar to the numpy/python style\n",
    "\n",
    "df.iloc[[1,2,4],[0,2]]"
   ]
  },
  {
   "cell_type": "code",
   "execution_count": 80,
   "metadata": {},
   "outputs": [
    {
     "ename": "IndexError",
     "evalue": "positional indexers are out-of-bounds",
     "output_type": "error",
     "traceback": [
      "\u001b[0;31m---------------------------------------------------------------------------\u001b[0m",
      "\u001b[0;31mIndexError\u001b[0m                                Traceback (most recent call last)",
      "\u001b[0;32m<ipython-input-80-927f4413328a>\u001b[0m in \u001b[0;36m<module>\u001b[0;34m()\u001b[0m\n\u001b[0;32m----> 1\u001b[0;31m \u001b[0mdf\u001b[0m\u001b[0;34m.\u001b[0m\u001b[0miloc\u001b[0m\u001b[0;34m[\u001b[0m\u001b[0;34m[\u001b[0m\u001b[0;36m1\u001b[0m\u001b[0;34m,\u001b[0m\u001b[0;36m2\u001b[0m\u001b[0;34m,\u001b[0m\u001b[0;36m7\u001b[0m\u001b[0;34m]\u001b[0m\u001b[0;34m,\u001b[0m\u001b[0;34m[\u001b[0m\u001b[0;36m0\u001b[0m\u001b[0;34m,\u001b[0m\u001b[0;36m2\u001b[0m\u001b[0;34m]\u001b[0m\u001b[0;34m]\u001b[0m\u001b[0;34m\u001b[0m\u001b[0m\n\u001b[0m",
      "\u001b[0;32m~/anaconda/lib/python3.5/site-packages/pandas/core/indexing.py\u001b[0m in \u001b[0;36m__getitem__\u001b[0;34m(self, key)\u001b[0m\n\u001b[1;32m   1470\u001b[0m             \u001b[0;32mexcept\u001b[0m \u001b[0;34m(\u001b[0m\u001b[0mKeyError\u001b[0m\u001b[0;34m,\u001b[0m \u001b[0mIndexError\u001b[0m\u001b[0;34m)\u001b[0m\u001b[0;34m:\u001b[0m\u001b[0;34m\u001b[0m\u001b[0m\n\u001b[1;32m   1471\u001b[0m                 \u001b[0;32mpass\u001b[0m\u001b[0;34m\u001b[0m\u001b[0m\n\u001b[0;32m-> 1472\u001b[0;31m             \u001b[0;32mreturn\u001b[0m \u001b[0mself\u001b[0m\u001b[0;34m.\u001b[0m\u001b[0m_getitem_tuple\u001b[0m\u001b[0;34m(\u001b[0m\u001b[0mkey\u001b[0m\u001b[0;34m)\u001b[0m\u001b[0;34m\u001b[0m\u001b[0m\n\u001b[0m\u001b[1;32m   1473\u001b[0m         \u001b[0;32melse\u001b[0m\u001b[0;34m:\u001b[0m\u001b[0;34m\u001b[0m\u001b[0m\n\u001b[1;32m   1474\u001b[0m             \u001b[0;31m# we by definition only have the 0th axis\u001b[0m\u001b[0;34m\u001b[0m\u001b[0;34m\u001b[0m\u001b[0m\n",
      "\u001b[0;32m~/anaconda/lib/python3.5/site-packages/pandas/core/indexing.py\u001b[0m in \u001b[0;36m_getitem_tuple\u001b[0;34m(self, tup)\u001b[0m\n\u001b[1;32m   2011\u001b[0m     \u001b[0;32mdef\u001b[0m \u001b[0m_getitem_tuple\u001b[0m\u001b[0;34m(\u001b[0m\u001b[0mself\u001b[0m\u001b[0;34m,\u001b[0m \u001b[0mtup\u001b[0m\u001b[0;34m)\u001b[0m\u001b[0;34m:\u001b[0m\u001b[0;34m\u001b[0m\u001b[0m\n\u001b[1;32m   2012\u001b[0m \u001b[0;34m\u001b[0m\u001b[0m\n\u001b[0;32m-> 2013\u001b[0;31m         \u001b[0mself\u001b[0m\u001b[0;34m.\u001b[0m\u001b[0m_has_valid_tuple\u001b[0m\u001b[0;34m(\u001b[0m\u001b[0mtup\u001b[0m\u001b[0;34m)\u001b[0m\u001b[0;34m\u001b[0m\u001b[0m\n\u001b[0m\u001b[1;32m   2014\u001b[0m         \u001b[0;32mtry\u001b[0m\u001b[0;34m:\u001b[0m\u001b[0;34m\u001b[0m\u001b[0m\n\u001b[1;32m   2015\u001b[0m             \u001b[0;32mreturn\u001b[0m \u001b[0mself\u001b[0m\u001b[0;34m.\u001b[0m\u001b[0m_getitem_lowerdim\u001b[0m\u001b[0;34m(\u001b[0m\u001b[0mtup\u001b[0m\u001b[0;34m)\u001b[0m\u001b[0;34m\u001b[0m\u001b[0m\n",
      "\u001b[0;32m~/anaconda/lib/python3.5/site-packages/pandas/core/indexing.py\u001b[0m in \u001b[0;36m_has_valid_tuple\u001b[0;34m(self, key)\u001b[0m\n\u001b[1;32m    220\u001b[0m                 \u001b[0;32mraise\u001b[0m \u001b[0mIndexingError\u001b[0m\u001b[0;34m(\u001b[0m\u001b[0;34m'Too many indexers'\u001b[0m\u001b[0;34m)\u001b[0m\u001b[0;34m\u001b[0m\u001b[0m\n\u001b[1;32m    221\u001b[0m             \u001b[0;32mtry\u001b[0m\u001b[0;34m:\u001b[0m\u001b[0;34m\u001b[0m\u001b[0m\n\u001b[0;32m--> 222\u001b[0;31m                 \u001b[0mself\u001b[0m\u001b[0;34m.\u001b[0m\u001b[0m_validate_key\u001b[0m\u001b[0;34m(\u001b[0m\u001b[0mk\u001b[0m\u001b[0;34m,\u001b[0m \u001b[0mi\u001b[0m\u001b[0;34m)\u001b[0m\u001b[0;34m\u001b[0m\u001b[0m\n\u001b[0m\u001b[1;32m    223\u001b[0m             \u001b[0;32mexcept\u001b[0m \u001b[0mValueError\u001b[0m\u001b[0;34m:\u001b[0m\u001b[0;34m\u001b[0m\u001b[0m\n\u001b[1;32m    224\u001b[0m                 raise ValueError(\"Location based indexing can only have \"\n",
      "\u001b[0;32m~/anaconda/lib/python3.5/site-packages/pandas/core/indexing.py\u001b[0m in \u001b[0;36m_validate_key\u001b[0;34m(self, key, axis)\u001b[0m\n\u001b[1;32m   1966\u001b[0m \u001b[0;34m\u001b[0m\u001b[0m\n\u001b[1;32m   1967\u001b[0m             \u001b[0;32mif\u001b[0m \u001b[0mlen\u001b[0m\u001b[0;34m(\u001b[0m\u001b[0marr\u001b[0m\u001b[0;34m)\u001b[0m \u001b[0;32mand\u001b[0m \u001b[0;34m(\u001b[0m\u001b[0marr\u001b[0m\u001b[0;34m.\u001b[0m\u001b[0mmax\u001b[0m\u001b[0;34m(\u001b[0m\u001b[0;34m)\u001b[0m \u001b[0;34m>=\u001b[0m \u001b[0ml\u001b[0m \u001b[0;32mor\u001b[0m \u001b[0marr\u001b[0m\u001b[0;34m.\u001b[0m\u001b[0mmin\u001b[0m\u001b[0;34m(\u001b[0m\u001b[0;34m)\u001b[0m \u001b[0;34m<\u001b[0m \u001b[0;34m-\u001b[0m\u001b[0ml\u001b[0m\u001b[0;34m)\u001b[0m\u001b[0;34m:\u001b[0m\u001b[0;34m\u001b[0m\u001b[0m\n\u001b[0;32m-> 1968\u001b[0;31m                 \u001b[0;32mraise\u001b[0m \u001b[0mIndexError\u001b[0m\u001b[0;34m(\u001b[0m\u001b[0;34m\"positional indexers are out-of-bounds\"\u001b[0m\u001b[0;34m)\u001b[0m\u001b[0;34m\u001b[0m\u001b[0m\n\u001b[0m\u001b[1;32m   1969\u001b[0m         \u001b[0;32melse\u001b[0m\u001b[0;34m:\u001b[0m\u001b[0;34m\u001b[0m\u001b[0m\n\u001b[1;32m   1970\u001b[0m             raise ValueError(\"Can only index by location with \"\n",
      "\u001b[0;31mIndexError\u001b[0m: positional indexers are out-of-bounds"
     ]
    }
   ],
   "source": [
    "df.iloc[[1,2,7],[0,2]]"
   ]
  },
  {
   "cell_type": "code",
   "execution_count": 82,
   "metadata": {},
   "outputs": [
    {
     "data": {
      "text/plain": [
       "-0.1947678388344518"
      ]
     },
     "execution_count": 82,
     "metadata": {},
     "output_type": "execute_result"
    }
   ],
   "source": [
    "# For getting a value explicitly\n",
    "df.iloc[1,1]"
   ]
  },
  {
   "cell_type": "markdown",
   "metadata": {},
   "source": [
    "#### Boolean Indexing"
   ]
  },
  {
   "cell_type": "code",
   "execution_count": 84,
   "metadata": {},
   "outputs": [
    {
     "data": {
      "text/html": [
       "<div>\n",
       "<style scoped>\n",
       "    .dataframe tbody tr th:only-of-type {\n",
       "        vertical-align: middle;\n",
       "    }\n",
       "\n",
       "    .dataframe tbody tr th {\n",
       "        vertical-align: top;\n",
       "    }\n",
       "\n",
       "    .dataframe thead th {\n",
       "        text-align: right;\n",
       "    }\n",
       "</style>\n",
       "<table border=\"1\" class=\"dataframe\">\n",
       "  <thead>\n",
       "    <tr style=\"text-align: right;\">\n",
       "      <th></th>\n",
       "      <th>A</th>\n",
       "      <th>B</th>\n",
       "      <th>C</th>\n",
       "      <th>D</th>\n",
       "    </tr>\n",
       "  </thead>\n",
       "  <tbody>\n",
       "    <tr>\n",
       "      <th>2013-01-01</th>\n",
       "      <td>-0.892160</td>\n",
       "      <td>0.154374</td>\n",
       "      <td>2.121266</td>\n",
       "      <td>-0.246541</td>\n",
       "    </tr>\n",
       "    <tr>\n",
       "      <th>2013-01-02</th>\n",
       "      <td>1.320968</td>\n",
       "      <td>-0.194768</td>\n",
       "      <td>-0.749169</td>\n",
       "      <td>-1.490745</td>\n",
       "    </tr>\n",
       "    <tr>\n",
       "      <th>2013-01-03</th>\n",
       "      <td>0.368814</td>\n",
       "      <td>-1.181423</td>\n",
       "      <td>0.344051</td>\n",
       "      <td>-0.772633</td>\n",
       "    </tr>\n",
       "    <tr>\n",
       "      <th>2013-01-04</th>\n",
       "      <td>0.284433</td>\n",
       "      <td>-0.731625</td>\n",
       "      <td>0.470674</td>\n",
       "      <td>-1.167195</td>\n",
       "    </tr>\n",
       "    <tr>\n",
       "      <th>2013-01-05</th>\n",
       "      <td>-1.146946</td>\n",
       "      <td>-0.358999</td>\n",
       "      <td>0.862938</td>\n",
       "      <td>1.067858</td>\n",
       "    </tr>\n",
       "    <tr>\n",
       "      <th>2013-01-06</th>\n",
       "      <td>0.396533</td>\n",
       "      <td>-0.523720</td>\n",
       "      <td>0.382615</td>\n",
       "      <td>0.562757</td>\n",
       "    </tr>\n",
       "  </tbody>\n",
       "</table>\n",
       "</div>"
      ],
      "text/plain": [
       "                   A         B         C         D\n",
       "2013-01-01 -0.892160  0.154374  2.121266 -0.246541\n",
       "2013-01-02  1.320968 -0.194768 -0.749169 -1.490745\n",
       "2013-01-03  0.368814 -1.181423  0.344051 -0.772633\n",
       "2013-01-04  0.284433 -0.731625  0.470674 -1.167195\n",
       "2013-01-05 -1.146946 -0.358999  0.862938  1.067858\n",
       "2013-01-06  0.396533 -0.523720  0.382615  0.562757"
      ]
     },
     "execution_count": 84,
     "metadata": {},
     "output_type": "execute_result"
    }
   ],
   "source": [
    "df"
   ]
  },
  {
   "cell_type": "code",
   "execution_count": 83,
   "metadata": {},
   "outputs": [
    {
     "data": {
      "text/html": [
       "<div>\n",
       "<style scoped>\n",
       "    .dataframe tbody tr th:only-of-type {\n",
       "        vertical-align: middle;\n",
       "    }\n",
       "\n",
       "    .dataframe tbody tr th {\n",
       "        vertical-align: top;\n",
       "    }\n",
       "\n",
       "    .dataframe thead th {\n",
       "        text-align: right;\n",
       "    }\n",
       "</style>\n",
       "<table border=\"1\" class=\"dataframe\">\n",
       "  <thead>\n",
       "    <tr style=\"text-align: right;\">\n",
       "      <th></th>\n",
       "      <th>A</th>\n",
       "      <th>B</th>\n",
       "      <th>C</th>\n",
       "      <th>D</th>\n",
       "    </tr>\n",
       "  </thead>\n",
       "  <tbody>\n",
       "    <tr>\n",
       "      <th>2013-01-02</th>\n",
       "      <td>1.320968</td>\n",
       "      <td>-0.194768</td>\n",
       "      <td>-0.749169</td>\n",
       "      <td>-1.490745</td>\n",
       "    </tr>\n",
       "    <tr>\n",
       "      <th>2013-01-03</th>\n",
       "      <td>0.368814</td>\n",
       "      <td>-1.181423</td>\n",
       "      <td>0.344051</td>\n",
       "      <td>-0.772633</td>\n",
       "    </tr>\n",
       "    <tr>\n",
       "      <th>2013-01-04</th>\n",
       "      <td>0.284433</td>\n",
       "      <td>-0.731625</td>\n",
       "      <td>0.470674</td>\n",
       "      <td>-1.167195</td>\n",
       "    </tr>\n",
       "    <tr>\n",
       "      <th>2013-01-06</th>\n",
       "      <td>0.396533</td>\n",
       "      <td>-0.523720</td>\n",
       "      <td>0.382615</td>\n",
       "      <td>0.562757</td>\n",
       "    </tr>\n",
       "  </tbody>\n",
       "</table>\n",
       "</div>"
      ],
      "text/plain": [
       "                   A         B         C         D\n",
       "2013-01-02  1.320968 -0.194768 -0.749169 -1.490745\n",
       "2013-01-03  0.368814 -1.181423  0.344051 -0.772633\n",
       "2013-01-04  0.284433 -0.731625  0.470674 -1.167195\n",
       "2013-01-06  0.396533 -0.523720  0.382615  0.562757"
      ]
     },
     "execution_count": 83,
     "metadata": {},
     "output_type": "execute_result"
    }
   ],
   "source": [
    "df[df.A >0]"
   ]
  },
  {
   "cell_type": "code",
   "execution_count": 85,
   "metadata": {},
   "outputs": [
    {
     "data": {
      "text/html": [
       "<div>\n",
       "<style scoped>\n",
       "    .dataframe tbody tr th:only-of-type {\n",
       "        vertical-align: middle;\n",
       "    }\n",
       "\n",
       "    .dataframe tbody tr th {\n",
       "        vertical-align: top;\n",
       "    }\n",
       "\n",
       "    .dataframe thead th {\n",
       "        text-align: right;\n",
       "    }\n",
       "</style>\n",
       "<table border=\"1\" class=\"dataframe\">\n",
       "  <thead>\n",
       "    <tr style=\"text-align: right;\">\n",
       "      <th></th>\n",
       "      <th>A</th>\n",
       "      <th>B</th>\n",
       "      <th>C</th>\n",
       "      <th>D</th>\n",
       "    </tr>\n",
       "  </thead>\n",
       "  <tbody>\n",
       "    <tr>\n",
       "      <th>2013-01-01</th>\n",
       "      <td>NaN</td>\n",
       "      <td>0.154374</td>\n",
       "      <td>2.121266</td>\n",
       "      <td>NaN</td>\n",
       "    </tr>\n",
       "    <tr>\n",
       "      <th>2013-01-02</th>\n",
       "      <td>1.320968</td>\n",
       "      <td>NaN</td>\n",
       "      <td>NaN</td>\n",
       "      <td>NaN</td>\n",
       "    </tr>\n",
       "    <tr>\n",
       "      <th>2013-01-03</th>\n",
       "      <td>0.368814</td>\n",
       "      <td>NaN</td>\n",
       "      <td>0.344051</td>\n",
       "      <td>NaN</td>\n",
       "    </tr>\n",
       "    <tr>\n",
       "      <th>2013-01-04</th>\n",
       "      <td>0.284433</td>\n",
       "      <td>NaN</td>\n",
       "      <td>0.470674</td>\n",
       "      <td>NaN</td>\n",
       "    </tr>\n",
       "    <tr>\n",
       "      <th>2013-01-05</th>\n",
       "      <td>NaN</td>\n",
       "      <td>NaN</td>\n",
       "      <td>0.862938</td>\n",
       "      <td>1.067858</td>\n",
       "    </tr>\n",
       "    <tr>\n",
       "      <th>2013-01-06</th>\n",
       "      <td>0.396533</td>\n",
       "      <td>NaN</td>\n",
       "      <td>0.382615</td>\n",
       "      <td>0.562757</td>\n",
       "    </tr>\n",
       "  </tbody>\n",
       "</table>\n",
       "</div>"
      ],
      "text/plain": [
       "                   A         B         C         D\n",
       "2013-01-01       NaN  0.154374  2.121266       NaN\n",
       "2013-01-02  1.320968       NaN       NaN       NaN\n",
       "2013-01-03  0.368814       NaN  0.344051       NaN\n",
       "2013-01-04  0.284433       NaN  0.470674       NaN\n",
       "2013-01-05       NaN       NaN  0.862938  1.067858\n",
       "2013-01-06  0.396533       NaN  0.382615  0.562757"
      ]
     },
     "execution_count": 85,
     "metadata": {},
     "output_type": "execute_result"
    }
   ],
   "source": [
    "df[df >0]"
   ]
  },
  {
   "cell_type": "code",
   "execution_count": 86,
   "metadata": {
    "collapsed": true
   },
   "outputs": [],
   "source": [
    "### Using the isin() method for filtering:\n",
    "\n",
    "df2 = df.copy()"
   ]
  },
  {
   "cell_type": "code",
   "execution_count": 87,
   "metadata": {},
   "outputs": [
    {
     "data": {
      "text/html": [
       "<div>\n",
       "<style scoped>\n",
       "    .dataframe tbody tr th:only-of-type {\n",
       "        vertical-align: middle;\n",
       "    }\n",
       "\n",
       "    .dataframe tbody tr th {\n",
       "        vertical-align: top;\n",
       "    }\n",
       "\n",
       "    .dataframe thead th {\n",
       "        text-align: right;\n",
       "    }\n",
       "</style>\n",
       "<table border=\"1\" class=\"dataframe\">\n",
       "  <thead>\n",
       "    <tr style=\"text-align: right;\">\n",
       "      <th></th>\n",
       "      <th>A</th>\n",
       "      <th>B</th>\n",
       "      <th>C</th>\n",
       "      <th>D</th>\n",
       "    </tr>\n",
       "  </thead>\n",
       "  <tbody>\n",
       "    <tr>\n",
       "      <th>2013-01-01</th>\n",
       "      <td>-0.892160</td>\n",
       "      <td>0.154374</td>\n",
       "      <td>2.121266</td>\n",
       "      <td>-0.246541</td>\n",
       "    </tr>\n",
       "    <tr>\n",
       "      <th>2013-01-02</th>\n",
       "      <td>1.320968</td>\n",
       "      <td>-0.194768</td>\n",
       "      <td>-0.749169</td>\n",
       "      <td>-1.490745</td>\n",
       "    </tr>\n",
       "    <tr>\n",
       "      <th>2013-01-03</th>\n",
       "      <td>0.368814</td>\n",
       "      <td>-1.181423</td>\n",
       "      <td>0.344051</td>\n",
       "      <td>-0.772633</td>\n",
       "    </tr>\n",
       "    <tr>\n",
       "      <th>2013-01-04</th>\n",
       "      <td>0.284433</td>\n",
       "      <td>-0.731625</td>\n",
       "      <td>0.470674</td>\n",
       "      <td>-1.167195</td>\n",
       "    </tr>\n",
       "    <tr>\n",
       "      <th>2013-01-05</th>\n",
       "      <td>-1.146946</td>\n",
       "      <td>-0.358999</td>\n",
       "      <td>0.862938</td>\n",
       "      <td>1.067858</td>\n",
       "    </tr>\n",
       "    <tr>\n",
       "      <th>2013-01-06</th>\n",
       "      <td>0.396533</td>\n",
       "      <td>-0.523720</td>\n",
       "      <td>0.382615</td>\n",
       "      <td>0.562757</td>\n",
       "    </tr>\n",
       "  </tbody>\n",
       "</table>\n",
       "</div>"
      ],
      "text/plain": [
       "                   A         B         C         D\n",
       "2013-01-01 -0.892160  0.154374  2.121266 -0.246541\n",
       "2013-01-02  1.320968 -0.194768 -0.749169 -1.490745\n",
       "2013-01-03  0.368814 -1.181423  0.344051 -0.772633\n",
       "2013-01-04  0.284433 -0.731625  0.470674 -1.167195\n",
       "2013-01-05 -1.146946 -0.358999  0.862938  1.067858\n",
       "2013-01-06  0.396533 -0.523720  0.382615  0.562757"
      ]
     },
     "execution_count": 87,
     "metadata": {},
     "output_type": "execute_result"
    }
   ],
   "source": [
    "df2"
   ]
  },
  {
   "cell_type": "code",
   "execution_count": 88,
   "metadata": {
    "collapsed": true
   },
   "outputs": [],
   "source": [
    "df2['E'] = ['one', 'one','two','three','four','three']"
   ]
  },
  {
   "cell_type": "markdown",
   "metadata": {},
   "source": [
    "df2\n"
   ]
  },
  {
   "cell_type": "code",
   "execution_count": 90,
   "metadata": {},
   "outputs": [
    {
     "data": {
      "text/html": [
       "<div>\n",
       "<style scoped>\n",
       "    .dataframe tbody tr th:only-of-type {\n",
       "        vertical-align: middle;\n",
       "    }\n",
       "\n",
       "    .dataframe tbody tr th {\n",
       "        vertical-align: top;\n",
       "    }\n",
       "\n",
       "    .dataframe thead th {\n",
       "        text-align: right;\n",
       "    }\n",
       "</style>\n",
       "<table border=\"1\" class=\"dataframe\">\n",
       "  <thead>\n",
       "    <tr style=\"text-align: right;\">\n",
       "      <th></th>\n",
       "      <th>A</th>\n",
       "      <th>B</th>\n",
       "      <th>C</th>\n",
       "      <th>D</th>\n",
       "      <th>E</th>\n",
       "    </tr>\n",
       "  </thead>\n",
       "  <tbody>\n",
       "    <tr>\n",
       "      <th>2013-01-03</th>\n",
       "      <td>0.368814</td>\n",
       "      <td>-1.181423</td>\n",
       "      <td>0.344051</td>\n",
       "      <td>-0.772633</td>\n",
       "      <td>two</td>\n",
       "    </tr>\n",
       "    <tr>\n",
       "      <th>2013-01-05</th>\n",
       "      <td>-1.146946</td>\n",
       "      <td>-0.358999</td>\n",
       "      <td>0.862938</td>\n",
       "      <td>1.067858</td>\n",
       "      <td>four</td>\n",
       "    </tr>\n",
       "  </tbody>\n",
       "</table>\n",
       "</div>"
      ],
      "text/plain": [
       "                   A         B         C         D     E\n",
       "2013-01-03  0.368814 -1.181423  0.344051 -0.772633   two\n",
       "2013-01-05 -1.146946 -0.358999  0.862938  1.067858  four"
      ]
     },
     "execution_count": 90,
     "metadata": {},
     "output_type": "execute_result"
    }
   ],
   "source": [
    "df2[df2['E'].isin(['two','four']) ]"
   ]
  },
  {
   "cell_type": "markdown",
   "metadata": {},
   "source": [
    "#### Setting \n",
    "\n",
    "Setting a new column automatically aligns the data by the indexes"
   ]
  },
  {
   "cell_type": "code",
   "execution_count": 97,
   "metadata": {},
   "outputs": [
    {
     "data": {
      "text/plain": [
       "2013-01-02    1\n",
       "2013-01-03    2\n",
       "2013-01-04    3\n",
       "2013-01-05    4\n",
       "2013-01-06    5\n",
       "2013-01-07    6\n",
       "Freq: D, dtype: int64"
      ]
     },
     "execution_count": 97,
     "metadata": {},
     "output_type": "execute_result"
    }
   ],
   "source": [
    "s1 = pd.Series([1,2,3,4,5,6], index = pd.date_range('20130102', periods =6))\n",
    "s1\n"
   ]
  },
  {
   "cell_type": "code",
   "execution_count": 98,
   "metadata": {
    "collapsed": true
   },
   "outputs": [],
   "source": [
    "# setting values by label \n",
    "df['F'] = s1"
   ]
  },
  {
   "cell_type": "code",
   "execution_count": 99,
   "metadata": {},
   "outputs": [
    {
     "data": {
      "text/html": [
       "<div>\n",
       "<style scoped>\n",
       "    .dataframe tbody tr th:only-of-type {\n",
       "        vertical-align: middle;\n",
       "    }\n",
       "\n",
       "    .dataframe tbody tr th {\n",
       "        vertical-align: top;\n",
       "    }\n",
       "\n",
       "    .dataframe thead th {\n",
       "        text-align: right;\n",
       "    }\n",
       "</style>\n",
       "<table border=\"1\" class=\"dataframe\">\n",
       "  <thead>\n",
       "    <tr style=\"text-align: right;\">\n",
       "      <th></th>\n",
       "      <th>A</th>\n",
       "      <th>B</th>\n",
       "      <th>C</th>\n",
       "      <th>D</th>\n",
       "      <th>F</th>\n",
       "    </tr>\n",
       "  </thead>\n",
       "  <tbody>\n",
       "    <tr>\n",
       "      <th>2013-01-01</th>\n",
       "      <td>-0.892160</td>\n",
       "      <td>0.154374</td>\n",
       "      <td>2.121266</td>\n",
       "      <td>-0.246541</td>\n",
       "      <td>NaN</td>\n",
       "    </tr>\n",
       "    <tr>\n",
       "      <th>2013-01-02</th>\n",
       "      <td>1.320968</td>\n",
       "      <td>-0.194768</td>\n",
       "      <td>-0.749169</td>\n",
       "      <td>-1.490745</td>\n",
       "      <td>1.0</td>\n",
       "    </tr>\n",
       "    <tr>\n",
       "      <th>2013-01-03</th>\n",
       "      <td>0.368814</td>\n",
       "      <td>-1.181423</td>\n",
       "      <td>0.344051</td>\n",
       "      <td>-0.772633</td>\n",
       "      <td>2.0</td>\n",
       "    </tr>\n",
       "    <tr>\n",
       "      <th>2013-01-04</th>\n",
       "      <td>0.284433</td>\n",
       "      <td>-0.731625</td>\n",
       "      <td>0.470674</td>\n",
       "      <td>-1.167195</td>\n",
       "      <td>3.0</td>\n",
       "    </tr>\n",
       "    <tr>\n",
       "      <th>2013-01-05</th>\n",
       "      <td>-1.146946</td>\n",
       "      <td>-0.358999</td>\n",
       "      <td>0.862938</td>\n",
       "      <td>1.067858</td>\n",
       "      <td>4.0</td>\n",
       "    </tr>\n",
       "    <tr>\n",
       "      <th>2013-01-06</th>\n",
       "      <td>0.396533</td>\n",
       "      <td>-0.523720</td>\n",
       "      <td>0.382615</td>\n",
       "      <td>0.562757</td>\n",
       "      <td>5.0</td>\n",
       "    </tr>\n",
       "  </tbody>\n",
       "</table>\n",
       "</div>"
      ],
      "text/plain": [
       "                   A         B         C         D    F\n",
       "2013-01-01 -0.892160  0.154374  2.121266 -0.246541  NaN\n",
       "2013-01-02  1.320968 -0.194768 -0.749169 -1.490745  1.0\n",
       "2013-01-03  0.368814 -1.181423  0.344051 -0.772633  2.0\n",
       "2013-01-04  0.284433 -0.731625  0.470674 -1.167195  3.0\n",
       "2013-01-05 -1.146946 -0.358999  0.862938  1.067858  4.0\n",
       "2013-01-06  0.396533 -0.523720  0.382615  0.562757  5.0"
      ]
     },
     "execution_count": 99,
     "metadata": {},
     "output_type": "execute_result"
    }
   ],
   "source": [
    "df\n"
   ]
  },
  {
   "cell_type": "code",
   "execution_count": 100,
   "metadata": {
    "collapsed": true
   },
   "outputs": [],
   "source": [
    "# Setting values by label\n",
    "\n",
    "df.at[dates[0],'A'] =0"
   ]
  },
  {
   "cell_type": "code",
   "execution_count": 101,
   "metadata": {},
   "outputs": [
    {
     "data": {
      "text/html": [
       "<div>\n",
       "<style scoped>\n",
       "    .dataframe tbody tr th:only-of-type {\n",
       "        vertical-align: middle;\n",
       "    }\n",
       "\n",
       "    .dataframe tbody tr th {\n",
       "        vertical-align: top;\n",
       "    }\n",
       "\n",
       "    .dataframe thead th {\n",
       "        text-align: right;\n",
       "    }\n",
       "</style>\n",
       "<table border=\"1\" class=\"dataframe\">\n",
       "  <thead>\n",
       "    <tr style=\"text-align: right;\">\n",
       "      <th></th>\n",
       "      <th>A</th>\n",
       "      <th>B</th>\n",
       "      <th>C</th>\n",
       "      <th>D</th>\n",
       "      <th>F</th>\n",
       "    </tr>\n",
       "  </thead>\n",
       "  <tbody>\n",
       "    <tr>\n",
       "      <th>2013-01-01</th>\n",
       "      <td>0.000000</td>\n",
       "      <td>0.154374</td>\n",
       "      <td>2.121266</td>\n",
       "      <td>-0.246541</td>\n",
       "      <td>NaN</td>\n",
       "    </tr>\n",
       "    <tr>\n",
       "      <th>2013-01-02</th>\n",
       "      <td>1.320968</td>\n",
       "      <td>-0.194768</td>\n",
       "      <td>-0.749169</td>\n",
       "      <td>-1.490745</td>\n",
       "      <td>1.0</td>\n",
       "    </tr>\n",
       "    <tr>\n",
       "      <th>2013-01-03</th>\n",
       "      <td>0.368814</td>\n",
       "      <td>-1.181423</td>\n",
       "      <td>0.344051</td>\n",
       "      <td>-0.772633</td>\n",
       "      <td>2.0</td>\n",
       "    </tr>\n",
       "    <tr>\n",
       "      <th>2013-01-04</th>\n",
       "      <td>0.284433</td>\n",
       "      <td>-0.731625</td>\n",
       "      <td>0.470674</td>\n",
       "      <td>-1.167195</td>\n",
       "      <td>3.0</td>\n",
       "    </tr>\n",
       "    <tr>\n",
       "      <th>2013-01-05</th>\n",
       "      <td>-1.146946</td>\n",
       "      <td>-0.358999</td>\n",
       "      <td>0.862938</td>\n",
       "      <td>1.067858</td>\n",
       "      <td>4.0</td>\n",
       "    </tr>\n",
       "    <tr>\n",
       "      <th>2013-01-06</th>\n",
       "      <td>0.396533</td>\n",
       "      <td>-0.523720</td>\n",
       "      <td>0.382615</td>\n",
       "      <td>0.562757</td>\n",
       "      <td>5.0</td>\n",
       "    </tr>\n",
       "  </tbody>\n",
       "</table>\n",
       "</div>"
      ],
      "text/plain": [
       "                   A         B         C         D    F\n",
       "2013-01-01  0.000000  0.154374  2.121266 -0.246541  NaN\n",
       "2013-01-02  1.320968 -0.194768 -0.749169 -1.490745  1.0\n",
       "2013-01-03  0.368814 -1.181423  0.344051 -0.772633  2.0\n",
       "2013-01-04  0.284433 -0.731625  0.470674 -1.167195  3.0\n",
       "2013-01-05 -1.146946 -0.358999  0.862938  1.067858  4.0\n",
       "2013-01-06  0.396533 -0.523720  0.382615  0.562757  5.0"
      ]
     },
     "execution_count": 101,
     "metadata": {},
     "output_type": "execute_result"
    }
   ],
   "source": [
    "df"
   ]
  },
  {
   "cell_type": "code",
   "execution_count": 102,
   "metadata": {
    "collapsed": true
   },
   "outputs": [],
   "source": [
    "#Setting values by position\n",
    "df.iat[0,2] = 0"
   ]
  },
  {
   "cell_type": "code",
   "execution_count": 103,
   "metadata": {},
   "outputs": [
    {
     "data": {
      "text/html": [
       "<div>\n",
       "<style scoped>\n",
       "    .dataframe tbody tr th:only-of-type {\n",
       "        vertical-align: middle;\n",
       "    }\n",
       "\n",
       "    .dataframe tbody tr th {\n",
       "        vertical-align: top;\n",
       "    }\n",
       "\n",
       "    .dataframe thead th {\n",
       "        text-align: right;\n",
       "    }\n",
       "</style>\n",
       "<table border=\"1\" class=\"dataframe\">\n",
       "  <thead>\n",
       "    <tr style=\"text-align: right;\">\n",
       "      <th></th>\n",
       "      <th>A</th>\n",
       "      <th>B</th>\n",
       "      <th>C</th>\n",
       "      <th>D</th>\n",
       "      <th>F</th>\n",
       "    </tr>\n",
       "  </thead>\n",
       "  <tbody>\n",
       "    <tr>\n",
       "      <th>2013-01-01</th>\n",
       "      <td>0.000000</td>\n",
       "      <td>0.154374</td>\n",
       "      <td>0.000000</td>\n",
       "      <td>-0.246541</td>\n",
       "      <td>NaN</td>\n",
       "    </tr>\n",
       "    <tr>\n",
       "      <th>2013-01-02</th>\n",
       "      <td>1.320968</td>\n",
       "      <td>-0.194768</td>\n",
       "      <td>-0.749169</td>\n",
       "      <td>-1.490745</td>\n",
       "      <td>1.0</td>\n",
       "    </tr>\n",
       "    <tr>\n",
       "      <th>2013-01-03</th>\n",
       "      <td>0.368814</td>\n",
       "      <td>-1.181423</td>\n",
       "      <td>0.344051</td>\n",
       "      <td>-0.772633</td>\n",
       "      <td>2.0</td>\n",
       "    </tr>\n",
       "    <tr>\n",
       "      <th>2013-01-04</th>\n",
       "      <td>0.284433</td>\n",
       "      <td>-0.731625</td>\n",
       "      <td>0.470674</td>\n",
       "      <td>-1.167195</td>\n",
       "      <td>3.0</td>\n",
       "    </tr>\n",
       "    <tr>\n",
       "      <th>2013-01-05</th>\n",
       "      <td>-1.146946</td>\n",
       "      <td>-0.358999</td>\n",
       "      <td>0.862938</td>\n",
       "      <td>1.067858</td>\n",
       "      <td>4.0</td>\n",
       "    </tr>\n",
       "    <tr>\n",
       "      <th>2013-01-06</th>\n",
       "      <td>0.396533</td>\n",
       "      <td>-0.523720</td>\n",
       "      <td>0.382615</td>\n",
       "      <td>0.562757</td>\n",
       "      <td>5.0</td>\n",
       "    </tr>\n",
       "  </tbody>\n",
       "</table>\n",
       "</div>"
      ],
      "text/plain": [
       "                   A         B         C         D    F\n",
       "2013-01-01  0.000000  0.154374  0.000000 -0.246541  NaN\n",
       "2013-01-02  1.320968 -0.194768 -0.749169 -1.490745  1.0\n",
       "2013-01-03  0.368814 -1.181423  0.344051 -0.772633  2.0\n",
       "2013-01-04  0.284433 -0.731625  0.470674 -1.167195  3.0\n",
       "2013-01-05 -1.146946 -0.358999  0.862938  1.067858  4.0\n",
       "2013-01-06  0.396533 -0.523720  0.382615  0.562757  5.0"
      ]
     },
     "execution_count": 103,
     "metadata": {},
     "output_type": "execute_result"
    }
   ],
   "source": [
    "df\n"
   ]
  },
  {
   "cell_type": "code",
   "execution_count": 105,
   "metadata": {
    "collapsed": true
   },
   "outputs": [],
   "source": [
    "#Setting by assigning with a numpy array\n",
    "\n",
    "df.loc[:,'D'] = np.array([5]*len(df))"
   ]
  },
  {
   "cell_type": "code",
   "execution_count": 106,
   "metadata": {},
   "outputs": [
    {
     "data": {
      "text/html": [
       "<div>\n",
       "<style scoped>\n",
       "    .dataframe tbody tr th:only-of-type {\n",
       "        vertical-align: middle;\n",
       "    }\n",
       "\n",
       "    .dataframe tbody tr th {\n",
       "        vertical-align: top;\n",
       "    }\n",
       "\n",
       "    .dataframe thead th {\n",
       "        text-align: right;\n",
       "    }\n",
       "</style>\n",
       "<table border=\"1\" class=\"dataframe\">\n",
       "  <thead>\n",
       "    <tr style=\"text-align: right;\">\n",
       "      <th></th>\n",
       "      <th>A</th>\n",
       "      <th>B</th>\n",
       "      <th>C</th>\n",
       "      <th>D</th>\n",
       "      <th>F</th>\n",
       "    </tr>\n",
       "  </thead>\n",
       "  <tbody>\n",
       "    <tr>\n",
       "      <th>2013-01-01</th>\n",
       "      <td>0.000000</td>\n",
       "      <td>0.154374</td>\n",
       "      <td>0.000000</td>\n",
       "      <td>5</td>\n",
       "      <td>NaN</td>\n",
       "    </tr>\n",
       "    <tr>\n",
       "      <th>2013-01-02</th>\n",
       "      <td>1.320968</td>\n",
       "      <td>-0.194768</td>\n",
       "      <td>-0.749169</td>\n",
       "      <td>5</td>\n",
       "      <td>1.0</td>\n",
       "    </tr>\n",
       "    <tr>\n",
       "      <th>2013-01-03</th>\n",
       "      <td>0.368814</td>\n",
       "      <td>-1.181423</td>\n",
       "      <td>0.344051</td>\n",
       "      <td>5</td>\n",
       "      <td>2.0</td>\n",
       "    </tr>\n",
       "    <tr>\n",
       "      <th>2013-01-04</th>\n",
       "      <td>0.284433</td>\n",
       "      <td>-0.731625</td>\n",
       "      <td>0.470674</td>\n",
       "      <td>5</td>\n",
       "      <td>3.0</td>\n",
       "    </tr>\n",
       "    <tr>\n",
       "      <th>2013-01-05</th>\n",
       "      <td>-1.146946</td>\n",
       "      <td>-0.358999</td>\n",
       "      <td>0.862938</td>\n",
       "      <td>5</td>\n",
       "      <td>4.0</td>\n",
       "    </tr>\n",
       "    <tr>\n",
       "      <th>2013-01-06</th>\n",
       "      <td>0.396533</td>\n",
       "      <td>-0.523720</td>\n",
       "      <td>0.382615</td>\n",
       "      <td>5</td>\n",
       "      <td>5.0</td>\n",
       "    </tr>\n",
       "  </tbody>\n",
       "</table>\n",
       "</div>"
      ],
      "text/plain": [
       "                   A         B         C  D    F\n",
       "2013-01-01  0.000000  0.154374  0.000000  5  NaN\n",
       "2013-01-02  1.320968 -0.194768 -0.749169  5  1.0\n",
       "2013-01-03  0.368814 -1.181423  0.344051  5  2.0\n",
       "2013-01-04  0.284433 -0.731625  0.470674  5  3.0\n",
       "2013-01-05 -1.146946 -0.358999  0.862938  5  4.0\n",
       "2013-01-06  0.396533 -0.523720  0.382615  5  5.0"
      ]
     },
     "execution_count": 106,
     "metadata": {},
     "output_type": "execute_result"
    }
   ],
   "source": [
    "df"
   ]
  },
  {
   "cell_type": "code",
   "execution_count": null,
   "metadata": {
    "collapsed": true
   },
   "outputs": [],
   "source": []
  },
  {
   "cell_type": "code",
   "execution_count": null,
   "metadata": {
    "collapsed": true
   },
   "outputs": [],
   "source": []
  },
  {
   "cell_type": "code",
   "execution_count": 107,
   "metadata": {
    "collapsed": true
   },
   "outputs": [],
   "source": [
    "df2 = df.copy\n"
   ]
  },
  {
   "cell_type": "code",
   "execution_count": 108,
   "metadata": {},
   "outputs": [
    {
     "data": {
      "text/plain": [
       "<bound method NDFrame.copy of                    A         B         C  D    F\n",
       "2013-01-01  0.000000  0.154374  0.000000  5  NaN\n",
       "2013-01-02  1.320968 -0.194768 -0.749169  5  1.0\n",
       "2013-01-03  0.368814 -1.181423  0.344051  5  2.0\n",
       "2013-01-04  0.284433 -0.731625  0.470674  5  3.0\n",
       "2013-01-05 -1.146946 -0.358999  0.862938  5  4.0\n",
       "2013-01-06  0.396533 -0.523720  0.382615  5  5.0>"
      ]
     },
     "execution_count": 108,
     "metadata": {},
     "output_type": "execute_result"
    }
   ],
   "source": [
    "df2\n"
   ]
  },
  {
   "cell_type": "code",
   "execution_count": null,
   "metadata": {
    "collapsed": true
   },
   "outputs": [],
   "source": []
  },
  {
   "cell_type": "code",
   "execution_count": 113,
   "metadata": {},
   "outputs": [
    {
     "ename": "TypeError",
     "evalue": "unorderable types: method() > int()",
     "output_type": "error",
     "traceback": [
      "\u001b[0;31m---------------------------------------------------------------------------\u001b[0m",
      "\u001b[0;31mTypeError\u001b[0m                                 Traceback (most recent call last)",
      "\u001b[0;32m<ipython-input-113-781e3cf1c3d7>\u001b[0m in \u001b[0;36m<module>\u001b[0;34m()\u001b[0m\n\u001b[0;32m----> 1\u001b[0;31m \u001b[0mdf2\u001b[0m\u001b[0;34m[\u001b[0m\u001b[0mdf2\u001b[0m \u001b[0;34m>\u001b[0m \u001b[0;36m0\u001b[0m \u001b[0;34m]\u001b[0m\u001b[0;34m\u001b[0m\u001b[0m\n\u001b[0m",
      "\u001b[0;31mTypeError\u001b[0m: unorderable types: method() > int()"
     ]
    }
   ],
   "source": [
    "df2[df2 > 0 ] "
   ]
  },
  {
   "cell_type": "markdown",
   "metadata": {},
   "source": [
    "#### Missing Data\n",
    "\n",
    "pandas primarily uses the value np.nan to represent missing data. It is by default not included in computations.\n",
    "\n",
    "Reindexing allows you to change/add/delete the index on a specified axis. This returns a copy of the data."
   ]
  },
  {
   "cell_type": "code",
   "execution_count": 115,
   "metadata": {
    "collapsed": true
   },
   "outputs": [],
   "source": [
    "df1 = df.reindex(index = dates[0:4], columns= list(df.columns)+['E'])"
   ]
  },
  {
   "cell_type": "code",
   "execution_count": 118,
   "metadata": {},
   "outputs": [
    {
     "data": {
      "text/html": [
       "<div>\n",
       "<style scoped>\n",
       "    .dataframe tbody tr th:only-of-type {\n",
       "        vertical-align: middle;\n",
       "    }\n",
       "\n",
       "    .dataframe tbody tr th {\n",
       "        vertical-align: top;\n",
       "    }\n",
       "\n",
       "    .dataframe thead th {\n",
       "        text-align: right;\n",
       "    }\n",
       "</style>\n",
       "<table border=\"1\" class=\"dataframe\">\n",
       "  <thead>\n",
       "    <tr style=\"text-align: right;\">\n",
       "      <th></th>\n",
       "      <th>A</th>\n",
       "      <th>B</th>\n",
       "      <th>C</th>\n",
       "      <th>D</th>\n",
       "      <th>F</th>\n",
       "      <th>E</th>\n",
       "    </tr>\n",
       "  </thead>\n",
       "  <tbody>\n",
       "    <tr>\n",
       "      <th>2013-01-01</th>\n",
       "      <td>0.000000</td>\n",
       "      <td>0.154374</td>\n",
       "      <td>0.000000</td>\n",
       "      <td>5</td>\n",
       "      <td>NaN</td>\n",
       "      <td>1.0</td>\n",
       "    </tr>\n",
       "    <tr>\n",
       "      <th>2013-01-02</th>\n",
       "      <td>1.320968</td>\n",
       "      <td>-0.194768</td>\n",
       "      <td>-0.749169</td>\n",
       "      <td>5</td>\n",
       "      <td>1.0</td>\n",
       "      <td>1.0</td>\n",
       "    </tr>\n",
       "    <tr>\n",
       "      <th>2013-01-03</th>\n",
       "      <td>0.368814</td>\n",
       "      <td>-1.181423</td>\n",
       "      <td>0.344051</td>\n",
       "      <td>5</td>\n",
       "      <td>2.0</td>\n",
       "      <td>NaN</td>\n",
       "    </tr>\n",
       "    <tr>\n",
       "      <th>2013-01-04</th>\n",
       "      <td>0.284433</td>\n",
       "      <td>-0.731625</td>\n",
       "      <td>0.470674</td>\n",
       "      <td>5</td>\n",
       "      <td>3.0</td>\n",
       "      <td>NaN</td>\n",
       "    </tr>\n",
       "  </tbody>\n",
       "</table>\n",
       "</div>"
      ],
      "text/plain": [
       "                   A         B         C  D    F    E\n",
       "2013-01-01  0.000000  0.154374  0.000000  5  NaN  1.0\n",
       "2013-01-02  1.320968 -0.194768 -0.749169  5  1.0  1.0\n",
       "2013-01-03  0.368814 -1.181423  0.344051  5  2.0  NaN\n",
       "2013-01-04  0.284433 -0.731625  0.470674  5  3.0  NaN"
      ]
     },
     "execution_count": 118,
     "metadata": {},
     "output_type": "execute_result"
    }
   ],
   "source": [
    "df1\n",
    "df1.loc[dates[0]:dates[1],'E'] = 1\n",
    "df1"
   ]
  },
  {
   "cell_type": "code",
   "execution_count": 119,
   "metadata": {},
   "outputs": [
    {
     "data": {
      "text/html": [
       "<div>\n",
       "<style scoped>\n",
       "    .dataframe tbody tr th:only-of-type {\n",
       "        vertical-align: middle;\n",
       "    }\n",
       "\n",
       "    .dataframe tbody tr th {\n",
       "        vertical-align: top;\n",
       "    }\n",
       "\n",
       "    .dataframe thead th {\n",
       "        text-align: right;\n",
       "    }\n",
       "</style>\n",
       "<table border=\"1\" class=\"dataframe\">\n",
       "  <thead>\n",
       "    <tr style=\"text-align: right;\">\n",
       "      <th></th>\n",
       "      <th>A</th>\n",
       "      <th>B</th>\n",
       "      <th>C</th>\n",
       "      <th>D</th>\n",
       "      <th>F</th>\n",
       "      <th>E</th>\n",
       "    </tr>\n",
       "  </thead>\n",
       "  <tbody>\n",
       "    <tr>\n",
       "      <th>2013-01-02</th>\n",
       "      <td>1.320968</td>\n",
       "      <td>-0.194768</td>\n",
       "      <td>-0.749169</td>\n",
       "      <td>5</td>\n",
       "      <td>1.0</td>\n",
       "      <td>1.0</td>\n",
       "    </tr>\n",
       "  </tbody>\n",
       "</table>\n",
       "</div>"
      ],
      "text/plain": [
       "                   A         B         C  D    F    E\n",
       "2013-01-02  1.320968 -0.194768 -0.749169  5  1.0  1.0"
      ]
     },
     "execution_count": 119,
     "metadata": {},
     "output_type": "execute_result"
    }
   ],
   "source": [
    "# To drop any rows that have missing data.\n",
    "df1.dropna(how = 'any')"
   ]
  },
  {
   "cell_type": "code",
   "execution_count": 121,
   "metadata": {},
   "outputs": [
    {
     "data": {
      "text/html": [
       "<div>\n",
       "<style scoped>\n",
       "    .dataframe tbody tr th:only-of-type {\n",
       "        vertical-align: middle;\n",
       "    }\n",
       "\n",
       "    .dataframe tbody tr th {\n",
       "        vertical-align: top;\n",
       "    }\n",
       "\n",
       "    .dataframe thead th {\n",
       "        text-align: right;\n",
       "    }\n",
       "</style>\n",
       "<table border=\"1\" class=\"dataframe\">\n",
       "  <thead>\n",
       "    <tr style=\"text-align: right;\">\n",
       "      <th></th>\n",
       "      <th>A</th>\n",
       "      <th>B</th>\n",
       "      <th>C</th>\n",
       "      <th>D</th>\n",
       "      <th>F</th>\n",
       "      <th>E</th>\n",
       "    </tr>\n",
       "  </thead>\n",
       "  <tbody>\n",
       "    <tr>\n",
       "      <th>2013-01-01</th>\n",
       "      <td>0.000000</td>\n",
       "      <td>0.154374</td>\n",
       "      <td>0.000000</td>\n",
       "      <td>5</td>\n",
       "      <td>5.0</td>\n",
       "      <td>1.0</td>\n",
       "    </tr>\n",
       "    <tr>\n",
       "      <th>2013-01-02</th>\n",
       "      <td>1.320968</td>\n",
       "      <td>-0.194768</td>\n",
       "      <td>-0.749169</td>\n",
       "      <td>5</td>\n",
       "      <td>1.0</td>\n",
       "      <td>1.0</td>\n",
       "    </tr>\n",
       "    <tr>\n",
       "      <th>2013-01-03</th>\n",
       "      <td>0.368814</td>\n",
       "      <td>-1.181423</td>\n",
       "      <td>0.344051</td>\n",
       "      <td>5</td>\n",
       "      <td>2.0</td>\n",
       "      <td>5.0</td>\n",
       "    </tr>\n",
       "    <tr>\n",
       "      <th>2013-01-04</th>\n",
       "      <td>0.284433</td>\n",
       "      <td>-0.731625</td>\n",
       "      <td>0.470674</td>\n",
       "      <td>5</td>\n",
       "      <td>3.0</td>\n",
       "      <td>5.0</td>\n",
       "    </tr>\n",
       "  </tbody>\n",
       "</table>\n",
       "</div>"
      ],
      "text/plain": [
       "                   A         B         C  D    F    E\n",
       "2013-01-01  0.000000  0.154374  0.000000  5  5.0  1.0\n",
       "2013-01-02  1.320968 -0.194768 -0.749169  5  1.0  1.0\n",
       "2013-01-03  0.368814 -1.181423  0.344051  5  2.0  5.0\n",
       "2013-01-04  0.284433 -0.731625  0.470674  5  3.0  5.0"
      ]
     },
     "execution_count": 121,
     "metadata": {},
     "output_type": "execute_result"
    }
   ],
   "source": [
    "df1.fillna(value=5)"
   ]
  },
  {
   "cell_type": "code",
   "execution_count": 122,
   "metadata": {},
   "outputs": [
    {
     "data": {
      "text/html": [
       "<div>\n",
       "<style scoped>\n",
       "    .dataframe tbody tr th:only-of-type {\n",
       "        vertical-align: middle;\n",
       "    }\n",
       "\n",
       "    .dataframe tbody tr th {\n",
       "        vertical-align: top;\n",
       "    }\n",
       "\n",
       "    .dataframe thead th {\n",
       "        text-align: right;\n",
       "    }\n",
       "</style>\n",
       "<table border=\"1\" class=\"dataframe\">\n",
       "  <thead>\n",
       "    <tr style=\"text-align: right;\">\n",
       "      <th></th>\n",
       "      <th>A</th>\n",
       "      <th>B</th>\n",
       "      <th>C</th>\n",
       "      <th>D</th>\n",
       "      <th>F</th>\n",
       "      <th>E</th>\n",
       "    </tr>\n",
       "  </thead>\n",
       "  <tbody>\n",
       "    <tr>\n",
       "      <th>2013-01-02</th>\n",
       "      <td>1.320968</td>\n",
       "      <td>-0.194768</td>\n",
       "      <td>-0.749169</td>\n",
       "      <td>5</td>\n",
       "      <td>1.0</td>\n",
       "      <td>1.0</td>\n",
       "    </tr>\n",
       "  </tbody>\n",
       "</table>\n",
       "</div>"
      ],
      "text/plain": [
       "                   A         B         C  D    F    E\n",
       "2013-01-02  1.320968 -0.194768 -0.749169  5  1.0  1.0"
      ]
     },
     "execution_count": 122,
     "metadata": {},
     "output_type": "execute_result"
    }
   ],
   "source": [
    "df1.dropna(how = 'any')"
   ]
  },
  {
   "cell_type": "code",
   "execution_count": 123,
   "metadata": {},
   "outputs": [
    {
     "data": {
      "text/html": [
       "<div>\n",
       "<style scoped>\n",
       "    .dataframe tbody tr th:only-of-type {\n",
       "        vertical-align: middle;\n",
       "    }\n",
       "\n",
       "    .dataframe tbody tr th {\n",
       "        vertical-align: top;\n",
       "    }\n",
       "\n",
       "    .dataframe thead th {\n",
       "        text-align: right;\n",
       "    }\n",
       "</style>\n",
       "<table border=\"1\" class=\"dataframe\">\n",
       "  <thead>\n",
       "    <tr style=\"text-align: right;\">\n",
       "      <th></th>\n",
       "      <th>A</th>\n",
       "      <th>B</th>\n",
       "      <th>C</th>\n",
       "      <th>D</th>\n",
       "      <th>F</th>\n",
       "      <th>E</th>\n",
       "    </tr>\n",
       "  </thead>\n",
       "  <tbody>\n",
       "    <tr>\n",
       "      <th>2013-01-01</th>\n",
       "      <td>False</td>\n",
       "      <td>False</td>\n",
       "      <td>False</td>\n",
       "      <td>False</td>\n",
       "      <td>True</td>\n",
       "      <td>False</td>\n",
       "    </tr>\n",
       "    <tr>\n",
       "      <th>2013-01-02</th>\n",
       "      <td>False</td>\n",
       "      <td>False</td>\n",
       "      <td>False</td>\n",
       "      <td>False</td>\n",
       "      <td>False</td>\n",
       "      <td>False</td>\n",
       "    </tr>\n",
       "    <tr>\n",
       "      <th>2013-01-03</th>\n",
       "      <td>False</td>\n",
       "      <td>False</td>\n",
       "      <td>False</td>\n",
       "      <td>False</td>\n",
       "      <td>False</td>\n",
       "      <td>True</td>\n",
       "    </tr>\n",
       "    <tr>\n",
       "      <th>2013-01-04</th>\n",
       "      <td>False</td>\n",
       "      <td>False</td>\n",
       "      <td>False</td>\n",
       "      <td>False</td>\n",
       "      <td>False</td>\n",
       "      <td>True</td>\n",
       "    </tr>\n",
       "  </tbody>\n",
       "</table>\n",
       "</div>"
      ],
      "text/plain": [
       "                A      B      C      D      F      E\n",
       "2013-01-01  False  False  False  False   True  False\n",
       "2013-01-02  False  False  False  False  False  False\n",
       "2013-01-03  False  False  False  False  False   True\n",
       "2013-01-04  False  False  False  False  False   True"
      ]
     },
     "execution_count": 123,
     "metadata": {},
     "output_type": "execute_result"
    }
   ],
   "source": [
    "# To get the boolean mask where values are nan\n",
    "\n",
    "pd.isnull(df1)"
   ]
  },
  {
   "cell_type": "markdown",
   "metadata": {},
   "source": [
    "#### Operations \n",
    "Operations in general exclude missing data. \n",
    "\n",
    "Performing a descriptive statistic"
   ]
  },
  {
   "cell_type": "code",
   "execution_count": 124,
   "metadata": {},
   "outputs": [
    {
     "data": {
      "text/plain": [
       "A    0.203967\n",
       "B   -0.472693\n",
       "C    0.218518\n",
       "D    5.000000\n",
       "F    3.000000\n",
       "dtype: float64"
      ]
     },
     "execution_count": 124,
     "metadata": {},
     "output_type": "execute_result"
    }
   ],
   "source": [
    "df.mean()"
   ]
  },
  {
   "cell_type": "code",
   "execution_count": 125,
   "metadata": {},
   "outputs": [
    {
     "data": {
      "text/plain": [
       "2013-01-01    1.288594\n",
       "2013-01-02    1.275406\n",
       "2013-01-03    1.306288\n",
       "2013-01-04    1.604696\n",
       "2013-01-05    1.671399\n",
       "2013-01-06    2.051086\n",
       "Freq: D, dtype: float64"
      ]
     },
     "execution_count": 125,
     "metadata": {},
     "output_type": "execute_result"
    }
   ],
   "source": [
    "# Same operation on the other axis\n",
    "\n",
    "df.mean(1)"
   ]
  },
  {
   "cell_type": "markdown",
   "metadata": {},
   "source": [
    "Operating with objects that have different dimensionality and need alignment. In addition, pandas automatically broadcasts along the specified dimension."
   ]
  },
  {
   "cell_type": "code",
   "execution_count": 134,
   "metadata": {},
   "outputs": [
    {
     "data": {
      "text/plain": [
       "2013-01-01    1.0\n",
       "2013-01-02    3.0\n",
       "2013-01-03    5.0\n",
       "2013-01-04    NaN\n",
       "2013-01-05    6.0\n",
       "2013-01-06    8.0\n",
       "Freq: D, dtype: float64"
      ]
     },
     "execution_count": 134,
     "metadata": {},
     "output_type": "execute_result"
    }
   ],
   "source": [
    "s = pd.Series([1,3,5,np.nan,6,8], index=dates)\n",
    "s"
   ]
  },
  {
   "cell_type": "code",
   "execution_count": 135,
   "metadata": {},
   "outputs": [
    {
     "data": {
      "text/plain": [
       "2013-01-01    NaN\n",
       "2013-01-02    NaN\n",
       "2013-01-03    1.0\n",
       "2013-01-04    3.0\n",
       "2013-01-05    5.0\n",
       "2013-01-06    NaN\n",
       "Freq: D, dtype: float64"
      ]
     },
     "execution_count": 135,
     "metadata": {},
     "output_type": "execute_result"
    }
   ],
   "source": [
    "s= s.shift(2)\n",
    "s"
   ]
  },
  {
   "cell_type": "code",
   "execution_count": 129,
   "metadata": {},
   "outputs": [
    {
     "name": "stdout",
     "output_type": "stream",
     "text": [
      "Help on method sub in module pandas.core.ops:\n",
      "\n",
      "sub(other, axis='columns', level=None, fill_value=None) method of pandas.core.frame.DataFrame instance\n",
      "    Subtraction of dataframe and other, element-wise (binary operator `sub`).\n",
      "    \n",
      "    Equivalent to ``dataframe - other``, but with support to substitute a fill_value for\n",
      "    missing data in one of the inputs.\n",
      "    \n",
      "    Parameters\n",
      "    ----------\n",
      "    other : Series, DataFrame, or constant\n",
      "    axis : {0, 1, 'index', 'columns'}\n",
      "        For Series input, axis to match Series index on\n",
      "    level : int or name\n",
      "        Broadcast across a level, matching Index values on the\n",
      "        passed MultiIndex level\n",
      "    fill_value : None or float value, default None\n",
      "        Fill existing missing (NaN) values, and any new element needed for\n",
      "        successful DataFrame alignment, with this value before computation.\n",
      "        If data in both corresponding DataFrame locations is missing\n",
      "        the result will be missing\n",
      "    \n",
      "    Notes\n",
      "    -----\n",
      "    Mismatched indices will be unioned together\n",
      "    \n",
      "    Returns\n",
      "    -------\n",
      "    result : DataFrame\n",
      "    \n",
      "    Examples\n",
      "    --------\n",
      "    \n",
      "    >>> a = pd.DataFrame([2, 1, 1, np.nan], index=['a', 'b', 'c', 'd'],\n",
      "    ...                  columns=['one'])\n",
      "    >>> a\n",
      "       one\n",
      "    a  2.0\n",
      "    b  1.0\n",
      "    c  1.0\n",
      "    d  NaN\n",
      "    >>> b = pd.DataFrame(dict(one=[1, np.nan, 1, np.nan],\n",
      "    ...                       two=[3, 2, np.nan, 2]),\n",
      "    ...                  index=['a', 'b', 'd', 'e'])\n",
      "    >>> b\n",
      "       one  two\n",
      "    a  1.0  3.0\n",
      "    b  NaN  2.0\n",
      "    d  1.0  NaN\n",
      "    e  NaN  2.0\n",
      "    >>> a.sub(b, fill_value=0)\n",
      "       one  two\n",
      "    a  1.0  -3.0\n",
      "    b  1.0  -2.0\n",
      "    c  1.0  NaN\n",
      "    d  -1.0  NaN\n",
      "    e  NaN  -2.0\n",
      "    \n",
      "    \n",
      "    See also\n",
      "    --------\n",
      "    DataFrame.rsub\n",
      "\n"
     ]
    }
   ],
   "source": [
    "help(df.sub)"
   ]
  },
  {
   "cell_type": "code",
   "execution_count": 137,
   "metadata": {},
   "outputs": [
    {
     "data": {
      "text/html": [
       "<div>\n",
       "<style scoped>\n",
       "    .dataframe tbody tr th:only-of-type {\n",
       "        vertical-align: middle;\n",
       "    }\n",
       "\n",
       "    .dataframe tbody tr th {\n",
       "        vertical-align: top;\n",
       "    }\n",
       "\n",
       "    .dataframe thead th {\n",
       "        text-align: right;\n",
       "    }\n",
       "</style>\n",
       "<table border=\"1\" class=\"dataframe\">\n",
       "  <thead>\n",
       "    <tr style=\"text-align: right;\">\n",
       "      <th></th>\n",
       "      <th>A</th>\n",
       "      <th>B</th>\n",
       "      <th>C</th>\n",
       "      <th>D</th>\n",
       "      <th>F</th>\n",
       "    </tr>\n",
       "  </thead>\n",
       "  <tbody>\n",
       "    <tr>\n",
       "      <th>2013-01-01</th>\n",
       "      <td>0.000000</td>\n",
       "      <td>0.154374</td>\n",
       "      <td>0.000000</td>\n",
       "      <td>5</td>\n",
       "      <td>NaN</td>\n",
       "    </tr>\n",
       "    <tr>\n",
       "      <th>2013-01-02</th>\n",
       "      <td>1.320968</td>\n",
       "      <td>-0.194768</td>\n",
       "      <td>-0.749169</td>\n",
       "      <td>5</td>\n",
       "      <td>1.0</td>\n",
       "    </tr>\n",
       "    <tr>\n",
       "      <th>2013-01-03</th>\n",
       "      <td>0.368814</td>\n",
       "      <td>-1.181423</td>\n",
       "      <td>0.344051</td>\n",
       "      <td>5</td>\n",
       "      <td>2.0</td>\n",
       "    </tr>\n",
       "    <tr>\n",
       "      <th>2013-01-04</th>\n",
       "      <td>0.284433</td>\n",
       "      <td>-0.731625</td>\n",
       "      <td>0.470674</td>\n",
       "      <td>5</td>\n",
       "      <td>3.0</td>\n",
       "    </tr>\n",
       "    <tr>\n",
       "      <th>2013-01-05</th>\n",
       "      <td>-1.146946</td>\n",
       "      <td>-0.358999</td>\n",
       "      <td>0.862938</td>\n",
       "      <td>5</td>\n",
       "      <td>4.0</td>\n",
       "    </tr>\n",
       "    <tr>\n",
       "      <th>2013-01-06</th>\n",
       "      <td>0.396533</td>\n",
       "      <td>-0.523720</td>\n",
       "      <td>0.382615</td>\n",
       "      <td>5</td>\n",
       "      <td>5.0</td>\n",
       "    </tr>\n",
       "  </tbody>\n",
       "</table>\n",
       "</div>"
      ],
      "text/plain": [
       "                   A         B         C  D    F\n",
       "2013-01-01  0.000000  0.154374  0.000000  5  NaN\n",
       "2013-01-02  1.320968 -0.194768 -0.749169  5  1.0\n",
       "2013-01-03  0.368814 -1.181423  0.344051  5  2.0\n",
       "2013-01-04  0.284433 -0.731625  0.470674  5  3.0\n",
       "2013-01-05 -1.146946 -0.358999  0.862938  5  4.0\n",
       "2013-01-06  0.396533 -0.523720  0.382615  5  5.0"
      ]
     },
     "execution_count": 137,
     "metadata": {},
     "output_type": "execute_result"
    }
   ],
   "source": [
    "df\n"
   ]
  },
  {
   "cell_type": "code",
   "execution_count": 136,
   "metadata": {},
   "outputs": [
    {
     "data": {
      "text/html": [
       "<div>\n",
       "<style scoped>\n",
       "    .dataframe tbody tr th:only-of-type {\n",
       "        vertical-align: middle;\n",
       "    }\n",
       "\n",
       "    .dataframe tbody tr th {\n",
       "        vertical-align: top;\n",
       "    }\n",
       "\n",
       "    .dataframe thead th {\n",
       "        text-align: right;\n",
       "    }\n",
       "</style>\n",
       "<table border=\"1\" class=\"dataframe\">\n",
       "  <thead>\n",
       "    <tr style=\"text-align: right;\">\n",
       "      <th></th>\n",
       "      <th>A</th>\n",
       "      <th>B</th>\n",
       "      <th>C</th>\n",
       "      <th>D</th>\n",
       "      <th>F</th>\n",
       "    </tr>\n",
       "  </thead>\n",
       "  <tbody>\n",
       "    <tr>\n",
       "      <th>2013-01-01</th>\n",
       "      <td>NaN</td>\n",
       "      <td>NaN</td>\n",
       "      <td>NaN</td>\n",
       "      <td>NaN</td>\n",
       "      <td>NaN</td>\n",
       "    </tr>\n",
       "    <tr>\n",
       "      <th>2013-01-02</th>\n",
       "      <td>NaN</td>\n",
       "      <td>NaN</td>\n",
       "      <td>NaN</td>\n",
       "      <td>NaN</td>\n",
       "      <td>NaN</td>\n",
       "    </tr>\n",
       "    <tr>\n",
       "      <th>2013-01-03</th>\n",
       "      <td>-0.631186</td>\n",
       "      <td>-2.181423</td>\n",
       "      <td>-0.655949</td>\n",
       "      <td>4.0</td>\n",
       "      <td>1.0</td>\n",
       "    </tr>\n",
       "    <tr>\n",
       "      <th>2013-01-04</th>\n",
       "      <td>-2.715567</td>\n",
       "      <td>-3.731625</td>\n",
       "      <td>-2.529326</td>\n",
       "      <td>2.0</td>\n",
       "      <td>0.0</td>\n",
       "    </tr>\n",
       "    <tr>\n",
       "      <th>2013-01-05</th>\n",
       "      <td>-6.146946</td>\n",
       "      <td>-5.358999</td>\n",
       "      <td>-4.137062</td>\n",
       "      <td>0.0</td>\n",
       "      <td>-1.0</td>\n",
       "    </tr>\n",
       "    <tr>\n",
       "      <th>2013-01-06</th>\n",
       "      <td>NaN</td>\n",
       "      <td>NaN</td>\n",
       "      <td>NaN</td>\n",
       "      <td>NaN</td>\n",
       "      <td>NaN</td>\n",
       "    </tr>\n",
       "  </tbody>\n",
       "</table>\n",
       "</div>"
      ],
      "text/plain": [
       "                   A         B         C    D    F\n",
       "2013-01-01       NaN       NaN       NaN  NaN  NaN\n",
       "2013-01-02       NaN       NaN       NaN  NaN  NaN\n",
       "2013-01-03 -0.631186 -2.181423 -0.655949  4.0  1.0\n",
       "2013-01-04 -2.715567 -3.731625 -2.529326  2.0  0.0\n",
       "2013-01-05 -6.146946 -5.358999 -4.137062  0.0 -1.0\n",
       "2013-01-06       NaN       NaN       NaN  NaN  NaN"
      ]
     },
     "execution_count": 136,
     "metadata": {},
     "output_type": "execute_result"
    }
   ],
   "source": [
    "df.sub(s,axis = 'index')"
   ]
  },
  {
   "cell_type": "markdown",
   "metadata": {},
   "source": [
    "#### Apply \n",
    "\n",
    "Applying function to data"
   ]
  },
  {
   "cell_type": "code",
   "execution_count": 138,
   "metadata": {},
   "outputs": [
    {
     "data": {
      "text/html": [
       "<div>\n",
       "<style scoped>\n",
       "    .dataframe tbody tr th:only-of-type {\n",
       "        vertical-align: middle;\n",
       "    }\n",
       "\n",
       "    .dataframe tbody tr th {\n",
       "        vertical-align: top;\n",
       "    }\n",
       "\n",
       "    .dataframe thead th {\n",
       "        text-align: right;\n",
       "    }\n",
       "</style>\n",
       "<table border=\"1\" class=\"dataframe\">\n",
       "  <thead>\n",
       "    <tr style=\"text-align: right;\">\n",
       "      <th></th>\n",
       "      <th>A</th>\n",
       "      <th>B</th>\n",
       "      <th>C</th>\n",
       "      <th>D</th>\n",
       "      <th>F</th>\n",
       "    </tr>\n",
       "  </thead>\n",
       "  <tbody>\n",
       "    <tr>\n",
       "      <th>2013-01-01</th>\n",
       "      <td>0.000000</td>\n",
       "      <td>0.154374</td>\n",
       "      <td>0.000000</td>\n",
       "      <td>5</td>\n",
       "      <td>NaN</td>\n",
       "    </tr>\n",
       "    <tr>\n",
       "      <th>2013-01-02</th>\n",
       "      <td>1.320968</td>\n",
       "      <td>-0.040393</td>\n",
       "      <td>-0.749169</td>\n",
       "      <td>10</td>\n",
       "      <td>1.0</td>\n",
       "    </tr>\n",
       "    <tr>\n",
       "      <th>2013-01-03</th>\n",
       "      <td>1.689781</td>\n",
       "      <td>-1.221817</td>\n",
       "      <td>-0.405118</td>\n",
       "      <td>15</td>\n",
       "      <td>3.0</td>\n",
       "    </tr>\n",
       "    <tr>\n",
       "      <th>2013-01-04</th>\n",
       "      <td>1.974215</td>\n",
       "      <td>-1.953442</td>\n",
       "      <td>0.065555</td>\n",
       "      <td>20</td>\n",
       "      <td>6.0</td>\n",
       "    </tr>\n",
       "    <tr>\n",
       "      <th>2013-01-05</th>\n",
       "      <td>0.827269</td>\n",
       "      <td>-2.312441</td>\n",
       "      <td>0.928494</td>\n",
       "      <td>25</td>\n",
       "      <td>10.0</td>\n",
       "    </tr>\n",
       "    <tr>\n",
       "      <th>2013-01-06</th>\n",
       "      <td>1.223802</td>\n",
       "      <td>-2.836161</td>\n",
       "      <td>1.311109</td>\n",
       "      <td>30</td>\n",
       "      <td>15.0</td>\n",
       "    </tr>\n",
       "  </tbody>\n",
       "</table>\n",
       "</div>"
      ],
      "text/plain": [
       "                   A         B         C   D     F\n",
       "2013-01-01  0.000000  0.154374  0.000000   5   NaN\n",
       "2013-01-02  1.320968 -0.040393 -0.749169  10   1.0\n",
       "2013-01-03  1.689781 -1.221817 -0.405118  15   3.0\n",
       "2013-01-04  1.974215 -1.953442  0.065555  20   6.0\n",
       "2013-01-05  0.827269 -2.312441  0.928494  25  10.0\n",
       "2013-01-06  1.223802 -2.836161  1.311109  30  15.0"
      ]
     },
     "execution_count": 138,
     "metadata": {},
     "output_type": "execute_result"
    }
   ],
   "source": [
    "df.apply(np.cumsum)"
   ]
  },
  {
   "cell_type": "code",
   "execution_count": 140,
   "metadata": {},
   "outputs": [
    {
     "data": {
      "text/plain": [
       "A    2.467914\n",
       "B    1.335798\n",
       "C    1.612108\n",
       "D    0.000000\n",
       "F    4.000000\n",
       "dtype: float64"
      ]
     },
     "execution_count": 140,
     "metadata": {},
     "output_type": "execute_result"
    }
   ],
   "source": [
    "df.apply (lambda x : x.max()-x.min())"
   ]
  },
  {
   "cell_type": "code",
   "execution_count": 141,
   "metadata": {},
   "outputs": [
    {
     "data": {
      "text/plain": [
       "pandas.core.series.Series"
      ]
     },
     "execution_count": 141,
     "metadata": {},
     "output_type": "execute_result"
    }
   ],
   "source": [
    "type(df.apply (lambda x : x.max()-x.min()))"
   ]
  },
  {
   "cell_type": "markdown",
   "metadata": {},
   "source": [
    "#### Histrogramming "
   ]
  },
  {
   "cell_type": "code",
   "execution_count": 143,
   "metadata": {},
   "outputs": [
    {
     "data": {
      "text/plain": [
       "0    4\n",
       "1    5\n",
       "2    1\n",
       "3    5\n",
       "4    3\n",
       "5    2\n",
       "6    1\n",
       "7    1\n",
       "8    2\n",
       "9    4\n",
       "dtype: int64"
      ]
     },
     "execution_count": 143,
     "metadata": {},
     "output_type": "execute_result"
    }
   ],
   "source": [
    "s = pd.Series(np.random.randint(0,7, size =10))\n",
    "s"
   ]
  },
  {
   "cell_type": "code",
   "execution_count": 144,
   "metadata": {},
   "outputs": [
    {
     "data": {
      "text/plain": [
       "1    3\n",
       "5    2\n",
       "4    2\n",
       "2    2\n",
       "3    1\n",
       "dtype: int64"
      ]
     },
     "execution_count": 144,
     "metadata": {},
     "output_type": "execute_result"
    }
   ],
   "source": [
    "s.value_counts()"
   ]
  },
  {
   "cell_type": "markdown",
   "metadata": {},
   "source": [
    "####  String methods"
   ]
  },
  {
   "cell_type": "code",
   "execution_count": 147,
   "metadata": {},
   "outputs": [
    {
     "data": {
      "text/plain": [
       "0       A\n",
       "1       B\n",
       "2       C\n",
       "3    Aaba\n",
       "4    Baca\n",
       "5     NaN\n",
       "6    CABA\n",
       "7     dog\n",
       "8     cat\n",
       "dtype: object"
      ]
     },
     "execution_count": 147,
     "metadata": {},
     "output_type": "execute_result"
    }
   ],
   "source": [
    "s = pd.Series(['A', 'B', 'C', 'Aaba', 'Baca', np.nan, 'CABA', 'dog', 'cat'])\n",
    "s"
   ]
  },
  {
   "cell_type": "code",
   "execution_count": 146,
   "metadata": {},
   "outputs": [
    {
     "data": {
      "text/plain": [
       "0       a\n",
       "1       b\n",
       "2       c\n",
       "3    aaba\n",
       "4    baca\n",
       "5     NaN\n",
       "6    caba\n",
       "7     dog\n",
       "8     cat\n",
       "dtype: object"
      ]
     },
     "execution_count": 146,
     "metadata": {},
     "output_type": "execute_result"
    }
   ],
   "source": [
    "s.str.lower()"
   ]
  },
  {
   "cell_type": "markdown",
   "metadata": {},
   "source": [
    "#### merge\n",
    "\n",
    "pandas provides various facilities for easily combining together Series, DataFrame, and Panel objects with various kinds of set logic for the indexes and relational algebra functionality in the case of join / merge-type operations.\n",
    "\n",
    "Concatenating pandas objects together with concat():"
   ]
  },
  {
   "cell_type": "code",
   "execution_count": 150,
   "metadata": {
    "collapsed": true
   },
   "outputs": [],
   "source": [
    "df  = pd.DataFrame(np.random.randn(10,4))"
   ]
  },
  {
   "cell_type": "code",
   "execution_count": 151,
   "metadata": {},
   "outputs": [
    {
     "data": {
      "text/html": [
       "<div>\n",
       "<style scoped>\n",
       "    .dataframe tbody tr th:only-of-type {\n",
       "        vertical-align: middle;\n",
       "    }\n",
       "\n",
       "    .dataframe tbody tr th {\n",
       "        vertical-align: top;\n",
       "    }\n",
       "\n",
       "    .dataframe thead th {\n",
       "        text-align: right;\n",
       "    }\n",
       "</style>\n",
       "<table border=\"1\" class=\"dataframe\">\n",
       "  <thead>\n",
       "    <tr style=\"text-align: right;\">\n",
       "      <th></th>\n",
       "      <th>0</th>\n",
       "      <th>1</th>\n",
       "      <th>2</th>\n",
       "      <th>3</th>\n",
       "    </tr>\n",
       "  </thead>\n",
       "  <tbody>\n",
       "    <tr>\n",
       "      <th>0</th>\n",
       "      <td>1.264577</td>\n",
       "      <td>0.051834</td>\n",
       "      <td>-1.144204</td>\n",
       "      <td>1.207308</td>\n",
       "    </tr>\n",
       "    <tr>\n",
       "      <th>1</th>\n",
       "      <td>1.161618</td>\n",
       "      <td>-1.051908</td>\n",
       "      <td>-0.200668</td>\n",
       "      <td>-0.173539</td>\n",
       "    </tr>\n",
       "    <tr>\n",
       "      <th>2</th>\n",
       "      <td>0.115750</td>\n",
       "      <td>-0.119277</td>\n",
       "      <td>-1.976578</td>\n",
       "      <td>-0.051619</td>\n",
       "    </tr>\n",
       "    <tr>\n",
       "      <th>3</th>\n",
       "      <td>-0.538089</td>\n",
       "      <td>-0.555356</td>\n",
       "      <td>-0.103677</td>\n",
       "      <td>1.183125</td>\n",
       "    </tr>\n",
       "    <tr>\n",
       "      <th>4</th>\n",
       "      <td>-0.055464</td>\n",
       "      <td>-0.008104</td>\n",
       "      <td>-0.148013</td>\n",
       "      <td>1.566107</td>\n",
       "    </tr>\n",
       "    <tr>\n",
       "      <th>5</th>\n",
       "      <td>0.551317</td>\n",
       "      <td>-1.801087</td>\n",
       "      <td>-0.957699</td>\n",
       "      <td>0.511444</td>\n",
       "    </tr>\n",
       "    <tr>\n",
       "      <th>6</th>\n",
       "      <td>0.069443</td>\n",
       "      <td>-1.318194</td>\n",
       "      <td>-0.458085</td>\n",
       "      <td>-0.911792</td>\n",
       "    </tr>\n",
       "    <tr>\n",
       "      <th>7</th>\n",
       "      <td>1.452841</td>\n",
       "      <td>0.732603</td>\n",
       "      <td>-0.421263</td>\n",
       "      <td>0.142031</td>\n",
       "    </tr>\n",
       "    <tr>\n",
       "      <th>8</th>\n",
       "      <td>-0.048391</td>\n",
       "      <td>0.408418</td>\n",
       "      <td>-0.711116</td>\n",
       "      <td>-1.399384</td>\n",
       "    </tr>\n",
       "    <tr>\n",
       "      <th>9</th>\n",
       "      <td>0.917506</td>\n",
       "      <td>-1.253084</td>\n",
       "      <td>-0.415187</td>\n",
       "      <td>-1.124510</td>\n",
       "    </tr>\n",
       "  </tbody>\n",
       "</table>\n",
       "</div>"
      ],
      "text/plain": [
       "          0         1         2         3\n",
       "0  1.264577  0.051834 -1.144204  1.207308\n",
       "1  1.161618 -1.051908 -0.200668 -0.173539\n",
       "2  0.115750 -0.119277 -1.976578 -0.051619\n",
       "3 -0.538089 -0.555356 -0.103677  1.183125\n",
       "4 -0.055464 -0.008104 -0.148013  1.566107\n",
       "5  0.551317 -1.801087 -0.957699  0.511444\n",
       "6  0.069443 -1.318194 -0.458085 -0.911792\n",
       "7  1.452841  0.732603 -0.421263  0.142031\n",
       "8 -0.048391  0.408418 -0.711116 -1.399384\n",
       "9  0.917506 -1.253084 -0.415187 -1.124510"
      ]
     },
     "execution_count": 151,
     "metadata": {},
     "output_type": "execute_result"
    }
   ],
   "source": [
    "df"
   ]
  },
  {
   "cell_type": "code",
   "execution_count": 154,
   "metadata": {
    "collapsed": true
   },
   "outputs": [],
   "source": [
    "piceses =  [df[:3],df[3:7],df[7:]]"
   ]
  },
  {
   "cell_type": "code",
   "execution_count": 155,
   "metadata": {},
   "outputs": [
    {
     "data": {
      "text/plain": [
       "[          0         1         2         3\n",
       " 0  1.264577  0.051834 -1.144204  1.207308\n",
       " 1  1.161618 -1.051908 -0.200668 -0.173539\n",
       " 2  0.115750 -0.119277 -1.976578 -0.051619,\n",
       "           0         1         2         3\n",
       " 3 -0.538089 -0.555356 -0.103677  1.183125\n",
       " 4 -0.055464 -0.008104 -0.148013  1.566107\n",
       " 5  0.551317 -1.801087 -0.957699  0.511444\n",
       " 6  0.069443 -1.318194 -0.458085 -0.911792,\n",
       "           0         1         2         3\n",
       " 7  1.452841  0.732603 -0.421263  0.142031\n",
       " 8 -0.048391  0.408418 -0.711116 -1.399384\n",
       " 9  0.917506 -1.253084 -0.415187 -1.124510]"
      ]
     },
     "execution_count": 155,
     "metadata": {},
     "output_type": "execute_result"
    }
   ],
   "source": [
    "piceses"
   ]
  },
  {
   "cell_type": "code",
   "execution_count": 156,
   "metadata": {},
   "outputs": [
    {
     "data": {
      "text/html": [
       "<div>\n",
       "<style scoped>\n",
       "    .dataframe tbody tr th:only-of-type {\n",
       "        vertical-align: middle;\n",
       "    }\n",
       "\n",
       "    .dataframe tbody tr th {\n",
       "        vertical-align: top;\n",
       "    }\n",
       "\n",
       "    .dataframe thead th {\n",
       "        text-align: right;\n",
       "    }\n",
       "</style>\n",
       "<table border=\"1\" class=\"dataframe\">\n",
       "  <thead>\n",
       "    <tr style=\"text-align: right;\">\n",
       "      <th></th>\n",
       "      <th>0</th>\n",
       "      <th>1</th>\n",
       "      <th>2</th>\n",
       "      <th>3</th>\n",
       "    </tr>\n",
       "  </thead>\n",
       "  <tbody>\n",
       "    <tr>\n",
       "      <th>0</th>\n",
       "      <td>1.264577</td>\n",
       "      <td>0.051834</td>\n",
       "      <td>-1.144204</td>\n",
       "      <td>1.207308</td>\n",
       "    </tr>\n",
       "    <tr>\n",
       "      <th>1</th>\n",
       "      <td>1.161618</td>\n",
       "      <td>-1.051908</td>\n",
       "      <td>-0.200668</td>\n",
       "      <td>-0.173539</td>\n",
       "    </tr>\n",
       "    <tr>\n",
       "      <th>2</th>\n",
       "      <td>0.115750</td>\n",
       "      <td>-0.119277</td>\n",
       "      <td>-1.976578</td>\n",
       "      <td>-0.051619</td>\n",
       "    </tr>\n",
       "    <tr>\n",
       "      <th>3</th>\n",
       "      <td>-0.538089</td>\n",
       "      <td>-0.555356</td>\n",
       "      <td>-0.103677</td>\n",
       "      <td>1.183125</td>\n",
       "    </tr>\n",
       "    <tr>\n",
       "      <th>4</th>\n",
       "      <td>-0.055464</td>\n",
       "      <td>-0.008104</td>\n",
       "      <td>-0.148013</td>\n",
       "      <td>1.566107</td>\n",
       "    </tr>\n",
       "    <tr>\n",
       "      <th>5</th>\n",
       "      <td>0.551317</td>\n",
       "      <td>-1.801087</td>\n",
       "      <td>-0.957699</td>\n",
       "      <td>0.511444</td>\n",
       "    </tr>\n",
       "    <tr>\n",
       "      <th>6</th>\n",
       "      <td>0.069443</td>\n",
       "      <td>-1.318194</td>\n",
       "      <td>-0.458085</td>\n",
       "      <td>-0.911792</td>\n",
       "    </tr>\n",
       "    <tr>\n",
       "      <th>7</th>\n",
       "      <td>1.452841</td>\n",
       "      <td>0.732603</td>\n",
       "      <td>-0.421263</td>\n",
       "      <td>0.142031</td>\n",
       "    </tr>\n",
       "    <tr>\n",
       "      <th>8</th>\n",
       "      <td>-0.048391</td>\n",
       "      <td>0.408418</td>\n",
       "      <td>-0.711116</td>\n",
       "      <td>-1.399384</td>\n",
       "    </tr>\n",
       "    <tr>\n",
       "      <th>9</th>\n",
       "      <td>0.917506</td>\n",
       "      <td>-1.253084</td>\n",
       "      <td>-0.415187</td>\n",
       "      <td>-1.124510</td>\n",
       "    </tr>\n",
       "  </tbody>\n",
       "</table>\n",
       "</div>"
      ],
      "text/plain": [
       "          0         1         2         3\n",
       "0  1.264577  0.051834 -1.144204  1.207308\n",
       "1  1.161618 -1.051908 -0.200668 -0.173539\n",
       "2  0.115750 -0.119277 -1.976578 -0.051619\n",
       "3 -0.538089 -0.555356 -0.103677  1.183125\n",
       "4 -0.055464 -0.008104 -0.148013  1.566107\n",
       "5  0.551317 -1.801087 -0.957699  0.511444\n",
       "6  0.069443 -1.318194 -0.458085 -0.911792\n",
       "7  1.452841  0.732603 -0.421263  0.142031\n",
       "8 -0.048391  0.408418 -0.711116 -1.399384\n",
       "9  0.917506 -1.253084 -0.415187 -1.124510"
      ]
     },
     "execution_count": 156,
     "metadata": {},
     "output_type": "execute_result"
    }
   ],
   "source": [
    "pd.concat(piceses)"
   ]
  },
  {
   "cell_type": "markdown",
   "metadata": {},
   "source": [
    "#### Join\n",
    "\n"
   ]
  },
  {
   "cell_type": "code",
   "execution_count": 158,
   "metadata": {},
   "outputs": [
    {
     "data": {
      "text/html": [
       "<div>\n",
       "<style scoped>\n",
       "    .dataframe tbody tr th:only-of-type {\n",
       "        vertical-align: middle;\n",
       "    }\n",
       "\n",
       "    .dataframe tbody tr th {\n",
       "        vertical-align: top;\n",
       "    }\n",
       "\n",
       "    .dataframe thead th {\n",
       "        text-align: right;\n",
       "    }\n",
       "</style>\n",
       "<table border=\"1\" class=\"dataframe\">\n",
       "  <thead>\n",
       "    <tr style=\"text-align: right;\">\n",
       "      <th></th>\n",
       "      <th>key</th>\n",
       "      <th>lval</th>\n",
       "    </tr>\n",
       "  </thead>\n",
       "  <tbody>\n",
       "    <tr>\n",
       "      <th>0</th>\n",
       "      <td>foo</td>\n",
       "      <td>1</td>\n",
       "    </tr>\n",
       "    <tr>\n",
       "      <th>1</th>\n",
       "      <td>foo</td>\n",
       "      <td>2</td>\n",
       "    </tr>\n",
       "  </tbody>\n",
       "</table>\n",
       "</div>"
      ],
      "text/plain": [
       "   key  lval\n",
       "0  foo     1\n",
       "1  foo     2"
      ]
     },
     "execution_count": 158,
     "metadata": {},
     "output_type": "execute_result"
    }
   ],
   "source": [
    "left = pd.DataFrame({'key': ['foo', 'foo'], 'lval': [1, 2]})\n",
    "left"
   ]
  },
  {
   "cell_type": "code",
   "execution_count": 159,
   "metadata": {},
   "outputs": [
    {
     "data": {
      "text/html": [
       "<div>\n",
       "<style scoped>\n",
       "    .dataframe tbody tr th:only-of-type {\n",
       "        vertical-align: middle;\n",
       "    }\n",
       "\n",
       "    .dataframe tbody tr th {\n",
       "        vertical-align: top;\n",
       "    }\n",
       "\n",
       "    .dataframe thead th {\n",
       "        text-align: right;\n",
       "    }\n",
       "</style>\n",
       "<table border=\"1\" class=\"dataframe\">\n",
       "  <thead>\n",
       "    <tr style=\"text-align: right;\">\n",
       "      <th></th>\n",
       "      <th>key</th>\n",
       "      <th>rval</th>\n",
       "    </tr>\n",
       "  </thead>\n",
       "  <tbody>\n",
       "    <tr>\n",
       "      <th>0</th>\n",
       "      <td>foo</td>\n",
       "      <td>4</td>\n",
       "    </tr>\n",
       "    <tr>\n",
       "      <th>1</th>\n",
       "      <td>foo</td>\n",
       "      <td>5</td>\n",
       "    </tr>\n",
       "  </tbody>\n",
       "</table>\n",
       "</div>"
      ],
      "text/plain": [
       "   key  rval\n",
       "0  foo     4\n",
       "1  foo     5"
      ]
     },
     "execution_count": 159,
     "metadata": {},
     "output_type": "execute_result"
    }
   ],
   "source": [
    "right = pd.DataFrame({'key': ['foo', 'foo'], 'rval': [4, 5]})\n",
    "right"
   ]
  },
  {
   "cell_type": "code",
   "execution_count": 161,
   "metadata": {},
   "outputs": [
    {
     "data": {
      "text/html": [
       "<div>\n",
       "<style scoped>\n",
       "    .dataframe tbody tr th:only-of-type {\n",
       "        vertical-align: middle;\n",
       "    }\n",
       "\n",
       "    .dataframe tbody tr th {\n",
       "        vertical-align: top;\n",
       "    }\n",
       "\n",
       "    .dataframe thead th {\n",
       "        text-align: right;\n",
       "    }\n",
       "</style>\n",
       "<table border=\"1\" class=\"dataframe\">\n",
       "  <thead>\n",
       "    <tr style=\"text-align: right;\">\n",
       "      <th></th>\n",
       "      <th>key</th>\n",
       "      <th>lval</th>\n",
       "      <th>rval</th>\n",
       "    </tr>\n",
       "  </thead>\n",
       "  <tbody>\n",
       "    <tr>\n",
       "      <th>0</th>\n",
       "      <td>foo</td>\n",
       "      <td>1</td>\n",
       "      <td>4</td>\n",
       "    </tr>\n",
       "    <tr>\n",
       "      <th>1</th>\n",
       "      <td>foo</td>\n",
       "      <td>1</td>\n",
       "      <td>5</td>\n",
       "    </tr>\n",
       "    <tr>\n",
       "      <th>2</th>\n",
       "      <td>foo</td>\n",
       "      <td>2</td>\n",
       "      <td>4</td>\n",
       "    </tr>\n",
       "    <tr>\n",
       "      <th>3</th>\n",
       "      <td>foo</td>\n",
       "      <td>2</td>\n",
       "      <td>5</td>\n",
       "    </tr>\n",
       "  </tbody>\n",
       "</table>\n",
       "</div>"
      ],
      "text/plain": [
       "   key  lval  rval\n",
       "0  foo     1     4\n",
       "1  foo     1     5\n",
       "2  foo     2     4\n",
       "3  foo     2     5"
      ]
     },
     "execution_count": 161,
     "metadata": {},
     "output_type": "execute_result"
    }
   ],
   "source": [
    "pd.merge(left,right, on ='key')"
   ]
  },
  {
   "cell_type": "markdown",
   "metadata": {},
   "source": [
    "#### Append"
   ]
  },
  {
   "cell_type": "code",
   "execution_count": 163,
   "metadata": {},
   "outputs": [
    {
     "data": {
      "text/html": [
       "<div>\n",
       "<style scoped>\n",
       "    .dataframe tbody tr th:only-of-type {\n",
       "        vertical-align: middle;\n",
       "    }\n",
       "\n",
       "    .dataframe tbody tr th {\n",
       "        vertical-align: top;\n",
       "    }\n",
       "\n",
       "    .dataframe thead th {\n",
       "        text-align: right;\n",
       "    }\n",
       "</style>\n",
       "<table border=\"1\" class=\"dataframe\">\n",
       "  <thead>\n",
       "    <tr style=\"text-align: right;\">\n",
       "      <th></th>\n",
       "      <th>A</th>\n",
       "      <th>B</th>\n",
       "      <th>C</th>\n",
       "      <th>D</th>\n",
       "    </tr>\n",
       "  </thead>\n",
       "  <tbody>\n",
       "    <tr>\n",
       "      <th>0</th>\n",
       "      <td>1.105848</td>\n",
       "      <td>-1.603355</td>\n",
       "      <td>-1.182758</td>\n",
       "      <td>-0.904533</td>\n",
       "    </tr>\n",
       "    <tr>\n",
       "      <th>1</th>\n",
       "      <td>-0.504589</td>\n",
       "      <td>-0.270930</td>\n",
       "      <td>-0.968451</td>\n",
       "      <td>0.614221</td>\n",
       "    </tr>\n",
       "    <tr>\n",
       "      <th>2</th>\n",
       "      <td>-0.887285</td>\n",
       "      <td>-0.956480</td>\n",
       "      <td>0.670953</td>\n",
       "      <td>-0.336781</td>\n",
       "    </tr>\n",
       "    <tr>\n",
       "      <th>3</th>\n",
       "      <td>0.779374</td>\n",
       "      <td>-0.792451</td>\n",
       "      <td>0.108343</td>\n",
       "      <td>0.253346</td>\n",
       "    </tr>\n",
       "    <tr>\n",
       "      <th>4</th>\n",
       "      <td>-0.700572</td>\n",
       "      <td>-0.412557</td>\n",
       "      <td>3.046421</td>\n",
       "      <td>-1.225675</td>\n",
       "    </tr>\n",
       "    <tr>\n",
       "      <th>5</th>\n",
       "      <td>1.927459</td>\n",
       "      <td>0.435290</td>\n",
       "      <td>0.337455</td>\n",
       "      <td>-1.015704</td>\n",
       "    </tr>\n",
       "    <tr>\n",
       "      <th>6</th>\n",
       "      <td>-2.093842</td>\n",
       "      <td>0.401445</td>\n",
       "      <td>-0.045044</td>\n",
       "      <td>0.308447</td>\n",
       "    </tr>\n",
       "    <tr>\n",
       "      <th>7</th>\n",
       "      <td>-0.328095</td>\n",
       "      <td>-1.253820</td>\n",
       "      <td>-2.396085</td>\n",
       "      <td>-0.292637</td>\n",
       "    </tr>\n",
       "  </tbody>\n",
       "</table>\n",
       "</div>"
      ],
      "text/plain": [
       "          A         B         C         D\n",
       "0  1.105848 -1.603355 -1.182758 -0.904533\n",
       "1 -0.504589 -0.270930 -0.968451  0.614221\n",
       "2 -0.887285 -0.956480  0.670953 -0.336781\n",
       "3  0.779374 -0.792451  0.108343  0.253346\n",
       "4 -0.700572 -0.412557  3.046421 -1.225675\n",
       "5  1.927459  0.435290  0.337455 -1.015704\n",
       "6 -2.093842  0.401445 -0.045044  0.308447\n",
       "7 -0.328095 -1.253820 -2.396085 -0.292637"
      ]
     },
     "execution_count": 163,
     "metadata": {},
     "output_type": "execute_result"
    }
   ],
   "source": [
    "df = pd.DataFrame(np.random.randn(8, 4), columns=['A','B','C','D'])\n",
    "df"
   ]
  },
  {
   "cell_type": "code",
   "execution_count": 165,
   "metadata": {},
   "outputs": [
    {
     "data": {
      "text/plain": [
       "A    0.779374\n",
       "B   -0.792451\n",
       "C    0.108343\n",
       "D    0.253346\n",
       "Name: 3, dtype: float64"
      ]
     },
     "execution_count": 165,
     "metadata": {},
     "output_type": "execute_result"
    }
   ],
   "source": [
    "s = df.iloc[3]\n",
    "s\n"
   ]
  },
  {
   "cell_type": "code",
   "execution_count": 166,
   "metadata": {},
   "outputs": [
    {
     "data": {
      "text/html": [
       "<div>\n",
       "<style scoped>\n",
       "    .dataframe tbody tr th:only-of-type {\n",
       "        vertical-align: middle;\n",
       "    }\n",
       "\n",
       "    .dataframe tbody tr th {\n",
       "        vertical-align: top;\n",
       "    }\n",
       "\n",
       "    .dataframe thead th {\n",
       "        text-align: right;\n",
       "    }\n",
       "</style>\n",
       "<table border=\"1\" class=\"dataframe\">\n",
       "  <thead>\n",
       "    <tr style=\"text-align: right;\">\n",
       "      <th></th>\n",
       "      <th>A</th>\n",
       "      <th>B</th>\n",
       "      <th>C</th>\n",
       "      <th>D</th>\n",
       "    </tr>\n",
       "  </thead>\n",
       "  <tbody>\n",
       "    <tr>\n",
       "      <th>0</th>\n",
       "      <td>1.105848</td>\n",
       "      <td>-1.603355</td>\n",
       "      <td>-1.182758</td>\n",
       "      <td>-0.904533</td>\n",
       "    </tr>\n",
       "    <tr>\n",
       "      <th>1</th>\n",
       "      <td>-0.504589</td>\n",
       "      <td>-0.270930</td>\n",
       "      <td>-0.968451</td>\n",
       "      <td>0.614221</td>\n",
       "    </tr>\n",
       "    <tr>\n",
       "      <th>2</th>\n",
       "      <td>-0.887285</td>\n",
       "      <td>-0.956480</td>\n",
       "      <td>0.670953</td>\n",
       "      <td>-0.336781</td>\n",
       "    </tr>\n",
       "    <tr>\n",
       "      <th>3</th>\n",
       "      <td>0.779374</td>\n",
       "      <td>-0.792451</td>\n",
       "      <td>0.108343</td>\n",
       "      <td>0.253346</td>\n",
       "    </tr>\n",
       "    <tr>\n",
       "      <th>4</th>\n",
       "      <td>-0.700572</td>\n",
       "      <td>-0.412557</td>\n",
       "      <td>3.046421</td>\n",
       "      <td>-1.225675</td>\n",
       "    </tr>\n",
       "    <tr>\n",
       "      <th>5</th>\n",
       "      <td>1.927459</td>\n",
       "      <td>0.435290</td>\n",
       "      <td>0.337455</td>\n",
       "      <td>-1.015704</td>\n",
       "    </tr>\n",
       "    <tr>\n",
       "      <th>6</th>\n",
       "      <td>-2.093842</td>\n",
       "      <td>0.401445</td>\n",
       "      <td>-0.045044</td>\n",
       "      <td>0.308447</td>\n",
       "    </tr>\n",
       "    <tr>\n",
       "      <th>7</th>\n",
       "      <td>-0.328095</td>\n",
       "      <td>-1.253820</td>\n",
       "      <td>-2.396085</td>\n",
       "      <td>-0.292637</td>\n",
       "    </tr>\n",
       "    <tr>\n",
       "      <th>8</th>\n",
       "      <td>0.779374</td>\n",
       "      <td>-0.792451</td>\n",
       "      <td>0.108343</td>\n",
       "      <td>0.253346</td>\n",
       "    </tr>\n",
       "  </tbody>\n",
       "</table>\n",
       "</div>"
      ],
      "text/plain": [
       "          A         B         C         D\n",
       "0  1.105848 -1.603355 -1.182758 -0.904533\n",
       "1 -0.504589 -0.270930 -0.968451  0.614221\n",
       "2 -0.887285 -0.956480  0.670953 -0.336781\n",
       "3  0.779374 -0.792451  0.108343  0.253346\n",
       "4 -0.700572 -0.412557  3.046421 -1.225675\n",
       "5  1.927459  0.435290  0.337455 -1.015704\n",
       "6 -2.093842  0.401445 -0.045044  0.308447\n",
       "7 -0.328095 -1.253820 -2.396085 -0.292637\n",
       "8  0.779374 -0.792451  0.108343  0.253346"
      ]
     },
     "execution_count": 166,
     "metadata": {},
     "output_type": "execute_result"
    }
   ],
   "source": [
    "df.append(s, ignore_index=True)"
   ]
  },
  {
   "cell_type": "markdown",
   "metadata": {},
   "source": [
    "#### Grouping \n",
    "\n",
    "By “group by” we are referring to a process involving one or more of the following steps \n",
    "\n",
    "• Splitting the data into groups based on some criteria\n",
    "\n",
    "• Applying a function to each group independently\n",
    "\n",
    "• Combining the results into a data structure\n"
   ]
  },
  {
   "cell_type": "code",
   "execution_count": 168,
   "metadata": {},
   "outputs": [
    {
     "data": {
      "text/html": [
       "<div>\n",
       "<style scoped>\n",
       "    .dataframe tbody tr th:only-of-type {\n",
       "        vertical-align: middle;\n",
       "    }\n",
       "\n",
       "    .dataframe tbody tr th {\n",
       "        vertical-align: top;\n",
       "    }\n",
       "\n",
       "    .dataframe thead th {\n",
       "        text-align: right;\n",
       "    }\n",
       "</style>\n",
       "<table border=\"1\" class=\"dataframe\">\n",
       "  <thead>\n",
       "    <tr style=\"text-align: right;\">\n",
       "      <th></th>\n",
       "      <th>A</th>\n",
       "      <th>B</th>\n",
       "      <th>C</th>\n",
       "      <th>D</th>\n",
       "    </tr>\n",
       "  </thead>\n",
       "  <tbody>\n",
       "    <tr>\n",
       "      <th>0</th>\n",
       "      <td>foo</td>\n",
       "      <td>one</td>\n",
       "      <td>-0.304921</td>\n",
       "      <td>0.731358</td>\n",
       "    </tr>\n",
       "    <tr>\n",
       "      <th>1</th>\n",
       "      <td>bar</td>\n",
       "      <td>one</td>\n",
       "      <td>0.049356</td>\n",
       "      <td>-1.087067</td>\n",
       "    </tr>\n",
       "    <tr>\n",
       "      <th>2</th>\n",
       "      <td>foo</td>\n",
       "      <td>two</td>\n",
       "      <td>0.193490</td>\n",
       "      <td>1.046361</td>\n",
       "    </tr>\n",
       "    <tr>\n",
       "      <th>3</th>\n",
       "      <td>bar</td>\n",
       "      <td>three</td>\n",
       "      <td>-1.462271</td>\n",
       "      <td>-2.119326</td>\n",
       "    </tr>\n",
       "    <tr>\n",
       "      <th>4</th>\n",
       "      <td>foo</td>\n",
       "      <td>two</td>\n",
       "      <td>-0.144763</td>\n",
       "      <td>-0.135420</td>\n",
       "    </tr>\n",
       "    <tr>\n",
       "      <th>5</th>\n",
       "      <td>bar</td>\n",
       "      <td>two</td>\n",
       "      <td>-0.357238</td>\n",
       "      <td>-0.464117</td>\n",
       "    </tr>\n",
       "    <tr>\n",
       "      <th>6</th>\n",
       "      <td>foo</td>\n",
       "      <td>one</td>\n",
       "      <td>-0.348356</td>\n",
       "      <td>0.558083</td>\n",
       "    </tr>\n",
       "    <tr>\n",
       "      <th>7</th>\n",
       "      <td>foo</td>\n",
       "      <td>three</td>\n",
       "      <td>-1.353866</td>\n",
       "      <td>0.301702</td>\n",
       "    </tr>\n",
       "  </tbody>\n",
       "</table>\n",
       "</div>"
      ],
      "text/plain": [
       "     A      B         C         D\n",
       "0  foo    one -0.304921  0.731358\n",
       "1  bar    one  0.049356 -1.087067\n",
       "2  foo    two  0.193490  1.046361\n",
       "3  bar  three -1.462271 -2.119326\n",
       "4  foo    two -0.144763 -0.135420\n",
       "5  bar    two -0.357238 -0.464117\n",
       "6  foo    one -0.348356  0.558083\n",
       "7  foo  three -1.353866  0.301702"
      ]
     },
     "execution_count": 168,
     "metadata": {},
     "output_type": "execute_result"
    }
   ],
   "source": [
    "df = pd.DataFrame({'A' : ['foo', 'bar', 'foo', 'bar','foo', 'bar', 'foo', 'foo'],\n",
    "                    'B' : ['one', 'one', 'two', 'three','two', 'two', 'one', 'three'],\n",
    "                    'C' : np.random.randn(8),\n",
    "                    'D' : np.random.randn(8)})\n",
    "df"
   ]
  },
  {
   "cell_type": "code",
   "execution_count": 169,
   "metadata": {},
   "outputs": [
    {
     "data": {
      "text/html": [
       "<div>\n",
       "<style scoped>\n",
       "    .dataframe tbody tr th:only-of-type {\n",
       "        vertical-align: middle;\n",
       "    }\n",
       "\n",
       "    .dataframe tbody tr th {\n",
       "        vertical-align: top;\n",
       "    }\n",
       "\n",
       "    .dataframe thead th {\n",
       "        text-align: right;\n",
       "    }\n",
       "</style>\n",
       "<table border=\"1\" class=\"dataframe\">\n",
       "  <thead>\n",
       "    <tr style=\"text-align: right;\">\n",
       "      <th></th>\n",
       "      <th>C</th>\n",
       "      <th>D</th>\n",
       "    </tr>\n",
       "    <tr>\n",
       "      <th>A</th>\n",
       "      <th></th>\n",
       "      <th></th>\n",
       "    </tr>\n",
       "  </thead>\n",
       "  <tbody>\n",
       "    <tr>\n",
       "      <th>bar</th>\n",
       "      <td>-1.770153</td>\n",
       "      <td>-3.670510</td>\n",
       "    </tr>\n",
       "    <tr>\n",
       "      <th>foo</th>\n",
       "      <td>-1.958416</td>\n",
       "      <td>2.502084</td>\n",
       "    </tr>\n",
       "  </tbody>\n",
       "</table>\n",
       "</div>"
      ],
      "text/plain": [
       "            C         D\n",
       "A                      \n",
       "bar -1.770153 -3.670510\n",
       "foo -1.958416  2.502084"
      ]
     },
     "execution_count": 169,
     "metadata": {},
     "output_type": "execute_result"
    }
   ],
   "source": [
    "# Grouping and then applying a function sum to the resulting groups.\n",
    "df.groupby('A').sum()"
   ]
  },
  {
   "cell_type": "code",
   "execution_count": 171,
   "metadata": {},
   "outputs": [
    {
     "data": {
      "text/html": [
       "<div>\n",
       "<style scoped>\n",
       "    .dataframe tbody tr th:only-of-type {\n",
       "        vertical-align: middle;\n",
       "    }\n",
       "\n",
       "    .dataframe tbody tr th {\n",
       "        vertical-align: top;\n",
       "    }\n",
       "\n",
       "    .dataframe thead th {\n",
       "        text-align: right;\n",
       "    }\n",
       "</style>\n",
       "<table border=\"1\" class=\"dataframe\">\n",
       "  <thead>\n",
       "    <tr style=\"text-align: right;\">\n",
       "      <th></th>\n",
       "      <th></th>\n",
       "      <th>C</th>\n",
       "      <th>D</th>\n",
       "    </tr>\n",
       "    <tr>\n",
       "      <th>A</th>\n",
       "      <th>B</th>\n",
       "      <th></th>\n",
       "      <th></th>\n",
       "    </tr>\n",
       "  </thead>\n",
       "  <tbody>\n",
       "    <tr>\n",
       "      <th rowspan=\"3\" valign=\"top\">bar</th>\n",
       "      <th>one</th>\n",
       "      <td>0.049356</td>\n",
       "      <td>-1.087067</td>\n",
       "    </tr>\n",
       "    <tr>\n",
       "      <th>three</th>\n",
       "      <td>-1.462271</td>\n",
       "      <td>-2.119326</td>\n",
       "    </tr>\n",
       "    <tr>\n",
       "      <th>two</th>\n",
       "      <td>-0.357238</td>\n",
       "      <td>-0.464117</td>\n",
       "    </tr>\n",
       "    <tr>\n",
       "      <th rowspan=\"3\" valign=\"top\">foo</th>\n",
       "      <th>one</th>\n",
       "      <td>-0.653277</td>\n",
       "      <td>1.289441</td>\n",
       "    </tr>\n",
       "    <tr>\n",
       "      <th>three</th>\n",
       "      <td>-1.353866</td>\n",
       "      <td>0.301702</td>\n",
       "    </tr>\n",
       "    <tr>\n",
       "      <th>two</th>\n",
       "      <td>0.048727</td>\n",
       "      <td>0.910940</td>\n",
       "    </tr>\n",
       "  </tbody>\n",
       "</table>\n",
       "</div>"
      ],
      "text/plain": [
       "                  C         D\n",
       "A   B                        \n",
       "bar one    0.049356 -1.087067\n",
       "    three -1.462271 -2.119326\n",
       "    two   -0.357238 -0.464117\n",
       "foo one   -0.653277  1.289441\n",
       "    three -1.353866  0.301702\n",
       "    two    0.048727  0.910940"
      ]
     },
     "execution_count": 171,
     "metadata": {},
     "output_type": "execute_result"
    }
   ],
   "source": [
    "df.groupby(['A','B']).sum()"
   ]
  },
  {
   "cell_type": "markdown",
   "metadata": {},
   "source": [
    "#### Stack"
   ]
  },
  {
   "cell_type": "code",
   "execution_count": 172,
   "metadata": {
    "collapsed": true
   },
   "outputs": [],
   "source": [
    "tuples = list(zip(*[['bar', 'bar', 'baz', 'baz', 'foo', 'foo', 'qux', 'qux'],\n",
    "                    ['one', 'two', 'one', 'two','one', 'two', 'one', 'two']]))"
   ]
  },
  {
   "cell_type": "code",
   "execution_count": 173,
   "metadata": {},
   "outputs": [
    {
     "data": {
      "text/plain": [
       "[('bar', 'one'),\n",
       " ('bar', 'two'),\n",
       " ('baz', 'one'),\n",
       " ('baz', 'two'),\n",
       " ('foo', 'one'),\n",
       " ('foo', 'two'),\n",
       " ('qux', 'one'),\n",
       " ('qux', 'two')]"
      ]
     },
     "execution_count": 173,
     "metadata": {},
     "output_type": "execute_result"
    }
   ],
   "source": [
    "tuples"
   ]
  },
  {
   "cell_type": "code",
   "execution_count": 175,
   "metadata": {},
   "outputs": [
    {
     "data": {
      "text/plain": [
       "MultiIndex(levels=[['bar', 'baz', 'foo', 'qux'], ['one', 'two']],\n",
       "           labels=[[0, 0, 1, 1, 2, 2, 3, 3], [0, 1, 0, 1, 0, 1, 0, 1]],\n",
       "           names=['first', 'second'])"
      ]
     },
     "execution_count": 175,
     "metadata": {},
     "output_type": "execute_result"
    }
   ],
   "source": [
    "index = pd.MultiIndex.from_tuples(tuples,names=['first','second'])\n",
    "index\n"
   ]
  },
  {
   "cell_type": "code",
   "execution_count": 177,
   "metadata": {},
   "outputs": [
    {
     "data": {
      "text/html": [
       "<div>\n",
       "<style scoped>\n",
       "    .dataframe tbody tr th:only-of-type {\n",
       "        vertical-align: middle;\n",
       "    }\n",
       "\n",
       "    .dataframe tbody tr th {\n",
       "        vertical-align: top;\n",
       "    }\n",
       "\n",
       "    .dataframe thead th {\n",
       "        text-align: right;\n",
       "    }\n",
       "</style>\n",
       "<table border=\"1\" class=\"dataframe\">\n",
       "  <thead>\n",
       "    <tr style=\"text-align: right;\">\n",
       "      <th></th>\n",
       "      <th></th>\n",
       "      <th>A</th>\n",
       "      <th>B</th>\n",
       "    </tr>\n",
       "    <tr>\n",
       "      <th>first</th>\n",
       "      <th>second</th>\n",
       "      <th></th>\n",
       "      <th></th>\n",
       "    </tr>\n",
       "  </thead>\n",
       "  <tbody>\n",
       "    <tr>\n",
       "      <th rowspan=\"2\" valign=\"top\">bar</th>\n",
       "      <th>one</th>\n",
       "      <td>-0.266321</td>\n",
       "      <td>-0.366412</td>\n",
       "    </tr>\n",
       "    <tr>\n",
       "      <th>two</th>\n",
       "      <td>-0.019614</td>\n",
       "      <td>1.124003</td>\n",
       "    </tr>\n",
       "    <tr>\n",
       "      <th rowspan=\"2\" valign=\"top\">baz</th>\n",
       "      <th>one</th>\n",
       "      <td>0.651159</td>\n",
       "      <td>-1.559394</td>\n",
       "    </tr>\n",
       "    <tr>\n",
       "      <th>two</th>\n",
       "      <td>0.828720</td>\n",
       "      <td>0.192244</td>\n",
       "    </tr>\n",
       "    <tr>\n",
       "      <th rowspan=\"2\" valign=\"top\">foo</th>\n",
       "      <th>one</th>\n",
       "      <td>-0.127570</td>\n",
       "      <td>-0.781729</td>\n",
       "    </tr>\n",
       "    <tr>\n",
       "      <th>two</th>\n",
       "      <td>0.196075</td>\n",
       "      <td>1.128580</td>\n",
       "    </tr>\n",
       "    <tr>\n",
       "      <th rowspan=\"2\" valign=\"top\">qux</th>\n",
       "      <th>one</th>\n",
       "      <td>2.930268</td>\n",
       "      <td>0.700657</td>\n",
       "    </tr>\n",
       "    <tr>\n",
       "      <th>two</th>\n",
       "      <td>-0.842797</td>\n",
       "      <td>-2.056811</td>\n",
       "    </tr>\n",
       "  </tbody>\n",
       "</table>\n",
       "</div>"
      ],
      "text/plain": [
       "                     A         B\n",
       "first second                    \n",
       "bar   one    -0.266321 -0.366412\n",
       "      two    -0.019614  1.124003\n",
       "baz   one     0.651159 -1.559394\n",
       "      two     0.828720  0.192244\n",
       "foo   one    -0.127570 -0.781729\n",
       "      two     0.196075  1.128580\n",
       "qux   one     2.930268  0.700657\n",
       "      two    -0.842797 -2.056811"
      ]
     },
     "execution_count": 177,
     "metadata": {},
     "output_type": "execute_result"
    }
   ],
   "source": [
    "df =pd.DataFrame(np.random.randn(8,2),index = index , columns= ['A','B'])\n",
    "df\n"
   ]
  },
  {
   "cell_type": "code",
   "execution_count": 179,
   "metadata": {},
   "outputs": [
    {
     "data": {
      "text/html": [
       "<div>\n",
       "<style scoped>\n",
       "    .dataframe tbody tr th:only-of-type {\n",
       "        vertical-align: middle;\n",
       "    }\n",
       "\n",
       "    .dataframe tbody tr th {\n",
       "        vertical-align: top;\n",
       "    }\n",
       "\n",
       "    .dataframe thead th {\n",
       "        text-align: right;\n",
       "    }\n",
       "</style>\n",
       "<table border=\"1\" class=\"dataframe\">\n",
       "  <thead>\n",
       "    <tr style=\"text-align: right;\">\n",
       "      <th></th>\n",
       "      <th></th>\n",
       "      <th>A</th>\n",
       "      <th>B</th>\n",
       "    </tr>\n",
       "    <tr>\n",
       "      <th>first</th>\n",
       "      <th>second</th>\n",
       "      <th></th>\n",
       "      <th></th>\n",
       "    </tr>\n",
       "  </thead>\n",
       "  <tbody>\n",
       "    <tr>\n",
       "      <th rowspan=\"2\" valign=\"top\">bar</th>\n",
       "      <th>one</th>\n",
       "      <td>-0.266321</td>\n",
       "      <td>-0.366412</td>\n",
       "    </tr>\n",
       "    <tr>\n",
       "      <th>two</th>\n",
       "      <td>-0.019614</td>\n",
       "      <td>1.124003</td>\n",
       "    </tr>\n",
       "    <tr>\n",
       "      <th rowspan=\"2\" valign=\"top\">baz</th>\n",
       "      <th>one</th>\n",
       "      <td>0.651159</td>\n",
       "      <td>-1.559394</td>\n",
       "    </tr>\n",
       "    <tr>\n",
       "      <th>two</th>\n",
       "      <td>0.828720</td>\n",
       "      <td>0.192244</td>\n",
       "    </tr>\n",
       "  </tbody>\n",
       "</table>\n",
       "</div>"
      ],
      "text/plain": [
       "                     A         B\n",
       "first second                    \n",
       "bar   one    -0.266321 -0.366412\n",
       "      two    -0.019614  1.124003\n",
       "baz   one     0.651159 -1.559394\n",
       "      two     0.828720  0.192244"
      ]
     },
     "execution_count": 179,
     "metadata": {},
     "output_type": "execute_result"
    }
   ],
   "source": [
    "df2 = df[:4]\n",
    "df2"
   ]
  },
  {
   "cell_type": "code",
   "execution_count": null,
   "metadata": {
    "collapsed": true
   },
   "outputs": [],
   "source": [
    "#The stack() method “compresses” a level in the DataFrame’s columns.\n"
   ]
  },
  {
   "cell_type": "code",
   "execution_count": 181,
   "metadata": {},
   "outputs": [
    {
     "data": {
      "text/plain": [
       "first  second   \n",
       "bar    one     A   -0.266321\n",
       "               B   -0.366412\n",
       "       two     A   -0.019614\n",
       "               B    1.124003\n",
       "baz    one     A    0.651159\n",
       "               B   -1.559394\n",
       "       two     A    0.828720\n",
       "               B    0.192244\n",
       "dtype: float64"
      ]
     },
     "execution_count": 181,
     "metadata": {},
     "output_type": "execute_result"
    }
   ],
   "source": [
    "stacked = df2.stack()\n",
    "stacked"
   ]
  },
  {
   "cell_type": "code",
   "execution_count": 182,
   "metadata": {},
   "outputs": [
    {
     "data": {
      "text/html": [
       "<div>\n",
       "<style scoped>\n",
       "    .dataframe tbody tr th:only-of-type {\n",
       "        vertical-align: middle;\n",
       "    }\n",
       "\n",
       "    .dataframe tbody tr th {\n",
       "        vertical-align: top;\n",
       "    }\n",
       "\n",
       "    .dataframe thead th {\n",
       "        text-align: right;\n",
       "    }\n",
       "</style>\n",
       "<table border=\"1\" class=\"dataframe\">\n",
       "  <thead>\n",
       "    <tr style=\"text-align: right;\">\n",
       "      <th></th>\n",
       "      <th></th>\n",
       "      <th>A</th>\n",
       "      <th>B</th>\n",
       "    </tr>\n",
       "    <tr>\n",
       "      <th>first</th>\n",
       "      <th>second</th>\n",
       "      <th></th>\n",
       "      <th></th>\n",
       "    </tr>\n",
       "  </thead>\n",
       "  <tbody>\n",
       "    <tr>\n",
       "      <th rowspan=\"2\" valign=\"top\">bar</th>\n",
       "      <th>one</th>\n",
       "      <td>-0.266321</td>\n",
       "      <td>-0.366412</td>\n",
       "    </tr>\n",
       "    <tr>\n",
       "      <th>two</th>\n",
       "      <td>-0.019614</td>\n",
       "      <td>1.124003</td>\n",
       "    </tr>\n",
       "    <tr>\n",
       "      <th rowspan=\"2\" valign=\"top\">baz</th>\n",
       "      <th>one</th>\n",
       "      <td>0.651159</td>\n",
       "      <td>-1.559394</td>\n",
       "    </tr>\n",
       "    <tr>\n",
       "      <th>two</th>\n",
       "      <td>0.828720</td>\n",
       "      <td>0.192244</td>\n",
       "    </tr>\n",
       "  </tbody>\n",
       "</table>\n",
       "</div>"
      ],
      "text/plain": [
       "                     A         B\n",
       "first second                    \n",
       "bar   one    -0.266321 -0.366412\n",
       "      two    -0.019614  1.124003\n",
       "baz   one     0.651159 -1.559394\n",
       "      two     0.828720  0.192244"
      ]
     },
     "execution_count": 182,
     "metadata": {},
     "output_type": "execute_result"
    }
   ],
   "source": [
    "stacked.unstack()"
   ]
  },
  {
   "cell_type": "code",
   "execution_count": 183,
   "metadata": {},
   "outputs": [
    {
     "data": {
      "text/html": [
       "<div>\n",
       "<style scoped>\n",
       "    .dataframe tbody tr th:only-of-type {\n",
       "        vertical-align: middle;\n",
       "    }\n",
       "\n",
       "    .dataframe tbody tr th {\n",
       "        vertical-align: top;\n",
       "    }\n",
       "\n",
       "    .dataframe thead th {\n",
       "        text-align: right;\n",
       "    }\n",
       "</style>\n",
       "<table border=\"1\" class=\"dataframe\">\n",
       "  <thead>\n",
       "    <tr style=\"text-align: right;\">\n",
       "      <th></th>\n",
       "      <th>second</th>\n",
       "      <th>one</th>\n",
       "      <th>two</th>\n",
       "    </tr>\n",
       "    <tr>\n",
       "      <th>first</th>\n",
       "      <th></th>\n",
       "      <th></th>\n",
       "      <th></th>\n",
       "    </tr>\n",
       "  </thead>\n",
       "  <tbody>\n",
       "    <tr>\n",
       "      <th rowspan=\"2\" valign=\"top\">bar</th>\n",
       "      <th>A</th>\n",
       "      <td>-0.266321</td>\n",
       "      <td>-0.019614</td>\n",
       "    </tr>\n",
       "    <tr>\n",
       "      <th>B</th>\n",
       "      <td>-0.366412</td>\n",
       "      <td>1.124003</td>\n",
       "    </tr>\n",
       "    <tr>\n",
       "      <th rowspan=\"2\" valign=\"top\">baz</th>\n",
       "      <th>A</th>\n",
       "      <td>0.651159</td>\n",
       "      <td>0.828720</td>\n",
       "    </tr>\n",
       "    <tr>\n",
       "      <th>B</th>\n",
       "      <td>-1.559394</td>\n",
       "      <td>0.192244</td>\n",
       "    </tr>\n",
       "  </tbody>\n",
       "</table>\n",
       "</div>"
      ],
      "text/plain": [
       "second        one       two\n",
       "first                      \n",
       "bar   A -0.266321 -0.019614\n",
       "      B -0.366412  1.124003\n",
       "baz   A  0.651159  0.828720\n",
       "      B -1.559394  0.192244"
      ]
     },
     "execution_count": 183,
     "metadata": {},
     "output_type": "execute_result"
    }
   ],
   "source": [
    "stacked.unstack(1)"
   ]
  },
  {
   "cell_type": "code",
   "execution_count": 184,
   "metadata": {},
   "outputs": [
    {
     "data": {
      "text/html": [
       "<div>\n",
       "<style scoped>\n",
       "    .dataframe tbody tr th:only-of-type {\n",
       "        vertical-align: middle;\n",
       "    }\n",
       "\n",
       "    .dataframe tbody tr th {\n",
       "        vertical-align: top;\n",
       "    }\n",
       "\n",
       "    .dataframe thead th {\n",
       "        text-align: right;\n",
       "    }\n",
       "</style>\n",
       "<table border=\"1\" class=\"dataframe\">\n",
       "  <thead>\n",
       "    <tr style=\"text-align: right;\">\n",
       "      <th></th>\n",
       "      <th>first</th>\n",
       "      <th>bar</th>\n",
       "      <th>baz</th>\n",
       "    </tr>\n",
       "    <tr>\n",
       "      <th>second</th>\n",
       "      <th></th>\n",
       "      <th></th>\n",
       "      <th></th>\n",
       "    </tr>\n",
       "  </thead>\n",
       "  <tbody>\n",
       "    <tr>\n",
       "      <th rowspan=\"2\" valign=\"top\">one</th>\n",
       "      <th>A</th>\n",
       "      <td>-0.266321</td>\n",
       "      <td>0.651159</td>\n",
       "    </tr>\n",
       "    <tr>\n",
       "      <th>B</th>\n",
       "      <td>-0.366412</td>\n",
       "      <td>-1.559394</td>\n",
       "    </tr>\n",
       "    <tr>\n",
       "      <th rowspan=\"2\" valign=\"top\">two</th>\n",
       "      <th>A</th>\n",
       "      <td>-0.019614</td>\n",
       "      <td>0.828720</td>\n",
       "    </tr>\n",
       "    <tr>\n",
       "      <th>B</th>\n",
       "      <td>1.124003</td>\n",
       "      <td>0.192244</td>\n",
       "    </tr>\n",
       "  </tbody>\n",
       "</table>\n",
       "</div>"
      ],
      "text/plain": [
       "first          bar       baz\n",
       "second                      \n",
       "one    A -0.266321  0.651159\n",
       "       B -0.366412 -1.559394\n",
       "two    A -0.019614  0.828720\n",
       "       B  1.124003  0.192244"
      ]
     },
     "execution_count": 184,
     "metadata": {},
     "output_type": "execute_result"
    }
   ],
   "source": [
    "stacked.unstack(0)\n"
   ]
  },
  {
   "cell_type": "markdown",
   "metadata": {},
   "source": [
    "#### Pivot Tables"
   ]
  },
  {
   "cell_type": "code",
   "execution_count": 186,
   "metadata": {},
   "outputs": [
    {
     "data": {
      "text/html": [
       "<div>\n",
       "<style scoped>\n",
       "    .dataframe tbody tr th:only-of-type {\n",
       "        vertical-align: middle;\n",
       "    }\n",
       "\n",
       "    .dataframe tbody tr th {\n",
       "        vertical-align: top;\n",
       "    }\n",
       "\n",
       "    .dataframe thead th {\n",
       "        text-align: right;\n",
       "    }\n",
       "</style>\n",
       "<table border=\"1\" class=\"dataframe\">\n",
       "  <thead>\n",
       "    <tr style=\"text-align: right;\">\n",
       "      <th></th>\n",
       "      <th>A</th>\n",
       "      <th>B</th>\n",
       "      <th>C</th>\n",
       "      <th>D</th>\n",
       "      <th>E</th>\n",
       "    </tr>\n",
       "  </thead>\n",
       "  <tbody>\n",
       "    <tr>\n",
       "      <th>0</th>\n",
       "      <td>one</td>\n",
       "      <td>A</td>\n",
       "      <td>foo</td>\n",
       "      <td>0.704409</td>\n",
       "      <td>-1.917265</td>\n",
       "    </tr>\n",
       "    <tr>\n",
       "      <th>1</th>\n",
       "      <td>one</td>\n",
       "      <td>B</td>\n",
       "      <td>foo</td>\n",
       "      <td>-0.866929</td>\n",
       "      <td>-0.422800</td>\n",
       "    </tr>\n",
       "    <tr>\n",
       "      <th>2</th>\n",
       "      <td>two</td>\n",
       "      <td>C</td>\n",
       "      <td>foo</td>\n",
       "      <td>-0.499975</td>\n",
       "      <td>0.261985</td>\n",
       "    </tr>\n",
       "    <tr>\n",
       "      <th>3</th>\n",
       "      <td>three</td>\n",
       "      <td>A</td>\n",
       "      <td>bar</td>\n",
       "      <td>1.070945</td>\n",
       "      <td>-1.017651</td>\n",
       "    </tr>\n",
       "    <tr>\n",
       "      <th>4</th>\n",
       "      <td>one</td>\n",
       "      <td>B</td>\n",
       "      <td>bar</td>\n",
       "      <td>0.086886</td>\n",
       "      <td>1.750031</td>\n",
       "    </tr>\n",
       "    <tr>\n",
       "      <th>5</th>\n",
       "      <td>one</td>\n",
       "      <td>C</td>\n",
       "      <td>bar</td>\n",
       "      <td>-0.731205</td>\n",
       "      <td>-0.909896</td>\n",
       "    </tr>\n",
       "    <tr>\n",
       "      <th>6</th>\n",
       "      <td>two</td>\n",
       "      <td>A</td>\n",
       "      <td>foo</td>\n",
       "      <td>-1.583108</td>\n",
       "      <td>1.224982</td>\n",
       "    </tr>\n",
       "    <tr>\n",
       "      <th>7</th>\n",
       "      <td>three</td>\n",
       "      <td>B</td>\n",
       "      <td>foo</td>\n",
       "      <td>0.451708</td>\n",
       "      <td>2.405149</td>\n",
       "    </tr>\n",
       "    <tr>\n",
       "      <th>8</th>\n",
       "      <td>one</td>\n",
       "      <td>C</td>\n",
       "      <td>foo</td>\n",
       "      <td>1.481875</td>\n",
       "      <td>0.705291</td>\n",
       "    </tr>\n",
       "    <tr>\n",
       "      <th>9</th>\n",
       "      <td>one</td>\n",
       "      <td>A</td>\n",
       "      <td>bar</td>\n",
       "      <td>0.106135</td>\n",
       "      <td>0.405283</td>\n",
       "    </tr>\n",
       "    <tr>\n",
       "      <th>10</th>\n",
       "      <td>two</td>\n",
       "      <td>B</td>\n",
       "      <td>bar</td>\n",
       "      <td>-1.309732</td>\n",
       "      <td>-1.002465</td>\n",
       "    </tr>\n",
       "    <tr>\n",
       "      <th>11</th>\n",
       "      <td>three</td>\n",
       "      <td>C</td>\n",
       "      <td>bar</td>\n",
       "      <td>0.363401</td>\n",
       "      <td>1.154611</td>\n",
       "    </tr>\n",
       "  </tbody>\n",
       "</table>\n",
       "</div>"
      ],
      "text/plain": [
       "        A  B    C         D         E\n",
       "0     one  A  foo  0.704409 -1.917265\n",
       "1     one  B  foo -0.866929 -0.422800\n",
       "2     two  C  foo -0.499975  0.261985\n",
       "3   three  A  bar  1.070945 -1.017651\n",
       "4     one  B  bar  0.086886  1.750031\n",
       "5     one  C  bar -0.731205 -0.909896\n",
       "6     two  A  foo -1.583108  1.224982\n",
       "7   three  B  foo  0.451708  2.405149\n",
       "8     one  C  foo  1.481875  0.705291\n",
       "9     one  A  bar  0.106135  0.405283\n",
       "10    two  B  bar -1.309732 -1.002465\n",
       "11  three  C  bar  0.363401  1.154611"
      ]
     },
     "execution_count": 186,
     "metadata": {},
     "output_type": "execute_result"
    }
   ],
   "source": [
    "df = pd.DataFrame({'A' : ['one', 'one', 'two', 'three'] * 3,\n",
    "'B' : ['A', 'B', 'C'] * 4,\n",
    "'C' : ['foo', 'foo', 'foo', 'bar', 'bar', 'bar'] * 2,\n",
    "'D' : np.random.randn(12),\n",
    "'E' : np.random.randn(12)})\n",
    "\n",
    "df"
   ]
  },
  {
   "cell_type": "code",
   "execution_count": 187,
   "metadata": {},
   "outputs": [
    {
     "name": "stdout",
     "output_type": "stream",
     "text": [
      "Help on function pivot_table in module pandas.core.reshape.pivot:\n",
      "\n",
      "pivot_table(data, values=None, index=None, columns=None, aggfunc='mean', fill_value=None, margins=False, dropna=True, margins_name='All')\n",
      "    Create a spreadsheet-style pivot table as a DataFrame. The levels in\n",
      "    the pivot table will be stored in MultiIndex objects (hierarchical\n",
      "    indexes) on the index and columns of the result DataFrame\n",
      "    \n",
      "    Parameters\n",
      "    ----------\n",
      "    data : DataFrame\n",
      "    values : column to aggregate, optional\n",
      "    index : column, Grouper, array, or list of the previous\n",
      "        If an array is passed, it must be the same length as the data. The\n",
      "        list can contain any of the other types (except list).\n",
      "        Keys to group by on the pivot table index.  If an array is passed,\n",
      "        it is being used as the same manner as column values.\n",
      "    columns : column, Grouper, array, or list of the previous\n",
      "        If an array is passed, it must be the same length as the data. The\n",
      "        list can contain any of the other types (except list).\n",
      "        Keys to group by on the pivot table column.  If an array is passed,\n",
      "        it is being used as the same manner as column values.\n",
      "    aggfunc : function, list of functions, dict, default numpy.mean\n",
      "        If list of functions passed, the resulting pivot table will have\n",
      "        hierarchical columns whose top level are the function names\n",
      "        (inferred from the function objects themselves)\n",
      "        If dict is passed, the key is column to aggregate and value\n",
      "        is function or list of functions\n",
      "    fill_value : scalar, default None\n",
      "        Value to replace missing values with\n",
      "    margins : boolean, default False\n",
      "        Add all row / columns (e.g. for subtotal / grand totals)\n",
      "    dropna : boolean, default True\n",
      "        Do not include columns whose entries are all NaN\n",
      "    margins_name : string, default 'All'\n",
      "        Name of the row / column that will contain the totals\n",
      "        when margins is True.\n",
      "    \n",
      "    Examples\n",
      "    --------\n",
      "    >>> df = pd.DataFrame({\"A\": [\"foo\", \"foo\", \"foo\", \"foo\", \"foo\",\n",
      "    ...                          \"bar\", \"bar\", \"bar\", \"bar\"],\n",
      "    ...                    \"B\": [\"one\", \"one\", \"one\", \"two\", \"two\",\n",
      "    ...                          \"one\", \"one\", \"two\", \"two\"],\n",
      "    ...                    \"C\": [\"small\", \"large\", \"large\", \"small\",\n",
      "    ...                          \"small\", \"large\", \"small\", \"small\",\n",
      "    ...                          \"large\"],\n",
      "    ...                    \"D\": [1, 2, 2, 3, 3, 4, 5, 6, 7]})\n",
      "    >>> df\n",
      "         A    B      C  D\n",
      "    0  foo  one  small  1\n",
      "    1  foo  one  large  2\n",
      "    2  foo  one  large  2\n",
      "    3  foo  two  small  3\n",
      "    4  foo  two  small  3\n",
      "    5  bar  one  large  4\n",
      "    6  bar  one  small  5\n",
      "    7  bar  two  small  6\n",
      "    8  bar  two  large  7\n",
      "    \n",
      "    >>> table = pivot_table(df, values='D', index=['A', 'B'],\n",
      "    ...                     columns=['C'], aggfunc=np.sum)\n",
      "    >>> table\n",
      "    C        large  small\n",
      "    A   B\n",
      "    bar one    4.0    5.0\n",
      "        two    7.0    6.0\n",
      "    foo one    4.0    1.0\n",
      "        two    NaN    6.0\n",
      "    \n",
      "    >>> table = pivot_table(df, values='D', index=['A', 'B'],\n",
      "    ...                     columns=['C'], aggfunc=np.sum)\n",
      "    >>> table\n",
      "    C        large  small\n",
      "    A   B\n",
      "    bar one    4.0    5.0\n",
      "        two    7.0    6.0\n",
      "    foo one    4.0    1.0\n",
      "        two    NaN    6.0\n",
      "    \n",
      "    >>> table = pivot_table(df, values=['D', 'E'], index=['A', 'C'],\n",
      "    ...                     aggfunc={'D': np.mean,\n",
      "    ...                              'E': [min, max, np.mean]})\n",
      "    >>> table\n",
      "                      D   E\n",
      "                   mean max median min\n",
      "    A   C\n",
      "    bar large  5.500000  16   14.5  13\n",
      "        small  5.500000  15   14.5  14\n",
      "    foo large  2.000000  10    9.5   9\n",
      "        small  2.333333  12   11.0   8\n",
      "    \n",
      "    Returns\n",
      "    -------\n",
      "    table : DataFrame\n",
      "    \n",
      "    See also\n",
      "    --------\n",
      "    DataFrame.pivot : pivot without aggregation that can handle\n",
      "        non-numeric data\n",
      "\n"
     ]
    }
   ],
   "source": [
    "help(pd.pivot_table)"
   ]
  },
  {
   "cell_type": "code",
   "execution_count": 188,
   "metadata": {},
   "outputs": [
    {
     "data": {
      "text/html": [
       "<div>\n",
       "<style scoped>\n",
       "    .dataframe tbody tr th:only-of-type {\n",
       "        vertical-align: middle;\n",
       "    }\n",
       "\n",
       "    .dataframe tbody tr th {\n",
       "        vertical-align: top;\n",
       "    }\n",
       "\n",
       "    .dataframe thead th {\n",
       "        text-align: right;\n",
       "    }\n",
       "</style>\n",
       "<table border=\"1\" class=\"dataframe\">\n",
       "  <thead>\n",
       "    <tr style=\"text-align: right;\">\n",
       "      <th></th>\n",
       "      <th>C</th>\n",
       "      <th>bar</th>\n",
       "      <th>foo</th>\n",
       "    </tr>\n",
       "    <tr>\n",
       "      <th>A</th>\n",
       "      <th>B</th>\n",
       "      <th></th>\n",
       "      <th></th>\n",
       "    </tr>\n",
       "  </thead>\n",
       "  <tbody>\n",
       "    <tr>\n",
       "      <th rowspan=\"3\" valign=\"top\">one</th>\n",
       "      <th>A</th>\n",
       "      <td>0.106135</td>\n",
       "      <td>0.704409</td>\n",
       "    </tr>\n",
       "    <tr>\n",
       "      <th>B</th>\n",
       "      <td>0.086886</td>\n",
       "      <td>-0.866929</td>\n",
       "    </tr>\n",
       "    <tr>\n",
       "      <th>C</th>\n",
       "      <td>-0.731205</td>\n",
       "      <td>1.481875</td>\n",
       "    </tr>\n",
       "    <tr>\n",
       "      <th rowspan=\"3\" valign=\"top\">three</th>\n",
       "      <th>A</th>\n",
       "      <td>1.070945</td>\n",
       "      <td>NaN</td>\n",
       "    </tr>\n",
       "    <tr>\n",
       "      <th>B</th>\n",
       "      <td>NaN</td>\n",
       "      <td>0.451708</td>\n",
       "    </tr>\n",
       "    <tr>\n",
       "      <th>C</th>\n",
       "      <td>0.363401</td>\n",
       "      <td>NaN</td>\n",
       "    </tr>\n",
       "    <tr>\n",
       "      <th rowspan=\"3\" valign=\"top\">two</th>\n",
       "      <th>A</th>\n",
       "      <td>NaN</td>\n",
       "      <td>-1.583108</td>\n",
       "    </tr>\n",
       "    <tr>\n",
       "      <th>B</th>\n",
       "      <td>-1.309732</td>\n",
       "      <td>NaN</td>\n",
       "    </tr>\n",
       "    <tr>\n",
       "      <th>C</th>\n",
       "      <td>NaN</td>\n",
       "      <td>-0.499975</td>\n",
       "    </tr>\n",
       "  </tbody>\n",
       "</table>\n",
       "</div>"
      ],
      "text/plain": [
       "C             bar       foo\n",
       "A     B                    \n",
       "one   A  0.106135  0.704409\n",
       "      B  0.086886 -0.866929\n",
       "      C -0.731205  1.481875\n",
       "three A  1.070945       NaN\n",
       "      B       NaN  0.451708\n",
       "      C  0.363401       NaN\n",
       "two   A       NaN -1.583108\n",
       "      B -1.309732       NaN\n",
       "      C       NaN -0.499975"
      ]
     },
     "execution_count": 188,
     "metadata": {},
     "output_type": "execute_result"
    }
   ],
   "source": [
    "pd.pivot_table(df,values='D',index =['A','B'],columns= ['C'])"
   ]
  },
  {
   "cell_type": "markdown",
   "metadata": {},
   "source": [
    "#### Time Series\n",
    "\n",
    "pandas has simple, powerful, and efficient functionality for performing resampling operations during frequency con- version (e.g., converting secondly data into 5-minutely data). "
   ]
  },
  {
   "cell_type": "code",
   "execution_count": 190,
   "metadata": {},
   "outputs": [
    {
     "data": {
      "text/plain": [
       "DatetimeIndex(['2012-01-01 00:00:00', '2012-01-01 00:00:01',\n",
       "               '2012-01-01 00:00:02', '2012-01-01 00:00:03',\n",
       "               '2012-01-01 00:00:04', '2012-01-01 00:00:05',\n",
       "               '2012-01-01 00:00:06', '2012-01-01 00:00:07',\n",
       "               '2012-01-01 00:00:08', '2012-01-01 00:00:09',\n",
       "               '2012-01-01 00:00:10', '2012-01-01 00:00:11',\n",
       "               '2012-01-01 00:00:12', '2012-01-01 00:00:13',\n",
       "               '2012-01-01 00:00:14', '2012-01-01 00:00:15',\n",
       "               '2012-01-01 00:00:16', '2012-01-01 00:00:17',\n",
       "               '2012-01-01 00:00:18', '2012-01-01 00:00:19',\n",
       "               '2012-01-01 00:00:20', '2012-01-01 00:00:21',\n",
       "               '2012-01-01 00:00:22', '2012-01-01 00:00:23',\n",
       "               '2012-01-01 00:00:24', '2012-01-01 00:00:25',\n",
       "               '2012-01-01 00:00:26', '2012-01-01 00:00:27',\n",
       "               '2012-01-01 00:00:28', '2012-01-01 00:00:29',\n",
       "               '2012-01-01 00:00:30', '2012-01-01 00:00:31',\n",
       "               '2012-01-01 00:00:32', '2012-01-01 00:00:33',\n",
       "               '2012-01-01 00:00:34', '2012-01-01 00:00:35',\n",
       "               '2012-01-01 00:00:36', '2012-01-01 00:00:37',\n",
       "               '2012-01-01 00:00:38', '2012-01-01 00:00:39',\n",
       "               '2012-01-01 00:00:40', '2012-01-01 00:00:41',\n",
       "               '2012-01-01 00:00:42', '2012-01-01 00:00:43',\n",
       "               '2012-01-01 00:00:44', '2012-01-01 00:00:45',\n",
       "               '2012-01-01 00:00:46', '2012-01-01 00:00:47',\n",
       "               '2012-01-01 00:00:48', '2012-01-01 00:00:49',\n",
       "               '2012-01-01 00:00:50', '2012-01-01 00:00:51',\n",
       "               '2012-01-01 00:00:52', '2012-01-01 00:00:53',\n",
       "               '2012-01-01 00:00:54', '2012-01-01 00:00:55',\n",
       "               '2012-01-01 00:00:56', '2012-01-01 00:00:57',\n",
       "               '2012-01-01 00:00:58', '2012-01-01 00:00:59',\n",
       "               '2012-01-01 00:01:00', '2012-01-01 00:01:01',\n",
       "               '2012-01-01 00:01:02', '2012-01-01 00:01:03',\n",
       "               '2012-01-01 00:01:04', '2012-01-01 00:01:05',\n",
       "               '2012-01-01 00:01:06', '2012-01-01 00:01:07',\n",
       "               '2012-01-01 00:01:08', '2012-01-01 00:01:09',\n",
       "               '2012-01-01 00:01:10', '2012-01-01 00:01:11',\n",
       "               '2012-01-01 00:01:12', '2012-01-01 00:01:13',\n",
       "               '2012-01-01 00:01:14', '2012-01-01 00:01:15',\n",
       "               '2012-01-01 00:01:16', '2012-01-01 00:01:17',\n",
       "               '2012-01-01 00:01:18', '2012-01-01 00:01:19',\n",
       "               '2012-01-01 00:01:20', '2012-01-01 00:01:21',\n",
       "               '2012-01-01 00:01:22', '2012-01-01 00:01:23',\n",
       "               '2012-01-01 00:01:24', '2012-01-01 00:01:25',\n",
       "               '2012-01-01 00:01:26', '2012-01-01 00:01:27',\n",
       "               '2012-01-01 00:01:28', '2012-01-01 00:01:29',\n",
       "               '2012-01-01 00:01:30', '2012-01-01 00:01:31',\n",
       "               '2012-01-01 00:01:32', '2012-01-01 00:01:33',\n",
       "               '2012-01-01 00:01:34', '2012-01-01 00:01:35',\n",
       "               '2012-01-01 00:01:36', '2012-01-01 00:01:37',\n",
       "               '2012-01-01 00:01:38', '2012-01-01 00:01:39'],\n",
       "              dtype='datetime64[ns]', freq='S')"
      ]
     },
     "execution_count": 190,
     "metadata": {},
     "output_type": "execute_result"
    }
   ],
   "source": [
    "rng = pd.date_range('1/1/2012', periods=100, freq='S')\n",
    "rng\n"
   ]
  },
  {
   "cell_type": "code",
   "execution_count": 191,
   "metadata": {},
   "outputs": [
    {
     "data": {
      "text/plain": [
       "2012-01-01 00:00:00    430\n",
       "2012-01-01 00:00:01     54\n",
       "2012-01-01 00:00:02    276\n",
       "2012-01-01 00:00:03    195\n",
       "2012-01-01 00:00:04    223\n",
       "2012-01-01 00:00:05    432\n",
       "2012-01-01 00:00:06    439\n",
       "2012-01-01 00:00:07    355\n",
       "2012-01-01 00:00:08    406\n",
       "2012-01-01 00:00:09    293\n",
       "2012-01-01 00:00:10    145\n",
       "2012-01-01 00:00:11    468\n",
       "2012-01-01 00:00:12    203\n",
       "2012-01-01 00:00:13     89\n",
       "2012-01-01 00:00:14     36\n",
       "2012-01-01 00:00:15     27\n",
       "2012-01-01 00:00:16     43\n",
       "2012-01-01 00:00:17     79\n",
       "2012-01-01 00:00:18    435\n",
       "2012-01-01 00:00:19    373\n",
       "2012-01-01 00:00:20    374\n",
       "2012-01-01 00:00:21     91\n",
       "2012-01-01 00:00:22     22\n",
       "2012-01-01 00:00:23    282\n",
       "2012-01-01 00:00:24     68\n",
       "2012-01-01 00:00:25    391\n",
       "2012-01-01 00:00:26    436\n",
       "2012-01-01 00:00:27    403\n",
       "2012-01-01 00:00:28     62\n",
       "2012-01-01 00:00:29    444\n",
       "                      ... \n",
       "2012-01-01 00:01:10    307\n",
       "2012-01-01 00:01:11    462\n",
       "2012-01-01 00:01:12     21\n",
       "2012-01-01 00:01:13    232\n",
       "2012-01-01 00:01:14     84\n",
       "2012-01-01 00:01:15    151\n",
       "2012-01-01 00:01:16     85\n",
       "2012-01-01 00:01:17    480\n",
       "2012-01-01 00:01:18    420\n",
       "2012-01-01 00:01:19    395\n",
       "2012-01-01 00:01:20    415\n",
       "2012-01-01 00:01:21    258\n",
       "2012-01-01 00:01:22    216\n",
       "2012-01-01 00:01:23    317\n",
       "2012-01-01 00:01:24     65\n",
       "2012-01-01 00:01:25    438\n",
       "2012-01-01 00:01:26    410\n",
       "2012-01-01 00:01:27    105\n",
       "2012-01-01 00:01:28    411\n",
       "2012-01-01 00:01:29    433\n",
       "2012-01-01 00:01:30    375\n",
       "2012-01-01 00:01:31    369\n",
       "2012-01-01 00:01:32    379\n",
       "2012-01-01 00:01:33    191\n",
       "2012-01-01 00:01:34    177\n",
       "2012-01-01 00:01:35    482\n",
       "2012-01-01 00:01:36    483\n",
       "2012-01-01 00:01:37    141\n",
       "2012-01-01 00:01:38     96\n",
       "2012-01-01 00:01:39    193\n",
       "Freq: S, Length: 100, dtype: int64"
      ]
     },
     "execution_count": 191,
     "metadata": {},
     "output_type": "execute_result"
    }
   ],
   "source": [
    " ts = pd.Series(np.random.randint(0, 500, len(rng)), index=rng)\n",
    "ts"
   ]
  },
  {
   "cell_type": "code",
   "execution_count": 192,
   "metadata": {},
   "outputs": [
    {
     "data": {
      "text/plain": [
       "2012-01-01    25625\n",
       "Freq: 5T, dtype: int64"
      ]
     },
     "execution_count": 192,
     "metadata": {},
     "output_type": "execute_result"
    }
   ],
   "source": [
    "ts.resample('5Min').sum()"
   ]
  },
  {
   "cell_type": "code",
   "execution_count": 195,
   "metadata": {},
   "outputs": [
    {
     "data": {
      "text/plain": [
       "2012-03-06    2.260751\n",
       "2012-03-07   -0.149555\n",
       "2012-03-08   -0.336333\n",
       "2012-03-09    0.737622\n",
       "2012-03-10   -1.741359\n",
       "Freq: D, dtype: float64"
      ]
     },
     "execution_count": 195,
     "metadata": {},
     "output_type": "execute_result"
    }
   ],
   "source": [
    "## Time zone representation\n",
    "rng = pd.date_range('3/6/2012 00:00', periods=5, freq='D')\n",
    "ts = pd.Series(np.random.randn(len(rng)), rng)\n",
    "ts"
   ]
  },
  {
   "cell_type": "code",
   "execution_count": 196,
   "metadata": {
    "collapsed": true
   },
   "outputs": [],
   "source": [
    "ts_utc = ts.tz_localize('UTC')"
   ]
  },
  {
   "cell_type": "code",
   "execution_count": 197,
   "metadata": {},
   "outputs": [
    {
     "data": {
      "text/plain": [
       "2012-03-06 00:00:00+00:00    2.260751\n",
       "2012-03-07 00:00:00+00:00   -0.149555\n",
       "2012-03-08 00:00:00+00:00   -0.336333\n",
       "2012-03-09 00:00:00+00:00    0.737622\n",
       "2012-03-10 00:00:00+00:00   -1.741359\n",
       "Freq: D, dtype: float64"
      ]
     },
     "execution_count": 197,
     "metadata": {},
     "output_type": "execute_result"
    }
   ],
   "source": [
    "ts_utc"
   ]
  },
  {
   "cell_type": "code",
   "execution_count": null,
   "metadata": {
    "collapsed": true
   },
   "outputs": [],
   "source": []
  },
  {
   "cell_type": "code",
   "execution_count": null,
   "metadata": {
    "collapsed": true
   },
   "outputs": [],
   "source": []
  },
  {
   "cell_type": "markdown",
   "metadata": {},
   "source": [
    "\n",
    "\n"
   ]
  },
  {
   "cell_type": "code",
   "execution_count": 198,
   "metadata": {},
   "outputs": [
    {
     "data": {
      "text/plain": [
       "2012-03-05 19:00:00-05:00    2.260751\n",
       "2012-03-06 19:00:00-05:00   -0.149555\n",
       "2012-03-07 19:00:00-05:00   -0.336333\n",
       "2012-03-08 19:00:00-05:00    0.737622\n",
       "2012-03-09 19:00:00-05:00   -1.741359\n",
       "Freq: D, dtype: float64"
      ]
     },
     "execution_count": 198,
     "metadata": {},
     "output_type": "execute_result"
    }
   ],
   "source": [
    "ts_utc.tz_convert('US/Eastern')"
   ]
  },
  {
   "cell_type": "code",
   "execution_count": 202,
   "metadata": {},
   "outputs": [
    {
     "data": {
      "text/plain": [
       "2012-01-31    0.115396\n",
       "2012-02-29   -1.487858\n",
       "2012-03-31    2.495916\n",
       "2012-04-30    1.396403\n",
       "2012-05-31    0.521523\n",
       "Freq: M, dtype: float64"
      ]
     },
     "execution_count": 202,
     "metadata": {},
     "output_type": "execute_result"
    }
   ],
   "source": [
    "## Converting between time span representations\n",
    "rng = pd.date_range('1/1/2012', periods=5, freq='M')\n",
    "ts = pd.Series(np.random.randn(len(rng)), index=rng)\n",
    "ts"
   ]
  },
  {
   "cell_type": "code",
   "execution_count": 204,
   "metadata": {},
   "outputs": [
    {
     "data": {
      "text/plain": [
       "2012-01    0.115396\n",
       "2012-02   -1.487858\n",
       "2012-03    2.495916\n",
       "2012-04    1.396403\n",
       "2012-05    0.521523\n",
       "Freq: M, dtype: float64"
      ]
     },
     "execution_count": 204,
     "metadata": {},
     "output_type": "execute_result"
    }
   ],
   "source": [
    "ps = ts.to_period()\n",
    "ps"
   ]
  },
  {
   "cell_type": "code",
   "execution_count": 205,
   "metadata": {},
   "outputs": [
    {
     "data": {
      "text/plain": [
       "2012-01-01    0.115396\n",
       "2012-02-01   -1.487858\n",
       "2012-03-01    2.495916\n",
       "2012-04-01    1.396403\n",
       "2012-05-01    0.521523\n",
       "Freq: MS, dtype: float64"
      ]
     },
     "execution_count": 205,
     "metadata": {},
     "output_type": "execute_result"
    }
   ],
   "source": [
    "ps.to_timestamp()"
   ]
  },
  {
   "cell_type": "markdown",
   "metadata": {},
   "source": [
    "Converting between period and timestamp enables some convenient arithmetic functions to be used. In the following example, we convert a quarterly frequency with year ending in November to 9am of the end of the month following the quarter end:"
   ]
  },
  {
   "cell_type": "code",
   "execution_count": 206,
   "metadata": {
    "collapsed": true
   },
   "outputs": [],
   "source": [
    "prng = pd.period_range('1990Q1', '2000Q4', freq='Q-NOV')"
   ]
  },
  {
   "cell_type": "code",
   "execution_count": 207,
   "metadata": {
    "collapsed": true
   },
   "outputs": [],
   "source": [
    "ts = pd.Series(np.random.randn(len(prng)), prng)"
   ]
  },
  {
   "cell_type": "code",
   "execution_count": 211,
   "metadata": {
    "collapsed": true
   },
   "outputs": [],
   "source": [
    "ts.index = (prng.asfreq('M', 'e') + 1).asfreq('H', 's') + 9"
   ]
  },
  {
   "cell_type": "code",
   "execution_count": 212,
   "metadata": {},
   "outputs": [
    {
     "data": {
      "text/plain": [
       "1990-03-01 09:00    1.292438\n",
       "1990-06-01 09:00    0.071346\n",
       "1990-09-01 09:00    0.303950\n",
       "1990-12-01 09:00   -1.486121\n",
       "1991-03-01 09:00    0.999761\n",
       "Freq: H, dtype: float64"
      ]
     },
     "execution_count": 212,
     "metadata": {},
     "output_type": "execute_result"
    }
   ],
   "source": [
    "ts.head()"
   ]
  },
  {
   "cell_type": "markdown",
   "metadata": {},
   "source": [
    "#### Categoricals"
   ]
  },
  {
   "cell_type": "code",
   "execution_count": 224,
   "metadata": {
    "collapsed": true
   },
   "outputs": [],
   "source": [
    "df = pd.DataFrame({\"id\":[1,2,3,4,5,6], \"raw_grade\":['a', 'b', 'b', 'a', 'a', 'e']})"
   ]
  },
  {
   "cell_type": "code",
   "execution_count": 214,
   "metadata": {},
   "outputs": [
    {
     "data": {
      "text/html": [
       "<div>\n",
       "<style scoped>\n",
       "    .dataframe tbody tr th:only-of-type {\n",
       "        vertical-align: middle;\n",
       "    }\n",
       "\n",
       "    .dataframe tbody tr th {\n",
       "        vertical-align: top;\n",
       "    }\n",
       "\n",
       "    .dataframe thead th {\n",
       "        text-align: right;\n",
       "    }\n",
       "</style>\n",
       "<table border=\"1\" class=\"dataframe\">\n",
       "  <thead>\n",
       "    <tr style=\"text-align: right;\">\n",
       "      <th></th>\n",
       "      <th>id</th>\n",
       "      <th>raw_grade</th>\n",
       "    </tr>\n",
       "  </thead>\n",
       "  <tbody>\n",
       "    <tr>\n",
       "      <th>0</th>\n",
       "      <td>1</td>\n",
       "      <td>a</td>\n",
       "    </tr>\n",
       "    <tr>\n",
       "      <th>1</th>\n",
       "      <td>2</td>\n",
       "      <td>b</td>\n",
       "    </tr>\n",
       "    <tr>\n",
       "      <th>2</th>\n",
       "      <td>3</td>\n",
       "      <td>b</td>\n",
       "    </tr>\n",
       "    <tr>\n",
       "      <th>3</th>\n",
       "      <td>4</td>\n",
       "      <td>a</td>\n",
       "    </tr>\n",
       "    <tr>\n",
       "      <th>4</th>\n",
       "      <td>5</td>\n",
       "      <td>a</td>\n",
       "    </tr>\n",
       "    <tr>\n",
       "      <th>5</th>\n",
       "      <td>6</td>\n",
       "      <td>e</td>\n",
       "    </tr>\n",
       "  </tbody>\n",
       "</table>\n",
       "</div>"
      ],
      "text/plain": [
       "   id raw_grade\n",
       "0   1         a\n",
       "1   2         b\n",
       "2   3         b\n",
       "3   4         a\n",
       "4   5         a\n",
       "5   6         e"
      ]
     },
     "execution_count": 214,
     "metadata": {},
     "output_type": "execute_result"
    }
   ],
   "source": [
    "df\n"
   ]
  },
  {
   "cell_type": "code",
   "execution_count": 225,
   "metadata": {
    "collapsed": true
   },
   "outputs": [],
   "source": [
    "df['grade'] = df['raw_grade'].astype(\"category\")\n"
   ]
  },
  {
   "cell_type": "code",
   "execution_count": 226,
   "metadata": {},
   "outputs": [
    {
     "data": {
      "text/html": [
       "<div>\n",
       "<style scoped>\n",
       "    .dataframe tbody tr th:only-of-type {\n",
       "        vertical-align: middle;\n",
       "    }\n",
       "\n",
       "    .dataframe tbody tr th {\n",
       "        vertical-align: top;\n",
       "    }\n",
       "\n",
       "    .dataframe thead th {\n",
       "        text-align: right;\n",
       "    }\n",
       "</style>\n",
       "<table border=\"1\" class=\"dataframe\">\n",
       "  <thead>\n",
       "    <tr style=\"text-align: right;\">\n",
       "      <th></th>\n",
       "      <th>id</th>\n",
       "      <th>raw_grade</th>\n",
       "      <th>grade</th>\n",
       "    </tr>\n",
       "  </thead>\n",
       "  <tbody>\n",
       "    <tr>\n",
       "      <th>0</th>\n",
       "      <td>1</td>\n",
       "      <td>a</td>\n",
       "      <td>a</td>\n",
       "    </tr>\n",
       "    <tr>\n",
       "      <th>1</th>\n",
       "      <td>2</td>\n",
       "      <td>b</td>\n",
       "      <td>b</td>\n",
       "    </tr>\n",
       "    <tr>\n",
       "      <th>2</th>\n",
       "      <td>3</td>\n",
       "      <td>b</td>\n",
       "      <td>b</td>\n",
       "    </tr>\n",
       "    <tr>\n",
       "      <th>3</th>\n",
       "      <td>4</td>\n",
       "      <td>a</td>\n",
       "      <td>a</td>\n",
       "    </tr>\n",
       "    <tr>\n",
       "      <th>4</th>\n",
       "      <td>5</td>\n",
       "      <td>a</td>\n",
       "      <td>a</td>\n",
       "    </tr>\n",
       "    <tr>\n",
       "      <th>5</th>\n",
       "      <td>6</td>\n",
       "      <td>e</td>\n",
       "      <td>e</td>\n",
       "    </tr>\n",
       "  </tbody>\n",
       "</table>\n",
       "</div>"
      ],
      "text/plain": [
       "   id raw_grade grade\n",
       "0   1         a     a\n",
       "1   2         b     b\n",
       "2   3         b     b\n",
       "3   4         a     a\n",
       "4   5         a     a\n",
       "5   6         e     e"
      ]
     },
     "execution_count": 226,
     "metadata": {},
     "output_type": "execute_result"
    }
   ],
   "source": [
    "df"
   ]
  },
  {
   "cell_type": "code",
   "execution_count": 227,
   "metadata": {},
   "outputs": [
    {
     "data": {
      "text/html": [
       "<div>\n",
       "<style scoped>\n",
       "    .dataframe tbody tr th:only-of-type {\n",
       "        vertical-align: middle;\n",
       "    }\n",
       "\n",
       "    .dataframe tbody tr th {\n",
       "        vertical-align: top;\n",
       "    }\n",
       "\n",
       "    .dataframe thead th {\n",
       "        text-align: right;\n",
       "    }\n",
       "</style>\n",
       "<table border=\"1\" class=\"dataframe\">\n",
       "  <thead>\n",
       "    <tr style=\"text-align: right;\">\n",
       "      <th></th>\n",
       "      <th>id</th>\n",
       "      <th>raw_grade</th>\n",
       "      <th>grade</th>\n",
       "    </tr>\n",
       "  </thead>\n",
       "  <tbody>\n",
       "    <tr>\n",
       "      <th>0</th>\n",
       "      <td>1</td>\n",
       "      <td>a</td>\n",
       "      <td>Very_good</td>\n",
       "    </tr>\n",
       "    <tr>\n",
       "      <th>1</th>\n",
       "      <td>2</td>\n",
       "      <td>b</td>\n",
       "      <td>Good</td>\n",
       "    </tr>\n",
       "    <tr>\n",
       "      <th>2</th>\n",
       "      <td>3</td>\n",
       "      <td>b</td>\n",
       "      <td>Good</td>\n",
       "    </tr>\n",
       "    <tr>\n",
       "      <th>3</th>\n",
       "      <td>4</td>\n",
       "      <td>a</td>\n",
       "      <td>Very_good</td>\n",
       "    </tr>\n",
       "    <tr>\n",
       "      <th>4</th>\n",
       "      <td>5</td>\n",
       "      <td>a</td>\n",
       "      <td>Very_good</td>\n",
       "    </tr>\n",
       "    <tr>\n",
       "      <th>5</th>\n",
       "      <td>6</td>\n",
       "      <td>e</td>\n",
       "      <td>Very_bad</td>\n",
       "    </tr>\n",
       "  </tbody>\n",
       "</table>\n",
       "</div>"
      ],
      "text/plain": [
       "   id raw_grade      grade\n",
       "0   1         a  Very_good\n",
       "1   2         b       Good\n",
       "2   3         b       Good\n",
       "3   4         a  Very_good\n",
       "4   5         a  Very_good\n",
       "5   6         e   Very_bad"
      ]
     },
     "execution_count": 227,
     "metadata": {},
     "output_type": "execute_result"
    }
   ],
   "source": [
    "\n",
    "df['grade'].cat.categories = [\"Very_good\",\"Good\", \"Very_bad\"]\n",
    "df"
   ]
  },
  {
   "cell_type": "code",
   "execution_count": 222,
   "metadata": {
    "collapsed": true
   },
   "outputs": [],
   "source": [
    "df[\"grade\"] = df[\"grade\"].cat.set_categories([\"very bad\", \"bad\", \"medium\", \"good\", \"very good\"])"
   ]
  },
  {
   "cell_type": "code",
   "execution_count": 223,
   "metadata": {},
   "outputs": [
    {
     "data": {
      "text/html": [
       "<div>\n",
       "<style scoped>\n",
       "    .dataframe tbody tr th:only-of-type {\n",
       "        vertical-align: middle;\n",
       "    }\n",
       "\n",
       "    .dataframe tbody tr th {\n",
       "        vertical-align: top;\n",
       "    }\n",
       "\n",
       "    .dataframe thead th {\n",
       "        text-align: right;\n",
       "    }\n",
       "</style>\n",
       "<table border=\"1\" class=\"dataframe\">\n",
       "  <thead>\n",
       "    <tr style=\"text-align: right;\">\n",
       "      <th></th>\n",
       "      <th>id</th>\n",
       "      <th>raw_grade</th>\n",
       "      <th>grade</th>\n",
       "    </tr>\n",
       "  </thead>\n",
       "  <tbody>\n",
       "    <tr>\n",
       "      <th>0</th>\n",
       "      <td>1</td>\n",
       "      <td>a</td>\n",
       "      <td>NaN</td>\n",
       "    </tr>\n",
       "    <tr>\n",
       "      <th>1</th>\n",
       "      <td>2</td>\n",
       "      <td>b</td>\n",
       "      <td>NaN</td>\n",
       "    </tr>\n",
       "    <tr>\n",
       "      <th>2</th>\n",
       "      <td>3</td>\n",
       "      <td>b</td>\n",
       "      <td>NaN</td>\n",
       "    </tr>\n",
       "    <tr>\n",
       "      <th>3</th>\n",
       "      <td>4</td>\n",
       "      <td>a</td>\n",
       "      <td>NaN</td>\n",
       "    </tr>\n",
       "    <tr>\n",
       "      <th>4</th>\n",
       "      <td>5</td>\n",
       "      <td>a</td>\n",
       "      <td>NaN</td>\n",
       "    </tr>\n",
       "    <tr>\n",
       "      <th>5</th>\n",
       "      <td>6</td>\n",
       "      <td>e</td>\n",
       "      <td>NaN</td>\n",
       "    </tr>\n",
       "  </tbody>\n",
       "</table>\n",
       "</div>"
      ],
      "text/plain": [
       "   id raw_grade grade\n",
       "0   1         a   NaN\n",
       "1   2         b   NaN\n",
       "2   3         b   NaN\n",
       "3   4         a   NaN\n",
       "4   5         a   NaN\n",
       "5   6         e   NaN"
      ]
     },
     "execution_count": 223,
     "metadata": {},
     "output_type": "execute_result"
    }
   ],
   "source": [
    "df\n"
   ]
  },
  {
   "cell_type": "code",
   "execution_count": 221,
   "metadata": {},
   "outputs": [
    {
     "data": {
      "text/html": [
       "<div>\n",
       "<style scoped>\n",
       "    .dataframe tbody tr th:only-of-type {\n",
       "        vertical-align: middle;\n",
       "    }\n",
       "\n",
       "    .dataframe tbody tr th {\n",
       "        vertical-align: top;\n",
       "    }\n",
       "\n",
       "    .dataframe thead th {\n",
       "        text-align: right;\n",
       "    }\n",
       "</style>\n",
       "<table border=\"1\" class=\"dataframe\">\n",
       "  <thead>\n",
       "    <tr style=\"text-align: right;\">\n",
       "      <th></th>\n",
       "      <th>id</th>\n",
       "      <th>raw_grade</th>\n",
       "      <th>grade</th>\n",
       "    </tr>\n",
       "  </thead>\n",
       "  <tbody>\n",
       "    <tr>\n",
       "      <th>0</th>\n",
       "      <td>1</td>\n",
       "      <td>a</td>\n",
       "      <td>NaN</td>\n",
       "    </tr>\n",
       "    <tr>\n",
       "      <th>1</th>\n",
       "      <td>2</td>\n",
       "      <td>b</td>\n",
       "      <td>NaN</td>\n",
       "    </tr>\n",
       "    <tr>\n",
       "      <th>2</th>\n",
       "      <td>3</td>\n",
       "      <td>b</td>\n",
       "      <td>NaN</td>\n",
       "    </tr>\n",
       "    <tr>\n",
       "      <th>3</th>\n",
       "      <td>4</td>\n",
       "      <td>a</td>\n",
       "      <td>NaN</td>\n",
       "    </tr>\n",
       "    <tr>\n",
       "      <th>4</th>\n",
       "      <td>5</td>\n",
       "      <td>a</td>\n",
       "      <td>NaN</td>\n",
       "    </tr>\n",
       "    <tr>\n",
       "      <th>5</th>\n",
       "      <td>6</td>\n",
       "      <td>e</td>\n",
       "      <td>NaN</td>\n",
       "    </tr>\n",
       "  </tbody>\n",
       "</table>\n",
       "</div>"
      ],
      "text/plain": [
       "   id raw_grade grade\n",
       "0   1         a   NaN\n",
       "1   2         b   NaN\n",
       "2   3         b   NaN\n",
       "3   4         a   NaN\n",
       "4   5         a   NaN\n",
       "5   6         e   NaN"
      ]
     },
     "execution_count": 221,
     "metadata": {},
     "output_type": "execute_result"
    }
   ],
   "source": [
    "df.sort_values(by=\"grade\")"
   ]
  },
  {
   "cell_type": "markdown",
   "metadata": {},
   "source": [
    "#### Plotting"
   ]
  },
  {
   "cell_type": "code",
   "execution_count": 228,
   "metadata": {
    "collapsed": true
   },
   "outputs": [],
   "source": [
    "ts = pd.Series(np.random.randn(1000), index=pd.date_range('1/1/2000', periods=1000))"
   ]
  },
  {
   "cell_type": "code",
   "execution_count": 229,
   "metadata": {
    "collapsed": true
   },
   "outputs": [],
   "source": [
    "ts = ts.cumsum()"
   ]
  },
  {
   "cell_type": "code",
   "execution_count": 230,
   "metadata": {},
   "outputs": [
    {
     "data": {
      "text/plain": [
       "<matplotlib.axes._subplots.AxesSubplot at 0x116a7a828>"
      ]
     },
     "execution_count": 230,
     "metadata": {},
     "output_type": "execute_result"
    }
   ],
   "source": [
    "ts.plot()\n"
   ]
  },
  {
   "cell_type": "code",
   "execution_count": 231,
   "metadata": {
    "collapsed": true
   },
   "outputs": [],
   "source": [
    "df = pd.DataFrame(np.random.randn(1000, 4), index=ts.index,columns=['A', 'B', 'C', 'D'])\n"
   ]
  },
  {
   "cell_type": "code",
   "execution_count": 232,
   "metadata": {
    "collapsed": true
   },
   "outputs": [],
   "source": [
    " df = df.cumsum()"
   ]
  },
  {
   "cell_type": "code",
   "execution_count": 233,
   "metadata": {
    "collapsed": true
   },
   "outputs": [],
   "source": [
    "plt.figure();"
   ]
  },
  {
   "cell_type": "code",
   "execution_count": 235,
   "metadata": {
    "collapsed": true
   },
   "outputs": [],
   "source": [
    "df.plot(); "
   ]
  },
  {
   "cell_type": "code",
   "execution_count": 236,
   "metadata": {},
   "outputs": [
    {
     "data": {
      "text/plain": [
       "<matplotlib.legend.Legend at 0x116c45908>"
      ]
     },
     "execution_count": 236,
     "metadata": {},
     "output_type": "execute_result"
    }
   ],
   "source": [
    "plt.legend(loc='best')"
   ]
  },
  {
   "cell_type": "markdown",
   "metadata": {},
   "source": [
    "#### Getting Data In/Out"
   ]
  },
  {
   "cell_type": "code",
   "execution_count": 237,
   "metadata": {
    "collapsed": true
   },
   "outputs": [],
   "source": [
    "df.to_csv('foo.csv')"
   ]
  },
  {
   "cell_type": "code",
   "execution_count": 238,
   "metadata": {},
   "outputs": [
    {
     "data": {
      "text/html": [
       "<div>\n",
       "<style scoped>\n",
       "    .dataframe tbody tr th:only-of-type {\n",
       "        vertical-align: middle;\n",
       "    }\n",
       "\n",
       "    .dataframe tbody tr th {\n",
       "        vertical-align: top;\n",
       "    }\n",
       "\n",
       "    .dataframe thead th {\n",
       "        text-align: right;\n",
       "    }\n",
       "</style>\n",
       "<table border=\"1\" class=\"dataframe\">\n",
       "  <thead>\n",
       "    <tr style=\"text-align: right;\">\n",
       "      <th></th>\n",
       "      <th>Unnamed: 0</th>\n",
       "      <th>A</th>\n",
       "      <th>B</th>\n",
       "      <th>C</th>\n",
       "      <th>D</th>\n",
       "    </tr>\n",
       "  </thead>\n",
       "  <tbody>\n",
       "    <tr>\n",
       "      <th>0</th>\n",
       "      <td>2000-01-01</td>\n",
       "      <td>0.827621</td>\n",
       "      <td>-0.281782</td>\n",
       "      <td>-0.166937</td>\n",
       "      <td>-0.869104</td>\n",
       "    </tr>\n",
       "    <tr>\n",
       "      <th>1</th>\n",
       "      <td>2000-01-02</td>\n",
       "      <td>1.398077</td>\n",
       "      <td>-0.395234</td>\n",
       "      <td>1.625438</td>\n",
       "      <td>-0.765463</td>\n",
       "    </tr>\n",
       "    <tr>\n",
       "      <th>2</th>\n",
       "      <td>2000-01-03</td>\n",
       "      <td>2.920340</td>\n",
       "      <td>-1.696290</td>\n",
       "      <td>1.647347</td>\n",
       "      <td>-1.240526</td>\n",
       "    </tr>\n",
       "    <tr>\n",
       "      <th>3</th>\n",
       "      <td>2000-01-04</td>\n",
       "      <td>3.787990</td>\n",
       "      <td>-2.873107</td>\n",
       "      <td>1.641727</td>\n",
       "      <td>-1.586159</td>\n",
       "    </tr>\n",
       "    <tr>\n",
       "      <th>4</th>\n",
       "      <td>2000-01-05</td>\n",
       "      <td>2.888086</td>\n",
       "      <td>-1.652603</td>\n",
       "      <td>1.769317</td>\n",
       "      <td>-2.383967</td>\n",
       "    </tr>\n",
       "    <tr>\n",
       "      <th>5</th>\n",
       "      <td>2000-01-06</td>\n",
       "      <td>3.108331</td>\n",
       "      <td>-3.507232</td>\n",
       "      <td>0.434552</td>\n",
       "      <td>-1.243871</td>\n",
       "    </tr>\n",
       "    <tr>\n",
       "      <th>6</th>\n",
       "      <td>2000-01-07</td>\n",
       "      <td>3.724756</td>\n",
       "      <td>-4.451210</td>\n",
       "      <td>0.431474</td>\n",
       "      <td>-2.480920</td>\n",
       "    </tr>\n",
       "    <tr>\n",
       "      <th>7</th>\n",
       "      <td>2000-01-08</td>\n",
       "      <td>3.887005</td>\n",
       "      <td>-7.194912</td>\n",
       "      <td>-0.180652</td>\n",
       "      <td>-2.935083</td>\n",
       "    </tr>\n",
       "    <tr>\n",
       "      <th>8</th>\n",
       "      <td>2000-01-09</td>\n",
       "      <td>4.488749</td>\n",
       "      <td>-6.776646</td>\n",
       "      <td>0.392486</td>\n",
       "      <td>-2.329330</td>\n",
       "    </tr>\n",
       "    <tr>\n",
       "      <th>9</th>\n",
       "      <td>2000-01-10</td>\n",
       "      <td>5.351117</td>\n",
       "      <td>-5.798648</td>\n",
       "      <td>0.975288</td>\n",
       "      <td>-2.341406</td>\n",
       "    </tr>\n",
       "    <tr>\n",
       "      <th>10</th>\n",
       "      <td>2000-01-11</td>\n",
       "      <td>6.241104</td>\n",
       "      <td>-5.766299</td>\n",
       "      <td>1.691788</td>\n",
       "      <td>-2.475098</td>\n",
       "    </tr>\n",
       "    <tr>\n",
       "      <th>11</th>\n",
       "      <td>2000-01-12</td>\n",
       "      <td>5.081402</td>\n",
       "      <td>-7.876303</td>\n",
       "      <td>2.238461</td>\n",
       "      <td>-0.722957</td>\n",
       "    </tr>\n",
       "    <tr>\n",
       "      <th>12</th>\n",
       "      <td>2000-01-13</td>\n",
       "      <td>7.734762</td>\n",
       "      <td>-7.677679</td>\n",
       "      <td>1.539870</td>\n",
       "      <td>-1.297647</td>\n",
       "    </tr>\n",
       "    <tr>\n",
       "      <th>13</th>\n",
       "      <td>2000-01-14</td>\n",
       "      <td>8.945209</td>\n",
       "      <td>-7.988288</td>\n",
       "      <td>2.130724</td>\n",
       "      <td>-1.077845</td>\n",
       "    </tr>\n",
       "    <tr>\n",
       "      <th>14</th>\n",
       "      <td>2000-01-15</td>\n",
       "      <td>10.718108</td>\n",
       "      <td>-8.102612</td>\n",
       "      <td>3.117619</td>\n",
       "      <td>1.271567</td>\n",
       "    </tr>\n",
       "    <tr>\n",
       "      <th>15</th>\n",
       "      <td>2000-01-16</td>\n",
       "      <td>10.524701</td>\n",
       "      <td>-7.825713</td>\n",
       "      <td>3.198159</td>\n",
       "      <td>1.585368</td>\n",
       "    </tr>\n",
       "    <tr>\n",
       "      <th>16</th>\n",
       "      <td>2000-01-17</td>\n",
       "      <td>10.262763</td>\n",
       "      <td>-7.520211</td>\n",
       "      <td>3.388922</td>\n",
       "      <td>1.277977</td>\n",
       "    </tr>\n",
       "    <tr>\n",
       "      <th>17</th>\n",
       "      <td>2000-01-18</td>\n",
       "      <td>10.307591</td>\n",
       "      <td>-9.375975</td>\n",
       "      <td>1.657389</td>\n",
       "      <td>0.530937</td>\n",
       "    </tr>\n",
       "    <tr>\n",
       "      <th>18</th>\n",
       "      <td>2000-01-19</td>\n",
       "      <td>11.139463</td>\n",
       "      <td>-9.429763</td>\n",
       "      <td>1.257691</td>\n",
       "      <td>0.055412</td>\n",
       "    </tr>\n",
       "    <tr>\n",
       "      <th>19</th>\n",
       "      <td>2000-01-20</td>\n",
       "      <td>8.842927</td>\n",
       "      <td>-8.810076</td>\n",
       "      <td>2.404332</td>\n",
       "      <td>-1.648163</td>\n",
       "    </tr>\n",
       "    <tr>\n",
       "      <th>20</th>\n",
       "      <td>2000-01-21</td>\n",
       "      <td>7.934696</td>\n",
       "      <td>-8.049050</td>\n",
       "      <td>1.206333</td>\n",
       "      <td>-1.748004</td>\n",
       "    </tr>\n",
       "    <tr>\n",
       "      <th>21</th>\n",
       "      <td>2000-01-22</td>\n",
       "      <td>7.218800</td>\n",
       "      <td>-7.023156</td>\n",
       "      <td>1.328055</td>\n",
       "      <td>-3.170133</td>\n",
       "    </tr>\n",
       "    <tr>\n",
       "      <th>22</th>\n",
       "      <td>2000-01-23</td>\n",
       "      <td>8.367652</td>\n",
       "      <td>-8.815439</td>\n",
       "      <td>2.777268</td>\n",
       "      <td>-2.531008</td>\n",
       "    </tr>\n",
       "    <tr>\n",
       "      <th>23</th>\n",
       "      <td>2000-01-24</td>\n",
       "      <td>8.372339</td>\n",
       "      <td>-9.045886</td>\n",
       "      <td>2.882156</td>\n",
       "      <td>-4.962207</td>\n",
       "    </tr>\n",
       "    <tr>\n",
       "      <th>24</th>\n",
       "      <td>2000-01-25</td>\n",
       "      <td>9.564313</td>\n",
       "      <td>-8.455762</td>\n",
       "      <td>0.657311</td>\n",
       "      <td>-4.322786</td>\n",
       "    </tr>\n",
       "    <tr>\n",
       "      <th>25</th>\n",
       "      <td>2000-01-26</td>\n",
       "      <td>8.846203</td>\n",
       "      <td>-9.547416</td>\n",
       "      <td>1.219037</td>\n",
       "      <td>-4.748909</td>\n",
       "    </tr>\n",
       "    <tr>\n",
       "      <th>26</th>\n",
       "      <td>2000-01-27</td>\n",
       "      <td>8.446864</td>\n",
       "      <td>-10.785142</td>\n",
       "      <td>2.542182</td>\n",
       "      <td>-5.504721</td>\n",
       "    </tr>\n",
       "    <tr>\n",
       "      <th>27</th>\n",
       "      <td>2000-01-28</td>\n",
       "      <td>7.715828</td>\n",
       "      <td>-10.308465</td>\n",
       "      <td>3.679636</td>\n",
       "      <td>-6.140709</td>\n",
       "    </tr>\n",
       "    <tr>\n",
       "      <th>28</th>\n",
       "      <td>2000-01-29</td>\n",
       "      <td>7.119376</td>\n",
       "      <td>-10.320723</td>\n",
       "      <td>6.303991</td>\n",
       "      <td>-5.476167</td>\n",
       "    </tr>\n",
       "    <tr>\n",
       "      <th>29</th>\n",
       "      <td>2000-01-30</td>\n",
       "      <td>7.319562</td>\n",
       "      <td>-8.842019</td>\n",
       "      <td>5.916357</td>\n",
       "      <td>-6.068416</td>\n",
       "    </tr>\n",
       "    <tr>\n",
       "      <th>...</th>\n",
       "      <td>...</td>\n",
       "      <td>...</td>\n",
       "      <td>...</td>\n",
       "      <td>...</td>\n",
       "      <td>...</td>\n",
       "    </tr>\n",
       "    <tr>\n",
       "      <th>970</th>\n",
       "      <td>2002-08-28</td>\n",
       "      <td>10.461603</td>\n",
       "      <td>-58.774449</td>\n",
       "      <td>-40.180647</td>\n",
       "      <td>-7.567166</td>\n",
       "    </tr>\n",
       "    <tr>\n",
       "      <th>971</th>\n",
       "      <td>2002-08-29</td>\n",
       "      <td>11.444612</td>\n",
       "      <td>-58.346292</td>\n",
       "      <td>-41.977006</td>\n",
       "      <td>-4.867933</td>\n",
       "    </tr>\n",
       "    <tr>\n",
       "      <th>972</th>\n",
       "      <td>2002-08-30</td>\n",
       "      <td>10.763389</td>\n",
       "      <td>-57.566485</td>\n",
       "      <td>-42.709874</td>\n",
       "      <td>-6.197061</td>\n",
       "    </tr>\n",
       "    <tr>\n",
       "      <th>973</th>\n",
       "      <td>2002-08-31</td>\n",
       "      <td>10.934644</td>\n",
       "      <td>-56.991026</td>\n",
       "      <td>-42.681130</td>\n",
       "      <td>-7.278237</td>\n",
       "    </tr>\n",
       "    <tr>\n",
       "      <th>974</th>\n",
       "      <td>2002-09-01</td>\n",
       "      <td>10.406684</td>\n",
       "      <td>-58.440719</td>\n",
       "      <td>-43.738367</td>\n",
       "      <td>-8.147417</td>\n",
       "    </tr>\n",
       "    <tr>\n",
       "      <th>975</th>\n",
       "      <td>2002-09-02</td>\n",
       "      <td>12.428108</td>\n",
       "      <td>-58.035450</td>\n",
       "      <td>-45.991233</td>\n",
       "      <td>-7.758501</td>\n",
       "    </tr>\n",
       "    <tr>\n",
       "      <th>976</th>\n",
       "      <td>2002-09-03</td>\n",
       "      <td>11.818651</td>\n",
       "      <td>-58.844100</td>\n",
       "      <td>-45.431465</td>\n",
       "      <td>-7.703119</td>\n",
       "    </tr>\n",
       "    <tr>\n",
       "      <th>977</th>\n",
       "      <td>2002-09-04</td>\n",
       "      <td>11.312803</td>\n",
       "      <td>-58.278615</td>\n",
       "      <td>-45.651349</td>\n",
       "      <td>-6.641977</td>\n",
       "    </tr>\n",
       "    <tr>\n",
       "      <th>978</th>\n",
       "      <td>2002-09-05</td>\n",
       "      <td>11.732199</td>\n",
       "      <td>-58.553902</td>\n",
       "      <td>-45.255771</td>\n",
       "      <td>-5.882949</td>\n",
       "    </tr>\n",
       "    <tr>\n",
       "      <th>979</th>\n",
       "      <td>2002-09-06</td>\n",
       "      <td>11.596164</td>\n",
       "      <td>-59.168267</td>\n",
       "      <td>-46.600979</td>\n",
       "      <td>-6.669320</td>\n",
       "    </tr>\n",
       "    <tr>\n",
       "      <th>980</th>\n",
       "      <td>2002-09-07</td>\n",
       "      <td>11.109803</td>\n",
       "      <td>-61.080333</td>\n",
       "      <td>-47.248580</td>\n",
       "      <td>-9.363887</td>\n",
       "    </tr>\n",
       "    <tr>\n",
       "      <th>981</th>\n",
       "      <td>2002-09-08</td>\n",
       "      <td>12.278546</td>\n",
       "      <td>-60.667592</td>\n",
       "      <td>-46.295577</td>\n",
       "      <td>-9.976097</td>\n",
       "    </tr>\n",
       "    <tr>\n",
       "      <th>982</th>\n",
       "      <td>2002-09-09</td>\n",
       "      <td>12.641052</td>\n",
       "      <td>-59.811081</td>\n",
       "      <td>-46.224647</td>\n",
       "      <td>-11.167366</td>\n",
       "    </tr>\n",
       "    <tr>\n",
       "      <th>983</th>\n",
       "      <td>2002-09-10</td>\n",
       "      <td>12.838844</td>\n",
       "      <td>-59.621536</td>\n",
       "      <td>-45.270660</td>\n",
       "      <td>-12.928662</td>\n",
       "    </tr>\n",
       "    <tr>\n",
       "      <th>984</th>\n",
       "      <td>2002-09-11</td>\n",
       "      <td>12.784705</td>\n",
       "      <td>-60.529525</td>\n",
       "      <td>-44.936009</td>\n",
       "      <td>-14.529851</td>\n",
       "    </tr>\n",
       "    <tr>\n",
       "      <th>985</th>\n",
       "      <td>2002-09-12</td>\n",
       "      <td>11.046128</td>\n",
       "      <td>-61.546351</td>\n",
       "      <td>-46.505671</td>\n",
       "      <td>-12.926008</td>\n",
       "    </tr>\n",
       "    <tr>\n",
       "      <th>986</th>\n",
       "      <td>2002-09-13</td>\n",
       "      <td>13.265620</td>\n",
       "      <td>-59.944380</td>\n",
       "      <td>-46.937404</td>\n",
       "      <td>-13.514968</td>\n",
       "    </tr>\n",
       "    <tr>\n",
       "      <th>987</th>\n",
       "      <td>2002-09-14</td>\n",
       "      <td>12.531677</td>\n",
       "      <td>-60.598351</td>\n",
       "      <td>-47.151030</td>\n",
       "      <td>-13.796653</td>\n",
       "    </tr>\n",
       "    <tr>\n",
       "      <th>988</th>\n",
       "      <td>2002-09-15</td>\n",
       "      <td>12.146307</td>\n",
       "      <td>-60.338556</td>\n",
       "      <td>-46.893299</td>\n",
       "      <td>-14.056927</td>\n",
       "    </tr>\n",
       "    <tr>\n",
       "      <th>989</th>\n",
       "      <td>2002-09-16</td>\n",
       "      <td>12.837952</td>\n",
       "      <td>-59.194889</td>\n",
       "      <td>-48.730115</td>\n",
       "      <td>-15.030837</td>\n",
       "    </tr>\n",
       "    <tr>\n",
       "      <th>990</th>\n",
       "      <td>2002-09-17</td>\n",
       "      <td>13.698850</td>\n",
       "      <td>-59.001593</td>\n",
       "      <td>-48.201860</td>\n",
       "      <td>-15.184768</td>\n",
       "    </tr>\n",
       "    <tr>\n",
       "      <th>991</th>\n",
       "      <td>2002-09-18</td>\n",
       "      <td>14.071444</td>\n",
       "      <td>-58.520007</td>\n",
       "      <td>-49.220634</td>\n",
       "      <td>-15.855610</td>\n",
       "    </tr>\n",
       "    <tr>\n",
       "      <th>992</th>\n",
       "      <td>2002-09-19</td>\n",
       "      <td>13.970310</td>\n",
       "      <td>-57.826312</td>\n",
       "      <td>-47.540980</td>\n",
       "      <td>-18.782650</td>\n",
       "    </tr>\n",
       "    <tr>\n",
       "      <th>993</th>\n",
       "      <td>2002-09-20</td>\n",
       "      <td>14.113508</td>\n",
       "      <td>-58.084177</td>\n",
       "      <td>-46.161442</td>\n",
       "      <td>-20.372649</td>\n",
       "    </tr>\n",
       "    <tr>\n",
       "      <th>994</th>\n",
       "      <td>2002-09-21</td>\n",
       "      <td>15.202046</td>\n",
       "      <td>-58.464723</td>\n",
       "      <td>-44.653177</td>\n",
       "      <td>-20.908058</td>\n",
       "    </tr>\n",
       "    <tr>\n",
       "      <th>995</th>\n",
       "      <td>2002-09-22</td>\n",
       "      <td>14.581204</td>\n",
       "      <td>-58.510941</td>\n",
       "      <td>-44.301279</td>\n",
       "      <td>-20.192420</td>\n",
       "    </tr>\n",
       "    <tr>\n",
       "      <th>996</th>\n",
       "      <td>2002-09-23</td>\n",
       "      <td>15.032247</td>\n",
       "      <td>-57.157113</td>\n",
       "      <td>-45.029560</td>\n",
       "      <td>-19.917253</td>\n",
       "    </tr>\n",
       "    <tr>\n",
       "      <th>997</th>\n",
       "      <td>2002-09-24</td>\n",
       "      <td>16.409789</td>\n",
       "      <td>-57.911058</td>\n",
       "      <td>-46.033411</td>\n",
       "      <td>-20.839804</td>\n",
       "    </tr>\n",
       "    <tr>\n",
       "      <th>998</th>\n",
       "      <td>2002-09-25</td>\n",
       "      <td>17.207837</td>\n",
       "      <td>-57.984331</td>\n",
       "      <td>-45.378448</td>\n",
       "      <td>-20.684788</td>\n",
       "    </tr>\n",
       "    <tr>\n",
       "      <th>999</th>\n",
       "      <td>2002-09-26</td>\n",
       "      <td>17.009452</td>\n",
       "      <td>-56.604951</td>\n",
       "      <td>-44.590656</td>\n",
       "      <td>-20.516077</td>\n",
       "    </tr>\n",
       "  </tbody>\n",
       "</table>\n",
       "<p>1000 rows × 5 columns</p>\n",
       "</div>"
      ],
      "text/plain": [
       "     Unnamed: 0          A          B          C          D\n",
       "0    2000-01-01   0.827621  -0.281782  -0.166937  -0.869104\n",
       "1    2000-01-02   1.398077  -0.395234   1.625438  -0.765463\n",
       "2    2000-01-03   2.920340  -1.696290   1.647347  -1.240526\n",
       "3    2000-01-04   3.787990  -2.873107   1.641727  -1.586159\n",
       "4    2000-01-05   2.888086  -1.652603   1.769317  -2.383967\n",
       "5    2000-01-06   3.108331  -3.507232   0.434552  -1.243871\n",
       "6    2000-01-07   3.724756  -4.451210   0.431474  -2.480920\n",
       "7    2000-01-08   3.887005  -7.194912  -0.180652  -2.935083\n",
       "8    2000-01-09   4.488749  -6.776646   0.392486  -2.329330\n",
       "9    2000-01-10   5.351117  -5.798648   0.975288  -2.341406\n",
       "10   2000-01-11   6.241104  -5.766299   1.691788  -2.475098\n",
       "11   2000-01-12   5.081402  -7.876303   2.238461  -0.722957\n",
       "12   2000-01-13   7.734762  -7.677679   1.539870  -1.297647\n",
       "13   2000-01-14   8.945209  -7.988288   2.130724  -1.077845\n",
       "14   2000-01-15  10.718108  -8.102612   3.117619   1.271567\n",
       "15   2000-01-16  10.524701  -7.825713   3.198159   1.585368\n",
       "16   2000-01-17  10.262763  -7.520211   3.388922   1.277977\n",
       "17   2000-01-18  10.307591  -9.375975   1.657389   0.530937\n",
       "18   2000-01-19  11.139463  -9.429763   1.257691   0.055412\n",
       "19   2000-01-20   8.842927  -8.810076   2.404332  -1.648163\n",
       "20   2000-01-21   7.934696  -8.049050   1.206333  -1.748004\n",
       "21   2000-01-22   7.218800  -7.023156   1.328055  -3.170133\n",
       "22   2000-01-23   8.367652  -8.815439   2.777268  -2.531008\n",
       "23   2000-01-24   8.372339  -9.045886   2.882156  -4.962207\n",
       "24   2000-01-25   9.564313  -8.455762   0.657311  -4.322786\n",
       "25   2000-01-26   8.846203  -9.547416   1.219037  -4.748909\n",
       "26   2000-01-27   8.446864 -10.785142   2.542182  -5.504721\n",
       "27   2000-01-28   7.715828 -10.308465   3.679636  -6.140709\n",
       "28   2000-01-29   7.119376 -10.320723   6.303991  -5.476167\n",
       "29   2000-01-30   7.319562  -8.842019   5.916357  -6.068416\n",
       "..          ...        ...        ...        ...        ...\n",
       "970  2002-08-28  10.461603 -58.774449 -40.180647  -7.567166\n",
       "971  2002-08-29  11.444612 -58.346292 -41.977006  -4.867933\n",
       "972  2002-08-30  10.763389 -57.566485 -42.709874  -6.197061\n",
       "973  2002-08-31  10.934644 -56.991026 -42.681130  -7.278237\n",
       "974  2002-09-01  10.406684 -58.440719 -43.738367  -8.147417\n",
       "975  2002-09-02  12.428108 -58.035450 -45.991233  -7.758501\n",
       "976  2002-09-03  11.818651 -58.844100 -45.431465  -7.703119\n",
       "977  2002-09-04  11.312803 -58.278615 -45.651349  -6.641977\n",
       "978  2002-09-05  11.732199 -58.553902 -45.255771  -5.882949\n",
       "979  2002-09-06  11.596164 -59.168267 -46.600979  -6.669320\n",
       "980  2002-09-07  11.109803 -61.080333 -47.248580  -9.363887\n",
       "981  2002-09-08  12.278546 -60.667592 -46.295577  -9.976097\n",
       "982  2002-09-09  12.641052 -59.811081 -46.224647 -11.167366\n",
       "983  2002-09-10  12.838844 -59.621536 -45.270660 -12.928662\n",
       "984  2002-09-11  12.784705 -60.529525 -44.936009 -14.529851\n",
       "985  2002-09-12  11.046128 -61.546351 -46.505671 -12.926008\n",
       "986  2002-09-13  13.265620 -59.944380 -46.937404 -13.514968\n",
       "987  2002-09-14  12.531677 -60.598351 -47.151030 -13.796653\n",
       "988  2002-09-15  12.146307 -60.338556 -46.893299 -14.056927\n",
       "989  2002-09-16  12.837952 -59.194889 -48.730115 -15.030837\n",
       "990  2002-09-17  13.698850 -59.001593 -48.201860 -15.184768\n",
       "991  2002-09-18  14.071444 -58.520007 -49.220634 -15.855610\n",
       "992  2002-09-19  13.970310 -57.826312 -47.540980 -18.782650\n",
       "993  2002-09-20  14.113508 -58.084177 -46.161442 -20.372649\n",
       "994  2002-09-21  15.202046 -58.464723 -44.653177 -20.908058\n",
       "995  2002-09-22  14.581204 -58.510941 -44.301279 -20.192420\n",
       "996  2002-09-23  15.032247 -57.157113 -45.029560 -19.917253\n",
       "997  2002-09-24  16.409789 -57.911058 -46.033411 -20.839804\n",
       "998  2002-09-25  17.207837 -57.984331 -45.378448 -20.684788\n",
       "999  2002-09-26  17.009452 -56.604951 -44.590656 -20.516077\n",
       "\n",
       "[1000 rows x 5 columns]"
      ]
     },
     "execution_count": 238,
     "metadata": {},
     "output_type": "execute_result"
    }
   ],
   "source": [
    "pd.read_csv('foo.csv')"
   ]
  },
  {
   "cell_type": "markdown",
   "metadata": {},
   "source": [
    "#### HDF5"
   ]
  },
  {
   "cell_type": "code",
   "execution_count": 239,
   "metadata": {
    "collapsed": true
   },
   "outputs": [],
   "source": [
    "df.to_hdf('foo.h5','df')"
   ]
  },
  {
   "cell_type": "code",
   "execution_count": 240,
   "metadata": {},
   "outputs": [
    {
     "data": {
      "text/html": [
       "<div>\n",
       "<style scoped>\n",
       "    .dataframe tbody tr th:only-of-type {\n",
       "        vertical-align: middle;\n",
       "    }\n",
       "\n",
       "    .dataframe tbody tr th {\n",
       "        vertical-align: top;\n",
       "    }\n",
       "\n",
       "    .dataframe thead th {\n",
       "        text-align: right;\n",
       "    }\n",
       "</style>\n",
       "<table border=\"1\" class=\"dataframe\">\n",
       "  <thead>\n",
       "    <tr style=\"text-align: right;\">\n",
       "      <th></th>\n",
       "      <th>A</th>\n",
       "      <th>B</th>\n",
       "      <th>C</th>\n",
       "      <th>D</th>\n",
       "    </tr>\n",
       "  </thead>\n",
       "  <tbody>\n",
       "    <tr>\n",
       "      <th>2000-01-01</th>\n",
       "      <td>0.827621</td>\n",
       "      <td>-0.281782</td>\n",
       "      <td>-0.166937</td>\n",
       "      <td>-0.869104</td>\n",
       "    </tr>\n",
       "    <tr>\n",
       "      <th>2000-01-02</th>\n",
       "      <td>1.398077</td>\n",
       "      <td>-0.395234</td>\n",
       "      <td>1.625438</td>\n",
       "      <td>-0.765463</td>\n",
       "    </tr>\n",
       "    <tr>\n",
       "      <th>2000-01-03</th>\n",
       "      <td>2.920340</td>\n",
       "      <td>-1.696290</td>\n",
       "      <td>1.647347</td>\n",
       "      <td>-1.240526</td>\n",
       "    </tr>\n",
       "    <tr>\n",
       "      <th>2000-01-04</th>\n",
       "      <td>3.787990</td>\n",
       "      <td>-2.873107</td>\n",
       "      <td>1.641727</td>\n",
       "      <td>-1.586159</td>\n",
       "    </tr>\n",
       "    <tr>\n",
       "      <th>2000-01-05</th>\n",
       "      <td>2.888086</td>\n",
       "      <td>-1.652603</td>\n",
       "      <td>1.769317</td>\n",
       "      <td>-2.383967</td>\n",
       "    </tr>\n",
       "    <tr>\n",
       "      <th>2000-01-06</th>\n",
       "      <td>3.108331</td>\n",
       "      <td>-3.507232</td>\n",
       "      <td>0.434552</td>\n",
       "      <td>-1.243871</td>\n",
       "    </tr>\n",
       "    <tr>\n",
       "      <th>2000-01-07</th>\n",
       "      <td>3.724756</td>\n",
       "      <td>-4.451210</td>\n",
       "      <td>0.431474</td>\n",
       "      <td>-2.480920</td>\n",
       "    </tr>\n",
       "    <tr>\n",
       "      <th>2000-01-08</th>\n",
       "      <td>3.887005</td>\n",
       "      <td>-7.194912</td>\n",
       "      <td>-0.180652</td>\n",
       "      <td>-2.935083</td>\n",
       "    </tr>\n",
       "    <tr>\n",
       "      <th>2000-01-09</th>\n",
       "      <td>4.488749</td>\n",
       "      <td>-6.776646</td>\n",
       "      <td>0.392486</td>\n",
       "      <td>-2.329330</td>\n",
       "    </tr>\n",
       "    <tr>\n",
       "      <th>2000-01-10</th>\n",
       "      <td>5.351117</td>\n",
       "      <td>-5.798648</td>\n",
       "      <td>0.975288</td>\n",
       "      <td>-2.341406</td>\n",
       "    </tr>\n",
       "    <tr>\n",
       "      <th>2000-01-11</th>\n",
       "      <td>6.241104</td>\n",
       "      <td>-5.766299</td>\n",
       "      <td>1.691788</td>\n",
       "      <td>-2.475098</td>\n",
       "    </tr>\n",
       "    <tr>\n",
       "      <th>2000-01-12</th>\n",
       "      <td>5.081402</td>\n",
       "      <td>-7.876303</td>\n",
       "      <td>2.238461</td>\n",
       "      <td>-0.722957</td>\n",
       "    </tr>\n",
       "    <tr>\n",
       "      <th>2000-01-13</th>\n",
       "      <td>7.734762</td>\n",
       "      <td>-7.677679</td>\n",
       "      <td>1.539870</td>\n",
       "      <td>-1.297647</td>\n",
       "    </tr>\n",
       "    <tr>\n",
       "      <th>2000-01-14</th>\n",
       "      <td>8.945209</td>\n",
       "      <td>-7.988288</td>\n",
       "      <td>2.130724</td>\n",
       "      <td>-1.077845</td>\n",
       "    </tr>\n",
       "    <tr>\n",
       "      <th>2000-01-15</th>\n",
       "      <td>10.718108</td>\n",
       "      <td>-8.102612</td>\n",
       "      <td>3.117619</td>\n",
       "      <td>1.271567</td>\n",
       "    </tr>\n",
       "    <tr>\n",
       "      <th>2000-01-16</th>\n",
       "      <td>10.524701</td>\n",
       "      <td>-7.825713</td>\n",
       "      <td>3.198159</td>\n",
       "      <td>1.585368</td>\n",
       "    </tr>\n",
       "    <tr>\n",
       "      <th>2000-01-17</th>\n",
       "      <td>10.262763</td>\n",
       "      <td>-7.520211</td>\n",
       "      <td>3.388922</td>\n",
       "      <td>1.277977</td>\n",
       "    </tr>\n",
       "    <tr>\n",
       "      <th>2000-01-18</th>\n",
       "      <td>10.307591</td>\n",
       "      <td>-9.375975</td>\n",
       "      <td>1.657389</td>\n",
       "      <td>0.530937</td>\n",
       "    </tr>\n",
       "    <tr>\n",
       "      <th>2000-01-19</th>\n",
       "      <td>11.139463</td>\n",
       "      <td>-9.429763</td>\n",
       "      <td>1.257691</td>\n",
       "      <td>0.055412</td>\n",
       "    </tr>\n",
       "    <tr>\n",
       "      <th>2000-01-20</th>\n",
       "      <td>8.842927</td>\n",
       "      <td>-8.810076</td>\n",
       "      <td>2.404332</td>\n",
       "      <td>-1.648163</td>\n",
       "    </tr>\n",
       "    <tr>\n",
       "      <th>2000-01-21</th>\n",
       "      <td>7.934696</td>\n",
       "      <td>-8.049050</td>\n",
       "      <td>1.206333</td>\n",
       "      <td>-1.748004</td>\n",
       "    </tr>\n",
       "    <tr>\n",
       "      <th>2000-01-22</th>\n",
       "      <td>7.218800</td>\n",
       "      <td>-7.023156</td>\n",
       "      <td>1.328055</td>\n",
       "      <td>-3.170133</td>\n",
       "    </tr>\n",
       "    <tr>\n",
       "      <th>2000-01-23</th>\n",
       "      <td>8.367652</td>\n",
       "      <td>-8.815439</td>\n",
       "      <td>2.777268</td>\n",
       "      <td>-2.531008</td>\n",
       "    </tr>\n",
       "    <tr>\n",
       "      <th>2000-01-24</th>\n",
       "      <td>8.372339</td>\n",
       "      <td>-9.045886</td>\n",
       "      <td>2.882156</td>\n",
       "      <td>-4.962207</td>\n",
       "    </tr>\n",
       "    <tr>\n",
       "      <th>2000-01-25</th>\n",
       "      <td>9.564313</td>\n",
       "      <td>-8.455762</td>\n",
       "      <td>0.657311</td>\n",
       "      <td>-4.322786</td>\n",
       "    </tr>\n",
       "    <tr>\n",
       "      <th>2000-01-26</th>\n",
       "      <td>8.846203</td>\n",
       "      <td>-9.547416</td>\n",
       "      <td>1.219037</td>\n",
       "      <td>-4.748909</td>\n",
       "    </tr>\n",
       "    <tr>\n",
       "      <th>2000-01-27</th>\n",
       "      <td>8.446864</td>\n",
       "      <td>-10.785142</td>\n",
       "      <td>2.542182</td>\n",
       "      <td>-5.504721</td>\n",
       "    </tr>\n",
       "    <tr>\n",
       "      <th>2000-01-28</th>\n",
       "      <td>7.715828</td>\n",
       "      <td>-10.308465</td>\n",
       "      <td>3.679636</td>\n",
       "      <td>-6.140709</td>\n",
       "    </tr>\n",
       "    <tr>\n",
       "      <th>2000-01-29</th>\n",
       "      <td>7.119376</td>\n",
       "      <td>-10.320723</td>\n",
       "      <td>6.303991</td>\n",
       "      <td>-5.476167</td>\n",
       "    </tr>\n",
       "    <tr>\n",
       "      <th>2000-01-30</th>\n",
       "      <td>7.319562</td>\n",
       "      <td>-8.842019</td>\n",
       "      <td>5.916357</td>\n",
       "      <td>-6.068416</td>\n",
       "    </tr>\n",
       "    <tr>\n",
       "      <th>...</th>\n",
       "      <td>...</td>\n",
       "      <td>...</td>\n",
       "      <td>...</td>\n",
       "      <td>...</td>\n",
       "    </tr>\n",
       "    <tr>\n",
       "      <th>2002-08-28</th>\n",
       "      <td>10.461603</td>\n",
       "      <td>-58.774449</td>\n",
       "      <td>-40.180647</td>\n",
       "      <td>-7.567166</td>\n",
       "    </tr>\n",
       "    <tr>\n",
       "      <th>2002-08-29</th>\n",
       "      <td>11.444612</td>\n",
       "      <td>-58.346292</td>\n",
       "      <td>-41.977006</td>\n",
       "      <td>-4.867933</td>\n",
       "    </tr>\n",
       "    <tr>\n",
       "      <th>2002-08-30</th>\n",
       "      <td>10.763389</td>\n",
       "      <td>-57.566485</td>\n",
       "      <td>-42.709874</td>\n",
       "      <td>-6.197061</td>\n",
       "    </tr>\n",
       "    <tr>\n",
       "      <th>2002-08-31</th>\n",
       "      <td>10.934644</td>\n",
       "      <td>-56.991026</td>\n",
       "      <td>-42.681130</td>\n",
       "      <td>-7.278237</td>\n",
       "    </tr>\n",
       "    <tr>\n",
       "      <th>2002-09-01</th>\n",
       "      <td>10.406684</td>\n",
       "      <td>-58.440719</td>\n",
       "      <td>-43.738367</td>\n",
       "      <td>-8.147417</td>\n",
       "    </tr>\n",
       "    <tr>\n",
       "      <th>2002-09-02</th>\n",
       "      <td>12.428108</td>\n",
       "      <td>-58.035450</td>\n",
       "      <td>-45.991233</td>\n",
       "      <td>-7.758501</td>\n",
       "    </tr>\n",
       "    <tr>\n",
       "      <th>2002-09-03</th>\n",
       "      <td>11.818651</td>\n",
       "      <td>-58.844100</td>\n",
       "      <td>-45.431465</td>\n",
       "      <td>-7.703119</td>\n",
       "    </tr>\n",
       "    <tr>\n",
       "      <th>2002-09-04</th>\n",
       "      <td>11.312803</td>\n",
       "      <td>-58.278615</td>\n",
       "      <td>-45.651349</td>\n",
       "      <td>-6.641977</td>\n",
       "    </tr>\n",
       "    <tr>\n",
       "      <th>2002-09-05</th>\n",
       "      <td>11.732199</td>\n",
       "      <td>-58.553902</td>\n",
       "      <td>-45.255771</td>\n",
       "      <td>-5.882949</td>\n",
       "    </tr>\n",
       "    <tr>\n",
       "      <th>2002-09-06</th>\n",
       "      <td>11.596164</td>\n",
       "      <td>-59.168267</td>\n",
       "      <td>-46.600979</td>\n",
       "      <td>-6.669320</td>\n",
       "    </tr>\n",
       "    <tr>\n",
       "      <th>2002-09-07</th>\n",
       "      <td>11.109803</td>\n",
       "      <td>-61.080333</td>\n",
       "      <td>-47.248580</td>\n",
       "      <td>-9.363887</td>\n",
       "    </tr>\n",
       "    <tr>\n",
       "      <th>2002-09-08</th>\n",
       "      <td>12.278546</td>\n",
       "      <td>-60.667592</td>\n",
       "      <td>-46.295577</td>\n",
       "      <td>-9.976097</td>\n",
       "    </tr>\n",
       "    <tr>\n",
       "      <th>2002-09-09</th>\n",
       "      <td>12.641052</td>\n",
       "      <td>-59.811081</td>\n",
       "      <td>-46.224647</td>\n",
       "      <td>-11.167366</td>\n",
       "    </tr>\n",
       "    <tr>\n",
       "      <th>2002-09-10</th>\n",
       "      <td>12.838844</td>\n",
       "      <td>-59.621536</td>\n",
       "      <td>-45.270660</td>\n",
       "      <td>-12.928662</td>\n",
       "    </tr>\n",
       "    <tr>\n",
       "      <th>2002-09-11</th>\n",
       "      <td>12.784705</td>\n",
       "      <td>-60.529525</td>\n",
       "      <td>-44.936009</td>\n",
       "      <td>-14.529851</td>\n",
       "    </tr>\n",
       "    <tr>\n",
       "      <th>2002-09-12</th>\n",
       "      <td>11.046128</td>\n",
       "      <td>-61.546351</td>\n",
       "      <td>-46.505671</td>\n",
       "      <td>-12.926008</td>\n",
       "    </tr>\n",
       "    <tr>\n",
       "      <th>2002-09-13</th>\n",
       "      <td>13.265620</td>\n",
       "      <td>-59.944380</td>\n",
       "      <td>-46.937404</td>\n",
       "      <td>-13.514968</td>\n",
       "    </tr>\n",
       "    <tr>\n",
       "      <th>2002-09-14</th>\n",
       "      <td>12.531677</td>\n",
       "      <td>-60.598351</td>\n",
       "      <td>-47.151030</td>\n",
       "      <td>-13.796653</td>\n",
       "    </tr>\n",
       "    <tr>\n",
       "      <th>2002-09-15</th>\n",
       "      <td>12.146307</td>\n",
       "      <td>-60.338556</td>\n",
       "      <td>-46.893299</td>\n",
       "      <td>-14.056927</td>\n",
       "    </tr>\n",
       "    <tr>\n",
       "      <th>2002-09-16</th>\n",
       "      <td>12.837952</td>\n",
       "      <td>-59.194889</td>\n",
       "      <td>-48.730115</td>\n",
       "      <td>-15.030837</td>\n",
       "    </tr>\n",
       "    <tr>\n",
       "      <th>2002-09-17</th>\n",
       "      <td>13.698850</td>\n",
       "      <td>-59.001593</td>\n",
       "      <td>-48.201860</td>\n",
       "      <td>-15.184768</td>\n",
       "    </tr>\n",
       "    <tr>\n",
       "      <th>2002-09-18</th>\n",
       "      <td>14.071444</td>\n",
       "      <td>-58.520007</td>\n",
       "      <td>-49.220634</td>\n",
       "      <td>-15.855610</td>\n",
       "    </tr>\n",
       "    <tr>\n",
       "      <th>2002-09-19</th>\n",
       "      <td>13.970310</td>\n",
       "      <td>-57.826312</td>\n",
       "      <td>-47.540980</td>\n",
       "      <td>-18.782650</td>\n",
       "    </tr>\n",
       "    <tr>\n",
       "      <th>2002-09-20</th>\n",
       "      <td>14.113508</td>\n",
       "      <td>-58.084177</td>\n",
       "      <td>-46.161442</td>\n",
       "      <td>-20.372649</td>\n",
       "    </tr>\n",
       "    <tr>\n",
       "      <th>2002-09-21</th>\n",
       "      <td>15.202046</td>\n",
       "      <td>-58.464723</td>\n",
       "      <td>-44.653177</td>\n",
       "      <td>-20.908058</td>\n",
       "    </tr>\n",
       "    <tr>\n",
       "      <th>2002-09-22</th>\n",
       "      <td>14.581204</td>\n",
       "      <td>-58.510941</td>\n",
       "      <td>-44.301279</td>\n",
       "      <td>-20.192420</td>\n",
       "    </tr>\n",
       "    <tr>\n",
       "      <th>2002-09-23</th>\n",
       "      <td>15.032247</td>\n",
       "      <td>-57.157113</td>\n",
       "      <td>-45.029560</td>\n",
       "      <td>-19.917253</td>\n",
       "    </tr>\n",
       "    <tr>\n",
       "      <th>2002-09-24</th>\n",
       "      <td>16.409789</td>\n",
       "      <td>-57.911058</td>\n",
       "      <td>-46.033411</td>\n",
       "      <td>-20.839804</td>\n",
       "    </tr>\n",
       "    <tr>\n",
       "      <th>2002-09-25</th>\n",
       "      <td>17.207837</td>\n",
       "      <td>-57.984331</td>\n",
       "      <td>-45.378448</td>\n",
       "      <td>-20.684788</td>\n",
       "    </tr>\n",
       "    <tr>\n",
       "      <th>2002-09-26</th>\n",
       "      <td>17.009452</td>\n",
       "      <td>-56.604951</td>\n",
       "      <td>-44.590656</td>\n",
       "      <td>-20.516077</td>\n",
       "    </tr>\n",
       "  </tbody>\n",
       "</table>\n",
       "<p>1000 rows × 4 columns</p>\n",
       "</div>"
      ],
      "text/plain": [
       "                    A          B          C          D\n",
       "2000-01-01   0.827621  -0.281782  -0.166937  -0.869104\n",
       "2000-01-02   1.398077  -0.395234   1.625438  -0.765463\n",
       "2000-01-03   2.920340  -1.696290   1.647347  -1.240526\n",
       "2000-01-04   3.787990  -2.873107   1.641727  -1.586159\n",
       "2000-01-05   2.888086  -1.652603   1.769317  -2.383967\n",
       "2000-01-06   3.108331  -3.507232   0.434552  -1.243871\n",
       "2000-01-07   3.724756  -4.451210   0.431474  -2.480920\n",
       "2000-01-08   3.887005  -7.194912  -0.180652  -2.935083\n",
       "2000-01-09   4.488749  -6.776646   0.392486  -2.329330\n",
       "2000-01-10   5.351117  -5.798648   0.975288  -2.341406\n",
       "2000-01-11   6.241104  -5.766299   1.691788  -2.475098\n",
       "2000-01-12   5.081402  -7.876303   2.238461  -0.722957\n",
       "2000-01-13   7.734762  -7.677679   1.539870  -1.297647\n",
       "2000-01-14   8.945209  -7.988288   2.130724  -1.077845\n",
       "2000-01-15  10.718108  -8.102612   3.117619   1.271567\n",
       "2000-01-16  10.524701  -7.825713   3.198159   1.585368\n",
       "2000-01-17  10.262763  -7.520211   3.388922   1.277977\n",
       "2000-01-18  10.307591  -9.375975   1.657389   0.530937\n",
       "2000-01-19  11.139463  -9.429763   1.257691   0.055412\n",
       "2000-01-20   8.842927  -8.810076   2.404332  -1.648163\n",
       "2000-01-21   7.934696  -8.049050   1.206333  -1.748004\n",
       "2000-01-22   7.218800  -7.023156   1.328055  -3.170133\n",
       "2000-01-23   8.367652  -8.815439   2.777268  -2.531008\n",
       "2000-01-24   8.372339  -9.045886   2.882156  -4.962207\n",
       "2000-01-25   9.564313  -8.455762   0.657311  -4.322786\n",
       "2000-01-26   8.846203  -9.547416   1.219037  -4.748909\n",
       "2000-01-27   8.446864 -10.785142   2.542182  -5.504721\n",
       "2000-01-28   7.715828 -10.308465   3.679636  -6.140709\n",
       "2000-01-29   7.119376 -10.320723   6.303991  -5.476167\n",
       "2000-01-30   7.319562  -8.842019   5.916357  -6.068416\n",
       "...               ...        ...        ...        ...\n",
       "2002-08-28  10.461603 -58.774449 -40.180647  -7.567166\n",
       "2002-08-29  11.444612 -58.346292 -41.977006  -4.867933\n",
       "2002-08-30  10.763389 -57.566485 -42.709874  -6.197061\n",
       "2002-08-31  10.934644 -56.991026 -42.681130  -7.278237\n",
       "2002-09-01  10.406684 -58.440719 -43.738367  -8.147417\n",
       "2002-09-02  12.428108 -58.035450 -45.991233  -7.758501\n",
       "2002-09-03  11.818651 -58.844100 -45.431465  -7.703119\n",
       "2002-09-04  11.312803 -58.278615 -45.651349  -6.641977\n",
       "2002-09-05  11.732199 -58.553902 -45.255771  -5.882949\n",
       "2002-09-06  11.596164 -59.168267 -46.600979  -6.669320\n",
       "2002-09-07  11.109803 -61.080333 -47.248580  -9.363887\n",
       "2002-09-08  12.278546 -60.667592 -46.295577  -9.976097\n",
       "2002-09-09  12.641052 -59.811081 -46.224647 -11.167366\n",
       "2002-09-10  12.838844 -59.621536 -45.270660 -12.928662\n",
       "2002-09-11  12.784705 -60.529525 -44.936009 -14.529851\n",
       "2002-09-12  11.046128 -61.546351 -46.505671 -12.926008\n",
       "2002-09-13  13.265620 -59.944380 -46.937404 -13.514968\n",
       "2002-09-14  12.531677 -60.598351 -47.151030 -13.796653\n",
       "2002-09-15  12.146307 -60.338556 -46.893299 -14.056927\n",
       "2002-09-16  12.837952 -59.194889 -48.730115 -15.030837\n",
       "2002-09-17  13.698850 -59.001593 -48.201860 -15.184768\n",
       "2002-09-18  14.071444 -58.520007 -49.220634 -15.855610\n",
       "2002-09-19  13.970310 -57.826312 -47.540980 -18.782650\n",
       "2002-09-20  14.113508 -58.084177 -46.161442 -20.372649\n",
       "2002-09-21  15.202046 -58.464723 -44.653177 -20.908058\n",
       "2002-09-22  14.581204 -58.510941 -44.301279 -20.192420\n",
       "2002-09-23  15.032247 -57.157113 -45.029560 -19.917253\n",
       "2002-09-24  16.409789 -57.911058 -46.033411 -20.839804\n",
       "2002-09-25  17.207837 -57.984331 -45.378448 -20.684788\n",
       "2002-09-26  17.009452 -56.604951 -44.590656 -20.516077\n",
       "\n",
       "[1000 rows x 4 columns]"
      ]
     },
     "execution_count": 240,
     "metadata": {},
     "output_type": "execute_result"
    }
   ],
   "source": [
    "pd.read_hdf('foo.h5','df')"
   ]
  },
  {
   "cell_type": "markdown",
   "metadata": {},
   "source": [
    "#### Excel"
   ]
  },
  {
   "cell_type": "code",
   "execution_count": 242,
   "metadata": {
    "collapsed": true
   },
   "outputs": [],
   "source": [
    "df.to_excel('foo.xlsx', sheet_name='Sheet1')\n"
   ]
  },
  {
   "cell_type": "code",
   "execution_count": 243,
   "metadata": {},
   "outputs": [
    {
     "data": {
      "text/html": [
       "<div>\n",
       "<style scoped>\n",
       "    .dataframe tbody tr th:only-of-type {\n",
       "        vertical-align: middle;\n",
       "    }\n",
       "\n",
       "    .dataframe tbody tr th {\n",
       "        vertical-align: top;\n",
       "    }\n",
       "\n",
       "    .dataframe thead th {\n",
       "        text-align: right;\n",
       "    }\n",
       "</style>\n",
       "<table border=\"1\" class=\"dataframe\">\n",
       "  <thead>\n",
       "    <tr style=\"text-align: right;\">\n",
       "      <th></th>\n",
       "      <th>A</th>\n",
       "      <th>B</th>\n",
       "      <th>C</th>\n",
       "      <th>D</th>\n",
       "    </tr>\n",
       "  </thead>\n",
       "  <tbody>\n",
       "    <tr>\n",
       "      <th>2000-01-01</th>\n",
       "      <td>0.827621</td>\n",
       "      <td>-0.281782</td>\n",
       "      <td>-0.166937</td>\n",
       "      <td>-0.869104</td>\n",
       "    </tr>\n",
       "    <tr>\n",
       "      <th>2000-01-02</th>\n",
       "      <td>1.398077</td>\n",
       "      <td>-0.395234</td>\n",
       "      <td>1.625438</td>\n",
       "      <td>-0.765463</td>\n",
       "    </tr>\n",
       "    <tr>\n",
       "      <th>2000-01-03</th>\n",
       "      <td>2.920340</td>\n",
       "      <td>-1.696290</td>\n",
       "      <td>1.647347</td>\n",
       "      <td>-1.240526</td>\n",
       "    </tr>\n",
       "    <tr>\n",
       "      <th>2000-01-04</th>\n",
       "      <td>3.787990</td>\n",
       "      <td>-2.873107</td>\n",
       "      <td>1.641727</td>\n",
       "      <td>-1.586159</td>\n",
       "    </tr>\n",
       "    <tr>\n",
       "      <th>2000-01-05</th>\n",
       "      <td>2.888086</td>\n",
       "      <td>-1.652603</td>\n",
       "      <td>1.769317</td>\n",
       "      <td>-2.383967</td>\n",
       "    </tr>\n",
       "    <tr>\n",
       "      <th>2000-01-06</th>\n",
       "      <td>3.108331</td>\n",
       "      <td>-3.507232</td>\n",
       "      <td>0.434552</td>\n",
       "      <td>-1.243871</td>\n",
       "    </tr>\n",
       "    <tr>\n",
       "      <th>2000-01-07</th>\n",
       "      <td>3.724756</td>\n",
       "      <td>-4.451210</td>\n",
       "      <td>0.431474</td>\n",
       "      <td>-2.480920</td>\n",
       "    </tr>\n",
       "    <tr>\n",
       "      <th>2000-01-08</th>\n",
       "      <td>3.887005</td>\n",
       "      <td>-7.194912</td>\n",
       "      <td>-0.180652</td>\n",
       "      <td>-2.935083</td>\n",
       "    </tr>\n",
       "    <tr>\n",
       "      <th>2000-01-09</th>\n",
       "      <td>4.488749</td>\n",
       "      <td>-6.776646</td>\n",
       "      <td>0.392486</td>\n",
       "      <td>-2.329330</td>\n",
       "    </tr>\n",
       "    <tr>\n",
       "      <th>2000-01-10</th>\n",
       "      <td>5.351117</td>\n",
       "      <td>-5.798648</td>\n",
       "      <td>0.975288</td>\n",
       "      <td>-2.341406</td>\n",
       "    </tr>\n",
       "    <tr>\n",
       "      <th>2000-01-11</th>\n",
       "      <td>6.241104</td>\n",
       "      <td>-5.766299</td>\n",
       "      <td>1.691788</td>\n",
       "      <td>-2.475098</td>\n",
       "    </tr>\n",
       "    <tr>\n",
       "      <th>2000-01-12</th>\n",
       "      <td>5.081402</td>\n",
       "      <td>-7.876303</td>\n",
       "      <td>2.238461</td>\n",
       "      <td>-0.722957</td>\n",
       "    </tr>\n",
       "    <tr>\n",
       "      <th>2000-01-13</th>\n",
       "      <td>7.734762</td>\n",
       "      <td>-7.677679</td>\n",
       "      <td>1.539870</td>\n",
       "      <td>-1.297647</td>\n",
       "    </tr>\n",
       "    <tr>\n",
       "      <th>2000-01-14</th>\n",
       "      <td>8.945209</td>\n",
       "      <td>-7.988288</td>\n",
       "      <td>2.130724</td>\n",
       "      <td>-1.077845</td>\n",
       "    </tr>\n",
       "    <tr>\n",
       "      <th>2000-01-15</th>\n",
       "      <td>10.718108</td>\n",
       "      <td>-8.102612</td>\n",
       "      <td>3.117619</td>\n",
       "      <td>1.271567</td>\n",
       "    </tr>\n",
       "    <tr>\n",
       "      <th>2000-01-16</th>\n",
       "      <td>10.524701</td>\n",
       "      <td>-7.825713</td>\n",
       "      <td>3.198159</td>\n",
       "      <td>1.585368</td>\n",
       "    </tr>\n",
       "    <tr>\n",
       "      <th>2000-01-17</th>\n",
       "      <td>10.262763</td>\n",
       "      <td>-7.520211</td>\n",
       "      <td>3.388922</td>\n",
       "      <td>1.277977</td>\n",
       "    </tr>\n",
       "    <tr>\n",
       "      <th>2000-01-18</th>\n",
       "      <td>10.307591</td>\n",
       "      <td>-9.375975</td>\n",
       "      <td>1.657389</td>\n",
       "      <td>0.530937</td>\n",
       "    </tr>\n",
       "    <tr>\n",
       "      <th>2000-01-19</th>\n",
       "      <td>11.139463</td>\n",
       "      <td>-9.429763</td>\n",
       "      <td>1.257691</td>\n",
       "      <td>0.055412</td>\n",
       "    </tr>\n",
       "    <tr>\n",
       "      <th>2000-01-20</th>\n",
       "      <td>8.842927</td>\n",
       "      <td>-8.810076</td>\n",
       "      <td>2.404332</td>\n",
       "      <td>-1.648163</td>\n",
       "    </tr>\n",
       "    <tr>\n",
       "      <th>2000-01-21</th>\n",
       "      <td>7.934696</td>\n",
       "      <td>-8.049050</td>\n",
       "      <td>1.206333</td>\n",
       "      <td>-1.748004</td>\n",
       "    </tr>\n",
       "    <tr>\n",
       "      <th>2000-01-22</th>\n",
       "      <td>7.218800</td>\n",
       "      <td>-7.023156</td>\n",
       "      <td>1.328055</td>\n",
       "      <td>-3.170133</td>\n",
       "    </tr>\n",
       "    <tr>\n",
       "      <th>2000-01-23</th>\n",
       "      <td>8.367652</td>\n",
       "      <td>-8.815439</td>\n",
       "      <td>2.777268</td>\n",
       "      <td>-2.531008</td>\n",
       "    </tr>\n",
       "    <tr>\n",
       "      <th>2000-01-24</th>\n",
       "      <td>8.372339</td>\n",
       "      <td>-9.045886</td>\n",
       "      <td>2.882156</td>\n",
       "      <td>-4.962207</td>\n",
       "    </tr>\n",
       "    <tr>\n",
       "      <th>2000-01-25</th>\n",
       "      <td>9.564313</td>\n",
       "      <td>-8.455762</td>\n",
       "      <td>0.657311</td>\n",
       "      <td>-4.322786</td>\n",
       "    </tr>\n",
       "    <tr>\n",
       "      <th>2000-01-26</th>\n",
       "      <td>8.846203</td>\n",
       "      <td>-9.547416</td>\n",
       "      <td>1.219037</td>\n",
       "      <td>-4.748909</td>\n",
       "    </tr>\n",
       "    <tr>\n",
       "      <th>2000-01-27</th>\n",
       "      <td>8.446864</td>\n",
       "      <td>-10.785142</td>\n",
       "      <td>2.542182</td>\n",
       "      <td>-5.504721</td>\n",
       "    </tr>\n",
       "    <tr>\n",
       "      <th>2000-01-28</th>\n",
       "      <td>7.715828</td>\n",
       "      <td>-10.308465</td>\n",
       "      <td>3.679636</td>\n",
       "      <td>-6.140709</td>\n",
       "    </tr>\n",
       "    <tr>\n",
       "      <th>2000-01-29</th>\n",
       "      <td>7.119376</td>\n",
       "      <td>-10.320723</td>\n",
       "      <td>6.303991</td>\n",
       "      <td>-5.476167</td>\n",
       "    </tr>\n",
       "    <tr>\n",
       "      <th>2000-01-30</th>\n",
       "      <td>7.319562</td>\n",
       "      <td>-8.842019</td>\n",
       "      <td>5.916357</td>\n",
       "      <td>-6.068416</td>\n",
       "    </tr>\n",
       "    <tr>\n",
       "      <th>...</th>\n",
       "      <td>...</td>\n",
       "      <td>...</td>\n",
       "      <td>...</td>\n",
       "      <td>...</td>\n",
       "    </tr>\n",
       "    <tr>\n",
       "      <th>2002-08-28</th>\n",
       "      <td>10.461603</td>\n",
       "      <td>-58.774449</td>\n",
       "      <td>-40.180647</td>\n",
       "      <td>-7.567166</td>\n",
       "    </tr>\n",
       "    <tr>\n",
       "      <th>2002-08-29</th>\n",
       "      <td>11.444612</td>\n",
       "      <td>-58.346292</td>\n",
       "      <td>-41.977006</td>\n",
       "      <td>-4.867933</td>\n",
       "    </tr>\n",
       "    <tr>\n",
       "      <th>2002-08-30</th>\n",
       "      <td>10.763389</td>\n",
       "      <td>-57.566485</td>\n",
       "      <td>-42.709874</td>\n",
       "      <td>-6.197061</td>\n",
       "    </tr>\n",
       "    <tr>\n",
       "      <th>2002-08-31</th>\n",
       "      <td>10.934644</td>\n",
       "      <td>-56.991026</td>\n",
       "      <td>-42.681130</td>\n",
       "      <td>-7.278237</td>\n",
       "    </tr>\n",
       "    <tr>\n",
       "      <th>2002-09-01</th>\n",
       "      <td>10.406684</td>\n",
       "      <td>-58.440719</td>\n",
       "      <td>-43.738367</td>\n",
       "      <td>-8.147417</td>\n",
       "    </tr>\n",
       "    <tr>\n",
       "      <th>2002-09-02</th>\n",
       "      <td>12.428108</td>\n",
       "      <td>-58.035450</td>\n",
       "      <td>-45.991233</td>\n",
       "      <td>-7.758501</td>\n",
       "    </tr>\n",
       "    <tr>\n",
       "      <th>2002-09-03</th>\n",
       "      <td>11.818651</td>\n",
       "      <td>-58.844100</td>\n",
       "      <td>-45.431465</td>\n",
       "      <td>-7.703119</td>\n",
       "    </tr>\n",
       "    <tr>\n",
       "      <th>2002-09-04</th>\n",
       "      <td>11.312803</td>\n",
       "      <td>-58.278615</td>\n",
       "      <td>-45.651349</td>\n",
       "      <td>-6.641977</td>\n",
       "    </tr>\n",
       "    <tr>\n",
       "      <th>2002-09-05</th>\n",
       "      <td>11.732199</td>\n",
       "      <td>-58.553902</td>\n",
       "      <td>-45.255771</td>\n",
       "      <td>-5.882949</td>\n",
       "    </tr>\n",
       "    <tr>\n",
       "      <th>2002-09-06</th>\n",
       "      <td>11.596164</td>\n",
       "      <td>-59.168267</td>\n",
       "      <td>-46.600979</td>\n",
       "      <td>-6.669320</td>\n",
       "    </tr>\n",
       "    <tr>\n",
       "      <th>2002-09-07</th>\n",
       "      <td>11.109803</td>\n",
       "      <td>-61.080333</td>\n",
       "      <td>-47.248580</td>\n",
       "      <td>-9.363887</td>\n",
       "    </tr>\n",
       "    <tr>\n",
       "      <th>2002-09-08</th>\n",
       "      <td>12.278546</td>\n",
       "      <td>-60.667592</td>\n",
       "      <td>-46.295577</td>\n",
       "      <td>-9.976097</td>\n",
       "    </tr>\n",
       "    <tr>\n",
       "      <th>2002-09-09</th>\n",
       "      <td>12.641052</td>\n",
       "      <td>-59.811081</td>\n",
       "      <td>-46.224647</td>\n",
       "      <td>-11.167366</td>\n",
       "    </tr>\n",
       "    <tr>\n",
       "      <th>2002-09-10</th>\n",
       "      <td>12.838844</td>\n",
       "      <td>-59.621536</td>\n",
       "      <td>-45.270660</td>\n",
       "      <td>-12.928662</td>\n",
       "    </tr>\n",
       "    <tr>\n",
       "      <th>2002-09-11</th>\n",
       "      <td>12.784705</td>\n",
       "      <td>-60.529525</td>\n",
       "      <td>-44.936009</td>\n",
       "      <td>-14.529851</td>\n",
       "    </tr>\n",
       "    <tr>\n",
       "      <th>2002-09-12</th>\n",
       "      <td>11.046128</td>\n",
       "      <td>-61.546351</td>\n",
       "      <td>-46.505671</td>\n",
       "      <td>-12.926008</td>\n",
       "    </tr>\n",
       "    <tr>\n",
       "      <th>2002-09-13</th>\n",
       "      <td>13.265620</td>\n",
       "      <td>-59.944380</td>\n",
       "      <td>-46.937404</td>\n",
       "      <td>-13.514968</td>\n",
       "    </tr>\n",
       "    <tr>\n",
       "      <th>2002-09-14</th>\n",
       "      <td>12.531677</td>\n",
       "      <td>-60.598351</td>\n",
       "      <td>-47.151030</td>\n",
       "      <td>-13.796653</td>\n",
       "    </tr>\n",
       "    <tr>\n",
       "      <th>2002-09-15</th>\n",
       "      <td>12.146307</td>\n",
       "      <td>-60.338556</td>\n",
       "      <td>-46.893299</td>\n",
       "      <td>-14.056927</td>\n",
       "    </tr>\n",
       "    <tr>\n",
       "      <th>2002-09-16</th>\n",
       "      <td>12.837952</td>\n",
       "      <td>-59.194889</td>\n",
       "      <td>-48.730115</td>\n",
       "      <td>-15.030837</td>\n",
       "    </tr>\n",
       "    <tr>\n",
       "      <th>2002-09-17</th>\n",
       "      <td>13.698850</td>\n",
       "      <td>-59.001593</td>\n",
       "      <td>-48.201860</td>\n",
       "      <td>-15.184768</td>\n",
       "    </tr>\n",
       "    <tr>\n",
       "      <th>2002-09-18</th>\n",
       "      <td>14.071444</td>\n",
       "      <td>-58.520007</td>\n",
       "      <td>-49.220634</td>\n",
       "      <td>-15.855610</td>\n",
       "    </tr>\n",
       "    <tr>\n",
       "      <th>2002-09-19</th>\n",
       "      <td>13.970310</td>\n",
       "      <td>-57.826312</td>\n",
       "      <td>-47.540980</td>\n",
       "      <td>-18.782650</td>\n",
       "    </tr>\n",
       "    <tr>\n",
       "      <th>2002-09-20</th>\n",
       "      <td>14.113508</td>\n",
       "      <td>-58.084177</td>\n",
       "      <td>-46.161442</td>\n",
       "      <td>-20.372649</td>\n",
       "    </tr>\n",
       "    <tr>\n",
       "      <th>2002-09-21</th>\n",
       "      <td>15.202046</td>\n",
       "      <td>-58.464723</td>\n",
       "      <td>-44.653177</td>\n",
       "      <td>-20.908058</td>\n",
       "    </tr>\n",
       "    <tr>\n",
       "      <th>2002-09-22</th>\n",
       "      <td>14.581204</td>\n",
       "      <td>-58.510941</td>\n",
       "      <td>-44.301279</td>\n",
       "      <td>-20.192420</td>\n",
       "    </tr>\n",
       "    <tr>\n",
       "      <th>2002-09-23</th>\n",
       "      <td>15.032247</td>\n",
       "      <td>-57.157113</td>\n",
       "      <td>-45.029560</td>\n",
       "      <td>-19.917253</td>\n",
       "    </tr>\n",
       "    <tr>\n",
       "      <th>2002-09-24</th>\n",
       "      <td>16.409789</td>\n",
       "      <td>-57.911058</td>\n",
       "      <td>-46.033411</td>\n",
       "      <td>-20.839804</td>\n",
       "    </tr>\n",
       "    <tr>\n",
       "      <th>2002-09-25</th>\n",
       "      <td>17.207837</td>\n",
       "      <td>-57.984331</td>\n",
       "      <td>-45.378448</td>\n",
       "      <td>-20.684788</td>\n",
       "    </tr>\n",
       "    <tr>\n",
       "      <th>2002-09-26</th>\n",
       "      <td>17.009452</td>\n",
       "      <td>-56.604951</td>\n",
       "      <td>-44.590656</td>\n",
       "      <td>-20.516077</td>\n",
       "    </tr>\n",
       "  </tbody>\n",
       "</table>\n",
       "<p>1000 rows × 4 columns</p>\n",
       "</div>"
      ],
      "text/plain": [
       "                    A          B          C          D\n",
       "2000-01-01   0.827621  -0.281782  -0.166937  -0.869104\n",
       "2000-01-02   1.398077  -0.395234   1.625438  -0.765463\n",
       "2000-01-03   2.920340  -1.696290   1.647347  -1.240526\n",
       "2000-01-04   3.787990  -2.873107   1.641727  -1.586159\n",
       "2000-01-05   2.888086  -1.652603   1.769317  -2.383967\n",
       "2000-01-06   3.108331  -3.507232   0.434552  -1.243871\n",
       "2000-01-07   3.724756  -4.451210   0.431474  -2.480920\n",
       "2000-01-08   3.887005  -7.194912  -0.180652  -2.935083\n",
       "2000-01-09   4.488749  -6.776646   0.392486  -2.329330\n",
       "2000-01-10   5.351117  -5.798648   0.975288  -2.341406\n",
       "2000-01-11   6.241104  -5.766299   1.691788  -2.475098\n",
       "2000-01-12   5.081402  -7.876303   2.238461  -0.722957\n",
       "2000-01-13   7.734762  -7.677679   1.539870  -1.297647\n",
       "2000-01-14   8.945209  -7.988288   2.130724  -1.077845\n",
       "2000-01-15  10.718108  -8.102612   3.117619   1.271567\n",
       "2000-01-16  10.524701  -7.825713   3.198159   1.585368\n",
       "2000-01-17  10.262763  -7.520211   3.388922   1.277977\n",
       "2000-01-18  10.307591  -9.375975   1.657389   0.530937\n",
       "2000-01-19  11.139463  -9.429763   1.257691   0.055412\n",
       "2000-01-20   8.842927  -8.810076   2.404332  -1.648163\n",
       "2000-01-21   7.934696  -8.049050   1.206333  -1.748004\n",
       "2000-01-22   7.218800  -7.023156   1.328055  -3.170133\n",
       "2000-01-23   8.367652  -8.815439   2.777268  -2.531008\n",
       "2000-01-24   8.372339  -9.045886   2.882156  -4.962207\n",
       "2000-01-25   9.564313  -8.455762   0.657311  -4.322786\n",
       "2000-01-26   8.846203  -9.547416   1.219037  -4.748909\n",
       "2000-01-27   8.446864 -10.785142   2.542182  -5.504721\n",
       "2000-01-28   7.715828 -10.308465   3.679636  -6.140709\n",
       "2000-01-29   7.119376 -10.320723   6.303991  -5.476167\n",
       "2000-01-30   7.319562  -8.842019   5.916357  -6.068416\n",
       "...               ...        ...        ...        ...\n",
       "2002-08-28  10.461603 -58.774449 -40.180647  -7.567166\n",
       "2002-08-29  11.444612 -58.346292 -41.977006  -4.867933\n",
       "2002-08-30  10.763389 -57.566485 -42.709874  -6.197061\n",
       "2002-08-31  10.934644 -56.991026 -42.681130  -7.278237\n",
       "2002-09-01  10.406684 -58.440719 -43.738367  -8.147417\n",
       "2002-09-02  12.428108 -58.035450 -45.991233  -7.758501\n",
       "2002-09-03  11.818651 -58.844100 -45.431465  -7.703119\n",
       "2002-09-04  11.312803 -58.278615 -45.651349  -6.641977\n",
       "2002-09-05  11.732199 -58.553902 -45.255771  -5.882949\n",
       "2002-09-06  11.596164 -59.168267 -46.600979  -6.669320\n",
       "2002-09-07  11.109803 -61.080333 -47.248580  -9.363887\n",
       "2002-09-08  12.278546 -60.667592 -46.295577  -9.976097\n",
       "2002-09-09  12.641052 -59.811081 -46.224647 -11.167366\n",
       "2002-09-10  12.838844 -59.621536 -45.270660 -12.928662\n",
       "2002-09-11  12.784705 -60.529525 -44.936009 -14.529851\n",
       "2002-09-12  11.046128 -61.546351 -46.505671 -12.926008\n",
       "2002-09-13  13.265620 -59.944380 -46.937404 -13.514968\n",
       "2002-09-14  12.531677 -60.598351 -47.151030 -13.796653\n",
       "2002-09-15  12.146307 -60.338556 -46.893299 -14.056927\n",
       "2002-09-16  12.837952 -59.194889 -48.730115 -15.030837\n",
       "2002-09-17  13.698850 -59.001593 -48.201860 -15.184768\n",
       "2002-09-18  14.071444 -58.520007 -49.220634 -15.855610\n",
       "2002-09-19  13.970310 -57.826312 -47.540980 -18.782650\n",
       "2002-09-20  14.113508 -58.084177 -46.161442 -20.372649\n",
       "2002-09-21  15.202046 -58.464723 -44.653177 -20.908058\n",
       "2002-09-22  14.581204 -58.510941 -44.301279 -20.192420\n",
       "2002-09-23  15.032247 -57.157113 -45.029560 -19.917253\n",
       "2002-09-24  16.409789 -57.911058 -46.033411 -20.839804\n",
       "2002-09-25  17.207837 -57.984331 -45.378448 -20.684788\n",
       "2002-09-26  17.009452 -56.604951 -44.590656 -20.516077\n",
       "\n",
       "[1000 rows x 4 columns]"
      ]
     },
     "execution_count": 243,
     "metadata": {},
     "output_type": "execute_result"
    }
   ],
   "source": [
    "pd.read_excel('foo.xlsx', 'Sheet1', index_col=None, na_values=['NA'])\n"
   ]
  },
  {
   "cell_type": "code",
   "execution_count": null,
   "metadata": {
    "collapsed": true
   },
   "outputs": [],
   "source": []
  },
  {
   "cell_type": "code",
   "execution_count": null,
   "metadata": {
    "collapsed": true
   },
   "outputs": [],
   "source": []
  },
  {
   "cell_type": "code",
   "execution_count": null,
   "metadata": {
    "collapsed": true
   },
   "outputs": [],
   "source": []
  },
  {
   "cell_type": "code",
   "execution_count": null,
   "metadata": {
    "collapsed": true
   },
   "outputs": [],
   "source": []
  },
  {
   "cell_type": "code",
   "execution_count": null,
   "metadata": {
    "collapsed": true
   },
   "outputs": [],
   "source": []
  },
  {
   "cell_type": "code",
   "execution_count": null,
   "metadata": {
    "collapsed": true
   },
   "outputs": [],
   "source": []
  },
  {
   "cell_type": "markdown",
   "metadata": {},
   "source": [
    "\n",
    "## Pandas Memory usage"
   ]
  },
  {
   "cell_type": "code",
   "execution_count": 209,
   "metadata": {},
   "outputs": [
    {
     "name": "stdout",
     "output_type": "stream",
     "text": [
      "Data is <class 'numpy.ndarray'>\n",
      "Data is 5000\n",
      "<class 'pandas.core.frame.DataFrame'>\n",
      "RangeIndex: 5000 entries, 0 to 4999\n",
      "Data columns (total 8 columns):\n",
      "bool               5000 non-null bool\n",
      "complex128         5000 non-null complex128\n",
      "datetime64[ns]     5000 non-null datetime64[ns]\n",
      "float64            5000 non-null float64\n",
      "int64              5000 non-null int64\n",
      "object             5000 non-null object\n",
      "timedelta64[ns]    5000 non-null timedelta64[ns]\n",
      "categorical        5000 non-null category\n",
      "dtypes: bool(1), category(1), complex128(1), datetime64[ns](1), float64(1), int64(1), object(1), timedelta64[ns](1)\n",
      "memory usage: 289.1+ KB\n"
     ]
    }
   ],
   "source": [
    "dtypes = ['int64', 'float64', 'datetime64[ns]', 'timedelta64[ns]', \n",
    "          'complex128', 'object', 'bool']\n",
    "n = 5000\n",
    "import numpy as np\n",
    "test = [(np.random.randint(100, size=n).astype(t)) for t in dtypes]\n",
    "#print(\"Test is\",test)\n",
    "data = dict([ (t, np.random.randint(100, size=n).astype(t)) for t in dtypes])\n",
    "#print(\"Data is\",data)\n",
    "print(\"Data is\",type(data['complex128']))\n",
    "print(\"Data is\",data['complex128'].size)\n",
    "import pandas as pd\n",
    "df = pd.DataFrame(data)\n",
    "df['categorical'] = df['object'].astype('category')\n",
    "df.info()\n",
    "\n",
    "## The + symbol indicates that the true memory usage could be \n",
    "#higher, because pandas does not count the memory used by values in columns with dtype=object."
   ]
  },
  {
   "cell_type": "code",
   "execution_count": 210,
   "metadata": {},
   "outputs": [
    {
     "data": {
      "text/html": [
       "<div>\n",
       "<style scoped>\n",
       "    .dataframe tbody tr th:only-of-type {\n",
       "        vertical-align: middle;\n",
       "    }\n",
       "\n",
       "    .dataframe tbody tr th {\n",
       "        vertical-align: top;\n",
       "    }\n",
       "\n",
       "    .dataframe thead th {\n",
       "        text-align: right;\n",
       "    }\n",
       "</style>\n",
       "<table border=\"1\" class=\"dataframe\">\n",
       "  <thead>\n",
       "    <tr style=\"text-align: right;\">\n",
       "      <th></th>\n",
       "      <th>bool</th>\n",
       "      <th>complex128</th>\n",
       "      <th>datetime64[ns]</th>\n",
       "      <th>float64</th>\n",
       "      <th>int64</th>\n",
       "      <th>object</th>\n",
       "      <th>timedelta64[ns]</th>\n",
       "      <th>categorical</th>\n",
       "    </tr>\n",
       "  </thead>\n",
       "  <tbody>\n",
       "    <tr>\n",
       "      <th>0</th>\n",
       "      <td>True</td>\n",
       "      <td>(18+0j)</td>\n",
       "      <td>1970-01-01 00:00:00.000000094</td>\n",
       "      <td>71.0</td>\n",
       "      <td>50</td>\n",
       "      <td>87</td>\n",
       "      <td>00:00:00.000000</td>\n",
       "      <td>87</td>\n",
       "    </tr>\n",
       "    <tr>\n",
       "      <th>1</th>\n",
       "      <td>True</td>\n",
       "      <td>(75+0j)</td>\n",
       "      <td>1970-01-01 00:00:00.000000049</td>\n",
       "      <td>70.0</td>\n",
       "      <td>23</td>\n",
       "      <td>57</td>\n",
       "      <td>00:00:00.000000</td>\n",
       "      <td>57</td>\n",
       "    </tr>\n",
       "    <tr>\n",
       "      <th>2</th>\n",
       "      <td>True</td>\n",
       "      <td>(16+0j)</td>\n",
       "      <td>1970-01-01 00:00:00.000000068</td>\n",
       "      <td>1.0</td>\n",
       "      <td>1</td>\n",
       "      <td>25</td>\n",
       "      <td>00:00:00.000000</td>\n",
       "      <td>25</td>\n",
       "    </tr>\n",
       "    <tr>\n",
       "      <th>3</th>\n",
       "      <td>True</td>\n",
       "      <td>(30+0j)</td>\n",
       "      <td>1970-01-01 00:00:00.000000069</td>\n",
       "      <td>26.0</td>\n",
       "      <td>31</td>\n",
       "      <td>50</td>\n",
       "      <td>00:00:00.000000</td>\n",
       "      <td>50</td>\n",
       "    </tr>\n",
       "    <tr>\n",
       "      <th>4</th>\n",
       "      <td>True</td>\n",
       "      <td>(83+0j)</td>\n",
       "      <td>1970-01-01 00:00:00.000000052</td>\n",
       "      <td>90.0</td>\n",
       "      <td>80</td>\n",
       "      <td>43</td>\n",
       "      <td>00:00:00.000000</td>\n",
       "      <td>43</td>\n",
       "    </tr>\n",
       "  </tbody>\n",
       "</table>\n",
       "</div>"
      ],
      "text/plain": [
       "   bool  complex128                datetime64[ns]  float64  int64 object  \\\n",
       "0  True     (18+0j) 1970-01-01 00:00:00.000000094     71.0     50     87   \n",
       "1  True     (75+0j) 1970-01-01 00:00:00.000000049     70.0     23     57   \n",
       "2  True     (16+0j) 1970-01-01 00:00:00.000000068      1.0      1     25   \n",
       "3  True     (30+0j) 1970-01-01 00:00:00.000000069     26.0     31     50   \n",
       "4  True     (83+0j) 1970-01-01 00:00:00.000000052     90.0     80     43   \n",
       "\n",
       "  timedelta64[ns] categorical  \n",
       "0 00:00:00.000000          87  \n",
       "1 00:00:00.000000          57  \n",
       "2 00:00:00.000000          25  \n",
       "3 00:00:00.000000          50  \n",
       "4 00:00:00.000000          43  "
      ]
     },
     "execution_count": 210,
     "metadata": {},
     "output_type": "execute_result"
    }
   ],
   "source": [
    "df.head()"
   ]
  },
  {
   "cell_type": "markdown",
   "metadata": {},
   "source": [
    "Passing memory_usage=’deep’ will enable a more accurate memory usage report, that accounts for the full usage of the contained objects. This is optional as it can be expensive to do this deeper introspection.\n",
    "\n",
    "\n",
    "The memory usage of each column can be found by calling the memory_usage method. This returns a Series with an index represented by column names and memory usage of each column shown in bytes. For the dataframe above, the memory usage of each column and the total memory usage of the dataframe can be found with the memory_usage method:\n"
   ]
  },
  {
   "cell_type": "code",
   "execution_count": 18,
   "metadata": {},
   "outputs": [
    {
     "name": "stdout",
     "output_type": "stream",
     "text": [
      "<class 'pandas.core.frame.DataFrame'>\n",
      "RangeIndex: 5000 entries, 0 to 4999\n",
      "Data columns (total 8 columns):\n",
      "bool               5000 non-null bool\n",
      "complex128         5000 non-null complex128\n",
      "datetime64[ns]     5000 non-null datetime64[ns]\n",
      "float64            5000 non-null float64\n",
      "int64              5000 non-null int64\n",
      "object             5000 non-null object\n",
      "timedelta64[ns]    5000 non-null timedelta64[ns]\n",
      "categorical        5000 non-null category\n",
      "dtypes: bool(1), category(1), complex128(1), datetime64[ns](1), float64(1), int64(1), object(1), timedelta64[ns](1)\n",
      "memory usage: 425.6 KB\n"
     ]
    }
   ],
   "source": [
    "df.info(memory_usage='deep')"
   ]
  },
  {
   "cell_type": "code",
   "execution_count": 19,
   "metadata": {},
   "outputs": [
    {
     "data": {
      "text/plain": [
       "Index                 80\n",
       "bool                5000\n",
       "complex128         80000\n",
       "datetime64[ns]     40000\n",
       "float64            40000\n",
       "int64              40000\n",
       "object             40000\n",
       "timedelta64[ns]    40000\n",
       "categorical        10920\n",
       "dtype: int64"
      ]
     },
     "execution_count": 19,
     "metadata": {},
     "output_type": "execute_result"
    }
   ],
   "source": [
    "df.memory_usage()"
   ]
  },
  {
   "cell_type": "code",
   "execution_count": 20,
   "metadata": {},
   "outputs": [
    {
     "data": {
      "text/plain": [
       "296000"
      ]
     },
     "execution_count": 20,
     "metadata": {},
     "output_type": "execute_result"
    }
   ],
   "source": [
    "df.memory_usage().sum()"
   ]
  },
  {
   "cell_type": "code",
   "execution_count": 21,
   "metadata": {},
   "outputs": [
    {
     "data": {
      "text/plain": [
       "bool                5000\n",
       "complex128         80000\n",
       "datetime64[ns]     40000\n",
       "float64            40000\n",
       "int64              40000\n",
       "object             40000\n",
       "timedelta64[ns]    40000\n",
       "categorical        10920\n",
       "dtype: int64"
      ]
     },
     "execution_count": 21,
     "metadata": {},
     "output_type": "execute_result"
    }
   ],
   "source": [
    "df.memory_usage(index=False)"
   ]
  },
  {
   "cell_type": "code",
   "execution_count": 1,
   "metadata": {},
   "outputs": [],
   "source": [
    "##ESSENTIAL BASIC FUNCTIONALITY"
   ]
  },
  {
   "cell_type": "code",
   "execution_count": 3,
   "metadata": {},
   "outputs": [],
   "source": [
    "import pandas as pd\n",
    "import numpy as np\n",
    "index = pd.date_range('1/1/2000', periods=8)"
   ]
  },
  {
   "cell_type": "code",
   "execution_count": 4,
   "metadata": {},
   "outputs": [
    {
     "data": {
      "text/plain": [
       "DatetimeIndex(['2000-01-01', '2000-01-02', '2000-01-03', '2000-01-04',\n",
       "               '2000-01-05', '2000-01-06', '2000-01-07', '2000-01-08'],\n",
       "              dtype='datetime64[ns]', freq='D')"
      ]
     },
     "execution_count": 4,
     "metadata": {},
     "output_type": "execute_result"
    }
   ],
   "source": [
    "index"
   ]
  },
  {
   "cell_type": "code",
   "execution_count": 5,
   "metadata": {
    "collapsed": true
   },
   "outputs": [],
   "source": [
    "s = pd.Series(np.random.randn(5), index=['a', 'b', 'c', 'd', 'e'])"
   ]
  },
  {
   "cell_type": "code",
   "execution_count": 6,
   "metadata": {
    "collapsed": true
   },
   "outputs": [],
   "source": [
    "df = pd.DataFrame(np.random.randn(8, 3), index=index,\n",
    "                  columns=['A', 'B', 'C'])"
   ]
  },
  {
   "cell_type": "code",
   "execution_count": 7,
   "metadata": {},
   "outputs": [
    {
     "data": {
      "text/html": [
       "<div>\n",
       "<style scoped>\n",
       "    .dataframe tbody tr th:only-of-type {\n",
       "        vertical-align: middle;\n",
       "    }\n",
       "\n",
       "    .dataframe tbody tr th {\n",
       "        vertical-align: top;\n",
       "    }\n",
       "\n",
       "    .dataframe thead th {\n",
       "        text-align: right;\n",
       "    }\n",
       "</style>\n",
       "<table border=\"1\" class=\"dataframe\">\n",
       "  <thead>\n",
       "    <tr style=\"text-align: right;\">\n",
       "      <th></th>\n",
       "      <th>A</th>\n",
       "      <th>B</th>\n",
       "      <th>C</th>\n",
       "    </tr>\n",
       "  </thead>\n",
       "  <tbody>\n",
       "    <tr>\n",
       "      <th>2000-01-01</th>\n",
       "      <td>0.803020</td>\n",
       "      <td>1.004358</td>\n",
       "      <td>0.145901</td>\n",
       "    </tr>\n",
       "    <tr>\n",
       "      <th>2000-01-02</th>\n",
       "      <td>-1.187186</td>\n",
       "      <td>-0.212143</td>\n",
       "      <td>0.020759</td>\n",
       "    </tr>\n",
       "    <tr>\n",
       "      <th>2000-01-03</th>\n",
       "      <td>-0.071699</td>\n",
       "      <td>0.831925</td>\n",
       "      <td>0.001975</td>\n",
       "    </tr>\n",
       "    <tr>\n",
       "      <th>2000-01-04</th>\n",
       "      <td>-0.505624</td>\n",
       "      <td>0.959901</td>\n",
       "      <td>-0.292569</td>\n",
       "    </tr>\n",
       "    <tr>\n",
       "      <th>2000-01-05</th>\n",
       "      <td>0.746260</td>\n",
       "      <td>-0.589335</td>\n",
       "      <td>-1.074199</td>\n",
       "    </tr>\n",
       "    <tr>\n",
       "      <th>2000-01-06</th>\n",
       "      <td>1.695816</td>\n",
       "      <td>-1.505707</td>\n",
       "      <td>-0.094453</td>\n",
       "    </tr>\n",
       "    <tr>\n",
       "      <th>2000-01-07</th>\n",
       "      <td>0.975223</td>\n",
       "      <td>1.537385</td>\n",
       "      <td>-1.299893</td>\n",
       "    </tr>\n",
       "    <tr>\n",
       "      <th>2000-01-08</th>\n",
       "      <td>-0.587501</td>\n",
       "      <td>1.131928</td>\n",
       "      <td>0.821056</td>\n",
       "    </tr>\n",
       "  </tbody>\n",
       "</table>\n",
       "</div>"
      ],
      "text/plain": [
       "                   A         B         C\n",
       "2000-01-01  0.803020  1.004358  0.145901\n",
       "2000-01-02 -1.187186 -0.212143  0.020759\n",
       "2000-01-03 -0.071699  0.831925  0.001975\n",
       "2000-01-04 -0.505624  0.959901 -0.292569\n",
       "2000-01-05  0.746260 -0.589335 -1.074199\n",
       "2000-01-06  1.695816 -1.505707 -0.094453\n",
       "2000-01-07  0.975223  1.537385 -1.299893\n",
       "2000-01-08 -0.587501  1.131928  0.821056"
      ]
     },
     "execution_count": 7,
     "metadata": {},
     "output_type": "execute_result"
    }
   ],
   "source": [
    "df\n"
   ]
  },
  {
   "cell_type": "code",
   "execution_count": 8,
   "metadata": {
    "collapsed": true
   },
   "outputs": [],
   "source": [
    "wp = pd.Panel(np.random.randn(2, 5, 4), items=['Item1', 'Item2'],\n",
    "major_axis=pd.date_range('1/1/2000', periods=5),\n",
    "minor_axis=['A', 'B', 'C', 'D'])\n"
   ]
  },
  {
   "cell_type": "code",
   "execution_count": 9,
   "metadata": {},
   "outputs": [
    {
     "data": {
      "text/plain": [
       "<class 'pandas.core.panel.Panel'>\n",
       "Dimensions: 2 (items) x 5 (major_axis) x 4 (minor_axis)\n",
       "Items axis: Item1 to Item2\n",
       "Major_axis axis: 2000-01-01 00:00:00 to 2000-01-05 00:00:00\n",
       "Minor_axis axis: A to D"
      ]
     },
     "execution_count": 9,
     "metadata": {},
     "output_type": "execute_result"
    }
   ],
   "source": [
    "wp"
   ]
  },
  {
   "cell_type": "code",
   "execution_count": 10,
   "metadata": {
    "collapsed": true
   },
   "outputs": [],
   "source": [
    "long_series = pd.Series(np.random.randn(1000))"
   ]
  },
  {
   "cell_type": "code",
   "execution_count": 11,
   "metadata": {},
   "outputs": [
    {
     "data": {
      "text/plain": [
       "0    0.391092\n",
       "1   -0.645428\n",
       "2   -0.375977\n",
       "3    1.329915\n",
       "4    0.331439\n",
       "dtype: float64"
      ]
     },
     "execution_count": 11,
     "metadata": {},
     "output_type": "execute_result"
    }
   ],
   "source": [
    "long_series.head()"
   ]
  },
  {
   "cell_type": "code",
   "execution_count": 12,
   "metadata": {},
   "outputs": [
    {
     "data": {
      "text/plain": [
       "997   -0.735797\n",
       "998   -0.371751\n",
       "999    1.087176\n",
       "dtype: float64"
      ]
     },
     "execution_count": 12,
     "metadata": {},
     "output_type": "execute_result"
    }
   ],
   "source": [
    "long_series.tail(3)"
   ]
  },
  {
   "cell_type": "code",
   "execution_count": 13,
   "metadata": {},
   "outputs": [
    {
     "data": {
      "text/html": [
       "<div>\n",
       "<style scoped>\n",
       "    .dataframe tbody tr th:only-of-type {\n",
       "        vertical-align: middle;\n",
       "    }\n",
       "\n",
       "    .dataframe tbody tr th {\n",
       "        vertical-align: top;\n",
       "    }\n",
       "\n",
       "    .dataframe thead th {\n",
       "        text-align: right;\n",
       "    }\n",
       "</style>\n",
       "<table border=\"1\" class=\"dataframe\">\n",
       "  <thead>\n",
       "    <tr style=\"text-align: right;\">\n",
       "      <th></th>\n",
       "      <th>A</th>\n",
       "      <th>B</th>\n",
       "      <th>C</th>\n",
       "    </tr>\n",
       "  </thead>\n",
       "  <tbody>\n",
       "    <tr>\n",
       "      <th>2000-01-01</th>\n",
       "      <td>0.803020</td>\n",
       "      <td>1.004358</td>\n",
       "      <td>0.145901</td>\n",
       "    </tr>\n",
       "    <tr>\n",
       "      <th>2000-01-02</th>\n",
       "      <td>-1.187186</td>\n",
       "      <td>-0.212143</td>\n",
       "      <td>0.020759</td>\n",
       "    </tr>\n",
       "  </tbody>\n",
       "</table>\n",
       "</div>"
      ],
      "text/plain": [
       "                   A         B         C\n",
       "2000-01-01  0.803020  1.004358  0.145901\n",
       "2000-01-02 -1.187186 -0.212143  0.020759"
      ]
     },
     "execution_count": 13,
     "metadata": {},
     "output_type": "execute_result"
    }
   ],
   "source": [
    "df[:2]"
   ]
  },
  {
   "cell_type": "code",
   "execution_count": 14,
   "metadata": {
    "collapsed": true
   },
   "outputs": [],
   "source": [
    "df.columns = [x.lower() for x in df.columns]\n"
   ]
  },
  {
   "cell_type": "code",
   "execution_count": 15,
   "metadata": {},
   "outputs": [
    {
     "data": {
      "text/html": [
       "<div>\n",
       "<style scoped>\n",
       "    .dataframe tbody tr th:only-of-type {\n",
       "        vertical-align: middle;\n",
       "    }\n",
       "\n",
       "    .dataframe tbody tr th {\n",
       "        vertical-align: top;\n",
       "    }\n",
       "\n",
       "    .dataframe thead th {\n",
       "        text-align: right;\n",
       "    }\n",
       "</style>\n",
       "<table border=\"1\" class=\"dataframe\">\n",
       "  <thead>\n",
       "    <tr style=\"text-align: right;\">\n",
       "      <th></th>\n",
       "      <th>a</th>\n",
       "      <th>b</th>\n",
       "      <th>c</th>\n",
       "    </tr>\n",
       "  </thead>\n",
       "  <tbody>\n",
       "    <tr>\n",
       "      <th>2000-01-01</th>\n",
       "      <td>0.803020</td>\n",
       "      <td>1.004358</td>\n",
       "      <td>0.145901</td>\n",
       "    </tr>\n",
       "    <tr>\n",
       "      <th>2000-01-02</th>\n",
       "      <td>-1.187186</td>\n",
       "      <td>-0.212143</td>\n",
       "      <td>0.020759</td>\n",
       "    </tr>\n",
       "    <tr>\n",
       "      <th>2000-01-03</th>\n",
       "      <td>-0.071699</td>\n",
       "      <td>0.831925</td>\n",
       "      <td>0.001975</td>\n",
       "    </tr>\n",
       "    <tr>\n",
       "      <th>2000-01-04</th>\n",
       "      <td>-0.505624</td>\n",
       "      <td>0.959901</td>\n",
       "      <td>-0.292569</td>\n",
       "    </tr>\n",
       "    <tr>\n",
       "      <th>2000-01-05</th>\n",
       "      <td>0.746260</td>\n",
       "      <td>-0.589335</td>\n",
       "      <td>-1.074199</td>\n",
       "    </tr>\n",
       "    <tr>\n",
       "      <th>2000-01-06</th>\n",
       "      <td>1.695816</td>\n",
       "      <td>-1.505707</td>\n",
       "      <td>-0.094453</td>\n",
       "    </tr>\n",
       "    <tr>\n",
       "      <th>2000-01-07</th>\n",
       "      <td>0.975223</td>\n",
       "      <td>1.537385</td>\n",
       "      <td>-1.299893</td>\n",
       "    </tr>\n",
       "    <tr>\n",
       "      <th>2000-01-08</th>\n",
       "      <td>-0.587501</td>\n",
       "      <td>1.131928</td>\n",
       "      <td>0.821056</td>\n",
       "    </tr>\n",
       "  </tbody>\n",
       "</table>\n",
       "</div>"
      ],
      "text/plain": [
       "                   a         b         c\n",
       "2000-01-01  0.803020  1.004358  0.145901\n",
       "2000-01-02 -1.187186 -0.212143  0.020759\n",
       "2000-01-03 -0.071699  0.831925  0.001975\n",
       "2000-01-04 -0.505624  0.959901 -0.292569\n",
       "2000-01-05  0.746260 -0.589335 -1.074199\n",
       "2000-01-06  1.695816 -1.505707 -0.094453\n",
       "2000-01-07  0.975223  1.537385 -1.299893\n",
       "2000-01-08 -0.587501  1.131928  0.821056"
      ]
     },
     "execution_count": 15,
     "metadata": {},
     "output_type": "execute_result"
    }
   ],
   "source": [
    "df"
   ]
  },
  {
   "cell_type": "code",
   "execution_count": 16,
   "metadata": {},
   "outputs": [
    {
     "data": {
      "text/plain": [
       "array([-1.07171067,  1.41070939,  2.31439459,  0.84051414,  0.30788718])"
      ]
     },
     "execution_count": 16,
     "metadata": {},
     "output_type": "execute_result"
    }
   ],
   "source": [
    "s.values"
   ]
  },
  {
   "cell_type": "code",
   "execution_count": 17,
   "metadata": {},
   "outputs": [
    {
     "data": {
      "text/plain": [
       "array([[ 0.80301965,  1.00435777,  0.14590118],\n",
       "       [-1.18718625, -0.2121428 ,  0.02075891],\n",
       "       [-0.07169884,  0.83192452,  0.00197486],\n",
       "       [-0.50562428,  0.95990123, -0.29256872],\n",
       "       [ 0.7462605 , -0.5893348 , -1.07419877],\n",
       "       [ 1.6958162 , -1.50570735, -0.09445301],\n",
       "       [ 0.97522336,  1.53738523, -1.29989305],\n",
       "       [-0.58750082,  1.13192798,  0.82105574]])"
      ]
     },
     "execution_count": 17,
     "metadata": {},
     "output_type": "execute_result"
    }
   ],
   "source": [
    "df.values"
   ]
  },
  {
   "cell_type": "code",
   "execution_count": 18,
   "metadata": {},
   "outputs": [
    {
     "data": {
      "text/plain": [
       "array([[[ 0.78752296, -0.34653899,  1.85953583, -0.12741824],\n",
       "        [-0.26576317,  0.89267403, -0.90956655, -1.51146916],\n",
       "        [ 0.6584737 ,  1.06258322,  0.30971611, -0.37042125],\n",
       "        [-0.85545809, -0.39299941,  0.94935573,  1.17210453],\n",
       "        [-1.47721789,  0.24396343,  1.99931577,  0.35319816]],\n",
       "\n",
       "       [[ 0.66648108, -0.41773557, -0.187028  , -0.8957193 ],\n",
       "        [ 1.29895514, -0.24778625,  0.77040594,  1.62211833],\n",
       "        [-0.5061132 ,  0.40083772,  0.91897324, -0.06481612],\n",
       "        [-0.04642707,  0.48244299,  1.43386829, -0.78360549],\n",
       "        [ 0.3124662 ,  1.15914644, -0.18086868,  0.51571104]]])"
      ]
     },
     "execution_count": 18,
     "metadata": {},
     "output_type": "execute_result"
    }
   ],
   "source": [
    "wp.values"
   ]
  },
  {
   "cell_type": "code",
   "execution_count": 19,
   "metadata": {
    "collapsed": true
   },
   "outputs": [],
   "source": [
    "## Accelerated operations"
   ]
  },
  {
   "cell_type": "code",
   "execution_count": 20,
   "metadata": {
    "collapsed": true
   },
   "outputs": [],
   "source": [
    "df = pd.DataFrame({'one' : pd.Series(np.random.randn(3), index=['a', 'b', 'c']),\n",
    "'two' : pd.Series(np.random.randn(4), index=['a', 'b', 'c', 'd']),\n",
    "'three' : pd.Series(np.random.randn(3), index=['b', 'c', 'd'])})"
   ]
  },
  {
   "cell_type": "code",
   "execution_count": 21,
   "metadata": {},
   "outputs": [
    {
     "data": {
      "text/html": [
       "<div>\n",
       "<style scoped>\n",
       "    .dataframe tbody tr th:only-of-type {\n",
       "        vertical-align: middle;\n",
       "    }\n",
       "\n",
       "    .dataframe tbody tr th {\n",
       "        vertical-align: top;\n",
       "    }\n",
       "\n",
       "    .dataframe thead th {\n",
       "        text-align: right;\n",
       "    }\n",
       "</style>\n",
       "<table border=\"1\" class=\"dataframe\">\n",
       "  <thead>\n",
       "    <tr style=\"text-align: right;\">\n",
       "      <th></th>\n",
       "      <th>one</th>\n",
       "      <th>three</th>\n",
       "      <th>two</th>\n",
       "    </tr>\n",
       "  </thead>\n",
       "  <tbody>\n",
       "    <tr>\n",
       "      <th>a</th>\n",
       "      <td>-0.384367</td>\n",
       "      <td>NaN</td>\n",
       "      <td>-0.479292</td>\n",
       "    </tr>\n",
       "    <tr>\n",
       "      <th>b</th>\n",
       "      <td>0.876369</td>\n",
       "      <td>0.093015</td>\n",
       "      <td>0.634339</td>\n",
       "    </tr>\n",
       "    <tr>\n",
       "      <th>c</th>\n",
       "      <td>-0.644334</td>\n",
       "      <td>-0.145912</td>\n",
       "      <td>0.968932</td>\n",
       "    </tr>\n",
       "    <tr>\n",
       "      <th>d</th>\n",
       "      <td>NaN</td>\n",
       "      <td>-1.104801</td>\n",
       "      <td>1.299398</td>\n",
       "    </tr>\n",
       "  </tbody>\n",
       "</table>\n",
       "</div>"
      ],
      "text/plain": [
       "        one     three       two\n",
       "a -0.384367       NaN -0.479292\n",
       "b  0.876369  0.093015  0.634339\n",
       "c -0.644334 -0.145912  0.968932\n",
       "d       NaN -1.104801  1.299398"
      ]
     },
     "execution_count": 21,
     "metadata": {},
     "output_type": "execute_result"
    }
   ],
   "source": [
    "df"
   ]
  },
  {
   "cell_type": "code",
   "execution_count": 23,
   "metadata": {},
   "outputs": [],
   "source": [
    "row = df.iloc[1]"
   ]
  },
  {
   "cell_type": "code",
   "execution_count": 24,
   "metadata": {},
   "outputs": [
    {
     "data": {
      "text/plain": [
       "one      0.876369\n",
       "three    0.093015\n",
       "two      0.634339\n",
       "Name: b, dtype: float64"
      ]
     },
     "execution_count": 24,
     "metadata": {},
     "output_type": "execute_result"
    }
   ],
   "source": [
    "row"
   ]
  },
  {
   "cell_type": "code",
   "execution_count": 25,
   "metadata": {
    "collapsed": true
   },
   "outputs": [],
   "source": [
    "column = df['two']"
   ]
  },
  {
   "cell_type": "code",
   "execution_count": 27,
   "metadata": {},
   "outputs": [
    {
     "data": {
      "text/html": [
       "<div>\n",
       "<style scoped>\n",
       "    .dataframe tbody tr th:only-of-type {\n",
       "        vertical-align: middle;\n",
       "    }\n",
       "\n",
       "    .dataframe tbody tr th {\n",
       "        vertical-align: top;\n",
       "    }\n",
       "\n",
       "    .dataframe thead th {\n",
       "        text-align: right;\n",
       "    }\n",
       "</style>\n",
       "<table border=\"1\" class=\"dataframe\">\n",
       "  <thead>\n",
       "    <tr style=\"text-align: right;\">\n",
       "      <th></th>\n",
       "      <th>one</th>\n",
       "      <th>three</th>\n",
       "      <th>two</th>\n",
       "    </tr>\n",
       "  </thead>\n",
       "  <tbody>\n",
       "    <tr>\n",
       "      <th>a</th>\n",
       "      <td>-1.260736</td>\n",
       "      <td>NaN</td>\n",
       "      <td>-1.113632</td>\n",
       "    </tr>\n",
       "    <tr>\n",
       "      <th>b</th>\n",
       "      <td>0.000000</td>\n",
       "      <td>0.000000</td>\n",
       "      <td>0.000000</td>\n",
       "    </tr>\n",
       "    <tr>\n",
       "      <th>c</th>\n",
       "      <td>-1.520703</td>\n",
       "      <td>-0.238927</td>\n",
       "      <td>0.334593</td>\n",
       "    </tr>\n",
       "    <tr>\n",
       "      <th>d</th>\n",
       "      <td>NaN</td>\n",
       "      <td>-1.197816</td>\n",
       "      <td>0.665058</td>\n",
       "    </tr>\n",
       "  </tbody>\n",
       "</table>\n",
       "</div>"
      ],
      "text/plain": [
       "        one     three       two\n",
       "a -1.260736       NaN -1.113632\n",
       "b  0.000000  0.000000  0.000000\n",
       "c -1.520703 -0.238927  0.334593\n",
       "d       NaN -1.197816  0.665058"
      ]
     },
     "execution_count": 27,
     "metadata": {},
     "output_type": "execute_result"
    }
   ],
   "source": [
    "df.sub(row, axis='columns')"
   ]
  },
  {
   "cell_type": "code",
   "execution_count": 28,
   "metadata": {},
   "outputs": [
    {
     "data": {
      "text/html": [
       "<div>\n",
       "<style scoped>\n",
       "    .dataframe tbody tr th:only-of-type {\n",
       "        vertical-align: middle;\n",
       "    }\n",
       "\n",
       "    .dataframe tbody tr th {\n",
       "        vertical-align: top;\n",
       "    }\n",
       "\n",
       "    .dataframe thead th {\n",
       "        text-align: right;\n",
       "    }\n",
       "</style>\n",
       "<table border=\"1\" class=\"dataframe\">\n",
       "  <thead>\n",
       "    <tr style=\"text-align: right;\">\n",
       "      <th></th>\n",
       "      <th>one</th>\n",
       "      <th>three</th>\n",
       "      <th>two</th>\n",
       "    </tr>\n",
       "  </thead>\n",
       "  <tbody>\n",
       "    <tr>\n",
       "      <th>a</th>\n",
       "      <td>-1.260736</td>\n",
       "      <td>NaN</td>\n",
       "      <td>-1.113632</td>\n",
       "    </tr>\n",
       "    <tr>\n",
       "      <th>b</th>\n",
       "      <td>0.000000</td>\n",
       "      <td>0.000000</td>\n",
       "      <td>0.000000</td>\n",
       "    </tr>\n",
       "    <tr>\n",
       "      <th>c</th>\n",
       "      <td>-1.520703</td>\n",
       "      <td>-0.238927</td>\n",
       "      <td>0.334593</td>\n",
       "    </tr>\n",
       "    <tr>\n",
       "      <th>d</th>\n",
       "      <td>NaN</td>\n",
       "      <td>-1.197816</td>\n",
       "      <td>0.665058</td>\n",
       "    </tr>\n",
       "  </tbody>\n",
       "</table>\n",
       "</div>"
      ],
      "text/plain": [
       "        one     three       two\n",
       "a -1.260736       NaN -1.113632\n",
       "b  0.000000  0.000000  0.000000\n",
       "c -1.520703 -0.238927  0.334593\n",
       "d       NaN -1.197816  0.665058"
      ]
     },
     "execution_count": 28,
     "metadata": {},
     "output_type": "execute_result"
    }
   ],
   "source": [
    "df.sub(row, axis=1)"
   ]
  },
  {
   "cell_type": "code",
   "execution_count": 29,
   "metadata": {},
   "outputs": [
    {
     "data": {
      "text/html": [
       "<div>\n",
       "<style scoped>\n",
       "    .dataframe tbody tr th:only-of-type {\n",
       "        vertical-align: middle;\n",
       "    }\n",
       "\n",
       "    .dataframe tbody tr th {\n",
       "        vertical-align: top;\n",
       "    }\n",
       "\n",
       "    .dataframe thead th {\n",
       "        text-align: right;\n",
       "    }\n",
       "</style>\n",
       "<table border=\"1\" class=\"dataframe\">\n",
       "  <thead>\n",
       "    <tr style=\"text-align: right;\">\n",
       "      <th></th>\n",
       "      <th>one</th>\n",
       "      <th>three</th>\n",
       "      <th>two</th>\n",
       "    </tr>\n",
       "  </thead>\n",
       "  <tbody>\n",
       "    <tr>\n",
       "      <th>a</th>\n",
       "      <td>0.094925</td>\n",
       "      <td>NaN</td>\n",
       "      <td>0.0</td>\n",
       "    </tr>\n",
       "    <tr>\n",
       "      <th>b</th>\n",
       "      <td>0.242030</td>\n",
       "      <td>-0.541324</td>\n",
       "      <td>0.0</td>\n",
       "    </tr>\n",
       "    <tr>\n",
       "      <th>c</th>\n",
       "      <td>-1.613267</td>\n",
       "      <td>-1.114844</td>\n",
       "      <td>0.0</td>\n",
       "    </tr>\n",
       "    <tr>\n",
       "      <th>d</th>\n",
       "      <td>NaN</td>\n",
       "      <td>-2.404199</td>\n",
       "      <td>0.0</td>\n",
       "    </tr>\n",
       "  </tbody>\n",
       "</table>\n",
       "</div>"
      ],
      "text/plain": [
       "        one     three  two\n",
       "a  0.094925       NaN  0.0\n",
       "b  0.242030 -0.541324  0.0\n",
       "c -1.613267 -1.114844  0.0\n",
       "d       NaN -2.404199  0.0"
      ]
     },
     "execution_count": 29,
     "metadata": {},
     "output_type": "execute_result"
    }
   ],
   "source": [
    "df.sub(column, axis='index')"
   ]
  },
  {
   "cell_type": "code",
   "execution_count": 30,
   "metadata": {},
   "outputs": [
    {
     "data": {
      "text/html": [
       "<div>\n",
       "<style scoped>\n",
       "    .dataframe tbody tr th:only-of-type {\n",
       "        vertical-align: middle;\n",
       "    }\n",
       "\n",
       "    .dataframe tbody tr th {\n",
       "        vertical-align: top;\n",
       "    }\n",
       "\n",
       "    .dataframe thead th {\n",
       "        text-align: right;\n",
       "    }\n",
       "</style>\n",
       "<table border=\"1\" class=\"dataframe\">\n",
       "  <thead>\n",
       "    <tr style=\"text-align: right;\">\n",
       "      <th></th>\n",
       "      <th>one</th>\n",
       "      <th>three</th>\n",
       "      <th>two</th>\n",
       "    </tr>\n",
       "  </thead>\n",
       "  <tbody>\n",
       "    <tr>\n",
       "      <th>a</th>\n",
       "      <td>0.094925</td>\n",
       "      <td>NaN</td>\n",
       "      <td>0.0</td>\n",
       "    </tr>\n",
       "    <tr>\n",
       "      <th>b</th>\n",
       "      <td>0.242030</td>\n",
       "      <td>-0.541324</td>\n",
       "      <td>0.0</td>\n",
       "    </tr>\n",
       "    <tr>\n",
       "      <th>c</th>\n",
       "      <td>-1.613267</td>\n",
       "      <td>-1.114844</td>\n",
       "      <td>0.0</td>\n",
       "    </tr>\n",
       "    <tr>\n",
       "      <th>d</th>\n",
       "      <td>NaN</td>\n",
       "      <td>-2.404199</td>\n",
       "      <td>0.0</td>\n",
       "    </tr>\n",
       "  </tbody>\n",
       "</table>\n",
       "</div>"
      ],
      "text/plain": [
       "        one     three  two\n",
       "a  0.094925       NaN  0.0\n",
       "b  0.242030 -0.541324  0.0\n",
       "c -1.613267 -1.114844  0.0\n",
       "d       NaN -2.404199  0.0"
      ]
     },
     "execution_count": 30,
     "metadata": {},
     "output_type": "execute_result"
    }
   ],
   "source": [
    "df.sub(column, axis=0)"
   ]
  },
  {
   "cell_type": "code",
   "execution_count": 31,
   "metadata": {
    "collapsed": true
   },
   "outputs": [],
   "source": [
    "## Furthermore you can align a level of a multi-indexed DataFrame with a Series.\n",
    "dfmi = df.copy()"
   ]
  },
  {
   "cell_type": "code",
   "execution_count": 32,
   "metadata": {
    "collapsed": true
   },
   "outputs": [],
   "source": [
    "dfmi.index = pd.MultiIndex.from_tuples([(1,'a'),(1,'b'),(1,'c'),(2,'a')],\n",
    "names=['first','second'])"
   ]
  },
  {
   "cell_type": "code",
   "execution_count": 33,
   "metadata": {},
   "outputs": [
    {
     "data": {
      "text/html": [
       "<div>\n",
       "<style scoped>\n",
       "    .dataframe tbody tr th:only-of-type {\n",
       "        vertical-align: middle;\n",
       "    }\n",
       "\n",
       "    .dataframe tbody tr th {\n",
       "        vertical-align: top;\n",
       "    }\n",
       "\n",
       "    .dataframe thead th {\n",
       "        text-align: right;\n",
       "    }\n",
       "</style>\n",
       "<table border=\"1\" class=\"dataframe\">\n",
       "  <thead>\n",
       "    <tr style=\"text-align: right;\">\n",
       "      <th></th>\n",
       "      <th></th>\n",
       "      <th>one</th>\n",
       "      <th>three</th>\n",
       "      <th>two</th>\n",
       "    </tr>\n",
       "    <tr>\n",
       "      <th>first</th>\n",
       "      <th>second</th>\n",
       "      <th></th>\n",
       "      <th></th>\n",
       "      <th></th>\n",
       "    </tr>\n",
       "  </thead>\n",
       "  <tbody>\n",
       "    <tr>\n",
       "      <th rowspan=\"3\" valign=\"top\">1</th>\n",
       "      <th>a</th>\n",
       "      <td>0.094925</td>\n",
       "      <td>NaN</td>\n",
       "      <td>0.00000</td>\n",
       "    </tr>\n",
       "    <tr>\n",
       "      <th>b</th>\n",
       "      <td>0.242030</td>\n",
       "      <td>-0.541324</td>\n",
       "      <td>0.00000</td>\n",
       "    </tr>\n",
       "    <tr>\n",
       "      <th>c</th>\n",
       "      <td>-1.613267</td>\n",
       "      <td>-1.114844</td>\n",
       "      <td>0.00000</td>\n",
       "    </tr>\n",
       "    <tr>\n",
       "      <th>2</th>\n",
       "      <th>a</th>\n",
       "      <td>NaN</td>\n",
       "      <td>-0.625509</td>\n",
       "      <td>1.77869</td>\n",
       "    </tr>\n",
       "  </tbody>\n",
       "</table>\n",
       "</div>"
      ],
      "text/plain": [
       "                   one     three      two\n",
       "first second                             \n",
       "1     a       0.094925       NaN  0.00000\n",
       "      b       0.242030 -0.541324  0.00000\n",
       "      c      -1.613267 -1.114844  0.00000\n",
       "2     a            NaN -0.625509  1.77869"
      ]
     },
     "execution_count": 33,
     "metadata": {},
     "output_type": "execute_result"
    }
   ],
   "source": [
    "dfmi.sub(column, axis=0, level='second')"
   ]
  },
  {
   "cell_type": "code",
   "execution_count": 34,
   "metadata": {
    "collapsed": true
   },
   "outputs": [],
   "source": [
    "major_mean = wp.mean(axis='major')"
   ]
  },
  {
   "cell_type": "code",
   "execution_count": 35,
   "metadata": {},
   "outputs": [
    {
     "data": {
      "text/plain": [
       "<class 'pandas.core.panel.Panel'>\n",
       "Dimensions: 2 (items) x 5 (major_axis) x 4 (minor_axis)\n",
       "Items axis: Item1 to Item2\n",
       "Major_axis axis: 2000-01-01 00:00:00 to 2000-01-05 00:00:00\n",
       "Minor_axis axis: A to D"
      ]
     },
     "execution_count": 35,
     "metadata": {},
     "output_type": "execute_result"
    }
   ],
   "source": [
    "wp.sub(major_mean, axis='major')"
   ]
  },
  {
   "cell_type": "code",
   "execution_count": 36,
   "metadata": {},
   "outputs": [
    {
     "data": {
      "text/html": [
       "<div>\n",
       "<style scoped>\n",
       "    .dataframe tbody tr th:only-of-type {\n",
       "        vertical-align: middle;\n",
       "    }\n",
       "\n",
       "    .dataframe tbody tr th {\n",
       "        vertical-align: top;\n",
       "    }\n",
       "\n",
       "    .dataframe thead th {\n",
       "        text-align: right;\n",
       "    }\n",
       "</style>\n",
       "<table border=\"1\" class=\"dataframe\">\n",
       "  <thead>\n",
       "    <tr style=\"text-align: right;\">\n",
       "      <th></th>\n",
       "      <th>one</th>\n",
       "      <th>three</th>\n",
       "      <th>two</th>\n",
       "    </tr>\n",
       "  </thead>\n",
       "  <tbody>\n",
       "    <tr>\n",
       "      <th>a</th>\n",
       "      <td>-0.384367</td>\n",
       "      <td>NaN</td>\n",
       "      <td>-0.479292</td>\n",
       "    </tr>\n",
       "    <tr>\n",
       "      <th>b</th>\n",
       "      <td>0.876369</td>\n",
       "      <td>0.093015</td>\n",
       "      <td>0.634339</td>\n",
       "    </tr>\n",
       "    <tr>\n",
       "      <th>c</th>\n",
       "      <td>-0.644334</td>\n",
       "      <td>-0.145912</td>\n",
       "      <td>0.968932</td>\n",
       "    </tr>\n",
       "    <tr>\n",
       "      <th>d</th>\n",
       "      <td>NaN</td>\n",
       "      <td>-1.104801</td>\n",
       "      <td>1.299398</td>\n",
       "    </tr>\n",
       "  </tbody>\n",
       "</table>\n",
       "</div>"
      ],
      "text/plain": [
       "        one     three       two\n",
       "a -0.384367       NaN -0.479292\n",
       "b  0.876369  0.093015  0.634339\n",
       "c -0.644334 -0.145912  0.968932\n",
       "d       NaN -1.104801  1.299398"
      ]
     },
     "execution_count": 36,
     "metadata": {},
     "output_type": "execute_result"
    }
   ],
   "source": [
    "## Missing data / operations with fill values\n",
    "df"
   ]
  },
  {
   "cell_type": "code",
   "execution_count": 38,
   "metadata": {},
   "outputs": [],
   "source": [
    "df2 = pd.DataFrame(np.random.randn(8, 3), index=index,\n",
    "columns=['A', 'B', 'C'])"
   ]
  },
  {
   "cell_type": "code",
   "execution_count": 39,
   "metadata": {},
   "outputs": [
    {
     "data": {
      "text/html": [
       "<div>\n",
       "<style scoped>\n",
       "    .dataframe tbody tr th:only-of-type {\n",
       "        vertical-align: middle;\n",
       "    }\n",
       "\n",
       "    .dataframe tbody tr th {\n",
       "        vertical-align: top;\n",
       "    }\n",
       "\n",
       "    .dataframe thead th {\n",
       "        text-align: right;\n",
       "    }\n",
       "</style>\n",
       "<table border=\"1\" class=\"dataframe\">\n",
       "  <thead>\n",
       "    <tr style=\"text-align: right;\">\n",
       "      <th></th>\n",
       "      <th>A</th>\n",
       "      <th>B</th>\n",
       "      <th>C</th>\n",
       "    </tr>\n",
       "  </thead>\n",
       "  <tbody>\n",
       "    <tr>\n",
       "      <th>2000-01-01</th>\n",
       "      <td>-1.180721</td>\n",
       "      <td>-2.776300</td>\n",
       "      <td>0.732917</td>\n",
       "    </tr>\n",
       "    <tr>\n",
       "      <th>2000-01-02</th>\n",
       "      <td>1.267004</td>\n",
       "      <td>-0.602010</td>\n",
       "      <td>-0.447131</td>\n",
       "    </tr>\n",
       "    <tr>\n",
       "      <th>2000-01-03</th>\n",
       "      <td>-0.020138</td>\n",
       "      <td>-0.620051</td>\n",
       "      <td>-1.404851</td>\n",
       "    </tr>\n",
       "    <tr>\n",
       "      <th>2000-01-04</th>\n",
       "      <td>-0.658608</td>\n",
       "      <td>-0.594525</td>\n",
       "      <td>0.924978</td>\n",
       "    </tr>\n",
       "    <tr>\n",
       "      <th>2000-01-05</th>\n",
       "      <td>1.070208</td>\n",
       "      <td>-0.643575</td>\n",
       "      <td>2.529221</td>\n",
       "    </tr>\n",
       "    <tr>\n",
       "      <th>2000-01-06</th>\n",
       "      <td>-0.367219</td>\n",
       "      <td>0.732131</td>\n",
       "      <td>-0.507819</td>\n",
       "    </tr>\n",
       "    <tr>\n",
       "      <th>2000-01-07</th>\n",
       "      <td>-0.133431</td>\n",
       "      <td>1.111262</td>\n",
       "      <td>1.733206</td>\n",
       "    </tr>\n",
       "    <tr>\n",
       "      <th>2000-01-08</th>\n",
       "      <td>0.759702</td>\n",
       "      <td>-0.154683</td>\n",
       "      <td>0.849453</td>\n",
       "    </tr>\n",
       "  </tbody>\n",
       "</table>\n",
       "</div>"
      ],
      "text/plain": [
       "                   A         B         C\n",
       "2000-01-01 -1.180721 -2.776300  0.732917\n",
       "2000-01-02  1.267004 -0.602010 -0.447131\n",
       "2000-01-03 -0.020138 -0.620051 -1.404851\n",
       "2000-01-04 -0.658608 -0.594525  0.924978\n",
       "2000-01-05  1.070208 -0.643575  2.529221\n",
       "2000-01-06 -0.367219  0.732131 -0.507819\n",
       "2000-01-07 -0.133431  1.111262  1.733206\n",
       "2000-01-08  0.759702 -0.154683  0.849453"
      ]
     },
     "execution_count": 39,
     "metadata": {},
     "output_type": "execute_result"
    }
   ],
   "source": [
    "df2"
   ]
  },
  {
   "cell_type": "code",
   "execution_count": 40,
   "metadata": {},
   "outputs": [
    {
     "data": {
      "text/html": [
       "<div>\n",
       "<style scoped>\n",
       "    .dataframe tbody tr th:only-of-type {\n",
       "        vertical-align: middle;\n",
       "    }\n",
       "\n",
       "    .dataframe tbody tr th {\n",
       "        vertical-align: top;\n",
       "    }\n",
       "\n",
       "    .dataframe thead th {\n",
       "        text-align: right;\n",
       "    }\n",
       "</style>\n",
       "<table border=\"1\" class=\"dataframe\">\n",
       "  <thead>\n",
       "    <tr style=\"text-align: right;\">\n",
       "      <th></th>\n",
       "      <th>A</th>\n",
       "      <th>B</th>\n",
       "      <th>C</th>\n",
       "      <th>one</th>\n",
       "      <th>three</th>\n",
       "      <th>two</th>\n",
       "    </tr>\n",
       "  </thead>\n",
       "  <tbody>\n",
       "    <tr>\n",
       "      <th>2000-01-01 00:00:00</th>\n",
       "      <td>NaN</td>\n",
       "      <td>NaN</td>\n",
       "      <td>NaN</td>\n",
       "      <td>NaN</td>\n",
       "      <td>NaN</td>\n",
       "      <td>NaN</td>\n",
       "    </tr>\n",
       "    <tr>\n",
       "      <th>2000-01-02 00:00:00</th>\n",
       "      <td>NaN</td>\n",
       "      <td>NaN</td>\n",
       "      <td>NaN</td>\n",
       "      <td>NaN</td>\n",
       "      <td>NaN</td>\n",
       "      <td>NaN</td>\n",
       "    </tr>\n",
       "    <tr>\n",
       "      <th>2000-01-03 00:00:00</th>\n",
       "      <td>NaN</td>\n",
       "      <td>NaN</td>\n",
       "      <td>NaN</td>\n",
       "      <td>NaN</td>\n",
       "      <td>NaN</td>\n",
       "      <td>NaN</td>\n",
       "    </tr>\n",
       "    <tr>\n",
       "      <th>2000-01-04 00:00:00</th>\n",
       "      <td>NaN</td>\n",
       "      <td>NaN</td>\n",
       "      <td>NaN</td>\n",
       "      <td>NaN</td>\n",
       "      <td>NaN</td>\n",
       "      <td>NaN</td>\n",
       "    </tr>\n",
       "    <tr>\n",
       "      <th>2000-01-05 00:00:00</th>\n",
       "      <td>NaN</td>\n",
       "      <td>NaN</td>\n",
       "      <td>NaN</td>\n",
       "      <td>NaN</td>\n",
       "      <td>NaN</td>\n",
       "      <td>NaN</td>\n",
       "    </tr>\n",
       "    <tr>\n",
       "      <th>2000-01-06 00:00:00</th>\n",
       "      <td>NaN</td>\n",
       "      <td>NaN</td>\n",
       "      <td>NaN</td>\n",
       "      <td>NaN</td>\n",
       "      <td>NaN</td>\n",
       "      <td>NaN</td>\n",
       "    </tr>\n",
       "    <tr>\n",
       "      <th>2000-01-07 00:00:00</th>\n",
       "      <td>NaN</td>\n",
       "      <td>NaN</td>\n",
       "      <td>NaN</td>\n",
       "      <td>NaN</td>\n",
       "      <td>NaN</td>\n",
       "      <td>NaN</td>\n",
       "    </tr>\n",
       "    <tr>\n",
       "      <th>2000-01-08 00:00:00</th>\n",
       "      <td>NaN</td>\n",
       "      <td>NaN</td>\n",
       "      <td>NaN</td>\n",
       "      <td>NaN</td>\n",
       "      <td>NaN</td>\n",
       "      <td>NaN</td>\n",
       "    </tr>\n",
       "    <tr>\n",
       "      <th>a</th>\n",
       "      <td>NaN</td>\n",
       "      <td>NaN</td>\n",
       "      <td>NaN</td>\n",
       "      <td>NaN</td>\n",
       "      <td>NaN</td>\n",
       "      <td>NaN</td>\n",
       "    </tr>\n",
       "    <tr>\n",
       "      <th>b</th>\n",
       "      <td>NaN</td>\n",
       "      <td>NaN</td>\n",
       "      <td>NaN</td>\n",
       "      <td>NaN</td>\n",
       "      <td>NaN</td>\n",
       "      <td>NaN</td>\n",
       "    </tr>\n",
       "    <tr>\n",
       "      <th>c</th>\n",
       "      <td>NaN</td>\n",
       "      <td>NaN</td>\n",
       "      <td>NaN</td>\n",
       "      <td>NaN</td>\n",
       "      <td>NaN</td>\n",
       "      <td>NaN</td>\n",
       "    </tr>\n",
       "    <tr>\n",
       "      <th>d</th>\n",
       "      <td>NaN</td>\n",
       "      <td>NaN</td>\n",
       "      <td>NaN</td>\n",
       "      <td>NaN</td>\n",
       "      <td>NaN</td>\n",
       "      <td>NaN</td>\n",
       "    </tr>\n",
       "  </tbody>\n",
       "</table>\n",
       "</div>"
      ],
      "text/plain": [
       "                      A   B   C  one  three  two\n",
       "2000-01-01 00:00:00 NaN NaN NaN  NaN    NaN  NaN\n",
       "2000-01-02 00:00:00 NaN NaN NaN  NaN    NaN  NaN\n",
       "2000-01-03 00:00:00 NaN NaN NaN  NaN    NaN  NaN\n",
       "2000-01-04 00:00:00 NaN NaN NaN  NaN    NaN  NaN\n",
       "2000-01-05 00:00:00 NaN NaN NaN  NaN    NaN  NaN\n",
       "2000-01-06 00:00:00 NaN NaN NaN  NaN    NaN  NaN\n",
       "2000-01-07 00:00:00 NaN NaN NaN  NaN    NaN  NaN\n",
       "2000-01-08 00:00:00 NaN NaN NaN  NaN    NaN  NaN\n",
       "a                   NaN NaN NaN  NaN    NaN  NaN\n",
       "b                   NaN NaN NaN  NaN    NaN  NaN\n",
       "c                   NaN NaN NaN  NaN    NaN  NaN\n",
       "d                   NaN NaN NaN  NaN    NaN  NaN"
      ]
     },
     "execution_count": 40,
     "metadata": {},
     "output_type": "execute_result"
    }
   ],
   "source": [
    "df+df2"
   ]
  },
  {
   "cell_type": "code",
   "execution_count": 41,
   "metadata": {},
   "outputs": [
    {
     "data": {
      "text/html": [
       "<div>\n",
       "<style scoped>\n",
       "    .dataframe tbody tr th:only-of-type {\n",
       "        vertical-align: middle;\n",
       "    }\n",
       "\n",
       "    .dataframe tbody tr th {\n",
       "        vertical-align: top;\n",
       "    }\n",
       "\n",
       "    .dataframe thead th {\n",
       "        text-align: right;\n",
       "    }\n",
       "</style>\n",
       "<table border=\"1\" class=\"dataframe\">\n",
       "  <thead>\n",
       "    <tr style=\"text-align: right;\">\n",
       "      <th></th>\n",
       "      <th>A</th>\n",
       "      <th>B</th>\n",
       "      <th>C</th>\n",
       "      <th>one</th>\n",
       "      <th>three</th>\n",
       "      <th>two</th>\n",
       "    </tr>\n",
       "  </thead>\n",
       "  <tbody>\n",
       "    <tr>\n",
       "      <th>2000-01-01 00:00:00</th>\n",
       "      <td>-1.180721</td>\n",
       "      <td>-2.776300</td>\n",
       "      <td>0.732917</td>\n",
       "      <td>NaN</td>\n",
       "      <td>NaN</td>\n",
       "      <td>NaN</td>\n",
       "    </tr>\n",
       "    <tr>\n",
       "      <th>2000-01-02 00:00:00</th>\n",
       "      <td>1.267004</td>\n",
       "      <td>-0.602010</td>\n",
       "      <td>-0.447131</td>\n",
       "      <td>NaN</td>\n",
       "      <td>NaN</td>\n",
       "      <td>NaN</td>\n",
       "    </tr>\n",
       "    <tr>\n",
       "      <th>2000-01-03 00:00:00</th>\n",
       "      <td>-0.020138</td>\n",
       "      <td>-0.620051</td>\n",
       "      <td>-1.404851</td>\n",
       "      <td>NaN</td>\n",
       "      <td>NaN</td>\n",
       "      <td>NaN</td>\n",
       "    </tr>\n",
       "    <tr>\n",
       "      <th>2000-01-04 00:00:00</th>\n",
       "      <td>-0.658608</td>\n",
       "      <td>-0.594525</td>\n",
       "      <td>0.924978</td>\n",
       "      <td>NaN</td>\n",
       "      <td>NaN</td>\n",
       "      <td>NaN</td>\n",
       "    </tr>\n",
       "    <tr>\n",
       "      <th>2000-01-05 00:00:00</th>\n",
       "      <td>1.070208</td>\n",
       "      <td>-0.643575</td>\n",
       "      <td>2.529221</td>\n",
       "      <td>NaN</td>\n",
       "      <td>NaN</td>\n",
       "      <td>NaN</td>\n",
       "    </tr>\n",
       "    <tr>\n",
       "      <th>2000-01-06 00:00:00</th>\n",
       "      <td>-0.367219</td>\n",
       "      <td>0.732131</td>\n",
       "      <td>-0.507819</td>\n",
       "      <td>NaN</td>\n",
       "      <td>NaN</td>\n",
       "      <td>NaN</td>\n",
       "    </tr>\n",
       "    <tr>\n",
       "      <th>2000-01-07 00:00:00</th>\n",
       "      <td>-0.133431</td>\n",
       "      <td>1.111262</td>\n",
       "      <td>1.733206</td>\n",
       "      <td>NaN</td>\n",
       "      <td>NaN</td>\n",
       "      <td>NaN</td>\n",
       "    </tr>\n",
       "    <tr>\n",
       "      <th>2000-01-08 00:00:00</th>\n",
       "      <td>0.759702</td>\n",
       "      <td>-0.154683</td>\n",
       "      <td>0.849453</td>\n",
       "      <td>NaN</td>\n",
       "      <td>NaN</td>\n",
       "      <td>NaN</td>\n",
       "    </tr>\n",
       "    <tr>\n",
       "      <th>a</th>\n",
       "      <td>NaN</td>\n",
       "      <td>NaN</td>\n",
       "      <td>NaN</td>\n",
       "      <td>-0.384367</td>\n",
       "      <td>NaN</td>\n",
       "      <td>-0.479292</td>\n",
       "    </tr>\n",
       "    <tr>\n",
       "      <th>b</th>\n",
       "      <td>NaN</td>\n",
       "      <td>NaN</td>\n",
       "      <td>NaN</td>\n",
       "      <td>0.876369</td>\n",
       "      <td>0.093015</td>\n",
       "      <td>0.634339</td>\n",
       "    </tr>\n",
       "    <tr>\n",
       "      <th>c</th>\n",
       "      <td>NaN</td>\n",
       "      <td>NaN</td>\n",
       "      <td>NaN</td>\n",
       "      <td>-0.644334</td>\n",
       "      <td>-0.145912</td>\n",
       "      <td>0.968932</td>\n",
       "    </tr>\n",
       "    <tr>\n",
       "      <th>d</th>\n",
       "      <td>NaN</td>\n",
       "      <td>NaN</td>\n",
       "      <td>NaN</td>\n",
       "      <td>NaN</td>\n",
       "      <td>-1.104801</td>\n",
       "      <td>1.299398</td>\n",
       "    </tr>\n",
       "  </tbody>\n",
       "</table>\n",
       "</div>"
      ],
      "text/plain": [
       "                            A         B         C       one     three  \\\n",
       "2000-01-01 00:00:00 -1.180721 -2.776300  0.732917       NaN       NaN   \n",
       "2000-01-02 00:00:00  1.267004 -0.602010 -0.447131       NaN       NaN   \n",
       "2000-01-03 00:00:00 -0.020138 -0.620051 -1.404851       NaN       NaN   \n",
       "2000-01-04 00:00:00 -0.658608 -0.594525  0.924978       NaN       NaN   \n",
       "2000-01-05 00:00:00  1.070208 -0.643575  2.529221       NaN       NaN   \n",
       "2000-01-06 00:00:00 -0.367219  0.732131 -0.507819       NaN       NaN   \n",
       "2000-01-07 00:00:00 -0.133431  1.111262  1.733206       NaN       NaN   \n",
       "2000-01-08 00:00:00  0.759702 -0.154683  0.849453       NaN       NaN   \n",
       "a                         NaN       NaN       NaN -0.384367       NaN   \n",
       "b                         NaN       NaN       NaN  0.876369  0.093015   \n",
       "c                         NaN       NaN       NaN -0.644334 -0.145912   \n",
       "d                         NaN       NaN       NaN       NaN -1.104801   \n",
       "\n",
       "                          two  \n",
       "2000-01-01 00:00:00       NaN  \n",
       "2000-01-02 00:00:00       NaN  \n",
       "2000-01-03 00:00:00       NaN  \n",
       "2000-01-04 00:00:00       NaN  \n",
       "2000-01-05 00:00:00       NaN  \n",
       "2000-01-06 00:00:00       NaN  \n",
       "2000-01-07 00:00:00       NaN  \n",
       "2000-01-08 00:00:00       NaN  \n",
       "a                   -0.479292  \n",
       "b                    0.634339  \n",
       "c                    0.968932  \n",
       "d                    1.299398  "
      ]
     },
     "execution_count": 41,
     "metadata": {},
     "output_type": "execute_result"
    }
   ],
   "source": [
    "df.add(df2, fill_value=0)"
   ]
  },
  {
   "cell_type": "code",
   "execution_count": 42,
   "metadata": {},
   "outputs": [
    {
     "data": {
      "text/html": [
       "<div>\n",
       "<style scoped>\n",
       "    .dataframe tbody tr th:only-of-type {\n",
       "        vertical-align: middle;\n",
       "    }\n",
       "\n",
       "    .dataframe tbody tr th {\n",
       "        vertical-align: top;\n",
       "    }\n",
       "\n",
       "    .dataframe thead th {\n",
       "        text-align: right;\n",
       "    }\n",
       "</style>\n",
       "<table border=\"1\" class=\"dataframe\">\n",
       "  <thead>\n",
       "    <tr style=\"text-align: right;\">\n",
       "      <th></th>\n",
       "      <th>A</th>\n",
       "      <th>B</th>\n",
       "      <th>C</th>\n",
       "      <th>one</th>\n",
       "      <th>three</th>\n",
       "      <th>two</th>\n",
       "    </tr>\n",
       "  </thead>\n",
       "  <tbody>\n",
       "    <tr>\n",
       "      <th>2000-01-01 00:00:00</th>\n",
       "      <td>False</td>\n",
       "      <td>False</td>\n",
       "      <td>False</td>\n",
       "      <td>False</td>\n",
       "      <td>False</td>\n",
       "      <td>False</td>\n",
       "    </tr>\n",
       "    <tr>\n",
       "      <th>2000-01-02 00:00:00</th>\n",
       "      <td>False</td>\n",
       "      <td>False</td>\n",
       "      <td>False</td>\n",
       "      <td>False</td>\n",
       "      <td>False</td>\n",
       "      <td>False</td>\n",
       "    </tr>\n",
       "    <tr>\n",
       "      <th>2000-01-03 00:00:00</th>\n",
       "      <td>False</td>\n",
       "      <td>False</td>\n",
       "      <td>False</td>\n",
       "      <td>False</td>\n",
       "      <td>False</td>\n",
       "      <td>False</td>\n",
       "    </tr>\n",
       "    <tr>\n",
       "      <th>2000-01-04 00:00:00</th>\n",
       "      <td>False</td>\n",
       "      <td>False</td>\n",
       "      <td>False</td>\n",
       "      <td>False</td>\n",
       "      <td>False</td>\n",
       "      <td>False</td>\n",
       "    </tr>\n",
       "    <tr>\n",
       "      <th>2000-01-05 00:00:00</th>\n",
       "      <td>False</td>\n",
       "      <td>False</td>\n",
       "      <td>False</td>\n",
       "      <td>False</td>\n",
       "      <td>False</td>\n",
       "      <td>False</td>\n",
       "    </tr>\n",
       "    <tr>\n",
       "      <th>2000-01-06 00:00:00</th>\n",
       "      <td>False</td>\n",
       "      <td>False</td>\n",
       "      <td>False</td>\n",
       "      <td>False</td>\n",
       "      <td>False</td>\n",
       "      <td>False</td>\n",
       "    </tr>\n",
       "    <tr>\n",
       "      <th>2000-01-07 00:00:00</th>\n",
       "      <td>False</td>\n",
       "      <td>False</td>\n",
       "      <td>False</td>\n",
       "      <td>False</td>\n",
       "      <td>False</td>\n",
       "      <td>False</td>\n",
       "    </tr>\n",
       "    <tr>\n",
       "      <th>2000-01-08 00:00:00</th>\n",
       "      <td>False</td>\n",
       "      <td>False</td>\n",
       "      <td>False</td>\n",
       "      <td>False</td>\n",
       "      <td>False</td>\n",
       "      <td>False</td>\n",
       "    </tr>\n",
       "    <tr>\n",
       "      <th>a</th>\n",
       "      <td>False</td>\n",
       "      <td>False</td>\n",
       "      <td>False</td>\n",
       "      <td>False</td>\n",
       "      <td>False</td>\n",
       "      <td>False</td>\n",
       "    </tr>\n",
       "    <tr>\n",
       "      <th>b</th>\n",
       "      <td>False</td>\n",
       "      <td>False</td>\n",
       "      <td>False</td>\n",
       "      <td>False</td>\n",
       "      <td>False</td>\n",
       "      <td>False</td>\n",
       "    </tr>\n",
       "    <tr>\n",
       "      <th>c</th>\n",
       "      <td>False</td>\n",
       "      <td>False</td>\n",
       "      <td>False</td>\n",
       "      <td>False</td>\n",
       "      <td>False</td>\n",
       "      <td>False</td>\n",
       "    </tr>\n",
       "    <tr>\n",
       "      <th>d</th>\n",
       "      <td>False</td>\n",
       "      <td>False</td>\n",
       "      <td>False</td>\n",
       "      <td>False</td>\n",
       "      <td>False</td>\n",
       "      <td>False</td>\n",
       "    </tr>\n",
       "  </tbody>\n",
       "</table>\n",
       "</div>"
      ],
      "text/plain": [
       "                         A      B      C    one  three    two\n",
       "2000-01-01 00:00:00  False  False  False  False  False  False\n",
       "2000-01-02 00:00:00  False  False  False  False  False  False\n",
       "2000-01-03 00:00:00  False  False  False  False  False  False\n",
       "2000-01-04 00:00:00  False  False  False  False  False  False\n",
       "2000-01-05 00:00:00  False  False  False  False  False  False\n",
       "2000-01-06 00:00:00  False  False  False  False  False  False\n",
       "2000-01-07 00:00:00  False  False  False  False  False  False\n",
       "2000-01-08 00:00:00  False  False  False  False  False  False\n",
       "a                    False  False  False  False  False  False\n",
       "b                    False  False  False  False  False  False\n",
       "c                    False  False  False  False  False  False\n",
       "d                    False  False  False  False  False  False"
      ]
     },
     "execution_count": 42,
     "metadata": {},
     "output_type": "execute_result"
    }
   ],
   "source": [
    "df.gt(df2)"
   ]
  },
  {
   "cell_type": "code",
   "execution_count": 43,
   "metadata": {},
   "outputs": [
    {
     "data": {
      "text/html": [
       "<div>\n",
       "<style scoped>\n",
       "    .dataframe tbody tr th:only-of-type {\n",
       "        vertical-align: middle;\n",
       "    }\n",
       "\n",
       "    .dataframe tbody tr th {\n",
       "        vertical-align: top;\n",
       "    }\n",
       "\n",
       "    .dataframe thead th {\n",
       "        text-align: right;\n",
       "    }\n",
       "</style>\n",
       "<table border=\"1\" class=\"dataframe\">\n",
       "  <thead>\n",
       "    <tr style=\"text-align: right;\">\n",
       "      <th></th>\n",
       "      <th>A</th>\n",
       "      <th>B</th>\n",
       "      <th>C</th>\n",
       "      <th>one</th>\n",
       "      <th>three</th>\n",
       "      <th>two</th>\n",
       "    </tr>\n",
       "  </thead>\n",
       "  <tbody>\n",
       "    <tr>\n",
       "      <th>2000-01-01 00:00:00</th>\n",
       "      <td>True</td>\n",
       "      <td>True</td>\n",
       "      <td>True</td>\n",
       "      <td>True</td>\n",
       "      <td>True</td>\n",
       "      <td>True</td>\n",
       "    </tr>\n",
       "    <tr>\n",
       "      <th>2000-01-02 00:00:00</th>\n",
       "      <td>True</td>\n",
       "      <td>True</td>\n",
       "      <td>True</td>\n",
       "      <td>True</td>\n",
       "      <td>True</td>\n",
       "      <td>True</td>\n",
       "    </tr>\n",
       "    <tr>\n",
       "      <th>2000-01-03 00:00:00</th>\n",
       "      <td>True</td>\n",
       "      <td>True</td>\n",
       "      <td>True</td>\n",
       "      <td>True</td>\n",
       "      <td>True</td>\n",
       "      <td>True</td>\n",
       "    </tr>\n",
       "    <tr>\n",
       "      <th>2000-01-04 00:00:00</th>\n",
       "      <td>True</td>\n",
       "      <td>True</td>\n",
       "      <td>True</td>\n",
       "      <td>True</td>\n",
       "      <td>True</td>\n",
       "      <td>True</td>\n",
       "    </tr>\n",
       "    <tr>\n",
       "      <th>2000-01-05 00:00:00</th>\n",
       "      <td>True</td>\n",
       "      <td>True</td>\n",
       "      <td>True</td>\n",
       "      <td>True</td>\n",
       "      <td>True</td>\n",
       "      <td>True</td>\n",
       "    </tr>\n",
       "    <tr>\n",
       "      <th>2000-01-06 00:00:00</th>\n",
       "      <td>True</td>\n",
       "      <td>True</td>\n",
       "      <td>True</td>\n",
       "      <td>True</td>\n",
       "      <td>True</td>\n",
       "      <td>True</td>\n",
       "    </tr>\n",
       "    <tr>\n",
       "      <th>2000-01-07 00:00:00</th>\n",
       "      <td>True</td>\n",
       "      <td>True</td>\n",
       "      <td>True</td>\n",
       "      <td>True</td>\n",
       "      <td>True</td>\n",
       "      <td>True</td>\n",
       "    </tr>\n",
       "    <tr>\n",
       "      <th>2000-01-08 00:00:00</th>\n",
       "      <td>True</td>\n",
       "      <td>True</td>\n",
       "      <td>True</td>\n",
       "      <td>True</td>\n",
       "      <td>True</td>\n",
       "      <td>True</td>\n",
       "    </tr>\n",
       "    <tr>\n",
       "      <th>a</th>\n",
       "      <td>True</td>\n",
       "      <td>True</td>\n",
       "      <td>True</td>\n",
       "      <td>True</td>\n",
       "      <td>True</td>\n",
       "      <td>True</td>\n",
       "    </tr>\n",
       "    <tr>\n",
       "      <th>b</th>\n",
       "      <td>True</td>\n",
       "      <td>True</td>\n",
       "      <td>True</td>\n",
       "      <td>True</td>\n",
       "      <td>True</td>\n",
       "      <td>True</td>\n",
       "    </tr>\n",
       "    <tr>\n",
       "      <th>c</th>\n",
       "      <td>True</td>\n",
       "      <td>True</td>\n",
       "      <td>True</td>\n",
       "      <td>True</td>\n",
       "      <td>True</td>\n",
       "      <td>True</td>\n",
       "    </tr>\n",
       "    <tr>\n",
       "      <th>d</th>\n",
       "      <td>True</td>\n",
       "      <td>True</td>\n",
       "      <td>True</td>\n",
       "      <td>True</td>\n",
       "      <td>True</td>\n",
       "      <td>True</td>\n",
       "    </tr>\n",
       "  </tbody>\n",
       "</table>\n",
       "</div>"
      ],
      "text/plain": [
       "                        A     B     C   one  three   two\n",
       "2000-01-01 00:00:00  True  True  True  True   True  True\n",
       "2000-01-02 00:00:00  True  True  True  True   True  True\n",
       "2000-01-03 00:00:00  True  True  True  True   True  True\n",
       "2000-01-04 00:00:00  True  True  True  True   True  True\n",
       "2000-01-05 00:00:00  True  True  True  True   True  True\n",
       "2000-01-06 00:00:00  True  True  True  True   True  True\n",
       "2000-01-07 00:00:00  True  True  True  True   True  True\n",
       "2000-01-08 00:00:00  True  True  True  True   True  True\n",
       "a                    True  True  True  True   True  True\n",
       "b                    True  True  True  True   True  True\n",
       "c                    True  True  True  True   True  True\n",
       "d                    True  True  True  True   True  True"
      ]
     },
     "execution_count": 43,
     "metadata": {},
     "output_type": "execute_result"
    }
   ],
   "source": [
    "df2.ne(df)"
   ]
  },
  {
   "cell_type": "code",
   "execution_count": 44,
   "metadata": {
    "collapsed": true
   },
   "outputs": [],
   "source": [
    "# Boolean Reductions"
   ]
  },
  {
   "cell_type": "code",
   "execution_count": 45,
   "metadata": {},
   "outputs": [
    {
     "data": {
      "text/plain": [
       "one      False\n",
       "three    False\n",
       "two      False\n",
       "dtype: bool"
      ]
     },
     "execution_count": 45,
     "metadata": {},
     "output_type": "execute_result"
    }
   ],
   "source": [
    "(df > 0).all()"
   ]
  },
  {
   "cell_type": "code",
   "execution_count": 46,
   "metadata": {},
   "outputs": [
    {
     "data": {
      "text/plain": [
       "one      True\n",
       "three    True\n",
       "two      True\n",
       "dtype: bool"
      ]
     },
     "execution_count": 46,
     "metadata": {},
     "output_type": "execute_result"
    }
   ],
   "source": [
    "(df > 0).any()\n"
   ]
  },
  {
   "cell_type": "code",
   "execution_count": 47,
   "metadata": {},
   "outputs": [
    {
     "data": {
      "text/plain": [
       "True"
      ]
     },
     "execution_count": 47,
     "metadata": {},
     "output_type": "execute_result"
    }
   ],
   "source": [
    "(df > 0).any().any()"
   ]
  },
  {
   "cell_type": "code",
   "execution_count": 48,
   "metadata": {},
   "outputs": [
    {
     "data": {
      "text/plain": [
       "False"
      ]
     },
     "execution_count": 48,
     "metadata": {},
     "output_type": "execute_result"
    }
   ],
   "source": [
    "df.empty"
   ]
  },
  {
   "cell_type": "code",
   "execution_count": 49,
   "metadata": {},
   "outputs": [
    {
     "data": {
      "text/plain": [
       "True"
      ]
     },
     "execution_count": 49,
     "metadata": {},
     "output_type": "execute_result"
    }
   ],
   "source": [
    "pd.DataFrame(columns=list('ABC')).empty"
   ]
  },
  {
   "cell_type": "code",
   "execution_count": 50,
   "metadata": {},
   "outputs": [
    {
     "data": {
      "text/plain": [
       "True"
      ]
     },
     "execution_count": 50,
     "metadata": {},
     "output_type": "execute_result"
    }
   ],
   "source": [
    "pd.Series([True]).bool()"
   ]
  },
  {
   "cell_type": "code",
   "execution_count": 51,
   "metadata": {},
   "outputs": [
    {
     "data": {
      "text/plain": [
       "False"
      ]
     },
     "execution_count": 51,
     "metadata": {},
     "output_type": "execute_result"
    }
   ],
   "source": [
    "pd.Series([False]).bool()"
   ]
  },
  {
   "cell_type": "code",
   "execution_count": 52,
   "metadata": {},
   "outputs": [
    {
     "data": {
      "text/plain": [
       "True"
      ]
     },
     "execution_count": 52,
     "metadata": {},
     "output_type": "execute_result"
    }
   ],
   "source": [
    "pd.DataFrame([[True]]).bool()"
   ]
  },
  {
   "cell_type": "code",
   "execution_count": 53,
   "metadata": {},
   "outputs": [
    {
     "data": {
      "text/plain": [
       "False"
      ]
     },
     "execution_count": 53,
     "metadata": {},
     "output_type": "execute_result"
    }
   ],
   "source": [
    "pd.DataFrame([[False]]).bool()"
   ]
  },
  {
   "cell_type": "code",
   "execution_count": 54,
   "metadata": {
    "collapsed": true
   },
   "outputs": [],
   "source": [
    "    ## Comparing if objects are equivalent"
   ]
  },
  {
   "cell_type": "code",
   "execution_count": 55,
   "metadata": {},
   "outputs": [
    {
     "data": {
      "text/html": [
       "<div>\n",
       "<style scoped>\n",
       "    .dataframe tbody tr th:only-of-type {\n",
       "        vertical-align: middle;\n",
       "    }\n",
       "\n",
       "    .dataframe tbody tr th {\n",
       "        vertical-align: top;\n",
       "    }\n",
       "\n",
       "    .dataframe thead th {\n",
       "        text-align: right;\n",
       "    }\n",
       "</style>\n",
       "<table border=\"1\" class=\"dataframe\">\n",
       "  <thead>\n",
       "    <tr style=\"text-align: right;\">\n",
       "      <th></th>\n",
       "      <th>one</th>\n",
       "      <th>three</th>\n",
       "      <th>two</th>\n",
       "    </tr>\n",
       "  </thead>\n",
       "  <tbody>\n",
       "    <tr>\n",
       "      <th>a</th>\n",
       "      <td>True</td>\n",
       "      <td>False</td>\n",
       "      <td>True</td>\n",
       "    </tr>\n",
       "    <tr>\n",
       "      <th>b</th>\n",
       "      <td>True</td>\n",
       "      <td>True</td>\n",
       "      <td>True</td>\n",
       "    </tr>\n",
       "    <tr>\n",
       "      <th>c</th>\n",
       "      <td>True</td>\n",
       "      <td>True</td>\n",
       "      <td>True</td>\n",
       "    </tr>\n",
       "    <tr>\n",
       "      <th>d</th>\n",
       "      <td>False</td>\n",
       "      <td>True</td>\n",
       "      <td>True</td>\n",
       "    </tr>\n",
       "  </tbody>\n",
       "</table>\n",
       "</div>"
      ],
      "text/plain": [
       "     one  three   two\n",
       "a   True  False  True\n",
       "b   True   True  True\n",
       "c   True   True  True\n",
       "d  False   True  True"
      ]
     },
     "execution_count": 55,
     "metadata": {},
     "output_type": "execute_result"
    }
   ],
   "source": [
    "df+df == df*2"
   ]
  },
  {
   "cell_type": "code",
   "execution_count": 56,
   "metadata": {},
   "outputs": [
    {
     "data": {
      "text/plain": [
       "one      False\n",
       "three    False\n",
       "two       True\n",
       "dtype: bool"
      ]
     },
     "execution_count": 56,
     "metadata": {},
     "output_type": "execute_result"
    }
   ],
   "source": [
    "(df+df == df*2).all()"
   ]
  },
  {
   "cell_type": "code",
   "execution_count": 57,
   "metadata": {},
   "outputs": [
    {
     "data": {
      "text/plain": [
       "False"
      ]
     },
     "execution_count": 57,
     "metadata": {},
     "output_type": "execute_result"
    }
   ],
   "source": [
    "## Notice that the boolean DataFrame df+df == df*2 contains some False values! That is because NaNs do not\n",
    "#compare as equals:\n",
    "\n",
    "np.nan == np.nan"
   ]
  },
  {
   "cell_type": "code",
   "execution_count": 58,
   "metadata": {},
   "outputs": [
    {
     "data": {
      "text/plain": [
       "True"
      ]
     },
     "execution_count": 58,
     "metadata": {},
     "output_type": "execute_result"
    }
   ],
   "source": [
    "(df+df).equals(df*2)"
   ]
  },
  {
   "cell_type": "code",
   "execution_count": 59,
   "metadata": {
    "collapsed": true
   },
   "outputs": [],
   "source": [
    "df1 = pd.DataFrame({'col':['foo', 0, np.nan]})"
   ]
  },
  {
   "cell_type": "code",
   "execution_count": 60,
   "metadata": {
    "collapsed": true
   },
   "outputs": [],
   "source": [
    "df2 = pd.DataFrame({'col':[np.nan, 0, 'foo']}, index=[2,1,0])"
   ]
  },
  {
   "cell_type": "code",
   "execution_count": 61,
   "metadata": {},
   "outputs": [
    {
     "data": {
      "text/plain": [
       "False"
      ]
     },
     "execution_count": 61,
     "metadata": {},
     "output_type": "execute_result"
    }
   ],
   "source": [
    "df1.equals(df2)\n"
   ]
  },
  {
   "cell_type": "code",
   "execution_count": 62,
   "metadata": {},
   "outputs": [
    {
     "data": {
      "text/plain": [
       "True"
      ]
     },
     "execution_count": 62,
     "metadata": {},
     "output_type": "execute_result"
    }
   ],
   "source": [
    "df1.equals(df2.sort_index())"
   ]
  },
  {
   "cell_type": "code",
   "execution_count": 63,
   "metadata": {},
   "outputs": [
    {
     "data": {
      "text/plain": [
       "0     True\n",
       "1    False\n",
       "2    False\n",
       "dtype: bool"
      ]
     },
     "execution_count": 63,
     "metadata": {},
     "output_type": "execute_result"
    }
   ],
   "source": [
    "## Comparing array-like objects\n",
    "pd.Series(['foo', 'bar', 'baz']) == 'foo'"
   ]
  },
  {
   "cell_type": "code",
   "execution_count": 64,
   "metadata": {},
   "outputs": [
    {
     "data": {
      "text/plain": [
       "array([ True, False, False], dtype=bool)"
      ]
     },
     "execution_count": 64,
     "metadata": {},
     "output_type": "execute_result"
    }
   ],
   "source": [
    "pd.Index(['foo', 'bar', 'baz']) == 'foo'"
   ]
  },
  {
   "cell_type": "code",
   "execution_count": 65,
   "metadata": {},
   "outputs": [
    {
     "data": {
      "text/plain": [
       "0     True\n",
       "1     True\n",
       "2    False\n",
       "dtype: bool"
      ]
     },
     "execution_count": 65,
     "metadata": {},
     "output_type": "execute_result"
    }
   ],
   "source": [
    "pd.Series(['foo', 'bar', 'baz']) == pd.Index(['foo', 'bar', 'qux'])"
   ]
  },
  {
   "cell_type": "code",
   "execution_count": 66,
   "metadata": {},
   "outputs": [
    {
     "data": {
      "text/plain": [
       "0     True\n",
       "1     True\n",
       "2    False\n",
       "dtype: bool"
      ]
     },
     "execution_count": 66,
     "metadata": {},
     "output_type": "execute_result"
    }
   ],
   "source": [
    "pd.Series(['foo', 'bar', 'baz']) == np.array(['foo', 'bar', 'qux'])"
   ]
  },
  {
   "cell_type": "code",
   "execution_count": 67,
   "metadata": {},
   "outputs": [
    {
     "ename": "ValueError",
     "evalue": "Can only compare identically-labeled Series objects",
     "output_type": "error",
     "traceback": [
      "\u001b[0;31m---------------------------------------------------------------------------\u001b[0m",
      "\u001b[0;31mValueError\u001b[0m                                Traceback (most recent call last)",
      "\u001b[0;32m<ipython-input-67-5f0e4fe0d85e>\u001b[0m in \u001b[0;36m<module>\u001b[0;34m()\u001b[0m\n\u001b[0;32m----> 1\u001b[0;31m \u001b[0mpd\u001b[0m\u001b[0;34m.\u001b[0m\u001b[0mSeries\u001b[0m\u001b[0;34m(\u001b[0m\u001b[0;34m[\u001b[0m\u001b[0;34m'foo'\u001b[0m\u001b[0;34m,\u001b[0m \u001b[0;34m'bar'\u001b[0m\u001b[0;34m,\u001b[0m \u001b[0;34m'baz'\u001b[0m\u001b[0;34m]\u001b[0m\u001b[0;34m)\u001b[0m \u001b[0;34m==\u001b[0m \u001b[0mpd\u001b[0m\u001b[0;34m.\u001b[0m\u001b[0mSeries\u001b[0m\u001b[0;34m(\u001b[0m\u001b[0;34m[\u001b[0m\u001b[0;34m'foo'\u001b[0m\u001b[0;34m,\u001b[0m \u001b[0;34m'bar'\u001b[0m\u001b[0;34m]\u001b[0m\u001b[0;34m)\u001b[0m\u001b[0;34m\u001b[0m\u001b[0m\n\u001b[0m",
      "\u001b[0;32m~/anaconda/lib/python3.5/site-packages/pandas/core/ops.py\u001b[0m in \u001b[0;36mwrapper\u001b[0;34m(self, other, axis)\u001b[0m\n\u001b[1;32m    834\u001b[0m             \u001b[0;32mif\u001b[0m \u001b[0;32mnot\u001b[0m \u001b[0mself\u001b[0m\u001b[0;34m.\u001b[0m\u001b[0m_indexed_same\u001b[0m\u001b[0;34m(\u001b[0m\u001b[0mother\u001b[0m\u001b[0;34m)\u001b[0m\u001b[0;34m:\u001b[0m\u001b[0;34m\u001b[0m\u001b[0m\n\u001b[1;32m    835\u001b[0m                 \u001b[0mmsg\u001b[0m \u001b[0;34m=\u001b[0m \u001b[0;34m'Can only compare identically-labeled Series objects'\u001b[0m\u001b[0;34m\u001b[0m\u001b[0m\n\u001b[0;32m--> 836\u001b[0;31m                 \u001b[0;32mraise\u001b[0m \u001b[0mValueError\u001b[0m\u001b[0;34m(\u001b[0m\u001b[0mmsg\u001b[0m\u001b[0;34m)\u001b[0m\u001b[0;34m\u001b[0m\u001b[0m\n\u001b[0m\u001b[1;32m    837\u001b[0m             return self._constructor(na_op(self.values, other.values),\n\u001b[1;32m    838\u001b[0m                                      index=self.index, name=name)\n",
      "\u001b[0;31mValueError\u001b[0m: Can only compare identically-labeled Series objects"
     ]
    }
   ],
   "source": [
    "pd.Series(['foo', 'bar', 'baz']) == pd.Series(['foo', 'bar'])"
   ]
  },
  {
   "cell_type": "code",
   "execution_count": 68,
   "metadata": {},
   "outputs": [
    {
     "ename": "ValueError",
     "evalue": "Can only compare identically-labeled Series objects",
     "output_type": "error",
     "traceback": [
      "\u001b[0;31m---------------------------------------------------------------------------\u001b[0m",
      "\u001b[0;31mValueError\u001b[0m                                Traceback (most recent call last)",
      "\u001b[0;32m<ipython-input-68-9312d9429353>\u001b[0m in \u001b[0;36m<module>\u001b[0;34m()\u001b[0m\n\u001b[0;32m----> 1\u001b[0;31m \u001b[0mpd\u001b[0m\u001b[0;34m.\u001b[0m\u001b[0mSeries\u001b[0m\u001b[0;34m(\u001b[0m\u001b[0;34m[\u001b[0m\u001b[0;34m'foo'\u001b[0m\u001b[0;34m,\u001b[0m \u001b[0;34m'bar'\u001b[0m\u001b[0;34m,\u001b[0m \u001b[0;34m'baz'\u001b[0m\u001b[0;34m]\u001b[0m\u001b[0;34m)\u001b[0m \u001b[0;34m==\u001b[0m \u001b[0mpd\u001b[0m\u001b[0;34m.\u001b[0m\u001b[0mSeries\u001b[0m\u001b[0;34m(\u001b[0m\u001b[0;34m[\u001b[0m\u001b[0;34m'foo'\u001b[0m\u001b[0;34m]\u001b[0m\u001b[0;34m)\u001b[0m\u001b[0;34m\u001b[0m\u001b[0m\n\u001b[0m",
      "\u001b[0;32m~/anaconda/lib/python3.5/site-packages/pandas/core/ops.py\u001b[0m in \u001b[0;36mwrapper\u001b[0;34m(self, other, axis)\u001b[0m\n\u001b[1;32m    834\u001b[0m             \u001b[0;32mif\u001b[0m \u001b[0;32mnot\u001b[0m \u001b[0mself\u001b[0m\u001b[0;34m.\u001b[0m\u001b[0m_indexed_same\u001b[0m\u001b[0;34m(\u001b[0m\u001b[0mother\u001b[0m\u001b[0;34m)\u001b[0m\u001b[0;34m:\u001b[0m\u001b[0;34m\u001b[0m\u001b[0m\n\u001b[1;32m    835\u001b[0m                 \u001b[0mmsg\u001b[0m \u001b[0;34m=\u001b[0m \u001b[0;34m'Can only compare identically-labeled Series objects'\u001b[0m\u001b[0;34m\u001b[0m\u001b[0m\n\u001b[0;32m--> 836\u001b[0;31m                 \u001b[0;32mraise\u001b[0m \u001b[0mValueError\u001b[0m\u001b[0;34m(\u001b[0m\u001b[0mmsg\u001b[0m\u001b[0;34m)\u001b[0m\u001b[0;34m\u001b[0m\u001b[0m\n\u001b[0m\u001b[1;32m    837\u001b[0m             return self._constructor(na_op(self.values, other.values),\n\u001b[1;32m    838\u001b[0m                                      index=self.index, name=name)\n",
      "\u001b[0;31mValueError\u001b[0m: Can only compare identically-labeled Series objects"
     ]
    }
   ],
   "source": [
    "pd.Series(['foo', 'bar', 'baz']) == pd.Series(['foo'])"
   ]
  },
  {
   "cell_type": "code",
   "execution_count": 70,
   "metadata": {},
   "outputs": [
    {
     "data": {
      "text/plain": [
       "array([False,  True, False], dtype=bool)"
      ]
     },
     "execution_count": 70,
     "metadata": {},
     "output_type": "execute_result"
    }
   ],
   "source": [
    "np.array([1, 2, 3]) == np.array([2])"
   ]
  },
  {
   "cell_type": "code",
   "execution_count": 71,
   "metadata": {},
   "outputs": [
    {
     "name": "stderr",
     "output_type": "stream",
     "text": [
      "/Users/sanjotraibagkar/anaconda/lib/python3.5/site-packages/ipykernel/__main__.py:1: DeprecationWarning: elementwise == comparison failed; this will raise an error in the future.\n",
      "  if __name__ == '__main__':\n"
     ]
    },
    {
     "data": {
      "text/plain": [
       "False"
      ]
     },
     "execution_count": 71,
     "metadata": {},
     "output_type": "execute_result"
    }
   ],
   "source": [
    "np.array([1, 2, 3]) == np.array([1, 2])"
   ]
  },
  {
   "cell_type": "code",
   "execution_count": 72,
   "metadata": {
    "collapsed": true
   },
   "outputs": [],
   "source": [
    "## Combining overlapping data sets"
   ]
  },
  {
   "cell_type": "code",
   "execution_count": 73,
   "metadata": {
    "collapsed": true
   },
   "outputs": [],
   "source": [
    "df1 = pd.DataFrame({'A' : [1., np.nan, 3., 5., np.nan],\n",
    "'B' : [np.nan, 2., 3., np.nan, 6.]})"
   ]
  },
  {
   "cell_type": "code",
   "execution_count": 74,
   "metadata": {
    "collapsed": true
   },
   "outputs": [],
   "source": [
    "df2 = pd.DataFrame({'A' : [5., 2., 4., np.nan, 3., 7.],\n",
    "'B' : [np.nan, np.nan, 3., 4., 6., 8.]})\n"
   ]
  },
  {
   "cell_type": "code",
   "execution_count": 75,
   "metadata": {},
   "outputs": [
    {
     "data": {
      "text/html": [
       "<div>\n",
       "<style scoped>\n",
       "    .dataframe tbody tr th:only-of-type {\n",
       "        vertical-align: middle;\n",
       "    }\n",
       "\n",
       "    .dataframe tbody tr th {\n",
       "        vertical-align: top;\n",
       "    }\n",
       "\n",
       "    .dataframe thead th {\n",
       "        text-align: right;\n",
       "    }\n",
       "</style>\n",
       "<table border=\"1\" class=\"dataframe\">\n",
       "  <thead>\n",
       "    <tr style=\"text-align: right;\">\n",
       "      <th></th>\n",
       "      <th>A</th>\n",
       "      <th>B</th>\n",
       "    </tr>\n",
       "  </thead>\n",
       "  <tbody>\n",
       "    <tr>\n",
       "      <th>0</th>\n",
       "      <td>1.0</td>\n",
       "      <td>NaN</td>\n",
       "    </tr>\n",
       "    <tr>\n",
       "      <th>1</th>\n",
       "      <td>NaN</td>\n",
       "      <td>2.0</td>\n",
       "    </tr>\n",
       "    <tr>\n",
       "      <th>2</th>\n",
       "      <td>3.0</td>\n",
       "      <td>3.0</td>\n",
       "    </tr>\n",
       "    <tr>\n",
       "      <th>3</th>\n",
       "      <td>5.0</td>\n",
       "      <td>NaN</td>\n",
       "    </tr>\n",
       "    <tr>\n",
       "      <th>4</th>\n",
       "      <td>NaN</td>\n",
       "      <td>6.0</td>\n",
       "    </tr>\n",
       "  </tbody>\n",
       "</table>\n",
       "</div>"
      ],
      "text/plain": [
       "     A    B\n",
       "0  1.0  NaN\n",
       "1  NaN  2.0\n",
       "2  3.0  3.0\n",
       "3  5.0  NaN\n",
       "4  NaN  6.0"
      ]
     },
     "execution_count": 75,
     "metadata": {},
     "output_type": "execute_result"
    }
   ],
   "source": [
    "df1"
   ]
  },
  {
   "cell_type": "code",
   "execution_count": 76,
   "metadata": {},
   "outputs": [
    {
     "data": {
      "text/html": [
       "<div>\n",
       "<style scoped>\n",
       "    .dataframe tbody tr th:only-of-type {\n",
       "        vertical-align: middle;\n",
       "    }\n",
       "\n",
       "    .dataframe tbody tr th {\n",
       "        vertical-align: top;\n",
       "    }\n",
       "\n",
       "    .dataframe thead th {\n",
       "        text-align: right;\n",
       "    }\n",
       "</style>\n",
       "<table border=\"1\" class=\"dataframe\">\n",
       "  <thead>\n",
       "    <tr style=\"text-align: right;\">\n",
       "      <th></th>\n",
       "      <th>A</th>\n",
       "      <th>B</th>\n",
       "    </tr>\n",
       "  </thead>\n",
       "  <tbody>\n",
       "    <tr>\n",
       "      <th>0</th>\n",
       "      <td>5.0</td>\n",
       "      <td>NaN</td>\n",
       "    </tr>\n",
       "    <tr>\n",
       "      <th>1</th>\n",
       "      <td>2.0</td>\n",
       "      <td>NaN</td>\n",
       "    </tr>\n",
       "    <tr>\n",
       "      <th>2</th>\n",
       "      <td>4.0</td>\n",
       "      <td>3.0</td>\n",
       "    </tr>\n",
       "    <tr>\n",
       "      <th>3</th>\n",
       "      <td>NaN</td>\n",
       "      <td>4.0</td>\n",
       "    </tr>\n",
       "    <tr>\n",
       "      <th>4</th>\n",
       "      <td>3.0</td>\n",
       "      <td>6.0</td>\n",
       "    </tr>\n",
       "    <tr>\n",
       "      <th>5</th>\n",
       "      <td>7.0</td>\n",
       "      <td>8.0</td>\n",
       "    </tr>\n",
       "  </tbody>\n",
       "</table>\n",
       "</div>"
      ],
      "text/plain": [
       "     A    B\n",
       "0  5.0  NaN\n",
       "1  2.0  NaN\n",
       "2  4.0  3.0\n",
       "3  NaN  4.0\n",
       "4  3.0  6.0\n",
       "5  7.0  8.0"
      ]
     },
     "execution_count": 76,
     "metadata": {},
     "output_type": "execute_result"
    }
   ],
   "source": [
    "df2\n"
   ]
  },
  {
   "cell_type": "code",
   "execution_count": null,
   "metadata": {
    "collapsed": true
   },
   "outputs": [],
   "source": []
  }
 ],
 "metadata": {
  "kernelspec": {
   "display_name": "Python [conda root]",
   "language": "python",
   "name": "conda-root-py"
  },
  "language_info": {
   "codemirror_mode": {
    "name": "ipython",
    "version": 3
   },
   "file_extension": ".py",
   "mimetype": "text/x-python",
   "name": "python",
   "nbconvert_exporter": "python",
   "pygments_lexer": "ipython3",
   "version": "3.5.4"
  },
  "toc": {
   "base_numbering": 1,
   "nav_menu": {},
   "number_sections": true,
   "sideBar": true,
   "skip_h1_title": false,
   "title_cell": "Table of Contents",
   "title_sidebar": "Contents",
   "toc_cell": false,
   "toc_position": {},
   "toc_section_display": true,
   "toc_window_display": false
  }
 },
 "nbformat": 4,
 "nbformat_minor": 2
}
