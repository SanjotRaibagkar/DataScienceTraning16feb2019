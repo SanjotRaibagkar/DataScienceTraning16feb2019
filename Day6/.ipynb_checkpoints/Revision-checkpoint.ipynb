{
 "cells": [
  {
   "cell_type": "code",
   "execution_count": 1,
   "metadata": {
    "collapsed": true
   },
   "outputs": [],
   "source": [
    "import numpy as np\n",
    "arr = np.arange(16).reshape((2, 2, 4))\n"
   ]
  },
  {
   "cell_type": "code",
   "execution_count": 2,
   "metadata": {},
   "outputs": [
    {
     "data": {
      "text/plain": [
       "array([[[ 0,  1,  2,  3],\n",
       "        [ 4,  5,  6,  7]],\n",
       "\n",
       "       [[ 8,  9, 10, 11],\n",
       "        [12, 13, 14, 15]]])"
      ]
     },
     "execution_count": 2,
     "metadata": {},
     "output_type": "execute_result"
    }
   ],
   "source": [
    "arr"
   ]
  },
  {
   "cell_type": "code",
   "execution_count": 5,
   "metadata": {},
   "outputs": [
    {
     "data": {
      "text/plain": [
       "array([[[ 0,  1,  2,  3],\n",
       "        [ 8,  9, 10, 11]],\n",
       "\n",
       "       [[ 4,  5,  6,  7],\n",
       "        [12, 13, 14, 15]]])"
      ]
     },
     "execution_count": 5,
     "metadata": {},
     "output_type": "execute_result"
    }
   ],
   "source": [
    "arr.transpose((1, 0,2))"
   ]
  },
  {
   "cell_type": "code",
   "execution_count": 6,
   "metadata": {},
   "outputs": [
    {
     "data": {
      "text/plain": [
       "array([[[ 0,  4],\n",
       "        [ 1,  5],\n",
       "        [ 2,  6],\n",
       "        [ 3,  7]],\n",
       "\n",
       "       [[ 8, 12],\n",
       "        [ 9, 13],\n",
       "        [10, 14],\n",
       "        [11, 15]]])"
      ]
     },
     "execution_count": 6,
     "metadata": {},
     "output_type": "execute_result"
    }
   ],
   "source": [
    "arr.transpose((0, 2,1))"
   ]
  },
  {
   "cell_type": "code",
   "execution_count": 7,
   "metadata": {},
   "outputs": [
    {
     "data": {
      "text/plain": [
       "array([[[ 0,  4],\n",
       "        [ 8, 12]],\n",
       "\n",
       "       [[ 1,  5],\n",
       "        [ 9, 13]],\n",
       "\n",
       "       [[ 2,  6],\n",
       "        [10, 14]],\n",
       "\n",
       "       [[ 3,  7],\n",
       "        [11, 15]]])"
      ]
     },
     "execution_count": 7,
     "metadata": {},
     "output_type": "execute_result"
    }
   ],
   "source": [
    "arr.transpose((2, 0,1))"
   ]
  },
  {
   "cell_type": "code",
   "execution_count": 8,
   "metadata": {},
   "outputs": [
    {
     "data": {
      "text/plain": [
       "array([[[ 0,  8],\n",
       "        [ 4, 12]],\n",
       "\n",
       "       [[ 1,  9],\n",
       "        [ 5, 13]],\n",
       "\n",
       "       [[ 2, 10],\n",
       "        [ 6, 14]],\n",
       "\n",
       "       [[ 3, 11],\n",
       "        [ 7, 15]]])"
      ]
     },
     "execution_count": 8,
     "metadata": {},
     "output_type": "execute_result"
    }
   ],
   "source": [
    "arr.transpose((2, 1,0))"
   ]
  },
  {
   "cell_type": "code",
   "execution_count": 21,
   "metadata": {},
   "outputs": [
    {
     "data": {
      "text/plain": [
       "[0, 1, 4, 9, 16, 25, 36, 49, 64, 81]"
      ]
     },
     "execution_count": 21,
     "metadata": {},
     "output_type": "execute_result"
    }
   ],
   "source": [
    "# List comprehension-- \n",
    "\n",
    "[x**2 for x in range(0,10)]\n"
   ]
  },
  {
   "cell_type": "code",
   "execution_count": 10,
   "metadata": {},
   "outputs": [
    {
     "data": {
      "text/plain": [
       "[1, 4, 9, 16, 25, 36, 49, 64, 81, 100]"
      ]
     },
     "execution_count": 10,
     "metadata": {},
     "output_type": "execute_result"
    }
   ],
   "source": [
    "[i for i in range(1,101) if int(i**0.5)==i**0.5]"
   ]
  },
  {
   "cell_type": "code",
   "execution_count": 22,
   "metadata": {
    "collapsed": true
   },
   "outputs": [],
   "source": [
    "#Example 1 Flatten the matrix\n",
    "\n",
    "def eg1_for(matrix):\n",
    "    flat = []\n",
    "    for row in matrix:\n",
    "        for x in row:\n",
    "            flat.append(x)\n",
    "    return flat\n",
    "\n",
    "def eg1_lc(matrix):\n",
    "    return [x for row in matrix for x in row ]\n"
   ]
  },
  {
   "cell_type": "code",
   "execution_count": 19,
   "metadata": {},
   "outputs": [
    {
     "data": {
      "text/plain": [
       "[range(0, 5)]"
      ]
     },
     "execution_count": 19,
     "metadata": {},
     "output_type": "execute_result"
    }
   ],
   "source": [
    "\n"
   ]
  },
  {
   "cell_type": "code",
   "execution_count": 20,
   "metadata": {},
   "outputs": [
    {
     "name": "stdout",
     "output_type": "stream",
     "text": [
      "Original Matrix: [[[ 0  1  2  3]\n",
      "  [ 4  5  6  7]]\n",
      "\n",
      " [[ 8  9 10 11]\n",
      "  [12 13 14 15]]]\n",
      "FOR-loop result: [array([0, 1, 2, 3]), array([4, 5, 6, 7]), array([ 8,  9, 10, 11]), array([12, 13, 14, 15])]\n",
      "LC result      : [array([0, 1, 2, 3]), array([4, 5, 6, 7]), array([ 8,  9, 10, 11]), array([12, 13, 14, 15])]\n"
     ]
    }
   ],
   "source": [
    "print (\"Original Matrix: \" + str(arr))\n",
    "print (\"FOR-loop result: \" + str(eg1_for(arr)))\n",
    "print (\"LC result      : \" + str(eg1_lc(arr)))"
   ]
  },
  {
   "cell_type": "code",
   "execution_count": 23,
   "metadata": {
    "collapsed": true
   },
   "outputs": [],
   "source": [
    "#Example 2: Removing vowels from a sentence"
   ]
  },
  {
   "cell_type": "code",
   "execution_count": 24,
   "metadata": {
    "collapsed": true
   },
   "outputs": [],
   "source": [
    "def eg2_for(sentence):\n",
    "    vowels = 'aeiou'\n",
    "    filtered_list = []\n",
    "    for l in sentence:\n",
    "        if l not in vowels:\n",
    "            filtered_list.append(l)\n",
    "    return ''.join(filtered_list)\n",
    "\n",
    "def eg2_lc(sentence):\n",
    "    vowels = 'aeiou'\n",
    "    return ''.join([ l for l in sentence if l not in vowels])"
   ]
  },
  {
   "cell_type": "code",
   "execution_count": 26,
   "metadata": {},
   "outputs": [
    {
     "name": "stdout",
     "output_type": "stream",
     "text": [
      "FOR-loop result: My nm s Snjt Jn!\n",
      "LC result      : My nm s Snjt Jn!\n"
     ]
    }
   ],
   "source": [
    "sentence = 'My name is Sanjot Jain!'\n",
    "print (\"FOR-loop result: \" + eg2_for(sentence))\n",
    "print (\"LC result      : \" + eg2_lc(sentence))"
   ]
  },
  {
   "cell_type": "code",
   "execution_count": 27,
   "metadata": {
    "collapsed": true
   },
   "outputs": [],
   "source": [
    "# Example 3: Dictionary Comprehension\n",
    "def eg3_for(keys, values):\n",
    "    dic = {}\n",
    "    for i in range(len(keys)):\n",
    "        dic[keys[i]] = values[i]\n",
    "    return dic\n",
    "\n",
    "def eg3_lc(keys, values):\n",
    "    return { keys[i] : values[i] for i in range(len(keys)) }"
   ]
  },
  {
   "cell_type": "code",
   "execution_count": 28,
   "metadata": {},
   "outputs": [
    {
     "name": "stdout",
     "output_type": "stream",
     "text": [
      "FOR-loop result: {'Pakistan': 'Islamabad', 'China': 'Beijing', 'Bhutan': 'Thimphu', 'Nepal': 'Kathmandu', 'India': 'New Delhi', 'Bangladesh': 'Dhaka'}\n",
      "LC result      : {'Pakistan': 'Islamabad', 'China': 'Beijing', 'Bhutan': 'Thimphu', 'Nepal': 'Kathmandu', 'India': 'New Delhi', 'Bangladesh': 'Dhaka'}\n"
     ]
    }
   ],
   "source": [
    "country = ['India', 'Pakistan', 'Nepal', 'Bhutan', 'China', 'Bangladesh']\n",
    "capital = ['New Delhi', 'Islamabad','Kathmandu', 'Thimphu', 'Beijing', 'Dhaka']\n",
    "print (\"FOR-loop result: \" + str(eg3_for(country, capital)))\n",
    "print (\"LC result      : \" + str(eg3_lc(country, capital)))"
   ]
  },
  {
   "cell_type": "code",
   "execution_count": 29,
   "metadata": {},
   "outputs": [
    {
     "name": "stdout",
     "output_type": "stream",
     "text": [
      "5.24 µs ± 300 ns per loop (mean ± std. dev. of 7 runs, 100000 loops each)\n"
     ]
    }
   ],
   "source": [
    "#Method 1: For-Loop\n",
    "def square_for(arr):\n",
    "    result = []\n",
    "    for i in arr:\n",
    "        result.append(i**2)\n",
    "    return result\n",
    "%timeit square_for(range(1,11))"
   ]
  },
  {
   "cell_type": "code",
   "execution_count": 30,
   "metadata": {},
   "outputs": [
    {
     "name": "stdout",
     "output_type": "stream",
     "text": [
      "842 ns ± 6.01 ns per loop (mean ± std. dev. of 7 runs, 1000000 loops each)\n"
     ]
    }
   ],
   "source": [
    "#Method 2: Map Function\n",
    "def square_map(arr):\n",
    "    return map(lambda x: x**2, arr)\n",
    "%timeit square_map(range(1,11))"
   ]
  },
  {
   "cell_type": "code",
   "execution_count": 31,
   "metadata": {},
   "outputs": [
    {
     "name": "stdout",
     "output_type": "stream",
     "text": [
      "5.13 µs ± 94.7 ns per loop (mean ± std. dev. of 7 runs, 100000 loops each)\n"
     ]
    }
   ],
   "source": [
    "#Method 3: List comprehension:\n",
    "def square_lc(arr):\n",
    "    return [i**2 for i in arr]\n",
    "%timeit square_lc(range(1,11))"
   ]
  },
  {
   "cell_type": "code",
   "execution_count": 32,
   "metadata": {},
   "outputs": [
    {
     "name": "stdout",
     "output_type": "stream",
     "text": [
      "4.11 µs ± 210 ns per loop (mean ± std. dev. of 7 runs, 100000 loops each)\n"
     ]
    }
   ],
   "source": [
    "#Method 1: For-Loop\n",
    "def square_even_for(arr):\n",
    "    result = []\n",
    "    for i in arr:\n",
    "        if i%2 == 0:\n",
    "            result.append(i**2)\n",
    "    return result\n",
    "%timeit square_even_for(range(1,11))"
   ]
  },
  {
   "cell_type": "code",
   "execution_count": 33,
   "metadata": {},
   "outputs": [
    {
     "name": "stdout",
     "output_type": "stream",
     "text": [
      "1.09 µs ± 22.6 ns per loop (mean ± std. dev. of 7 runs, 1000000 loops each)\n"
     ]
    }
   ],
   "source": [
    "#Method 2: Map Function\n",
    "def square_even_map(arr):\n",
    "    return filter(lambda x: x is not None,map(lambda x: x**2 if x%2==0 else None, arr))\n",
    "%timeit square_even_map(range(1,11))"
   ]
  },
  {
   "cell_type": "code",
   "execution_count": 34,
   "metadata": {},
   "outputs": [
    {
     "name": "stdout",
     "output_type": "stream",
     "text": [
      "4.14 µs ± 62.4 ns per loop (mean ± std. dev. of 7 runs, 100000 loops each)\n"
     ]
    }
   ],
   "source": [
    "#Method 3: List comprehension:\n",
    "def square_even_lc(arr):\n",
    "    return [i**2 for i in arr if i%2==0]\n",
    "%timeit square_even_lc(range(1,11))"
   ]
  },
  {
   "cell_type": "code",
   "execution_count": 35,
   "metadata": {
    "collapsed": true
   },
   "outputs": [],
   "source": [
    "cols = ['a','b','c','d','a_transform','b_transform','c_transform','d_power2','d_power3','d_power4','d_power5','temp1','temp2']"
   ]
  },
  {
   "cell_type": "code",
   "execution_count": 36,
   "metadata": {},
   "outputs": [
    {
     "name": "stdout",
     "output_type": "stream",
     "text": [
      "Set1:  ['a_transform', 'b_transform', 'c_transform']\n",
      "Set2:  ['d_power2', 'd_power3', 'd_power4', 'd_power5']\n",
      "Set3:  ['a_transform', 'b_transform', 'c_transform', 'd_power2', 'd_power3', 'd_power4', 'd_power5']\n",
      "Set4:  ['a', 'b', 'c', 'd', 'a_transform', 'b_transform', 'c_transform', 'd_power2', 'd_power3', 'd_power4', 'd_power5']\n"
     ]
    }
   ],
   "source": [
    "col_set1 = [x for x in cols if x.endswith('transform')]\n",
    "col_set2 = [x for x in cols if 'power' in x]\n",
    "col_set3 = [x for x in cols if (x.endswith('transform')) | ('power' in x)]\n",
    "col_set4 = [x for x in cols if x not in ['temp1','temp2']]\n",
    "print ('Set1: ', col_set1)\n",
    "print ('Set2: ', col_set2)\n",
    "print ('Set3: ', col_set3)\n",
    "print ('Set4: ', col_set4)"
   ]
  },
  {
   "cell_type": "code",
   "execution_count": 37,
   "metadata": {},
   "outputs": [
    {
     "name": "stdout",
     "output_type": "stream",
     "text": [
      "343\n",
      "125\n"
     ]
    }
   ],
   "source": [
    "def cube(y):\n",
    "    return y*y*y;\n",
    " \n",
    "g = lambda x: x*x*x\n",
    "print(g(7))\n",
    " \n",
    "print(cube(5))"
   ]
  },
  {
   "cell_type": "code",
   "execution_count": 38,
   "metadata": {},
   "outputs": [
    {
     "name": "stdout",
     "output_type": "stream",
     "text": [
      "[5, 7, 97, 77, 23, 73, 61]\n"
     ]
    }
   ],
   "source": [
    "li = [5, 7, 22, 97, 54, 62, 77, 23, 73, 61]\n",
    "final_list = list(filter(lambda x: (x%2 != 0) , li))\n",
    "print(final_list)"
   ]
  },
  {
   "cell_type": "code",
   "execution_count": 39,
   "metadata": {},
   "outputs": [
    {
     "name": "stdout",
     "output_type": "stream",
     "text": [
      "[10, 14, 44, 194, 108, 124, 154, 46, 146, 122]\n"
     ]
    }
   ],
   "source": [
    "li = [5, 7, 22, 97, 54, 62, 77, 23, 73, 61]\n",
    "final_list = list(map(lambda x: x*2 , li))\n",
    "print(final_list)"
   ]
  },
  {
   "cell_type": "code",
   "execution_count": 40,
   "metadata": {},
   "outputs": [
    {
     "name": "stdout",
     "output_type": "stream",
     "text": [
      "193\n"
     ]
    }
   ],
   "source": [
    "from functools import reduce\n",
    "li = [5, 8, 10, 20, 50, 100]\n",
    "sum = reduce((lambda x, y: x + y), li)\n",
    "print (sum)"
   ]
  },
  {
   "cell_type": "code",
   "execution_count": 42,
   "metadata": {},
   "outputs": [
    {
     "name": "stdout",
     "output_type": "stream",
     "text": [
      "[-13, -5, -7, -3, -6, 12, 11, 6, 5]\n"
     ]
    }
   ],
   "source": [
    "# Function to rearrange positive and negative elements\n",
    "def Rearrange(arr):\n",
    " \n",
    "    # First lambda expression returns list of negative numbers\n",
    "    # in arr.\n",
    "    # Second lambda expression returns list of positive numbers\n",
    "    # in arr.\n",
    "    return [x for x in arr if x < 0] + [x for x in arr if x >= 0]\n",
    " \n",
    "# Driver function\n",
    "if __name__ == \"__main__\":\n",
    "    arr = [12, 11, -13, -5, 6, -7, 5, -3, -6]\n",
    "    print( Rearrange(arr))\n"
   ]
  },
  {
   "cell_type": "code",
   "execution_count": 43,
   "metadata": {},
   "outputs": [
    {
     "name": "stdout",
     "output_type": "stream",
     "text": [
      "3\n"
     ]
    }
   ],
   "source": [
    "# Python program to count\n",
    "# occurrences of an \n",
    "# element in an unsorted \n",
    "# array\n",
    "def frequency(a, x):\n",
    "    count = 0\n",
    "     \n",
    "    for i in a:\n",
    "        if i == x: count += 1\n",
    "    return count\n",
    " \n",
    "# Driver program\n",
    "a = [0, 5, 5, 5, 4]\n",
    "x = 5\n",
    "print(frequency(a, x))"
   ]
  },
  {
   "cell_type": "code",
   "execution_count": 44,
   "metadata": {},
   "outputs": [
    {
     "name": "stdout",
     "output_type": "stream",
     "text": [
      "2\n",
      "1\n",
      "0\n"
     ]
    }
   ],
   "source": [
    "# Python program to\n",
    "# answer queries for\n",
    "# frequencies\n",
    "# in O(1) time.\n",
    " \n",
    "hm = {}\n",
    " \n",
    "def countFreq(a):\n",
    "    global hm\n",
    "     \n",
    "    # Insert elements and their \n",
    "    # frequencies in hash map.\n",
    "     \n",
    "    for i in a:\n",
    "        if i in hm: hm[i] += 1\n",
    "        else: hm[i] = 1\n",
    " \n",
    "# Return frequency \n",
    "# of x (Assumes that \n",
    "# countFreq() is \n",
    "# called before)\n",
    "def query(x):\n",
    "    if x in hm:\n",
    "        return hm[x]\n",
    "    return 0\n",
    " \n",
    "# Driver program\n",
    "a = [1, 3, 2, 4, 2, 1]\n",
    "countFreq(a)\n",
    "print(query(2))\n",
    "print(query(3))\n",
    "print(query(5))"
   ]
  },
  {
   "cell_type": "code",
   "execution_count": 51,
   "metadata": {},
   "outputs": [
    {
     "ename": "SyntaxError",
     "evalue": "invalid syntax (<ipython-input-51-b79f20e713a6>, line 1)",
     "output_type": "error",
     "traceback": [
      "\u001b[0;36m  File \u001b[0;32m\"<ipython-input-51-b79f20e713a6>\"\u001b[0;36m, line \u001b[0;32m1\u001b[0m\n\u001b[0;31m    **()\u001b[0m\n\u001b[0m     ^\u001b[0m\n\u001b[0;31mSyntaxError\u001b[0m\u001b[0;31m:\u001b[0m invalid syntax\n"
     ]
    }
   ],
   "source": []
  },
  {
   "cell_type": "code",
   "execution_count": 63,
   "metadata": {},
   "outputs": [
    {
     "name": "stdout",
     "output_type": "stream",
     "text": [
      ".\n",
      "['.ipynb_checkpoints']\n",
      "['Revision.ipynb']\n",
      "./Revision.ipynb\n",
      "./.ipynb_checkpoints\n",
      "[]\n",
      "['Revision-checkpoint.ipynb']\n",
      "./.ipynb_checkpoints/Revision-checkpoint.ipynb\n"
     ]
    }
   ],
   "source": [
    "import os\n",
    "for root, dirs, files in os.walk(\".\"):\n",
    "    print(root)\n",
    "    print(dirs)\n",
    "    print(files)\n",
    "    for file in files:\n",
    "        if file.endswith(\".ipynb\"):\n",
    "             print(os.path.join(root, file))\n",
    "                "
   ]
  },
  {
   "cell_type": "code",
   "execution_count": 64,
   "metadata": {
    "collapsed": true
   },
   "outputs": [],
   "source": [
    "#Find a file in python\n",
    "import os\n",
    "\n",
    "def find(name, path):\n",
    "    for root, dirs, files in os.walk(path):\n",
    "        if name in files:\n",
    "            return os.path.join(root, name)"
   ]
  },
  {
   "cell_type": "code",
   "execution_count": 65,
   "metadata": {
    "collapsed": true
   },
   "outputs": [],
   "source": [
    "def find_all(name, path):\n",
    "    result = []\n",
    "    for root, dirs, files in os.walk(path):\n",
    "        if name in files:\n",
    "            result.append(os.path.join(root, name))\n",
    "    return result"
   ]
  },
  {
   "cell_type": "code",
   "execution_count": 69,
   "metadata": {},
   "outputs": [
    {
     "data": {
      "text/plain": [
       "['./Revision.ipynb', './.ipynb_checkpoints/Revision-checkpoint.ipynb']"
      ]
     },
     "execution_count": 69,
     "metadata": {},
     "output_type": "execute_result"
    }
   ],
   "source": [
    "import os, fnmatch\n",
    "def find(pattern, path):\n",
    "    result = []\n",
    "    for root, dirs, files in os.walk(path):\n",
    "        for name in files:\n",
    "            if fnmatch.fnmatch(name, pattern):\n",
    "                result.append(os.path.join(root, name))\n",
    "    return result\n",
    "\n",
    "find('*.ipynb', '.')"
   ]
  },
  {
   "cell_type": "code",
   "execution_count": 70,
   "metadata": {},
   "outputs": [
    {
     "data": {
      "text/plain": [
       "113"
      ]
     },
     "execution_count": 70,
     "metadata": {},
     "output_type": "execute_result"
    }
   ],
   "source": [
    "reduce(lambda x,y: x+y, [47,11,42,13])"
   ]
  },
  {
   "cell_type": "code",
   "execution_count": 71,
   "metadata": {},
   "outputs": [
    {
     "name": "stdout",
     "output_type": "stream",
     "text": [
      "<map object at 0x10ea77b38>\n"
     ]
    }
   ],
   "source": [
    "squares = map(lambda x: x * x, [0, 1, 2, 3, 4])\n",
    "\n",
    "print (squares)"
   ]
  },
  {
   "cell_type": "code",
   "execution_count": 72,
   "metadata": {},
   "outputs": [
    {
     "name": "stdout",
     "output_type": "stream",
     "text": [
      "10\n"
     ]
    }
   ],
   "source": [
    "sum = reduce(lambda a, x: a + x, [0, 1, 2, 3, 4])\n",
    "\n",
    "print (sum)"
   ]
  },
  {
   "cell_type": "code",
   "execution_count": 74,
   "metadata": {},
   "outputs": [
    {
     "name": "stdout",
     "output_type": "stream",
     "text": [
      "3\n"
     ]
    }
   ],
   "source": [
    "sentences = ['Mary read a story to Sam and Isla.',\n",
    "             'Isla cuddled Sam.',\n",
    "             'Sam chortled.']\n",
    "\n",
    "sam_count = reduce(lambda a, x: a + x.count('Sam'),\n",
    "                   sentences,\n",
    "                   0)\n",
    "print(sam_count)"
   ]
  },
  {
   "cell_type": "code",
   "execution_count": null,
   "metadata": {
    "collapsed": true
   },
   "outputs": [],
   "source": []
  }
 ],
 "metadata": {
  "kernelspec": {
   "display_name": "Python [conda root]",
   "language": "python",
   "name": "conda-root-py"
  },
  "language_info": {
   "codemirror_mode": {
    "name": "ipython",
    "version": 3
   },
   "file_extension": ".py",
   "mimetype": "text/x-python",
   "name": "python",
   "nbconvert_exporter": "python",
   "pygments_lexer": "ipython3",
   "version": "3.5.4"
  },
  "toc": {
   "base_numbering": 1,
   "nav_menu": {},
   "number_sections": true,
   "sideBar": true,
   "skip_h1_title": false,
   "title_cell": "Table of Contents",
   "title_sidebar": "Contents",
   "toc_cell": false,
   "toc_position": {},
   "toc_section_display": true,
   "toc_window_display": false
  }
 },
 "nbformat": 4,
 "nbformat_minor": 2
}
